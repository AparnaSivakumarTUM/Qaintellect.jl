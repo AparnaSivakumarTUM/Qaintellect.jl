{
 "cells": [
  {
   "cell_type": "markdown",
   "metadata": {},
   "source": [
    "# Qaintellect implementation of the Quantum Approximation Optimization Algorithm (QAOA)"
   ]
  },
  {
   "cell_type": "markdown",
   "metadata": {},
   "source": [
    "In this example, we implement the optimization of a circuit based on the QAOA algorithm, demonstrated via the Max-Cut problem.\n",
    "\n",
    "Reference:\n",
    "- E. Farhi, J. Goldstone, S. Gutmann: \"A Quantum Approximate Optimization Algorithm\", [arXiv:1411.4028](http://arxiv.org/abs/1411.4028) (2014)"
   ]
  },
  {
   "cell_type": "code",
   "execution_count": 1,
   "metadata": {},
   "outputs": [],
   "source": [
    "using Qaintessent\n",
    "using Qaintellect\n",
    "using LinearAlgebra\n",
    "using Flux\n",
    "using IterTools: ncycle"
   ]
  },
  {
   "cell_type": "code",
   "execution_count": 2,
   "metadata": {},
   "outputs": [],
   "source": [
    "# visualization\n",
    "using Plots\n",
    "using LaTeXStrings"
   ]
  },
  {
   "cell_type": "markdown",
   "metadata": {},
   "source": [
    "## Definition of the optimization problem"
   ]
  },
  {
   "cell_type": "markdown",
   "metadata": {},
   "source": [
    "The target function\n",
    "\\begin{equation}\n",
    "C(b) = \\sum_{\\alpha=1}^m C_{\\alpha}(b) \\quad \\text{with} \\quad C_{\\alpha}(b) \\in \\{ 0, {\\color{orange}{1}} \\}\n",
    "\\end{equation}\n",
    "should be maximized with respect to bit strings $b = b_{n-1} \\dots b_1 b_0$ of length $n$."
   ]
  },
  {
   "cell_type": "markdown",
   "metadata": {},
   "source": [
    "We consider _Max-Cut_ as specific example: for a given graph with $n$ vertices and $m$ edges, the task is to partition its vertices into two subsets $\\color{blue}{S_0}$ and $\\color{green}{S_1}$, such that the number of edges between these subsets is maximized.\n",
    "\n",
    "<img src=\"attachment:068aa9dd-70e5-4795-9d06-958de47c874b.png\" width=\"300\"/>"
   ]
  },
  {
   "cell_type": "markdown",
   "metadata": {},
   "source": [
    "Expressed in terms of the above target function, for $j = 0, 1, \\dots, n-1$, the entry $b_j \\in \\{ \\color{blue}{0}, \\color{green}{1} \\}$ specifies whether the $j$-th vertex belongs to subset $\\color{blue}{S_0}$ or $\\color{green}{S_1}$. For the $\\alpha$-th edge, we define $\\mathsf{C}_{\\alpha}$ as\n",
    "\n",
    "<img src=\"attachment:b9a93210-395f-4bad-9d8b-541b45f624c9.png\" width=\"400\"/>"
   ]
  },
  {
   "cell_type": "code",
   "execution_count": 3,
   "metadata": {},
   "outputs": [],
   "source": [
    "# number of vertices\n",
    "n = 5\n",
    "\n",
    "# graph edges corresponding to the above graph\n",
    "edges = [(0, 1), (1, 2), (1, 3), (2, 4), (3, 4)];"
   ]
  },
  {
   "cell_type": "markdown",
   "metadata": {},
   "source": [
    "## Quantum formulation and construction of a quantum circuit"
   ]
  },
  {
   "cell_type": "markdown",
   "metadata": {},
   "source": [
    "Term $C_{\\alpha}$ of target function in quantum language:\n",
    "\\begin{equation}\n",
    "C_{\\alpha} = \\frac{1}{2} (I - Z_j Z_k),\n",
    "\\end{equation}\n",
    "with $j$ and $k$ the vertices corresponding to the $\\alpha$-th edge in the graph. Each basis state $\\lvert b \\rangle$ is an eigenvector of $C_{\\alpha}$ with eigenvalue $\\mathsf{C}_{\\alpha}(b)$."
   ]
  },
  {
   "cell_type": "markdown",
   "metadata": {},
   "source": [
    "Accordingly, the target function operator reads $C = \\sum_{\\alpha = 1}^m C_{\\alpha}$ (which is diagonal with respect to the standard basis)."
   ]
  },
  {
   "cell_type": "markdown",
   "metadata": {},
   "source": [
    "The QAOA Ansatz may be motivated by the [adiabatic theorem](https://en.wikipedia.org/wiki/Adiabatic_theorem), stating that a wavefunction remains an instantaneous eigenstate of a Hamiltonian $H(t)$, if $H(t)$ is slowly (adiabatically) changing with time $t$. Here we want to transition from a \"simple\", easy to construct eigenstate of some operator $B$, to the maximizing eigenstate of the target operator $C$. We setup the transition from $B$ to $C$ as $H(t) = \\left(1 - \\frac{t}{T}\\right) B + \\frac{t}{T} C$ for $t \\in [0, T]$."
   ]
  },
  {
   "cell_type": "markdown",
   "metadata": {},
   "source": [
    "The operator $B$ is chosen as\n",
    "\\begin{equation*}\n",
    "B = \\sum_{j=0}^{n-1} X_j\n",
    "\\end{equation*}\n",
    "with $X_j$ the Pauli-$X$ matrix acting on qubit $j$."
   ]
  },
  {
   "cell_type": "markdown",
   "metadata": {},
   "source": [
    "The largest eigenvalue of $B$ is $n$ (since each $X_j$ in the sum contributes the value $1$). The eigenvector of $B$ corresponding to its largest eigenvalue is the uniform superposition state:\n",
    "\\begin{equation}\n",
    "\\lvert s \\rangle = \\lvert + \\rangle^{\\otimes n} = \\frac{1}{\\sqrt{2^n}} \\sum_{b=0}^{2^n - 1} \\lvert b \\rangle.\n",
    "\\end{equation}"
   ]
  },
  {
   "cell_type": "code",
   "execution_count": 4,
   "metadata": {},
   "outputs": [],
   "source": [
    "# define uniform superposition state s\n",
    "s_uni = convert(Vector{ComplexQ}, fill(1/√(2^n) + 0.0im, 2^n));"
   ]
  },
  {
   "cell_type": "markdown",
   "metadata": {},
   "source": [
    "According to the Schrödinger equation, a time step $\\tau$ governed by a time-independent Hamiltonian $H$ is described by the unitary matrix $e^{-i \\tau H}$. Even if $H$ slowly changes with time, $e^{-i \\tau H(t)}$ is still a good approximation. Together with a splitting approximation for the matrix exponential, $e^{A + B} \\approx e^A e^B$ for matrices $A$ and $B$ with small norm, we arrive at $e^{-i \\tau H(t)} \\approx e^{-i \\tau (1 - \\frac{t}{T}) B} \\, e^{- i \\tau \\frac{t}{T} C}$ to describe a time step. This motivates the following Ansatz to find the maximizing eigenstate of $C$:\n",
    "\\begin{equation}\n",
    "\\lvert\\psi_p(\\gamma, \\beta)\\rangle = e^{-i \\beta_p B} e^{-i \\gamma_p C} \\cdots e^{-i \\beta_1 B} e^{-i \\gamma_1 C} \\lvert s \\rangle\n",
    "\\end{equation}\n",
    "with real parameters $\\beta_1, \\dots, \\beta_p$ and $\\gamma_1, \\dots, \\gamma_p$. The number of \"layers\" $p$ can be tuned depending on the application."
   ]
  },
  {
   "cell_type": "markdown",
   "metadata": {},
   "source": [
    "Note: we simulate the construction of $\\lvert\\psi_p(\\gamma, \\beta)\\rangle$ here, but this would be performed on an actual quantum computer."
   ]
  },
  {
   "cell_type": "markdown",
   "metadata": {},
   "source": [
    "We can represent the unitary time step effected by $C_{\\alpha}$ as $e^{-i \\gamma C_{\\alpha}} = e^{-i \\gamma / 2} e^{i \\gamma Z_j Z_k / 2}$. The global phase factor $e^{-i \\gamma / 2}$ will drop out of the optimization, and the second term is the ZZ-\"entanglement\" gate."
   ]
  },
  {
   "cell_type": "code",
   "execution_count": 5,
   "metadata": {},
   "outputs": [
    {
     "data": {
      "text/plain": [
       "assemble_time_step_gates (generic function with 1 method)"
      ]
     },
     "execution_count": 5,
     "metadata": {},
     "output_type": "execute_result"
    }
   ],
   "source": [
    "function assemble_time_step_gates(p::Int, n::Int, edges::Vector{Tuple{Int,Int}})\n",
    "    cgs = CircuitGate[]\n",
    "    for _ in 1:p\n",
    "        # C operator\n",
    "        for e in edges\n",
    "            # circuit gate uses 1-based indexing\n",
    "            push!(cgs, circuit_gate(e[1] + 1, e[2] + 1, EntanglementZZGate(0.01*randn())))\n",
    "        end\n",
    "        # B operator\n",
    "        for j in 1:n\n",
    "           push!(cgs, circuit_gate(j, RxGate(0.01*randn())))\n",
    "        end\n",
    "    end\n",
    "    return cgs\n",
    "end"
   ]
  },
  {
   "cell_type": "markdown",
   "metadata": {},
   "source": [
    "In practice, one performs parameter optimization to maximize the expectation value\n",
    "\\begin{equation}\n",
    "\\langle\\psi_p(\\gamma, \\beta)\\rvert C \\lvert\\psi_p(\\gamma, \\beta)\\rangle,\n",
    "\\end{equation}\n",
    "such that $\\lvert\\psi_p(\\gamma, \\beta)\\rangle$ approaches the optimal solution $\\lvert b^{\\text{opt}} \\rangle$ (or a superposition in case there are several optimizers). The preparation of $\\lvert\\psi_p(\\gamma, \\beta)\\rangle$ and evaluation of the expectation value is to be performed on a quantum computer, and the parameter optimization on a classical computer. A standard measurement of $\\lvert\\psi_p(\\gamma, \\beta)\\rangle$ then results in $b^{\\text{opt}}$ with high probability."
   ]
  },
  {
   "cell_type": "code",
   "execution_count": 6,
   "metadata": {},
   "outputs": [
    {
     "name": "stdout",
     "output_type": "stream",
     "text": [
      "diag(Cmat) = ComplexF64[0.0 + 0.0im, 1.0 + 0.0im, 3.0 + 0.0im, 2.0 + 0.0im, 2.0 + 0.0im, 3.0 + 0.0im, 3.0 + 0.0im, 2.0 + 0.0im, 2.0 + 0.0im, 3.0 + 0.0im, 3.0 + 0.0im, 2.0 + 0.0im, 4.0 + 0.0im, 5.0 - 0.0im, 3.0 + 0.0im, 2.0 + 0.0im, 2.0 + 0.0im, 3.0 + 0.0im, 5.0 - 0.0im, 4.0 + 0.0im, 2.0 + 0.0im, 3.0 + 0.0im, 3.0 + 0.0im, 2.0 + 0.0im, 2.0 + 0.0im, 3.0 + 0.0im, 3.0 + 0.0im, 2.0 + 0.0im, 2.0 + 0.0im, 3.0 + 0.0im, 1.0 + 0.0im, 0.0 + 0.0im]\n"
     ]
    }
   ],
   "source": [
    "# create measurement operator representing C\n",
    "Cmat = zeros(2^n, 2^n)\n",
    "for edge in edges\n",
    "    k1 = circuit_gate(edge[1] + 1, ZGate())\n",
    "    k2 = circuit_gate(edge[2] + 1, ZGate())\n",
    "    Cmat += 0.5*(I - sparse_matrix([k1, k2], n))\n",
    "end\n",
    "@show(diag(Cmat))\n",
    "Cop = MeasurementOperator(Cmat, Tuple(1:n));"
   ]
  },
  {
   "cell_type": "code",
   "execution_count": 7,
   "metadata": {},
   "outputs": [
    {
     "data": {
      "text/plain": [
       "\n",
       "    5 ————————————————————□—————□————[Rx]———————————————□—————□————[Rx]—\n",
       "                          |     |                       |     |         \n",
       "    4 ——————————————□———————————□————[Rx]—————————□———————————□————[Rx]—\n",
       "                    |     |                       |     |               \n",
       "    3 ————————□———————————□————[Rx]—————————□———————————□————[Rx]———————\n",
       "              |     |                       |     |                     \n",
       "    2 ——□—————□—————□——————————[Rx]———□—————□—————□——————————[Rx]———————\n",
       "        |                             |                                 \n",
       "    1 ——□——————————————————————[Rx]———□——————————————————————[Rx]———————\n"
      ]
     },
     "execution_count": 7,
     "metadata": {},
     "output_type": "execute_result"
    }
   ],
   "source": [
    "# example\n",
    "circ = Circuit{n}(assemble_time_step_gates(2, n, edges), [Cop])"
   ]
  },
  {
   "cell_type": "code",
   "execution_count": 8,
   "metadata": {},
   "outputs": [
    {
     "data": {
      "text/plain": [
       "1-element Vector{Float32}:\n",
       " 2.4999192"
      ]
     },
     "execution_count": 8,
     "metadata": {},
     "output_type": "execute_result"
    }
   ],
   "source": [
    "# example: apply circuit gates and compute expectation value\n",
    "apply(s_uni, circ)"
   ]
  },
  {
   "cell_type": "markdown",
   "metadata": {},
   "source": [
    "## Perform optimization"
   ]
  },
  {
   "cell_type": "code",
   "execution_count": 9,
   "metadata": {},
   "outputs": [
    {
     "name": "stdout",
     "output_type": "stream",
     "text": [
      "(apply(s_uni, circ1))[1] = 2.5000854f0\n",
      "(apply(s_uni, circ1))[1] = 3.9999993f0\n",
      "(apply(s_uni, circ1))[1] = 3.9999988f0\n"
     ]
    }
   ],
   "source": [
    "# first attempt with p = 1\n",
    "\n",
    "circ1 = Circuit{n}(assemble_time_step_gates(1, n, edges), [Cop])\n",
    "\n",
    "# gather parameters from circuit\n",
    "paras = Flux.params(circ1)\n",
    "\n",
    "# there is not actually any input data for training\n",
    "data = ncycle([()], 500)\n",
    "\n",
    "# define optimizer\n",
    "opt = Descent(0.5)\n",
    "\n",
    "# define evaluation function\n",
    "evalcb() = @show(apply(s_uni, circ1)[1])\n",
    "\n",
    "# perform minimization with the negated target function to achieve maximization\n",
    "Flux.train!(() -> -apply(s_uni, circ1)[1], paras, data, opt, cb=Flux.throttle(evalcb, 0.5))"
   ]
  },
  {
   "cell_type": "code",
   "execution_count": 10,
   "metadata": {},
   "outputs": [],
   "source": [
    "# corresponding optimized quantum wavefunction\n",
    "ψ1 = apply(s_uni, circ1.moments);"
   ]
  },
  {
   "cell_type": "markdown",
   "metadata": {},
   "source": [
    "It turns out that one layer is insufficient to unambiguously determine the optimal solution $b^{\\text{opt}}$:"
   ]
  },
  {
   "cell_type": "code",
   "execution_count": 11,
   "metadata": {},
   "outputs": [
    {
     "data": {
      "image/png": "[encoded data removed]"
     },
     "metadata": {},
     "output_type": "display_data"
    }
   ],
   "source": [
    "tags = [join(reverse(digits(i, pad=n, base=2))) for i in 0:2^n-1]\n",
    "bar(tags, abs2.(ψ1), xticks=:all, xrotation=45, ylabel=L\"|\\psi|^2\", legend=false)\n",
    "savefig(\"./bar.png\")\n",
    "display(\"image/png\", read(\"bar.png\"))\n",
    "rm(\"./bar.png\")"
   ]
  },
  {
   "cell_type": "code",
   "execution_count": 12,
   "metadata": {},
   "outputs": [
    {
     "name": "stdout",
     "output_type": "stream",
     "text": [
      "apply(s_uni, circ2) = Float32[2.502068]\n",
      "apply(s_uni, circ2) = Float32[4.9996953]\n",
      "apply(s_uni, circ2) = Float32[4.999895]\n",
      "apply(s_uni, circ2) = Float32[4.999957]\n",
      "apply(s_uni, circ2) = Float32[4.9999776]\n",
      "apply(s_uni, circ2) = Float32[4.999991]\n"
     ]
    }
   ],
   "source": [
    "# increase number of layers to p = 2\n",
    "\n",
    "circ2 = Circuit{n}(assemble_time_step_gates(2, n, edges), [Cop])\n",
    "\n",
    "# gather parameters from circuit\n",
    "paras = Flux.params(circ2)\n",
    "\n",
    "# there is not actually any input data for training\n",
    "data = ncycle([()], 500)\n",
    "\n",
    "# define optimizer\n",
    "opt = Descent(0.5)\n",
    "\n",
    "# define evaluation function\n",
    "evalcb() = @show(apply(s_uni, circ2))\n",
    "\n",
    "# perform minimization with the negated target function to achieve maximization\n",
    "Flux.train!(() -> -apply(s_uni, circ2)[1], paras, data, opt, cb=Flux.throttle(evalcb, 0.5))"
   ]
  },
  {
   "cell_type": "code",
   "execution_count": 13,
   "metadata": {},
   "outputs": [],
   "source": [
    "# corresponding optimized quantum wavefunction\n",
    "ψ2 = apply(s_uni, circ2.moments);"
   ]
  },
  {
   "cell_type": "code",
   "execution_count": 14,
   "metadata": {},
   "outputs": [
    {
     "data": {
      "image/png": "[encoded data removed]"
     },
     "metadata": {},
     "output_type": "display_data"
    }
   ],
   "source": [
    "tags = [join(reverse(digits(i, pad=n, base=2))) for i in 0:2^n-1]\n",
    "bar(tags, abs2.(ψ2), xticks=:all, xrotation=45, ylabel=L\"|\\psi|^2\", legend=false)\n",
    "savefig(\"./bar.png\")\n",
    "display(\"image/png\", read(\"bar.png\"))\n",
    "rm(\"./bar.png\")"
   ]
  },
  {
   "cell_type": "markdown",
   "metadata": {},
   "source": [
    "Note that there are actually two optimal solutions, $b^{\\text{opt}} = 01101$ and $b^{\\text{opt}} = 10010$ (since one can swap the role of $\\color{blue}{S_0}$ and $\\color{green}{S_1}$), which indeed occur with the highest probability."
   ]
  }
 ],
 "metadata": {
  "kernelspec": {
   "display_name": "Julia 1.7.0",
   "language": "julia",
   "name": "julia-1.7"
  },
  "language_info": {
   "file_extension": ".jl",
   "mimetype": "application/julia",
   "name": "julia",
   "version": "1.7.0"
  }
 },
 "nbformat": 4,
 "nbformat_minor": 4
}
