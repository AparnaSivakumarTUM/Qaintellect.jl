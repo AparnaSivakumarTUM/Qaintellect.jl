{
 "cells": [
  {
   "cell_type": "markdown",
   "metadata": {},
   "source": [
    "# Qaintellect variational quantum thermalizer (VQT) example"
   ]
  },
  {
   "cell_type": "markdown",
   "metadata": {},
   "source": [
    "In this example, we implement the VQT algorithm by Verdon et al. to approximate a thermal state using a quantum circuit.\n",
    "\n",
    "Reference:\n",
    "- G. Verdon, J. Marks, S. Nanda, S. Leichenauer, J. Hidary: \"Quantum Hamiltonian-based models and the variational quantum thermalizer algorithm\", [arXiv:1910.02071](https://arxiv.org/abs/1910.02071) (2019)"
   ]
  },
  {
   "cell_type": "code",
   "execution_count": 1,
   "metadata": {},
   "outputs": [],
   "source": [
    "using Qaintessent\n",
    "using Qaintellect\n",
    "using LinearAlgebra\n",
    "using SparseArrays\n",
    "using Flux\n",
    "using IterTools: ncycle"
   ]
  },
  {
   "cell_type": "code",
   "execution_count": 2,
   "metadata": {},
   "outputs": [],
   "source": [
    "# visualization\n",
    "using Plots\n",
    "using LaTeXStrings"
   ]
  },
  {
   "cell_type": "code",
   "execution_count": 3,
   "metadata": {},
   "outputs": [],
   "source": [
    "using Random\n",
    "Random.seed!(142);"
   ]
  },
  {
   "cell_type": "markdown",
   "metadata": {},
   "source": [
    "## Physical model: Hamiltonian and thermal state"
   ]
  },
  {
   "cell_type": "code",
   "execution_count": 4,
   "metadata": {},
   "outputs": [
    {
     "data": {
      "text/plain": [
       "lattice_adjacency_map"
      ]
     },
     "execution_count": 4,
     "metadata": {},
     "output_type": "execute_result"
    }
   ],
   "source": [
    "\"\"\"\n",
    "Construct adjacency map for a cartesian Nx × Ny lattice.\n",
    "\"\"\"\n",
    "function lattice_adjacency_map(Nx::Integer, Ny::Integer; pbc=true)\n",
    "    L = Nx * Ny\n",
    "    adjacency = zeros(Int, (L, L))\n",
    "    for j in 0:Ny-1\n",
    "        j_next = (j+1) % Ny\n",
    "        for i in 0:Nx-1\n",
    "            i_next = (i+1) % Nx\n",
    "            # nearest neighbors\n",
    "            if (pbc || i_next > 0) adjacency[j*Nx + i + 1, j*Nx + i_next + 1] = 1; end\n",
    "            if (pbc || j_next > 0) adjacency[j*Nx + i + 1, j_next*Nx + i + 1] = 1; end\n",
    "        end\n",
    "    end\n",
    "    adjacency = adjacency + transpose(adjacency)\n",
    "    # only 0 or 1 entries\n",
    "    return (adjacency .≠ 0)\n",
    "end"
   ]
  },
  {
   "cell_type": "code",
   "execution_count": 5,
   "metadata": {},
   "outputs": [
    {
     "data": {
      "text/plain": [
       "6×6 BitArray{2}:\n",
       " 0  1  1  0  0  0\n",
       " 1  0  0  1  0  0\n",
       " 1  0  0  1  1  0\n",
       " 0  1  1  0  0  1\n",
       " 0  0  1  0  0  1\n",
       " 0  0  0  1  1  0"
      ]
     },
     "execution_count": 5,
     "metadata": {},
     "output_type": "execute_result"
    }
   ],
   "source": [
    "adj = lattice_adjacency_map(2, 3; pbc=false)"
   ]
  },
  {
   "cell_type": "code",
   "execution_count": 6,
   "metadata": {},
   "outputs": [
    {
     "data": {
      "text/plain": [
       "1×6 Array{Int64,2}:\n",
       " 2  2  3  3  2  2"
      ]
     },
     "execution_count": 6,
     "metadata": {},
     "output_type": "execute_result"
    }
   ],
   "source": [
    "# number of neighbors\n",
    "sum(adj, dims=1)"
   ]
  },
  {
   "cell_type": "code",
   "execution_count": 7,
   "metadata": {},
   "outputs": [
    {
     "data": {
      "text/plain": [
       "6"
      ]
     },
     "execution_count": 7,
     "metadata": {},
     "output_type": "execute_result"
    }
   ],
   "source": [
    "# number of lattice sites\n",
    "L = size(adj, 1)"
   ]
  },
  {
   "cell_type": "code",
   "execution_count": 8,
   "metadata": {},
   "outputs": [
    {
     "data": {
      "text/plain": [
       "lattice_adjacency_map_vert"
      ]
     },
     "execution_count": 8,
     "metadata": {},
     "output_type": "execute_result"
    }
   ],
   "source": [
    "\"\"\"\n",
    "Construct horizontal adjacency map for a cartesian Nx × Ny lattice.\n",
    "\"\"\"\n",
    "function lattice_adjacency_map_horz(Nx::Integer, Ny::Integer; pbc=true)\n",
    "    L = Nx * Ny\n",
    "    adjacency = zeros(Int, (L, L))\n",
    "    for j in 0:Ny-1\n",
    "        for i in 0:Nx-1\n",
    "            i_next = (i+1) % Nx\n",
    "            # nearest neighbors along horizontal direction\n",
    "            if (pbc || i_next > 0) adjacency[j*Nx + i + 1, j*Nx + i_next + 1] = 1; end\n",
    "        end\n",
    "    end\n",
    "    adjacency = adjacency + transpose(adjacency)\n",
    "    # only 0 or 1 entries\n",
    "    return (adjacency .≠ 0)\n",
    "end\n",
    "\n",
    "\"\"\"\n",
    "Construct vertical adjacency map for a cartesian Nx × Ny lattice.\n",
    "\"\"\"\n",
    "function lattice_adjacency_map_vert(Nx::Integer, Ny::Integer; pbc=true)\n",
    "    L = Nx * Ny\n",
    "    adjacency = zeros(Int, (L, L))\n",
    "    for j in 0:Ny-1\n",
    "        j_next = (j+1) % Ny\n",
    "        for i in 0:Nx-1\n",
    "            # nearest neighbors along vertical direction\n",
    "            if (pbc || j_next > 0) adjacency[j*Nx + i + 1, j_next*Nx + i + 1] = 1; end\n",
    "        end\n",
    "    end\n",
    "    adjacency = adjacency + transpose(adjacency)\n",
    "    # only 0 or 1 entries\n",
    "    return (adjacency .≠ 0)\n",
    "end"
   ]
  },
  {
   "cell_type": "code",
   "execution_count": 9,
   "metadata": {},
   "outputs": [
    {
     "data": {
      "text/plain": [
       "6×6 BitArray{2}:\n",
       " 0  1  0  0  0  0\n",
       " 1  0  0  0  0  0\n",
       " 0  0  0  1  0  0\n",
       " 0  0  1  0  0  0\n",
       " 0  0  0  0  0  1\n",
       " 0  0  0  0  1  0"
      ]
     },
     "execution_count": 9,
     "metadata": {},
     "output_type": "execute_result"
    }
   ],
   "source": [
    "adj_horz = lattice_adjacency_map_horz(2, 3; pbc=false)"
   ]
  },
  {
   "cell_type": "code",
   "execution_count": 10,
   "metadata": {},
   "outputs": [
    {
     "data": {
      "text/plain": [
       "6×6 BitArray{2}:\n",
       " 0  0  1  0  0  0\n",
       " 0  0  0  1  0  0\n",
       " 1  0  0  0  1  0\n",
       " 0  1  0  0  0  1\n",
       " 0  0  1  0  0  0\n",
       " 0  0  0  1  0  0"
      ]
     },
     "execution_count": 10,
     "metadata": {},
     "output_type": "execute_result"
    }
   ],
   "source": [
    "adj_vert = lattice_adjacency_map_vert(2, 3; pbc=false)"
   ]
  },
  {
   "cell_type": "code",
   "execution_count": 11,
   "metadata": {},
   "outputs": [
    {
     "name": "stdout",
     "output_type": "stream",
     "text": [
      "norm((adj_horz + adj_vert) - adj) = 0.0\n",
      "norm(adj_horz .* adj_vert) = 0.0\n"
     ]
    },
    {
     "data": {
      "text/plain": [
       "0.0"
      ]
     },
     "execution_count": 11,
     "metadata": {},
     "output_type": "execute_result"
    }
   ],
   "source": [
    "# consistency check (results should be zero)\n",
    "@show(norm(adj_horz + adj_vert - adj))\n",
    "@show(norm(adj_horz .* adj_vert))"
   ]
  },
  {
   "cell_type": "code",
   "execution_count": 12,
   "metadata": {},
   "outputs": [
    {
     "data": {
      "text/plain": [
       "sparse_identity"
      ]
     },
     "execution_count": 12,
     "metadata": {},
     "output_type": "execute_result"
    }
   ],
   "source": [
    "\"\"\"\n",
    "Identity map as sparse matrix with real-valued entries.\n",
    "\"\"\"\n",
    "sparse_identity(n) = sparse(1.0*I, n, n)"
   ]
  },
  {
   "cell_type": "code",
   "execution_count": 13,
   "metadata": {},
   "outputs": [
    {
     "data": {
      "text/plain": [
       "construct_hamiltonian"
      ]
     },
     "execution_count": 13,
     "metadata": {},
     "output_type": "execute_result"
    }
   ],
   "source": [
    "\"\"\"\n",
    "Construct a Heisenberg-type Hamiltonian as sparse matrix using site-dependent interaction strength, with nearest-neighbor interactions according to adjacency.\n",
    "\"\"\"\n",
    "function construct_hamiltonian(J::Array{<:Real,3})\n",
    "    L = size(J, 3)\n",
    "    @assert(size(J) == (3, L, L))\n",
    "\n",
    "    # spin operators (Pauli matrices divided by 2)\n",
    "    sigma12 = (0.5*sparse([0.  1.; 1.  0.]),\n",
    "               0.5*sparse([0. -im; im  0.]),\n",
    "               0.5*sparse([1.  0.; 0. -1.]))\n",
    "\n",
    "    H = spzeros(Float64, 2^L, 2^L)\n",
    "\n",
    "    # interaction terms\n",
    "    for i in 1:L\n",
    "        for j in i+1:L\n",
    "            for k in 1:3\n",
    "                # considering only entries in J for i < j\n",
    "                if J[k, i, j] ≠ 0\n",
    "                    H -= J[k, i, j] * real(kron(sparse_identity(2^(L-j)), sigma12[k], sparse_identity(2^(j-i-1)), sigma12[k], sparse_identity(2^(i-1))))\n",
    "                end\n",
    "            end\n",
    "        end\n",
    "    end\n",
    "\n",
    "    return H\n",
    "end"
   ]
  },
  {
   "cell_type": "code",
   "execution_count": 14,
   "metadata": {},
   "outputs": [
    {
     "data": {
      "text/plain": [
       "0.6"
      ]
     },
     "execution_count": 14,
     "metadata": {},
     "output_type": "execute_result"
    }
   ],
   "source": [
    "# model parameters\n",
    "β = 2.6\n",
    "Jx = 1.0\n",
    "Jy = 0.6"
   ]
  },
  {
   "cell_type": "code",
   "execution_count": 15,
   "metadata": {},
   "outputs": [
    {
     "data": {
      "text/plain": [
       "(64, 64)"
      ]
     },
     "execution_count": 15,
     "metadata": {},
     "output_type": "execute_result"
    }
   ],
   "source": [
    "# construct Hamiltonian\n",
    "J = Jx * reshape(kron(adj_horz, [1, 1, 1]), (3, L, L)) + Jy * reshape(kron(adj_vert, [1, 1, 1]), (3, L, L))\n",
    "H = construct_hamiltonian(J)\n",
    "@assert(H ≈ H')\n",
    "size(H)"
   ]
  },
  {
   "cell_type": "code",
   "execution_count": 16,
   "metadata": {},
   "outputs": [
    {
     "data": {
      "image/svg+xml": [
       "<?xml version=\"1.0\" encoding=\"utf-8\"?>\n",
       "<svg xmlns=\"http://www.w3.org/2000/svg\" xmlns:xlink=\"http://www.w3.org/1999/xlink\" width=\"600\" height=\"400\" viewBox=\"0 0 2400 1600\">\n",
       "<defs>\n",
       "  <clipPath id=\"clip940\">\n",
       "    <rect x=\"0\" y=\"0\" width=\"2400\" height=\"1600\"/>\n",
       "  </clipPath>\n",
       "</defs>\n",
       "<path clip-path=\"url(#clip940)\" d=\"\n",
       "M0 1600 L2400 1600 L2400 0 L0 0  Z\n",
       "  \" fill=\"#ffffff\" fill-rule=\"evenodd\" fill-opacity=\"1\"/>\n",
       "<defs>\n",
       "  <clipPath id=\"clip941\">\n",
       "    <rect x=\"480\" y=\"0\" width=\"1681\" height=\"1600\"/>\n",
       "  </clipPath>\n",
       "</defs>\n",
       "<path clip-path=\"url(#clip940)\" d=\"\n",
       "M201.212 1441.56 L2352.76 1441.56 L2352.76 47.2441 L201.212 47.2441  Z\n",
       "  \" fill=\"#ffffff\" fill-rule=\"evenodd\" fill-opacity=\"1\"/>\n",
       "<defs>\n",
       "  <clipPath id=\"clip942\">\n",
       "    <rect x=\"201\" y=\"47\" width=\"2153\" height=\"1395\"/>\n",
       "  </clipPath>\n",
       "</defs>\n",
       "<polyline clip-path=\"url(#clip942)\" style=\"stroke:#000000; stroke-width:2; stroke-opacity:0.1; fill:none\" points=\"\n",
       "  229.887,1441.56 229.887,47.2441 \n",
       "  \"/>\n",
       "<polyline clip-path=\"url(#clip942)\" style=\"stroke:#000000; stroke-width:2; stroke-opacity:0.1; fill:none\" points=\"\n",
       "  552.07,1441.56 552.07,47.2441 \n",
       "  \"/>\n",
       "<polyline clip-path=\"url(#clip942)\" style=\"stroke:#000000; stroke-width:2; stroke-opacity:0.1; fill:none\" points=\"\n",
       "  874.254,1441.56 874.254,47.2441 \n",
       "  \"/>\n",
       "<polyline clip-path=\"url(#clip942)\" style=\"stroke:#000000; stroke-width:2; stroke-opacity:0.1; fill:none\" points=\"\n",
       "  1196.44,1441.56 1196.44,47.2441 \n",
       "  \"/>\n",
       "<polyline clip-path=\"url(#clip942)\" style=\"stroke:#000000; stroke-width:2; stroke-opacity:0.1; fill:none\" points=\"\n",
       "  1518.62,1441.56 1518.62,47.2441 \n",
       "  \"/>\n",
       "<polyline clip-path=\"url(#clip942)\" style=\"stroke:#000000; stroke-width:2; stroke-opacity:0.1; fill:none\" points=\"\n",
       "  1840.81,1441.56 1840.81,47.2441 \n",
       "  \"/>\n",
       "<polyline clip-path=\"url(#clip942)\" style=\"stroke:#000000; stroke-width:2; stroke-opacity:0.1; fill:none\" points=\"\n",
       "  2162.99,1441.56 2162.99,47.2441 \n",
       "  \"/>\n",
       "<polyline clip-path=\"url(#clip942)\" style=\"stroke:#000000; stroke-width:2; stroke-opacity:0.1; fill:none\" points=\"\n",
       "  201.212,1284.87 2352.76,1284.87 \n",
       "  \"/>\n",
       "<polyline clip-path=\"url(#clip942)\" style=\"stroke:#000000; stroke-width:2; stroke-opacity:0.1; fill:none\" points=\"\n",
       "  201.212,949.936 2352.76,949.936 \n",
       "  \"/>\n",
       "<polyline clip-path=\"url(#clip942)\" style=\"stroke:#000000; stroke-width:2; stroke-opacity:0.1; fill:none\" points=\"\n",
       "  201.212,614.998 2352.76,614.998 \n",
       "  \"/>\n",
       "<polyline clip-path=\"url(#clip942)\" style=\"stroke:#000000; stroke-width:2; stroke-opacity:0.1; fill:none\" points=\"\n",
       "  201.212,280.06 2352.76,280.06 \n",
       "  \"/>\n",
       "<polyline clip-path=\"url(#clip940)\" style=\"stroke:#000000; stroke-width:4; stroke-opacity:1; fill:none\" points=\"\n",
       "  201.212,1441.56 2352.76,1441.56 \n",
       "  \"/>\n",
       "<polyline clip-path=\"url(#clip940)\" style=\"stroke:#000000; stroke-width:4; stroke-opacity:1; fill:none\" points=\"\n",
       "  201.212,1441.56 201.212,47.2441 \n",
       "  \"/>\n",
       "<polyline clip-path=\"url(#clip940)\" style=\"stroke:#000000; stroke-width:4; stroke-opacity:1; fill:none\" points=\"\n",
       "  229.887,1441.56 229.887,1424.83 \n",
       "  \"/>\n",
       "<polyline clip-path=\"url(#clip940)\" style=\"stroke:#000000; stroke-width:4; stroke-opacity:1; fill:none\" points=\"\n",
       "  552.07,1441.56 552.07,1424.83 \n",
       "  \"/>\n",
       "<polyline clip-path=\"url(#clip940)\" style=\"stroke:#000000; stroke-width:4; stroke-opacity:1; fill:none\" points=\"\n",
       "  874.254,1441.56 874.254,1424.83 \n",
       "  \"/>\n",
       "<polyline clip-path=\"url(#clip940)\" style=\"stroke:#000000; stroke-width:4; stroke-opacity:1; fill:none\" points=\"\n",
       "  1196.44,1441.56 1196.44,1424.83 \n",
       "  \"/>\n",
       "<polyline clip-path=\"url(#clip940)\" style=\"stroke:#000000; stroke-width:4; stroke-opacity:1; fill:none\" points=\"\n",
       "  1518.62,1441.56 1518.62,1424.83 \n",
       "  \"/>\n",
       "<polyline clip-path=\"url(#clip940)\" style=\"stroke:#000000; stroke-width:4; stroke-opacity:1; fill:none\" points=\"\n",
       "  1840.81,1441.56 1840.81,1424.83 \n",
       "  \"/>\n",
       "<polyline clip-path=\"url(#clip940)\" style=\"stroke:#000000; stroke-width:4; stroke-opacity:1; fill:none\" points=\"\n",
       "  2162.99,1441.56 2162.99,1424.83 \n",
       "  \"/>\n",
       "<polyline clip-path=\"url(#clip940)\" style=\"stroke:#000000; stroke-width:4; stroke-opacity:1; fill:none\" points=\"\n",
       "  201.212,1284.87 227.031,1284.87 \n",
       "  \"/>\n",
       "<polyline clip-path=\"url(#clip940)\" style=\"stroke:#000000; stroke-width:4; stroke-opacity:1; fill:none\" points=\"\n",
       "  201.212,949.936 227.031,949.936 \n",
       "  \"/>\n",
       "<polyline clip-path=\"url(#clip940)\" style=\"stroke:#000000; stroke-width:4; stroke-opacity:1; fill:none\" points=\"\n",
       "  201.212,614.998 227.031,614.998 \n",
       "  \"/>\n",
       "<polyline clip-path=\"url(#clip940)\" style=\"stroke:#000000; stroke-width:4; stroke-opacity:1; fill:none\" points=\"\n",
       "  201.212,280.06 227.031,280.06 \n",
       "  \"/>\n",
       "<path clip-path=\"url(#clip940)\" d=\"M 0 0 M229.887 1463.56 Q226.275 1463.56 224.447 1467.12 Q222.641 1470.66 222.641 1477.79 Q222.641 1484.9 224.447 1488.46 Q226.275 1492 229.887 1492 Q233.521 1492 235.326 1488.46 Q237.155 1484.9 237.155 1477.79 Q237.155 1470.66 235.326 1467.12 Q233.521 1463.56 229.887 1463.56 M229.887 1459.85 Q235.697 1459.85 238.752 1464.46 Q241.831 1469.04 241.831 1477.79 Q241.831 1486.52 238.752 1491.12 Q235.697 1495.71 229.887 1495.71 Q224.076 1495.71 220.998 1491.12 Q217.942 1486.52 217.942 1477.79 Q217.942 1469.04 220.998 1464.46 Q224.076 1459.85 229.887 1459.85 Z\" fill=\"#000000\" fill-rule=\"evenodd\" fill-opacity=\"1\" /><path clip-path=\"url(#clip940)\" d=\"M 0 0 M528.946 1491.1 L536.584 1491.1 L536.584 1464.74 L528.274 1466.4 L528.274 1462.14 L536.538 1460.48 L541.214 1460.48 L541.214 1491.1 L548.853 1491.1 L548.853 1495.04 L528.946 1495.04 L528.946 1491.1 Z\" fill=\"#000000\" fill-rule=\"evenodd\" fill-opacity=\"1\" /><path clip-path=\"url(#clip940)\" d=\"M 0 0 M563.922 1463.56 Q560.311 1463.56 558.482 1467.12 Q556.677 1470.66 556.677 1477.79 Q556.677 1484.9 558.482 1488.46 Q560.311 1492 563.922 1492 Q567.556 1492 569.362 1488.46 Q571.191 1484.9 571.191 1477.79 Q571.191 1470.66 569.362 1467.12 Q567.556 1463.56 563.922 1463.56 M563.922 1459.85 Q569.732 1459.85 572.788 1464.46 Q575.867 1469.04 575.867 1477.79 Q575.867 1486.52 572.788 1491.12 Q569.732 1495.71 563.922 1495.71 Q558.112 1495.71 555.033 1491.12 Q551.978 1486.52 551.978 1477.79 Q551.978 1469.04 555.033 1464.46 Q558.112 1459.85 563.922 1459.85 Z\" fill=\"#000000\" fill-rule=\"evenodd\" fill-opacity=\"1\" /><path clip-path=\"url(#clip940)\" d=\"M 0 0 M855.4 1491.1 L871.72 1491.1 L871.72 1495.04 L849.775 1495.04 L849.775 1491.1 Q852.437 1488.35 857.021 1483.72 Q861.627 1479.06 862.808 1477.72 Q865.053 1475.2 865.933 1473.46 Q866.835 1471.7 866.835 1470.01 Q866.835 1467.26 864.891 1465.52 Q862.97 1463.79 859.868 1463.79 Q857.669 1463.79 855.215 1464.55 Q852.784 1465.31 850.007 1466.87 L850.007 1462.14 Q852.831 1461.01 855.284 1460.43 Q857.738 1459.85 859.775 1459.85 Q865.145 1459.85 868.34 1462.54 Q871.534 1465.22 871.534 1469.71 Q871.534 1471.84 870.724 1473.76 Q869.937 1475.66 867.831 1478.25 Q867.252 1478.93 864.15 1482.14 Q861.048 1485.34 855.4 1491.1 Z\" fill=\"#000000\" fill-rule=\"evenodd\" fill-opacity=\"1\" /><path clip-path=\"url(#clip940)\" d=\"M 0 0 M886.789 1463.56 Q883.178 1463.56 881.349 1467.12 Q879.544 1470.66 879.544 1477.79 Q879.544 1484.9 881.349 1488.46 Q883.178 1492 886.789 1492 Q890.423 1492 892.229 1488.46 Q894.057 1484.9 894.057 1477.79 Q894.057 1470.66 892.229 1467.12 Q890.423 1463.56 886.789 1463.56 M886.789 1459.85 Q892.599 1459.85 895.655 1464.46 Q898.733 1469.04 898.733 1477.79 Q898.733 1486.52 895.655 1491.12 Q892.599 1495.71 886.789 1495.71 Q880.979 1495.71 877.9 1491.12 Q874.845 1486.52 874.845 1477.79 Q874.845 1469.04 877.9 1464.46 Q880.979 1459.85 886.789 1459.85 Z\" fill=\"#000000\" fill-rule=\"evenodd\" fill-opacity=\"1\" /><path clip-path=\"url(#clip940)\" d=\"M 0 0 M1187.18 1476.4 Q1190.54 1477.12 1192.41 1479.39 Q1194.31 1481.66 1194.31 1484.99 Q1194.31 1490.11 1190.79 1492.91 Q1187.27 1495.71 1180.79 1495.71 Q1178.61 1495.71 1176.3 1495.27 Q1174.01 1494.85 1171.55 1493.99 L1171.55 1489.48 Q1173.5 1490.62 1175.81 1491.19 Q1178.13 1491.77 1180.65 1491.77 Q1185.05 1491.77 1187.34 1490.04 Q1189.66 1488.3 1189.66 1484.99 Q1189.66 1481.93 1187.5 1480.22 Q1185.37 1478.49 1181.55 1478.49 L1177.53 1478.49 L1177.53 1474.64 L1181.74 1474.64 Q1185.19 1474.64 1187.02 1473.28 Q1188.85 1471.89 1188.85 1469.3 Q1188.85 1466.63 1186.95 1465.22 Q1185.07 1463.79 1181.55 1463.79 Q1179.63 1463.79 1177.43 1464.2 Q1175.23 1464.62 1172.6 1465.5 L1172.6 1461.33 Q1175.26 1460.59 1177.57 1460.22 Q1179.91 1459.85 1181.97 1459.85 Q1187.29 1459.85 1190.4 1462.28 Q1193.5 1464.69 1193.5 1468.81 Q1193.5 1471.68 1191.85 1473.67 Q1190.21 1475.64 1187.18 1476.4 Z\" fill=\"#000000\" fill-rule=\"evenodd\" fill-opacity=\"1\" /><path clip-path=\"url(#clip940)\" d=\"M 0 0 M1209.38 1463.56 Q1205.77 1463.56 1203.94 1467.12 Q1202.13 1470.66 1202.13 1477.79 Q1202.13 1484.9 1203.94 1488.46 Q1205.77 1492 1209.38 1492 Q1213.01 1492 1214.82 1488.46 Q1216.65 1484.9 1216.65 1477.79 Q1216.65 1470.66 1214.82 1467.12 Q1213.01 1463.56 1209.38 1463.56 M1209.38 1459.85 Q1215.19 1459.85 1218.24 1464.46 Q1221.32 1469.04 1221.32 1477.79 Q1221.32 1486.52 1218.24 1491.12 Q1215.19 1495.71 1209.38 1495.71 Q1203.57 1495.71 1200.49 1491.12 Q1197.43 1486.52 1197.43 1477.79 Q1197.43 1469.04 1200.49 1464.46 Q1203.57 1459.85 1209.38 1459.85 Z\" fill=\"#000000\" fill-rule=\"evenodd\" fill-opacity=\"1\" /><path clip-path=\"url(#clip940)\" d=\"M 0 0 M1508.12 1464.55 L1496.32 1483 L1508.12 1483 L1508.12 1464.55 M1506.9 1460.48 L1512.78 1460.48 L1512.78 1483 L1517.71 1483 L1517.71 1486.89 L1512.78 1486.89 L1512.78 1495.04 L1508.12 1495.04 L1508.12 1486.89 L1492.52 1486.89 L1492.52 1482.37 L1506.9 1460.48 Z\" fill=\"#000000\" fill-rule=\"evenodd\" fill-opacity=\"1\" /><path clip-path=\"url(#clip940)\" d=\"M 0 0 M1532.78 1463.56 Q1529.17 1463.56 1527.34 1467.12 Q1525.53 1470.66 1525.53 1477.79 Q1525.53 1484.9 1527.34 1488.46 Q1529.17 1492 1532.78 1492 Q1536.41 1492 1538.22 1488.46 Q1540.05 1484.9 1540.05 1477.79 Q1540.05 1470.66 1538.22 1467.12 Q1536.41 1463.56 1532.78 1463.56 M1532.78 1459.85 Q1538.59 1459.85 1541.64 1464.46 Q1544.72 1469.04 1544.72 1477.79 Q1544.72 1486.52 1541.64 1491.12 Q1538.59 1495.71 1532.78 1495.71 Q1526.97 1495.71 1523.89 1491.12 Q1520.83 1486.52 1520.83 1477.79 Q1520.83 1469.04 1523.89 1464.46 Q1526.97 1459.85 1532.78 1459.85 Z\" fill=\"#000000\" fill-rule=\"evenodd\" fill-opacity=\"1\" /><path clip-path=\"url(#clip940)\" d=\"M 0 0 M1817.58 1460.48 L1835.93 1460.48 L1835.93 1464.41 L1821.86 1464.41 L1821.86 1472.88 Q1822.88 1472.54 1823.9 1472.37 Q1824.91 1472.19 1825.93 1472.19 Q1831.72 1472.19 1835.1 1475.36 Q1838.48 1478.53 1838.48 1483.95 Q1838.48 1489.53 1835.01 1492.63 Q1831.53 1495.71 1825.22 1495.71 Q1823.04 1495.71 1820.77 1495.34 Q1818.53 1494.97 1816.12 1494.23 L1816.12 1489.53 Q1818.2 1490.66 1820.42 1491.22 Q1822.65 1491.77 1825.12 1491.77 Q1829.13 1491.77 1831.47 1489.67 Q1833.8 1487.56 1833.8 1483.95 Q1833.8 1480.34 1831.47 1478.23 Q1829.13 1476.12 1825.12 1476.12 Q1823.25 1476.12 1821.37 1476.54 Q1819.52 1476.96 1817.58 1477.84 L1817.58 1460.48 Z\" fill=\"#000000\" fill-rule=\"evenodd\" fill-opacity=\"1\" /><path clip-path=\"url(#clip940)\" d=\"M 0 0 M1853.55 1463.56 Q1849.94 1463.56 1848.11 1467.12 Q1846.3 1470.66 1846.3 1477.79 Q1846.3 1484.9 1848.11 1488.46 Q1849.94 1492 1853.55 1492 Q1857.18 1492 1858.99 1488.46 Q1860.82 1484.9 1860.82 1477.79 Q1860.82 1470.66 1858.99 1467.12 Q1857.18 1463.56 1853.55 1463.56 M1853.55 1459.85 Q1859.36 1459.85 1862.41 1464.46 Q1865.49 1469.04 1865.49 1477.79 Q1865.49 1486.52 1862.41 1491.12 Q1859.36 1495.71 1853.55 1495.71 Q1847.74 1495.71 1844.66 1491.12 Q1841.6 1486.52 1841.6 1477.79 Q1841.6 1469.04 1844.66 1464.46 Q1847.74 1459.85 1853.55 1459.85 Z\" fill=\"#000000\" fill-rule=\"evenodd\" fill-opacity=\"1\" /><path clip-path=\"url(#clip940)\" d=\"M 0 0 M2149.89 1475.89 Q2146.74 1475.89 2144.89 1478.05 Q2143.06 1480.2 2143.06 1483.95 Q2143.06 1487.68 2144.89 1489.85 Q2146.74 1492 2149.89 1492 Q2153.04 1492 2154.86 1489.85 Q2156.72 1487.68 2156.72 1483.95 Q2156.72 1480.2 2154.86 1478.05 Q2153.04 1475.89 2149.89 1475.89 M2159.17 1461.24 L2159.17 1465.5 Q2157.41 1464.67 2155.61 1464.23 Q2153.82 1463.79 2152.06 1463.79 Q2147.43 1463.79 2144.98 1466.91 Q2142.55 1470.04 2142.2 1476.36 Q2143.57 1474.34 2145.63 1473.28 Q2147.69 1472.19 2150.17 1472.19 Q2155.37 1472.19 2158.38 1475.36 Q2161.42 1478.51 2161.42 1483.95 Q2161.42 1489.27 2158.27 1492.49 Q2155.12 1495.71 2149.89 1495.71 Q2143.89 1495.71 2140.72 1491.12 Q2137.55 1486.52 2137.55 1477.79 Q2137.55 1469.6 2141.44 1464.74 Q2145.33 1459.85 2151.88 1459.85 Q2153.64 1459.85 2155.42 1460.2 Q2157.23 1460.55 2159.17 1461.24 Z\" fill=\"#000000\" fill-rule=\"evenodd\" fill-opacity=\"1\" /><path clip-path=\"url(#clip940)\" d=\"M 0 0 M2176.48 1463.56 Q2172.87 1463.56 2171.05 1467.12 Q2169.24 1470.66 2169.24 1477.79 Q2169.24 1484.9 2171.05 1488.46 Q2172.87 1492 2176.48 1492 Q2180.12 1492 2181.92 1488.46 Q2183.75 1484.9 2183.75 1477.79 Q2183.75 1470.66 2181.92 1467.12 Q2180.12 1463.56 2176.48 1463.56 M2176.48 1459.85 Q2182.3 1459.85 2185.35 1464.46 Q2188.43 1469.04 2188.43 1477.79 Q2188.43 1486.52 2185.35 1491.12 Q2182.3 1495.71 2176.48 1495.71 Q2170.67 1495.71 2167.6 1491.12 Q2164.54 1486.52 2164.54 1477.79 Q2164.54 1469.04 2167.6 1464.46 Q2170.67 1459.85 2176.48 1459.85 Z\" fill=\"#000000\" fill-rule=\"evenodd\" fill-opacity=\"1\" /><path clip-path=\"url(#clip940)\" d=\"M 0 0 M121.75 1285.33 L151.425 1285.33 L151.425 1289.26 L121.75 1289.26 L121.75 1285.33 Z\" fill=\"#000000\" fill-rule=\"evenodd\" fill-opacity=\"1\" /><path clip-path=\"url(#clip940)\" d=\"M 0 0 M157.305 1298.22 L164.944 1298.22 L164.944 1271.85 L156.634 1273.52 L156.634 1269.26 L164.897 1267.59 L169.573 1267.59 L169.573 1298.22 L177.212 1298.22 L177.212 1302.15 L157.305 1302.15 L157.305 1298.22 Z\" fill=\"#000000\" fill-rule=\"evenodd\" fill-opacity=\"1\" /><path clip-path=\"url(#clip940)\" d=\"M 0 0 M165.268 935.735 Q161.657 935.735 159.828 939.3 Q158.022 942.841 158.022 949.971 Q158.022 957.077 159.828 960.642 Q161.657 964.184 165.268 964.184 Q168.902 964.184 170.708 960.642 Q172.536 957.077 172.536 949.971 Q172.536 942.841 170.708 939.3 Q168.902 935.735 165.268 935.735 M165.268 932.031 Q171.078 932.031 174.134 936.638 Q177.212 941.221 177.212 949.971 Q177.212 958.698 174.134 963.304 Q171.078 967.888 165.268 967.888 Q159.458 967.888 156.379 963.304 Q153.323 958.698 153.323 949.971 Q153.323 941.221 156.379 936.638 Q159.458 932.031 165.268 932.031 Z\" fill=\"#000000\" fill-rule=\"evenodd\" fill-opacity=\"1\" /><path clip-path=\"url(#clip940)\" d=\"M 0 0 M157.305 628.343 L164.944 628.343 L164.944 601.978 L156.634 603.644 L156.634 599.385 L164.897 597.718 L169.573 597.718 L169.573 628.343 L177.212 628.343 L177.212 632.278 L157.305 632.278 L157.305 628.343 Z\" fill=\"#000000\" fill-rule=\"evenodd\" fill-opacity=\"1\" /><path clip-path=\"url(#clip940)\" d=\"M 0 0 M160.893 293.405 L177.212 293.405 L177.212 297.34 L155.268 297.34 L155.268 293.405 Q157.93 290.651 162.513 286.021 Q167.12 281.368 168.3 280.026 Q170.546 277.503 171.425 275.766 Q172.328 274.007 172.328 272.317 Q172.328 269.563 170.384 267.827 Q168.462 266.091 165.36 266.091 Q163.161 266.091 160.708 266.854 Q158.277 267.618 155.499 269.169 L155.499 264.447 Q158.323 263.313 160.777 262.734 Q163.231 262.155 165.268 262.155 Q170.638 262.155 173.833 264.841 Q177.027 267.526 177.027 272.017 Q177.027 274.146 176.217 276.067 Q175.43 277.966 173.323 280.558 Q172.745 281.229 169.643 284.447 Q166.541 287.641 160.893 293.405 Z\" fill=\"#000000\" fill-rule=\"evenodd\" fill-opacity=\"1\" /><path clip-path=\"url(#clip940)\" d=\"M 0 0 M1282.56 1519.15 Q1282.56 1520.57 1281.4 1521.63 Q1280.27 1522.66 1279.05 1522.66 Q1277.92 1522.66 1277.21 1521.98 Q1276.54 1521.28 1276.54 1520.28 Q1276.54 1518.96 1277.66 1517.86 Q1278.79 1516.77 1280.11 1516.77 Q1281.21 1516.77 1281.88 1517.44 Q1282.56 1518.12 1282.56 1519.15 M1283.14 1550.94 Q1283.14 1551.19 1282.85 1552.23 Q1282.56 1553.22 1281.85 1554.77 Q1281.17 1556.28 1280.24 1557.7 Q1279.31 1559.12 1277.76 1560.12 Q1276.25 1561.11 1274.51 1561.11 Q1272.16 1561.11 1270.61 1559.57 Q1269.1 1558.02 1269.1 1555.7 Q1269.1 1554.45 1270.61 1550.42 Q1274.99 1538.7 1275.15 1538.22 Q1275.89 1536.38 1275.89 1534.77 Q1275.89 1534.03 1275.73 1533.58 Q1275.57 1533.09 1275.25 1532.93 Q1274.93 1532.74 1274.73 1532.71 Q1274.57 1532.68 1274.25 1532.68 Q1272.35 1532.68 1270.58 1534.61 Q1268.81 1536.54 1267.58 1540.86 Q1267.33 1541.66 1267.17 1541.85 Q1267 1542.05 1266.52 1542.05 Q1265.72 1542.02 1265.72 1541.37 Q1265.72 1541.18 1265.94 1540.44 Q1266.17 1539.66 1266.59 1538.51 Q1267 1537.31 1267.74 1536.09 Q1268.49 1534.83 1269.39 1533.74 Q1270.32 1532.64 1271.64 1531.94 Q1272.96 1531.23 1274.44 1531.23 Q1276.86 1531.23 1278.34 1532.8 Q1279.85 1534.35 1279.85 1536.64 Q1279.85 1537.89 1278.98 1540.12 Q1277.92 1543.01 1277.54 1543.95 L1274.96 1550.87 Q1274.02 1553.38 1273.74 1554.16 Q1273.48 1554.9 1273.25 1555.8 Q1273.06 1556.67 1273.06 1557.47 Q1273.06 1558.6 1273.41 1559.12 Q1273.8 1559.63 1274.64 1559.63 Q1276.96 1559.63 1278.66 1557.35 Q1280.37 1555.03 1281.37 1551.48 Q1281.4 1551.39 1281.43 1551.23 Q1281.69 1550.42 1281.95 1550.32 Q1282.08 1550.29 1282.33 1550.29 Q1283.14 1550.29 1283.14 1550.94 Z\" fill=\"#000000\" fill-rule=\"evenodd\" fill-opacity=\"1\" /><path clip-path=\"url(#clip940)\" d=\"M 0 0 M78.3936 741.027 Q79.0055 741.027 79.07 741.735 L79.07 743.185 Q79.07 744.666 78.8445 745.31 Q78.6191 745.954 77.5885 746.695 Q76.9444 747.146 73.9492 748.273 Q70.9219 749.368 66.3486 750.978 Q61.7754 752.556 59.0701 753.619 L77.8139 769.497 Q79.1988 770.592 79.1988 771.687 Q79.1988 772.492 78.6513 773.072 Q78.1038 773.651 77.2664 773.651 Q76.6545 773.651 76.3003 773.426 Q75.946 773.168 75.2375 772.492 L57.17 754.263 L39.2313 760.672 Q35.9141 761.896 35.0767 762.605 Q34.2394 763.281 33.9495 764.956 Q33.7885 765.568 33.2732 765.568 Q32.5647 765.568 32.5647 764.376 Q32.5647 757.999 37.2345 756.325 L74.7544 742.862 Q76.9122 742.122 77.8139 741.349 Q78.2326 741.027 78.3936 741.027 Z\" fill=\"#000000\" fill-rule=\"evenodd\" fill-opacity=\"1\" /><path clip-path=\"url(#clip940)\" d=\"M 0 0 M68.379 722.493 Q69.371 722.493 70.1149 723.304 Q70.8363 724.093 70.8363 724.95 Q70.8363 725.739 70.3629 726.235 Q69.8669 726.708 69.1681 726.708 Q68.2438 726.708 67.4773 725.919 Q66.7108 725.13 66.7108 724.206 Q66.7108 723.439 67.1842 722.966 Q67.6576 722.493 68.379 722.493 M90.63 722.087 Q90.8104 722.087 91.5318 722.29 Q92.2307 722.493 93.3128 722.989 Q94.3724 723.462 95.3643 724.116 Q96.3562 724.77 97.0551 725.852 Q97.754 726.911 97.754 728.129 Q97.754 729.774 96.6719 730.856 Q95.5898 731.916 93.9666 731.916 Q93.0874 731.916 90.2693 730.856 Q82.0633 727.79 81.7251 727.678 Q80.4401 727.159 79.3129 727.159 Q78.7944 727.159 78.4788 727.272 Q78.1406 727.385 78.0279 727.61 Q77.8926 727.836 77.8701 727.971 Q77.8475 728.084 77.8475 728.309 Q77.8475 729.639 79.2002 730.879 Q80.5528 732.119 83.5737 732.976 Q84.1373 733.156 84.2726 733.269 Q84.4079 733.381 84.4079 733.72 Q84.3853 734.283 83.9344 734.283 Q83.7992 734.283 83.2807 734.125 Q82.7396 733.968 81.928 733.674 Q81.0939 733.381 80.2372 732.863 Q79.358 732.344 78.5915 731.713 Q77.825 731.059 77.329 730.135 Q76.8331 729.211 76.8331 728.174 Q76.8331 726.483 77.9377 725.446 Q79.0198 724.386 80.6205 724.386 Q81.4997 724.386 83.0552 724.995 Q85.0842 725.739 85.738 726.009 L90.585 727.813 Q92.3434 728.467 92.8845 728.67 Q93.403 728.85 94.0342 729.008 Q94.6429 729.143 95.2065 729.143 Q95.9955 729.143 96.3562 728.895 Q96.717 728.625 96.717 728.038 Q96.717 726.415 95.1163 725.22 Q93.4931 724.026 91.0133 723.327 Q90.9457 723.304 90.8329 723.282 Q90.2693 723.101 90.2017 722.921 Q90.1792 722.831 90.1792 722.65 Q90.1792 722.087 90.63 722.087 Z\" fill=\"#000000\" fill-rule=\"evenodd\" fill-opacity=\"1\" /><circle clip-path=\"url(#clip942)\" cx=\"262.105\" cy=\"1402.1\" r=\"14\" fill=\"#009af9\" fill-rule=\"evenodd\" fill-opacity=\"1\" stroke=\"#000000\" stroke-opacity=\"1\" stroke-width=\"3.2\"/>\n",
       "<circle clip-path=\"url(#clip942)\" cx=\"294.323\" cy=\"1402.1\" r=\"14\" fill=\"#009af9\" fill-rule=\"evenodd\" fill-opacity=\"1\" stroke=\"#000000\" stroke-opacity=\"1\" stroke-width=\"3.2\"/>\n",
       "<circle clip-path=\"url(#clip942)\" cx=\"326.542\" cy=\"1402.1\" r=\"14\" fill=\"#009af9\" fill-rule=\"evenodd\" fill-opacity=\"1\" stroke=\"#000000\" stroke-opacity=\"1\" stroke-width=\"3.2\"/>\n",
       "<circle clip-path=\"url(#clip942)\" cx=\"358.76\" cy=\"1402.1\" r=\"14\" fill=\"#009af9\" fill-rule=\"evenodd\" fill-opacity=\"1\" stroke=\"#000000\" stroke-opacity=\"1\" stroke-width=\"3.2\"/>\n",
       "<circle clip-path=\"url(#clip942)\" cx=\"390.978\" cy=\"1402.1\" r=\"14\" fill=\"#009af9\" fill-rule=\"evenodd\" fill-opacity=\"1\" stroke=\"#000000\" stroke-opacity=\"1\" stroke-width=\"3.2\"/>\n",
       "<circle clip-path=\"url(#clip942)\" cx=\"423.197\" cy=\"1402.1\" r=\"14\" fill=\"#009af9\" fill-rule=\"evenodd\" fill-opacity=\"1\" stroke=\"#000000\" stroke-opacity=\"1\" stroke-width=\"3.2\"/>\n",
       "<circle clip-path=\"url(#clip942)\" cx=\"455.415\" cy=\"1402.1\" r=\"14\" fill=\"#009af9\" fill-rule=\"evenodd\" fill-opacity=\"1\" stroke=\"#000000\" stroke-opacity=\"1\" stroke-width=\"3.2\"/>\n",
       "<circle clip-path=\"url(#clip942)\" cx=\"487.634\" cy=\"1301.62\" r=\"14\" fill=\"#009af9\" fill-rule=\"evenodd\" fill-opacity=\"1\" stroke=\"#000000\" stroke-opacity=\"1\" stroke-width=\"3.2\"/>\n",
       "<circle clip-path=\"url(#clip942)\" cx=\"519.852\" cy=\"1301.62\" r=\"14\" fill=\"#009af9\" fill-rule=\"evenodd\" fill-opacity=\"1\" stroke=\"#000000\" stroke-opacity=\"1\" stroke-width=\"3.2\"/>\n",
       "<circle clip-path=\"url(#clip942)\" cx=\"552.07\" cy=\"1301.62\" r=\"14\" fill=\"#009af9\" fill-rule=\"evenodd\" fill-opacity=\"1\" stroke=\"#000000\" stroke-opacity=\"1\" stroke-width=\"3.2\"/>\n",
       "<circle clip-path=\"url(#clip942)\" cx=\"584.289\" cy=\"1301.62\" r=\"14\" fill=\"#009af9\" fill-rule=\"evenodd\" fill-opacity=\"1\" stroke=\"#000000\" stroke-opacity=\"1\" stroke-width=\"3.2\"/>\n",
       "<circle clip-path=\"url(#clip942)\" cx=\"616.507\" cy=\"1301.62\" r=\"14\" fill=\"#009af9\" fill-rule=\"evenodd\" fill-opacity=\"1\" stroke=\"#000000\" stroke-opacity=\"1\" stroke-width=\"3.2\"/>\n",
       "<circle clip-path=\"url(#clip942)\" cx=\"648.726\" cy=\"1213.48\" r=\"14\" fill=\"#009af9\" fill-rule=\"evenodd\" fill-opacity=\"1\" stroke=\"#000000\" stroke-opacity=\"1\" stroke-width=\"3.2\"/>\n",
       "<circle clip-path=\"url(#clip942)\" cx=\"680.944\" cy=\"1213.48\" r=\"14\" fill=\"#009af9\" fill-rule=\"evenodd\" fill-opacity=\"1\" stroke=\"#000000\" stroke-opacity=\"1\" stroke-width=\"3.2\"/>\n",
       "<circle clip-path=\"url(#clip942)\" cx=\"713.162\" cy=\"1213.48\" r=\"14\" fill=\"#009af9\" fill-rule=\"evenodd\" fill-opacity=\"1\" stroke=\"#000000\" stroke-opacity=\"1\" stroke-width=\"3.2\"/>\n",
       "<circle clip-path=\"url(#clip942)\" cx=\"745.381\" cy=\"1134.15\" r=\"14\" fill=\"#009af9\" fill-rule=\"evenodd\" fill-opacity=\"1\" stroke=\"#000000\" stroke-opacity=\"1\" stroke-width=\"3.2\"/>\n",
       "<circle clip-path=\"url(#clip942)\" cx=\"777.599\" cy=\"1134.15\" r=\"14\" fill=\"#009af9\" fill-rule=\"evenodd\" fill-opacity=\"1\" stroke=\"#000000\" stroke-opacity=\"1\" stroke-width=\"3.2\"/>\n",
       "<circle clip-path=\"url(#clip942)\" cx=\"809.817\" cy=\"1134.15\" r=\"14\" fill=\"#009af9\" fill-rule=\"evenodd\" fill-opacity=\"1\" stroke=\"#000000\" stroke-opacity=\"1\" stroke-width=\"3.2\"/>\n",
       "<circle clip-path=\"url(#clip942)\" cx=\"842.036\" cy=\"1100.66\" r=\"14\" fill=\"#009af9\" fill-rule=\"evenodd\" fill-opacity=\"1\" stroke=\"#000000\" stroke-opacity=\"1\" stroke-width=\"3.2\"/>\n",
       "<circle clip-path=\"url(#clip942)\" cx=\"874.254\" cy=\"1100.66\" r=\"14\" fill=\"#009af9\" fill-rule=\"evenodd\" fill-opacity=\"1\" stroke=\"#000000\" stroke-opacity=\"1\" stroke-width=\"3.2\"/>\n",
       "<circle clip-path=\"url(#clip942)\" cx=\"906.473\" cy=\"1100.66\" r=\"14\" fill=\"#009af9\" fill-rule=\"evenodd\" fill-opacity=\"1\" stroke=\"#000000\" stroke-opacity=\"1\" stroke-width=\"3.2\"/>\n",
       "<circle clip-path=\"url(#clip942)\" cx=\"938.691\" cy=\"1100.66\" r=\"14\" fill=\"#009af9\" fill-rule=\"evenodd\" fill-opacity=\"1\" stroke=\"#000000\" stroke-opacity=\"1\" stroke-width=\"3.2\"/>\n",
       "<circle clip-path=\"url(#clip942)\" cx=\"970.909\" cy=\"1100.66\" r=\"14\" fill=\"#009af9\" fill-rule=\"evenodd\" fill-opacity=\"1\" stroke=\"#000000\" stroke-opacity=\"1\" stroke-width=\"3.2\"/>\n",
       "<circle clip-path=\"url(#clip942)\" cx=\"1003.13\" cy=\"1067.16\" r=\"14\" fill=\"#009af9\" fill-rule=\"evenodd\" fill-opacity=\"1\" stroke=\"#000000\" stroke-opacity=\"1\" stroke-width=\"3.2\"/>\n",
       "<circle clip-path=\"url(#clip942)\" cx=\"1035.35\" cy=\"1067.16\" r=\"14\" fill=\"#009af9\" fill-rule=\"evenodd\" fill-opacity=\"1\" stroke=\"#000000\" stroke-opacity=\"1\" stroke-width=\"3.2\"/>\n",
       "<circle clip-path=\"url(#clip942)\" cx=\"1067.56\" cy=\"1067.16\" r=\"14\" fill=\"#009af9\" fill-rule=\"evenodd\" fill-opacity=\"1\" stroke=\"#000000\" stroke-opacity=\"1\" stroke-width=\"3.2\"/>\n",
       "<circle clip-path=\"url(#clip942)\" cx=\"1099.78\" cy=\"1067.16\" r=\"14\" fill=\"#009af9\" fill-rule=\"evenodd\" fill-opacity=\"1\" stroke=\"#000000\" stroke-opacity=\"1\" stroke-width=\"3.2\"/>\n",
       "<circle clip-path=\"url(#clip942)\" cx=\"1132\" cy=\"1067.16\" r=\"14\" fill=\"#009af9\" fill-rule=\"evenodd\" fill-opacity=\"1\" stroke=\"#000000\" stroke-opacity=\"1\" stroke-width=\"3.2\"/>\n",
       "<circle clip-path=\"url(#clip942)\" cx=\"1164.22\" cy=\"1000.18\" r=\"14\" fill=\"#009af9\" fill-rule=\"evenodd\" fill-opacity=\"1\" stroke=\"#000000\" stroke-opacity=\"1\" stroke-width=\"3.2\"/>\n",
       "<circle clip-path=\"url(#clip942)\" cx=\"1196.44\" cy=\"977.718\" r=\"14\" fill=\"#009af9\" fill-rule=\"evenodd\" fill-opacity=\"1\" stroke=\"#000000\" stroke-opacity=\"1\" stroke-width=\"3.2\"/>\n",
       "<circle clip-path=\"url(#clip942)\" cx=\"1228.66\" cy=\"977.718\" r=\"14\" fill=\"#009af9\" fill-rule=\"evenodd\" fill-opacity=\"1\" stroke=\"#000000\" stroke-opacity=\"1\" stroke-width=\"3.2\"/>\n",
       "<circle clip-path=\"url(#clip942)\" cx=\"1260.87\" cy=\"977.718\" r=\"14\" fill=\"#009af9\" fill-rule=\"evenodd\" fill-opacity=\"1\" stroke=\"#000000\" stroke-opacity=\"1\" stroke-width=\"3.2\"/>\n",
       "<circle clip-path=\"url(#clip942)\" cx=\"1293.09\" cy=\"966.683\" r=\"14\" fill=\"#009af9\" fill-rule=\"evenodd\" fill-opacity=\"1\" stroke=\"#000000\" stroke-opacity=\"1\" stroke-width=\"3.2\"/>\n",
       "<circle clip-path=\"url(#clip942)\" cx=\"1325.31\" cy=\"966.683\" r=\"14\" fill=\"#009af9\" fill-rule=\"evenodd\" fill-opacity=\"1\" stroke=\"#000000\" stroke-opacity=\"1\" stroke-width=\"3.2\"/>\n",
       "<circle clip-path=\"url(#clip942)\" cx=\"1357.53\" cy=\"966.683\" r=\"14\" fill=\"#009af9\" fill-rule=\"evenodd\" fill-opacity=\"1\" stroke=\"#000000\" stroke-opacity=\"1\" stroke-width=\"3.2\"/>\n",
       "<circle clip-path=\"url(#clip942)\" cx=\"1389.75\" cy=\"966.683\" r=\"14\" fill=\"#009af9\" fill-rule=\"evenodd\" fill-opacity=\"1\" stroke=\"#000000\" stroke-opacity=\"1\" stroke-width=\"3.2\"/>\n",
       "<circle clip-path=\"url(#clip942)\" cx=\"1421.97\" cy=\"966.683\" r=\"14\" fill=\"#009af9\" fill-rule=\"evenodd\" fill-opacity=\"1\" stroke=\"#000000\" stroke-opacity=\"1\" stroke-width=\"3.2\"/>\n",
       "<circle clip-path=\"url(#clip942)\" cx=\"1454.19\" cy=\"966.683\" r=\"14\" fill=\"#009af9\" fill-rule=\"evenodd\" fill-opacity=\"1\" stroke=\"#000000\" stroke-opacity=\"1\" stroke-width=\"3.2\"/>\n",
       "<circle clip-path=\"url(#clip942)\" cx=\"1486.4\" cy=\"966.683\" r=\"14\" fill=\"#009af9\" fill-rule=\"evenodd\" fill-opacity=\"1\" stroke=\"#000000\" stroke-opacity=\"1\" stroke-width=\"3.2\"/>\n",
       "<circle clip-path=\"url(#clip942)\" cx=\"1518.62\" cy=\"966.683\" r=\"14\" fill=\"#009af9\" fill-rule=\"evenodd\" fill-opacity=\"1\" stroke=\"#000000\" stroke-opacity=\"1\" stroke-width=\"3.2\"/>\n",
       "<circle clip-path=\"url(#clip942)\" cx=\"1550.84\" cy=\"959.955\" r=\"14\" fill=\"#009af9\" fill-rule=\"evenodd\" fill-opacity=\"1\" stroke=\"#000000\" stroke-opacity=\"1\" stroke-width=\"3.2\"/>\n",
       "<circle clip-path=\"url(#clip942)\" cx=\"1583.06\" cy=\"765.72\" r=\"14\" fill=\"#009af9\" fill-rule=\"evenodd\" fill-opacity=\"1\" stroke=\"#000000\" stroke-opacity=\"1\" stroke-width=\"3.2\"/>\n",
       "<circle clip-path=\"url(#clip942)\" cx=\"1615.28\" cy=\"765.72\" r=\"14\" fill=\"#009af9\" fill-rule=\"evenodd\" fill-opacity=\"1\" stroke=\"#000000\" stroke-opacity=\"1\" stroke-width=\"3.2\"/>\n",
       "<circle clip-path=\"url(#clip942)\" cx=\"1647.5\" cy=\"765.72\" r=\"14\" fill=\"#009af9\" fill-rule=\"evenodd\" fill-opacity=\"1\" stroke=\"#000000\" stroke-opacity=\"1\" stroke-width=\"3.2\"/>\n",
       "<circle clip-path=\"url(#clip942)\" cx=\"1679.71\" cy=\"765.72\" r=\"14\" fill=\"#009af9\" fill-rule=\"evenodd\" fill-opacity=\"1\" stroke=\"#000000\" stroke-opacity=\"1\" stroke-width=\"3.2\"/>\n",
       "<circle clip-path=\"url(#clip942)\" cx=\"1711.93\" cy=\"765.72\" r=\"14\" fill=\"#009af9\" fill-rule=\"evenodd\" fill-opacity=\"1\" stroke=\"#000000\" stroke-opacity=\"1\" stroke-width=\"3.2\"/>\n",
       "<circle clip-path=\"url(#clip942)\" cx=\"1744.15\" cy=\"765.72\" r=\"14\" fill=\"#009af9\" fill-rule=\"evenodd\" fill-opacity=\"1\" stroke=\"#000000\" stroke-opacity=\"1\" stroke-width=\"3.2\"/>\n",
       "<circle clip-path=\"url(#clip942)\" cx=\"1776.37\" cy=\"765.72\" r=\"14\" fill=\"#009af9\" fill-rule=\"evenodd\" fill-opacity=\"1\" stroke=\"#000000\" stroke-opacity=\"1\" stroke-width=\"3.2\"/>\n",
       "<circle clip-path=\"url(#clip942)\" cx=\"1808.59\" cy=\"765.72\" r=\"14\" fill=\"#009af9\" fill-rule=\"evenodd\" fill-opacity=\"1\" stroke=\"#000000\" stroke-opacity=\"1\" stroke-width=\"3.2\"/>\n",
       "<circle clip-path=\"url(#clip942)\" cx=\"1840.81\" cy=\"681.106\" r=\"14\" fill=\"#009af9\" fill-rule=\"evenodd\" fill-opacity=\"1\" stroke=\"#000000\" stroke-opacity=\"1\" stroke-width=\"3.2\"/>\n",
       "<circle clip-path=\"url(#clip942)\" cx=\"1873.02\" cy=\"665.239\" r=\"14\" fill=\"#009af9\" fill-rule=\"evenodd\" fill-opacity=\"1\" stroke=\"#000000\" stroke-opacity=\"1\" stroke-width=\"3.2\"/>\n",
       "<circle clip-path=\"url(#clip942)\" cx=\"1905.24\" cy=\"665.239\" r=\"14\" fill=\"#009af9\" fill-rule=\"evenodd\" fill-opacity=\"1\" stroke=\"#000000\" stroke-opacity=\"1\" stroke-width=\"3.2\"/>\n",
       "<circle clip-path=\"url(#clip942)\" cx=\"1937.46\" cy=\"665.239\" r=\"14\" fill=\"#009af9\" fill-rule=\"evenodd\" fill-opacity=\"1\" stroke=\"#000000\" stroke-opacity=\"1\" stroke-width=\"3.2\"/>\n",
       "<circle clip-path=\"url(#clip942)\" cx=\"1969.68\" cy=\"665.239\" r=\"14\" fill=\"#009af9\" fill-rule=\"evenodd\" fill-opacity=\"1\" stroke=\"#000000\" stroke-opacity=\"1\" stroke-width=\"3.2\"/>\n",
       "<circle clip-path=\"url(#clip942)\" cx=\"2001.9\" cy=\"621.743\" r=\"14\" fill=\"#009af9\" fill-rule=\"evenodd\" fill-opacity=\"1\" stroke=\"#000000\" stroke-opacity=\"1\" stroke-width=\"3.2\"/>\n",
       "<circle clip-path=\"url(#clip942)\" cx=\"2034.12\" cy=\"621.743\" r=\"14\" fill=\"#009af9\" fill-rule=\"evenodd\" fill-opacity=\"1\" stroke=\"#000000\" stroke-opacity=\"1\" stroke-width=\"3.2\"/>\n",
       "<circle clip-path=\"url(#clip942)\" cx=\"2066.33\" cy=\"621.743\" r=\"14\" fill=\"#009af9\" fill-rule=\"evenodd\" fill-opacity=\"1\" stroke=\"#000000\" stroke-opacity=\"1\" stroke-width=\"3.2\"/>\n",
       "<circle clip-path=\"url(#clip942)\" cx=\"2098.55\" cy=\"497.77\" r=\"14\" fill=\"#009af9\" fill-rule=\"evenodd\" fill-opacity=\"1\" stroke=\"#000000\" stroke-opacity=\"1\" stroke-width=\"3.2\"/>\n",
       "<circle clip-path=\"url(#clip942)\" cx=\"2130.77\" cy=\"497.77\" r=\"14\" fill=\"#009af9\" fill-rule=\"evenodd\" fill-opacity=\"1\" stroke=\"#000000\" stroke-opacity=\"1\" stroke-width=\"3.2\"/>\n",
       "<circle clip-path=\"url(#clip942)\" cx=\"2162.99\" cy=\"497.77\" r=\"14\" fill=\"#009af9\" fill-rule=\"evenodd\" fill-opacity=\"1\" stroke=\"#000000\" stroke-opacity=\"1\" stroke-width=\"3.2\"/>\n",
       "<circle clip-path=\"url(#clip942)\" cx=\"2195.21\" cy=\"350.42\" r=\"14\" fill=\"#009af9\" fill-rule=\"evenodd\" fill-opacity=\"1\" stroke=\"#000000\" stroke-opacity=\"1\" stroke-width=\"3.2\"/>\n",
       "<circle clip-path=\"url(#clip942)\" cx=\"2227.43\" cy=\"350.42\" r=\"14\" fill=\"#009af9\" fill-rule=\"evenodd\" fill-opacity=\"1\" stroke=\"#000000\" stroke-opacity=\"1\" stroke-width=\"3.2\"/>\n",
       "<circle clip-path=\"url(#clip942)\" cx=\"2259.64\" cy=\"350.42\" r=\"14\" fill=\"#009af9\" fill-rule=\"evenodd\" fill-opacity=\"1\" stroke=\"#000000\" stroke-opacity=\"1\" stroke-width=\"3.2\"/>\n",
       "<circle clip-path=\"url(#clip942)\" cx=\"2291.86\" cy=\"86.706\" r=\"14\" fill=\"#009af9\" fill-rule=\"evenodd\" fill-opacity=\"1\" stroke=\"#000000\" stroke-opacity=\"1\" stroke-width=\"3.2\"/>\n",
       "</svg>\n"
      ]
     },
     "execution_count": 16,
     "metadata": {},
     "output_type": "execute_result"
    }
   ],
   "source": [
    "# show eigenvalues\n",
    "scatter(eigvals(Matrix(H)), xlabel=L\"i\", ylabel=L\"\\lambda_i\", legend=false)"
   ]
  },
  {
   "cell_type": "code",
   "execution_count": 17,
   "metadata": {},
   "outputs": [
    {
     "data": {
      "text/plain": [
       "thermal_logZ"
      ]
     },
     "execution_count": 17,
     "metadata": {},
     "output_type": "execute_result"
    }
   ],
   "source": [
    "\"\"\"\n",
    "Compute `-log(Z)`, with `Z` the partition function.\n",
    "\"\"\"\n",
    "thermal_logZ(βH::AbstractMatrix) = -log(tr(exp(-Matrix(βH))))"
   ]
  },
  {
   "cell_type": "code",
   "execution_count": 18,
   "metadata": {},
   "outputs": [
    {
     "data": {
      "text/plain": [
       "-5.974568533204814"
      ]
     },
     "execution_count": 18,
     "metadata": {},
     "output_type": "execute_result"
    }
   ],
   "source": [
    "thermal_logZ(β*H)"
   ]
  },
  {
   "cell_type": "code",
   "execution_count": 19,
   "metadata": {},
   "outputs": [
    {
     "data": {
      "text/plain": [
       "thermal_state"
      ]
     },
     "execution_count": 19,
     "metadata": {},
     "output_type": "execute_result"
    }
   ],
   "source": [
    "\"\"\"\n",
    "Compute the thermal state `exp(-βH) / Z`, with `Z` the partition function.\n",
    "\"\"\"\n",
    "function thermal_state(βH::AbstractMatrix)\n",
    "    σ = exp(-Matrix(βH))\n",
    "    return σ / tr(σ)\n",
    "end"
   ]
  },
  {
   "cell_type": "code",
   "execution_count": 20,
   "metadata": {},
   "outputs": [
    {
     "data": {
      "text/plain": [
       "Array{Float64,2}"
      ]
     },
     "execution_count": 20,
     "metadata": {},
     "output_type": "execute_result"
    }
   ],
   "source": [
    "σtherm = thermal_state(β*H)\n",
    "typeof(σtherm)"
   ]
  },
  {
   "cell_type": "code",
   "execution_count": 21,
   "metadata": {},
   "outputs": [
    {
     "data": {
      "text/plain": [
       "-5.551115123125783e-16"
      ]
     },
     "execution_count": 21,
     "metadata": {},
     "output_type": "execute_result"
    }
   ],
   "source": [
    "# consistency check\n",
    "tr(σtherm) - 1"
   ]
  },
  {
   "cell_type": "code",
   "execution_count": 22,
   "metadata": {},
   "outputs": [
    {
     "data": {
      "image/svg+xml": [
       "<?xml version=\"1.0\" encoding=\"utf-8\"?>\n",
       "<svg xmlns=\"http://www.w3.org/2000/svg\" xmlns:xlink=\"http://www.w3.org/1999/xlink\" width=\"600\" height=\"400\" viewBox=\"0 0 2400 1600\">\n",
       "<defs>\n",
       "  <clipPath id=\"clip980\">\n",
       "    <rect x=\"0\" y=\"0\" width=\"2400\" height=\"1600\"/>\n",
       "  </clipPath>\n",
       "</defs>\n",
       "<path clip-path=\"url(#clip980)\" d=\"\n",
       "M0 1600 L2400 1600 L2400 0 L0 0  Z\n",
       "  \" fill=\"#ffffff\" fill-rule=\"evenodd\" fill-opacity=\"1\"/>\n",
       "<defs>\n",
       "  <clipPath id=\"clip981\">\n",
       "    <rect x=\"480\" y=\"0\" width=\"1681\" height=\"1600\"/>\n",
       "  </clipPath>\n",
       "</defs>\n",
       "<defs>\n",
       "  <clipPath id=\"clip982\">\n",
       "    <rect x=\"201\" y=\"47\" width=\"2153\" height=\"1395\"/>\n",
       "  </clipPath>\n",
       "</defs>\n",
       "<path clip-path=\"url(#clip980)\" d=\"\n",
       "M139.191 1411.9 L2112.76 1411.9 L2112.76 185.936 L139.191 185.936  Z\n",
       "  \" fill=\"#ffffff\" fill-rule=\"evenodd\" fill-opacity=\"1\"/>\n",
       "<defs>\n",
       "  <clipPath id=\"clip983\">\n",
       "    <rect x=\"139\" y=\"185\" width=\"1975\" height=\"1227\"/>\n",
       "  </clipPath>\n",
       "</defs>\n",
       "<polyline clip-path=\"url(#clip983)\" style=\"stroke:#000000; stroke-width:2; stroke-opacity:0.1; fill:none\" points=\"\n",
       "  503.411,185.936 503.411,1411.9 \n",
       "  \"/>\n",
       "<polyline clip-path=\"url(#clip983)\" style=\"stroke:#000000; stroke-width:2; stroke-opacity:0.1; fill:none\" points=\"\n",
       "  886.526,185.936 886.526,1411.9 \n",
       "  \"/>\n",
       "<polyline clip-path=\"url(#clip983)\" style=\"stroke:#000000; stroke-width:2; stroke-opacity:0.1; fill:none\" points=\"\n",
       "  1269.64,185.936 1269.64,1411.9 \n",
       "  \"/>\n",
       "<polyline clip-path=\"url(#clip983)\" style=\"stroke:#000000; stroke-width:2; stroke-opacity:0.1; fill:none\" points=\"\n",
       "  1652.76,185.936 1652.76,1411.9 \n",
       "  \"/>\n",
       "<polyline clip-path=\"url(#clip983)\" style=\"stroke:#000000; stroke-width:2; stroke-opacity:0.1; fill:none\" points=\"\n",
       "  2035.87,185.936 2035.87,1411.9 \n",
       "  \"/>\n",
       "<polyline clip-path=\"url(#clip983)\" style=\"stroke:#000000; stroke-width:2; stroke-opacity:0.1; fill:none\" points=\"\n",
       "  139.191,367.915 2112.76,367.915 \n",
       "  \"/>\n",
       "<polyline clip-path=\"url(#clip983)\" style=\"stroke:#000000; stroke-width:2; stroke-opacity:0.1; fill:none\" points=\"\n",
       "  139.191,559.473 2112.76,559.473 \n",
       "  \"/>\n",
       "<polyline clip-path=\"url(#clip983)\" style=\"stroke:#000000; stroke-width:2; stroke-opacity:0.1; fill:none\" points=\"\n",
       "  139.191,751.031 2112.76,751.031 \n",
       "  \"/>\n",
       "<polyline clip-path=\"url(#clip983)\" style=\"stroke:#000000; stroke-width:2; stroke-opacity:0.1; fill:none\" points=\"\n",
       "  139.191,942.588 2112.76,942.588 \n",
       "  \"/>\n",
       "<polyline clip-path=\"url(#clip983)\" style=\"stroke:#000000; stroke-width:2; stroke-opacity:0.1; fill:none\" points=\"\n",
       "  139.191,1134.15 2112.76,1134.15 \n",
       "  \"/>\n",
       "<polyline clip-path=\"url(#clip983)\" style=\"stroke:#000000; stroke-width:2; stroke-opacity:0.1; fill:none\" points=\"\n",
       "  139.191,1325.7 2112.76,1325.7 \n",
       "  \"/>\n",
       "<polyline clip-path=\"url(#clip980)\" style=\"stroke:#000000; stroke-width:4; stroke-opacity:1; fill:none\" points=\"\n",
       "  139.191,1411.9 2112.76,1411.9 \n",
       "  \"/>\n",
       "<polyline clip-path=\"url(#clip980)\" style=\"stroke:#000000; stroke-width:4; stroke-opacity:1; fill:none\" points=\"\n",
       "  139.191,185.936 139.191,1411.9 \n",
       "  \"/>\n",
       "<polyline clip-path=\"url(#clip980)\" style=\"stroke:#000000; stroke-width:4; stroke-opacity:1; fill:none\" points=\"\n",
       "  503.411,1411.9 503.411,1397.19 \n",
       "  \"/>\n",
       "<polyline clip-path=\"url(#clip980)\" style=\"stroke:#000000; stroke-width:4; stroke-opacity:1; fill:none\" points=\"\n",
       "  886.526,1411.9 886.526,1397.19 \n",
       "  \"/>\n",
       "<polyline clip-path=\"url(#clip980)\" style=\"stroke:#000000; stroke-width:4; stroke-opacity:1; fill:none\" points=\"\n",
       "  1269.64,1411.9 1269.64,1397.19 \n",
       "  \"/>\n",
       "<polyline clip-path=\"url(#clip980)\" style=\"stroke:#000000; stroke-width:4; stroke-opacity:1; fill:none\" points=\"\n",
       "  1652.76,1411.9 1652.76,1397.19 \n",
       "  \"/>\n",
       "<polyline clip-path=\"url(#clip980)\" style=\"stroke:#000000; stroke-width:4; stroke-opacity:1; fill:none\" points=\"\n",
       "  2035.87,1411.9 2035.87,1397.19 \n",
       "  \"/>\n",
       "<polyline clip-path=\"url(#clip980)\" style=\"stroke:#000000; stroke-width:4; stroke-opacity:1; fill:none\" points=\"\n",
       "  139.191,367.915 162.874,367.915 \n",
       "  \"/>\n",
       "<polyline clip-path=\"url(#clip980)\" style=\"stroke:#000000; stroke-width:4; stroke-opacity:1; fill:none\" points=\"\n",
       "  139.191,559.473 162.874,559.473 \n",
       "  \"/>\n",
       "<polyline clip-path=\"url(#clip980)\" style=\"stroke:#000000; stroke-width:4; stroke-opacity:1; fill:none\" points=\"\n",
       "  139.191,751.031 162.874,751.031 \n",
       "  \"/>\n",
       "<polyline clip-path=\"url(#clip980)\" style=\"stroke:#000000; stroke-width:4; stroke-opacity:1; fill:none\" points=\"\n",
       "  139.191,942.588 162.874,942.588 \n",
       "  \"/>\n",
       "<polyline clip-path=\"url(#clip980)\" style=\"stroke:#000000; stroke-width:4; stroke-opacity:1; fill:none\" points=\"\n",
       "  139.191,1134.15 162.874,1134.15 \n",
       "  \"/>\n",
       "<polyline clip-path=\"url(#clip980)\" style=\"stroke:#000000; stroke-width:4; stroke-opacity:1; fill:none\" points=\"\n",
       "  139.191,1325.7 162.874,1325.7 \n",
       "  \"/>\n",
       "<path clip-path=\"url(#clip980)\" d=\"M 0 0 M503.411 1433.9 Q499.8 1433.9 497.971 1437.46 Q496.166 1441 496.166 1448.13 Q496.166 1455.24 497.971 1458.8 Q499.8 1462.34 503.411 1462.34 Q507.045 1462.34 508.851 1458.8 Q510.68 1455.24 510.68 1448.13 Q510.68 1441 508.851 1437.46 Q507.045 1433.9 503.411 1433.9 M503.411 1430.19 Q509.221 1430.19 512.277 1434.8 Q515.356 1439.38 515.356 1448.13 Q515.356 1456.86 512.277 1461.46 Q509.221 1466.05 503.411 1466.05 Q497.601 1466.05 494.522 1461.46 Q491.467 1456.86 491.467 1448.13 Q491.467 1439.38 494.522 1434.8 Q497.601 1430.19 503.411 1430.19 Z\" fill=\"#000000\" fill-rule=\"evenodd\" fill-opacity=\"1\" /><path clip-path=\"url(#clip980)\" d=\"M 0 0 M867.672 1461.44 L883.992 1461.44 L883.992 1465.38 L862.047 1465.38 L862.047 1461.44 Q864.709 1458.69 869.293 1454.06 Q873.899 1449.4 875.08 1448.06 Q877.325 1445.54 878.205 1443.8 Q879.107 1442.04 879.107 1440.35 Q879.107 1437.6 877.163 1435.86 Q875.242 1434.13 872.14 1434.13 Q869.941 1434.13 867.487 1434.89 Q865.057 1435.65 862.279 1437.21 L862.279 1432.48 Q865.103 1431.35 867.557 1430.77 Q870.01 1430.19 872.047 1430.19 Q877.418 1430.19 880.612 1432.88 Q883.807 1435.56 883.807 1440.05 Q883.807 1442.18 882.996 1444.1 Q882.209 1446 880.103 1448.59 Q879.524 1449.27 876.422 1452.48 Q873.32 1455.68 867.672 1461.44 Z\" fill=\"#000000\" fill-rule=\"evenodd\" fill-opacity=\"1\" /><path clip-path=\"url(#clip980)\" d=\"M 0 0 M899.061 1433.9 Q895.45 1433.9 893.621 1437.46 Q891.816 1441 891.816 1448.13 Q891.816 1455.24 893.621 1458.8 Q895.45 1462.34 899.061 1462.34 Q902.695 1462.34 904.501 1458.8 Q906.33 1455.24 906.33 1448.13 Q906.33 1441 904.501 1437.46 Q902.695 1433.9 899.061 1433.9 M899.061 1430.19 Q904.871 1430.19 907.927 1434.8 Q911.005 1439.38 911.005 1448.13 Q911.005 1456.86 907.927 1461.46 Q904.871 1466.05 899.061 1466.05 Q893.251 1466.05 890.172 1461.46 Q887.117 1456.86 887.117 1448.13 Q887.117 1439.38 890.172 1434.8 Q893.251 1430.19 899.061 1430.19 Z\" fill=\"#000000\" fill-rule=\"evenodd\" fill-opacity=\"1\" /><path clip-path=\"url(#clip980)\" d=\"M 0 0 M1259.14 1434.89 L1247.34 1453.34 L1259.14 1453.34 L1259.14 1434.89 M1257.92 1430.82 L1263.8 1430.82 L1263.8 1453.34 L1268.73 1453.34 L1268.73 1457.23 L1263.8 1457.23 L1263.8 1465.38 L1259.14 1465.38 L1259.14 1457.23 L1243.54 1457.23 L1243.54 1452.71 L1257.92 1430.82 Z\" fill=\"#000000\" fill-rule=\"evenodd\" fill-opacity=\"1\" /><path clip-path=\"url(#clip980)\" d=\"M 0 0 M1283.8 1433.9 Q1280.19 1433.9 1278.36 1437.46 Q1276.55 1441 1276.55 1448.13 Q1276.55 1455.24 1278.36 1458.8 Q1280.19 1462.34 1283.8 1462.34 Q1287.43 1462.34 1289.24 1458.8 Q1291.07 1455.24 1291.07 1448.13 Q1291.07 1441 1289.24 1437.46 Q1287.43 1433.9 1283.8 1433.9 M1283.8 1430.19 Q1289.61 1430.19 1292.66 1434.8 Q1295.74 1439.38 1295.74 1448.13 Q1295.74 1456.86 1292.66 1461.46 Q1289.61 1466.05 1283.8 1466.05 Q1277.99 1466.05 1274.91 1461.46 Q1271.85 1456.86 1271.85 1448.13 Q1271.85 1439.38 1274.91 1434.8 Q1277.99 1430.19 1283.8 1430.19 Z\" fill=\"#000000\" fill-rule=\"evenodd\" fill-opacity=\"1\" /><path clip-path=\"url(#clip980)\" d=\"M 0 0 M1639.66 1446.23 Q1636.51 1446.23 1634.66 1448.39 Q1632.83 1450.54 1632.83 1454.29 Q1632.83 1458.02 1634.66 1460.19 Q1636.51 1462.34 1639.66 1462.34 Q1642.8 1462.34 1644.63 1460.19 Q1646.48 1458.02 1646.48 1454.29 Q1646.48 1450.54 1644.63 1448.39 Q1642.8 1446.23 1639.66 1446.23 M1648.94 1431.58 L1648.94 1435.84 Q1647.18 1435.01 1645.37 1434.57 Q1643.59 1434.13 1641.83 1434.13 Q1637.2 1434.13 1634.75 1437.25 Q1632.32 1440.38 1631.97 1446.7 Q1633.34 1444.68 1635.4 1443.62 Q1637.46 1442.53 1639.93 1442.53 Q1645.14 1442.53 1648.15 1445.7 Q1651.18 1448.85 1651.18 1454.29 Q1651.18 1459.61 1648.03 1462.83 Q1644.89 1466.05 1639.66 1466.05 Q1633.66 1466.05 1630.49 1461.46 Q1627.32 1456.86 1627.32 1448.13 Q1627.32 1439.94 1631.21 1435.08 Q1635.09 1430.19 1641.65 1430.19 Q1643.41 1430.19 1645.19 1430.54 Q1646.99 1430.89 1648.94 1431.58 Z\" fill=\"#000000\" fill-rule=\"evenodd\" fill-opacity=\"1\" /><path clip-path=\"url(#clip980)\" d=\"M 0 0 M1666.25 1433.9 Q1662.64 1433.9 1660.81 1437.46 Q1659.01 1441 1659.01 1448.13 Q1659.01 1455.24 1660.81 1458.8 Q1662.64 1462.34 1666.25 1462.34 Q1669.89 1462.34 1671.69 1458.8 Q1673.52 1455.24 1673.52 1448.13 Q1673.52 1441 1671.69 1437.46 Q1669.89 1433.9 1666.25 1433.9 M1666.25 1430.19 Q1672.06 1430.19 1675.12 1434.8 Q1678.2 1439.38 1678.2 1448.13 Q1678.2 1456.86 1675.12 1461.46 Q1672.06 1466.05 1666.25 1466.05 Q1660.44 1466.05 1657.36 1461.46 Q1654.31 1456.86 1654.31 1448.13 Q1654.31 1439.38 1657.36 1434.8 Q1660.44 1430.19 1666.25 1430.19 Z\" fill=\"#000000\" fill-rule=\"evenodd\" fill-opacity=\"1\" /><path clip-path=\"url(#clip980)\" d=\"M 0 0 M2022.37 1448.96 Q2019.03 1448.96 2017.11 1450.75 Q2015.21 1452.53 2015.21 1455.65 Q2015.21 1458.78 2017.11 1460.56 Q2019.03 1462.34 2022.37 1462.34 Q2025.7 1462.34 2027.62 1460.56 Q2029.54 1458.76 2029.54 1455.65 Q2029.54 1452.53 2027.62 1450.75 Q2025.72 1448.96 2022.37 1448.96 M2017.69 1446.97 Q2014.68 1446.23 2012.99 1444.17 Q2011.32 1442.11 2011.32 1439.15 Q2011.32 1435.01 2014.26 1432.6 Q2017.23 1430.19 2022.37 1430.19 Q2027.53 1430.19 2030.47 1432.6 Q2033.41 1435.01 2033.41 1439.15 Q2033.41 1442.11 2031.72 1444.17 Q2030.05 1446.23 2027.06 1446.97 Q2030.44 1447.76 2032.32 1450.05 Q2034.22 1452.34 2034.22 1455.65 Q2034.22 1460.68 2031.14 1463.36 Q2028.08 1466.05 2022.37 1466.05 Q2016.65 1466.05 2013.57 1463.36 Q2010.51 1460.68 2010.51 1455.65 Q2010.51 1452.34 2012.41 1450.05 Q2014.31 1447.76 2017.69 1446.97 M2015.98 1439.59 Q2015.98 1442.27 2017.64 1443.78 Q2019.33 1445.28 2022.37 1445.28 Q2025.37 1445.28 2027.06 1443.78 Q2028.78 1442.27 2028.78 1439.59 Q2028.78 1436.9 2027.06 1435.4 Q2025.37 1433.9 2022.37 1433.9 Q2019.33 1433.9 2017.64 1435.4 Q2015.98 1436.9 2015.98 1439.59 Z\" fill=\"#000000\" fill-rule=\"evenodd\" fill-opacity=\"1\" /><path clip-path=\"url(#clip980)\" d=\"M 0 0 M2049.29 1433.9 Q2045.68 1433.9 2043.85 1437.46 Q2042.04 1441 2042.04 1448.13 Q2042.04 1455.24 2043.85 1458.8 Q2045.68 1462.34 2049.29 1462.34 Q2052.92 1462.34 2054.73 1458.8 Q2056.55 1455.24 2056.55 1448.13 Q2056.55 1441 2054.73 1437.46 Q2052.92 1433.9 2049.29 1433.9 M2049.29 1430.19 Q2055.1 1430.19 2058.15 1434.8 Q2061.23 1439.38 2061.23 1448.13 Q2061.23 1456.86 2058.15 1461.46 Q2055.1 1466.05 2049.29 1466.05 Q2043.48 1466.05 2040.4 1461.46 Q2037.34 1456.86 2037.34 1448.13 Q2037.34 1439.38 2040.4 1434.8 Q2043.48 1430.19 2049.29 1430.19 Z\" fill=\"#000000\" fill-rule=\"evenodd\" fill-opacity=\"1\" /><path clip-path=\"url(#clip980)\" d=\"M 0 0 M68.2699 381.26 L75.9087 381.26 L75.9087 354.895 L67.5986 356.561 L67.5986 352.302 L75.8624 350.635 L80.5383 350.635 L80.5383 381.26 L88.1772 381.26 L88.1772 385.195 L68.2699 385.195 L68.2699 381.26 Z\" fill=\"#000000\" fill-rule=\"evenodd\" fill-opacity=\"1\" /><path clip-path=\"url(#clip980)\" d=\"M 0 0 M103.247 353.714 Q99.6354 353.714 97.8068 357.279 Q96.0012 360.821 96.0012 367.95 Q96.0012 375.057 97.8068 378.621 Q99.6354 382.163 103.247 382.163 Q106.881 382.163 108.686 378.621 Q110.515 375.057 110.515 367.95 Q110.515 360.821 108.686 357.279 Q106.881 353.714 103.247 353.714 M103.247 350.01 Q109.057 350.01 112.112 354.617 Q115.191 359.2 115.191 367.95 Q115.191 376.677 112.112 381.283 Q109.057 385.867 103.247 385.867 Q97.4364 385.867 94.3577 381.283 Q91.3022 376.677 91.3022 367.95 Q91.3022 359.2 94.3577 354.617 Q97.4364 350.01 103.247 350.01 Z\" fill=\"#000000\" fill-rule=\"evenodd\" fill-opacity=\"1\" /><path clip-path=\"url(#clip980)\" d=\"M 0 0 M71.8578 572.818 L88.1772 572.818 L88.1772 576.753 L66.2328 576.753 L66.2328 572.818 Q68.8949 570.063 73.4782 565.434 Q78.0846 560.781 79.2652 559.438 Q81.5105 556.915 82.3902 555.179 Q83.2929 553.42 83.2929 551.73 Q83.2929 548.975 81.3485 547.239 Q79.4272 545.503 76.3254 545.503 Q74.1263 545.503 71.6726 546.267 Q69.2421 547.031 66.4643 548.582 L66.4643 543.86 Q69.2884 542.725 71.7421 542.147 Q74.1958 541.568 76.2328 541.568 Q81.6031 541.568 84.7976 544.253 Q87.992 546.938 87.992 551.429 Q87.992 553.559 87.1818 555.48 Q86.3948 557.378 84.2883 559.971 Q83.7096 560.642 80.6078 563.86 Q77.5059 567.054 71.8578 572.818 Z\" fill=\"#000000\" fill-rule=\"evenodd\" fill-opacity=\"1\" /><path clip-path=\"url(#clip980)\" d=\"M 0 0 M103.247 545.272 Q99.6354 545.272 97.8068 548.837 Q96.0012 552.378 96.0012 559.508 Q96.0012 566.614 97.8068 570.179 Q99.6354 573.721 103.247 573.721 Q106.881 573.721 108.686 570.179 Q110.515 566.614 110.515 559.508 Q110.515 552.378 108.686 548.837 Q106.881 545.272 103.247 545.272 M103.247 541.568 Q109.057 541.568 112.112 546.175 Q115.191 550.758 115.191 559.508 Q115.191 568.235 112.112 572.841 Q109.057 577.424 103.247 577.424 Q97.4364 577.424 94.3577 572.841 Q91.3022 568.235 91.3022 559.508 Q91.3022 550.758 94.3577 546.175 Q97.4364 541.568 103.247 541.568 Z\" fill=\"#000000\" fill-rule=\"evenodd\" fill-opacity=\"1\" /><path clip-path=\"url(#clip980)\" d=\"M 0 0 M81.0476 749.677 Q84.404 750.394 86.279 752.663 Q88.1772 754.931 88.1772 758.264 Q88.1772 763.38 84.6587 766.181 Q81.1402 768.982 74.6587 768.982 Q72.4828 768.982 70.168 768.542 Q67.8764 768.126 65.4227 767.269 L65.4227 762.755 Q67.3671 763.889 69.6819 764.468 Q71.9967 765.047 74.5198 765.047 Q78.918 765.047 81.2096 763.311 Q83.5244 761.575 83.5244 758.264 Q83.5244 755.209 81.3717 753.496 Q79.242 751.76 75.4226 751.76 L71.3949 751.76 L71.3949 747.917 L75.6078 747.917 Q79.0569 747.917 80.8855 746.552 Q82.7142 745.163 82.7142 742.57 Q82.7142 739.908 80.8161 738.496 Q78.9411 737.061 75.4226 737.061 Q73.5013 737.061 71.3023 737.478 Q69.1032 737.894 66.4643 738.774 L66.4643 734.607 Q69.1264 733.866 71.4412 733.496 Q73.7791 733.126 75.8393 733.126 Q81.1633 733.126 84.2652 735.556 Q87.367 737.964 87.367 742.084 Q87.367 744.954 85.7235 746.945 Q84.08 748.913 81.0476 749.677 Z\" fill=\"#000000\" fill-rule=\"evenodd\" fill-opacity=\"1\" /><path clip-path=\"url(#clip980)\" d=\"M 0 0 M103.247 736.829 Q99.6354 736.829 97.8068 740.394 Q96.0012 743.936 96.0012 751.065 Q96.0012 758.172 97.8068 761.737 Q99.6354 765.278 103.247 765.278 Q106.881 765.278 108.686 761.737 Q110.515 758.172 110.515 751.065 Q110.515 743.936 108.686 740.394 Q106.881 736.829 103.247 736.829 M103.247 733.126 Q109.057 733.126 112.112 737.732 Q115.191 742.315 115.191 751.065 Q115.191 759.792 112.112 764.399 Q109.057 768.982 103.247 768.982 Q97.4364 768.982 94.3577 764.399 Q91.3022 759.792 91.3022 751.065 Q91.3022 742.315 94.3577 737.732 Q97.4364 733.126 103.247 733.126 Z\" fill=\"#000000\" fill-rule=\"evenodd\" fill-opacity=\"1\" /><path clip-path=\"url(#clip980)\" d=\"M 0 0 M78.5939 929.382 L66.7884 947.831 L78.5939 947.831 L78.5939 929.382 M77.367 925.308 L83.2466 925.308 L83.2466 947.831 L88.1772 947.831 L88.1772 951.72 L83.2466 951.72 L83.2466 959.868 L78.5939 959.868 L78.5939 951.72 L62.9921 951.72 L62.9921 947.206 L77.367 925.308 Z\" fill=\"#000000\" fill-rule=\"evenodd\" fill-opacity=\"1\" /><path clip-path=\"url(#clip980)\" d=\"M 0 0 M103.247 928.387 Q99.6354 928.387 97.8068 931.952 Q96.0012 935.493 96.0012 942.623 Q96.0012 949.729 97.8068 953.294 Q99.6354 956.836 103.247 956.836 Q106.881 956.836 108.686 953.294 Q110.515 949.729 110.515 942.623 Q110.515 935.493 108.686 931.952 Q106.881 928.387 103.247 928.387 M103.247 924.683 Q109.057 924.683 112.112 929.29 Q115.191 933.873 115.191 942.623 Q115.191 951.35 112.112 955.956 Q109.057 960.54 103.247 960.54 Q97.4364 960.54 94.3577 955.956 Q91.3022 951.35 91.3022 942.623 Q91.3022 933.873 94.3577 929.29 Q97.4364 924.683 103.247 924.683 Z\" fill=\"#000000\" fill-rule=\"evenodd\" fill-opacity=\"1\" /><path clip-path=\"url(#clip980)\" d=\"M 0 0 M67.2745 1116.87 L85.6309 1116.87 L85.6309 1120.8 L71.5569 1120.8 L71.5569 1129.27 Q72.5754 1128.93 73.5939 1128.76 Q74.6124 1128.58 75.6309 1128.58 Q81.418 1128.58 84.7976 1131.75 Q88.1772 1134.92 88.1772 1140.34 Q88.1772 1145.92 84.705 1149.02 Q81.2328 1152.1 74.9134 1152.1 Q72.7374 1152.1 70.4689 1151.73 Q68.2236 1151.36 65.8162 1150.62 L65.8162 1145.92 Q67.8995 1147.05 70.1217 1147.61 Q72.3439 1148.16 74.8208 1148.16 Q78.8254 1148.16 81.1633 1146.06 Q83.5013 1143.95 83.5013 1140.34 Q83.5013 1136.73 81.1633 1134.62 Q78.8254 1132.51 74.8208 1132.51 Q72.9458 1132.51 71.0708 1132.93 Q69.2189 1133.35 67.2745 1134.23 L67.2745 1116.87 Z\" fill=\"#000000\" fill-rule=\"evenodd\" fill-opacity=\"1\" /><path clip-path=\"url(#clip980)\" d=\"M 0 0 M103.247 1119.94 Q99.6354 1119.94 97.8068 1123.51 Q96.0012 1127.05 96.0012 1134.18 Q96.0012 1141.29 97.8068 1144.85 Q99.6354 1148.39 103.247 1148.39 Q106.881 1148.39 108.686 1144.85 Q110.515 1141.29 110.515 1134.18 Q110.515 1127.05 108.686 1123.51 Q106.881 1119.94 103.247 1119.94 M103.247 1116.24 Q109.057 1116.24 112.112 1120.85 Q115.191 1125.43 115.191 1134.18 Q115.191 1142.91 112.112 1147.51 Q109.057 1152.1 103.247 1152.1 Q97.4364 1152.1 94.3577 1147.51 Q91.3022 1142.91 91.3022 1134.18 Q91.3022 1125.43 94.3577 1120.85 Q97.4364 1116.24 103.247 1116.24 Z\" fill=\"#000000\" fill-rule=\"evenodd\" fill-opacity=\"1\" /><path clip-path=\"url(#clip980)\" d=\"M 0 0 M76.6495 1323.84 Q73.5013 1323.84 71.6495 1325.99 Q69.8208 1328.15 69.8208 1331.9 Q69.8208 1335.62 71.6495 1337.8 Q73.5013 1339.95 76.6495 1339.95 Q79.7976 1339.95 81.6263 1337.8 Q83.4781 1335.62 83.4781 1331.9 Q83.4781 1328.15 81.6263 1325.99 Q79.7976 1323.84 76.6495 1323.84 M85.9318 1309.19 L85.9318 1313.45 Q84.1726 1312.61 82.367 1312.17 Q80.5846 1311.73 78.8254 1311.73 Q74.1958 1311.73 71.7421 1314.86 Q69.3115 1317.98 68.9643 1324.3 Q70.33 1322.29 72.3902 1321.22 Q74.4504 1320.14 76.9272 1320.14 Q82.1355 1320.14 85.1448 1323.31 Q88.1772 1326.46 88.1772 1331.9 Q88.1772 1337.22 85.029 1340.44 Q81.8809 1343.65 76.6495 1343.65 Q70.6541 1343.65 67.4828 1339.07 Q64.3116 1334.47 64.3116 1325.74 Q64.3116 1317.54 68.2004 1312.68 Q72.0893 1307.8 78.6402 1307.8 Q80.3994 1307.8 82.1818 1308.15 Q83.9874 1308.49 85.9318 1309.19 Z\" fill=\"#000000\" fill-rule=\"evenodd\" fill-opacity=\"1\" /><path clip-path=\"url(#clip980)\" d=\"M 0 0 M103.247 1311.5 Q99.6354 1311.5 97.8068 1315.07 Q96.0012 1318.61 96.0012 1325.74 Q96.0012 1332.84 97.8068 1336.41 Q99.6354 1339.95 103.247 1339.95 Q106.881 1339.95 108.686 1336.41 Q110.515 1332.84 110.515 1325.74 Q110.515 1318.61 108.686 1315.07 Q106.881 1311.5 103.247 1311.5 M103.247 1307.8 Q109.057 1307.8 112.112 1312.41 Q115.191 1316.99 115.191 1325.74 Q115.191 1334.47 112.112 1339.07 Q109.057 1343.65 103.247 1343.65 Q97.4364 1343.65 94.3577 1339.07 Q91.3022 1334.47 91.3022 1325.74 Q91.3022 1316.99 94.3577 1312.41 Q97.4364 1307.8 103.247 1307.8 Z\" fill=\"#000000\" fill-rule=\"evenodd\" fill-opacity=\"1\" /><path clip-path=\"url(#clip980)\" d=\"M 0 0 M1122.96 1.59619 Q1122.96 4.46544 1118.86 4.46544 L1109.64 4.46544 Q1112.22 8.15448 1112.22 13.6061 Q1112.22 18.2788 1110.3 22.6647 Q1108.41 27.0095 1105.38 30.0428 Q1102.39 33.076 1098.62 34.9205 Q1094.84 36.724 1091.16 36.724 Q1085.54 36.724 1082.06 32.912 Q1078.57 29.1 1078.57 23.4435 Q1078.57 20.4513 1079.6 17.1311 Q1080.66 13.811 1082.67 10.7368 Q1084.68 7.62162 1087.3 5.12127 Q1089.97 2.62092 1093.41 1.10432 Q1096.89 -0.412283 1100.54 -0.412283 L1119.68 -0.412283 Q1120.71 -0.412283 1121.24 -0.330304 Q1121.82 -0.289315 1122.39 0.202557 Q1122.96 0.653439 1122.96 1.59619 M1106.85 12.6223 Q1106.85 11.6386 1106.73 10.7778 Q1106.61 9.87603 1106.16 8.68734 Q1105.71 7.45766 1104.93 6.59688 Q1104.15 5.69512 1102.63 5.08028 Q1101.16 4.46544 1099.15 4.46544 Q1096.32 4.46544 1093.21 6.02303 Q1090.09 7.58063 1087.71 11.4336 Q1085.75 14.7128 1084.76 18.9756 Q1083.78 23.2385 1083.78 25.7799 Q1083.78 30.1247 1085.87 32.5021 Q1088 34.8385 1091.24 34.8385 Q1093.9 34.8385 1096.94 33.035 Q1099.97 31.1905 1102.3 27.7064 Q1104.35 24.6732 1105.58 20.2463 Q1106.85 15.8195 1106.85 12.6223 Z\" fill=\"#000000\" fill-rule=\"evenodd\" fill-opacity=\"1\" /><path clip-path=\"url(#clip980)\" d=\"M 0 0 M1163.48 27.5923 Q1163.48 28.3383 1163.16 29.7729 Q1162.16 33.8186 1158.4 36.6018 Q1157.77 37.1182 1156.65 37.7781 Q1158 38.6676 1159.17 40.3031 Q1160.92 43.0002 1160.92 46.6441 Q1160.92 48.337 1160.46 50.4028 Q1159.17 55.1945 1154.64 58.6376 Q1150.08 61.9946 1144.66 61.9946 Q1141.73 61.9946 1139.72 60.4452 Q1137.74 58.8671 1136.97 56.2274 L1132.98 72.3239 Q1132.89 72.7256 1132.37 72.7256 L1132.09 72.7256 Q1131.49 72.7256 1131.49 72.037 L1140.55 35.8844 Q1141.15 33.4456 1142.13 31.1502 Q1143.11 28.8548 1144.45 26.7889 Q1145.83 24.7231 1147.41 23.2024 Q1148.99 21.653 1150.94 20.7635 Q1152.89 19.8453 1154.96 19.8453 Q1159.29 19.8453 1161.76 22.8007 Q1163.48 24.8952 1163.48 27.5923 M1160.18 26.5594 Q1160.18 24.7804 1159.46 23.5467 Q1158 21.1939 1154.9 21.1939 Q1153.03 21.1939 1151.25 22.0547 Q1149.5 22.8867 1148.1 24.3214 Q1146.69 25.756 1145.49 27.7071 Q1144.28 29.6582 1143.39 31.7814 Q1142.53 33.876 1141.96 36.1714 L1138.43 50.4028 Q1138.08 51.9235 1138.08 53.2721 Q1138.08 56.4857 1139.86 58.5802 Q1141.64 60.6748 1144.71 60.6748 Q1148.79 60.6748 1152.29 57.6334 Q1155.33 54.9076 1156.59 50.1159 Q1157.31 47.1032 1157.31 45.0087 Q1157.31 42.7133 1156.48 40.9343 Q1155.87 39.4997 1154.7 38.6389 Q1152.52 39.4136 1150.31 39.4136 Q1149.25 39.4136 1148.67 39.3849 Q1148.13 39.3562 1147.32 39.2415 Q1146.55 39.1267 1146.18 38.8111 Q1145.83 38.4955 1145.83 38.0077 Q1145.83 37.7208 1145.89 37.606 Q1146 37.1469 1146.38 36.8313 Q1146.75 36.5157 1147.18 36.3722 Q1147.61 36.2001 1148.33 36.114 Q1149.07 36.0279 1149.56 36.0279 Q1150.05 35.9992 1150.88 35.9992 Q1152.83 35.9992 1154.81 36.7739 Q1155.56 36.3722 1156.36 35.6549 Q1158.92 33.2734 1159.78 29.486 Q1160.18 28.0801 1160.18 26.5594 M1152.95 37.6634 Q1151.74 37.3478 1150.82 37.3478 Q1147.47 37.3478 1147.29 37.8929 Q1147.29 37.9503 1147.41 38.0077 Q1147.52 38.0364 1147.78 38.0651 Q1148.07 38.0651 1148.3 38.0938 Q1148.56 38.1225 1148.99 38.1225 Q1149.42 38.1225 1149.65 38.1225 Q1149.91 38.1225 1150.36 38.1225 Q1151.51 38.1225 1152.95 37.6634 Z\" fill=\"#000000\" fill-rule=\"evenodd\" fill-opacity=\"1\" /><g clip-path=\"url(#clip983)\">\n",
       "<image width=\"1226\" height=\"1226\" xlink:href=\"data:image/png;base64,\n",
       "iVBORw0KGgoAAAANSUhEUgAABMoAAATKCAYAAACg84g5AAAgAElEQVR4nOza8bPnBX3f++dhv7sH\n",
       "cEuiMsoPodygGGjCRW0FRgwZJUajNhCiU+j0B9qI1Tjj+INTJ44znc44duz4g+NMoxVN+SFT7JgS\n",
       "SNWgXuSGIAO00dCkBUXpVe4PxKvQmIXdc/bsnvsD09nMmEjw+2bPd/c8Hn/Aa97Mnu/nfM+Tz9rW\n",
       "9u9sN2ixdt3kHAAAAAAcF6fs9AEAAAAAsAqEMgAAAABIKAMAAACASigDAAAAgEooAwAAAIBKKAMA\n",
       "AACASigDAAAAgEooAwAAAIBKKAMAAACASigDAAAAgEooAwAAAIBKKAMAAACASigDAAAAgEooAwAA\n",
       "AIBKKAMAAACASigDAAAAgEooAwAAAIBKKAMAAACASigDAAAAgKrWarE9Obj1+8+bnKsnnhybWlx7\n",
       "aGyr6uAH9i+9cdr7DwxccmI48L7nj+7t/+D3R/c4sT105SWje+fdeu/oHsDT+bPXXz6693O33Tm6\n",
       "BwCwG3ijDAAAAAASygAAAACgEsoAAAAAoBLKAAAAAKASygAAAACgEsoAAAAAoBLKAAAAAKASygAA\n",
       "AACgEsoAAAAAoBLKAAAAAKASygAAAACgEsoAAAAAoBLKAAAAAKASygAAAACgEsoAAAAAoBLKAAAA\n",
       "AKASygAAAACgEsoAAAAAoBLKAAAAAKCqxfjiE0/O7j3n9MGxQ4NbdeTJ9YGVAwMbJ4Y9p2/s9Amc\n",
       "xDY2Jj6PADtnfd3vSQCAneaNMgAAAABIKAMAAACASigDAAAAgEooAwAAAIBKKAMAAACASigDAAAA\n",
       "gEooAwAAAIBKKAMAAACASigDAAAAgEooAwAAAIBKKAMAAACASigDAAAAgEooAwAAAIBKKAMAAACA\n",
       "SigDAAAAgEooAwAAAIBKKAMAAACASigDAAAAgKrWarG900ccL1s3/8To3uLqv1h649Hrzh+45Jj1\n",
       "M54Y23ruRx8Z23o2PP6us5fe2PjBcwYuecpZNz44tlX14JteObp3/mfvHt072X350ivHtvYttsa2\n",
       "ql511+eW3vjwi64fuOSY93zrhtG9VXXDBdeN7Fz/wI0jO/Cj3PWqN47ubW4tlt54zT23DlxyzNRn\n",
       "snbH53Ly2b9bnvs8c//8Bb8xuvfvvvtbo3sAT8cbZQAAAACQUAYAAAAAlVAGAAAAAJVQBgAAAACV\n",
       "UAYAAAAAlVAGAAAAAJVQBgAAAACVUAYAAAAAlVAGAAAAAJVQBgAAAACVUAYAAAAAlVAGAAAAAJVQ\n",
       "BgAAAACVUAYAAAAAlVAGAAAAAJVQBgAAAACVUAYAAAAAlVAGAAAAAJVQBgAAAABVrdVie3Lw4Af2\n",
       "T8515Mn1sa39H/z+2FbV4Y8t3xn3vuPowCUnho0P7xvdW3/P5ugeJ7bpZ89p7z8wugfwdA687/mj\n",
       "e9PfewAAdgNvlAEAAABAQhkAAAAAVEIZAAAAAFRCGQAAAABUQhkAAAAAVEIZAAAAAFRCGQAAAABU\n",
       "QhkAAAAAVEIZAAAAAFRCGQAAAABUQhkAAAAAVEIZAAAAAFRCGQAAAABUQhkAAAAAVEIZAAAAAFRC\n",
       "GQAAAABUtVaL7Z0+4nh59LrzR/fOuvHBpTcO/OaZA5ccc+jxM8a2zvz4w2Nbz4bvvf3cpTeObO4d\n",
       "uOQpL/ztr49tVT101SWje+fdcu/o3snuO9dcNLZ16OBpY1tVL7n1nqU3vnzplQOXHPOae24d3VtV\n",
       "X7j46pGd191388gO/CjfuPLS0b2NjX1Lb1x4250Dlxwz9Zms3fG5/E8vvWZs69f+5NNjW5xcPvyi\n",
       "60f33vOtG0b3AJ6ON8oAAAAAIKEMAAAAACqhDAAAAAAqoQwAAAAAKqEMAAAAACqhDAAAAAAqoQwA\n",
       "AAAAKqEMAAAAACqhDAAAAAAqoQwAAAAAKqEMAAAAACqhDAAAAAAqoQwAAAAAKqEMAAAAACqhDAAA\n",
       "AAAqoQwAAAAAKqEMAAAAACqhDAAAAAAqoQwAAAAAqlrs9AHH0/oZT+z0CT/k0ONnjO6trW2P7q2y\n",
       "o4f3LL2xZ9/hgUueHfv2bu70CbvaE3+5f2xrsXdrbGvK4aPLf352o9MWPpecODY39o3uLfYcGd2b\n",
       "sDhl9W5aZfv3eYbx7PuJFf5+DfC34Y0yAAAAAEgoAwAAAIBKKAMAAACASigDAAAAgEooAwAAAIBK\n",
       "KAMAAACASigDAAAAgEooAwAAAIBKKAMAAACASigDAAAAgEooAwAAAIBKKAMAAACASigDAAAAgEoo\n",
       "AwAAAIBKKAMAAACASigDAAAAgEooAwAAAIBKKAMAAACAqtZqsb3TR7CaNv7N+uje+r/YGN1bNU/+\n",
       "qzNG907/lz8Y3Xv0uvPHtg5vLP+zcfZN9w9csjtN/FuedeODA5ccc8vL/tHY1ul7N8e2qn7pvt8b\n",
       "3Zvwh6/8h2NbT2zOPqvf8F9/d2zrIy9+69hW1bu/+cnRPY6/R669aHRv8nfJFy/+1bGtaav4HPv8\n",
       "P3jz6N7/2jh1bOsf/+nvjG1Vfejcty298d6HPzFwye408btk4+jc+yHT/5bXPvc3Rvduevy3RvdW\n",
       "zdVnvGN07+YffGx0j5ODN8oAAAAAIKEMAAAAACqhDAAAAAAqoQwAAAAAKqEMAAAAACqhDAAAAAAq\n",
       "oQwAAAAAKqEMAAAAACqhDAAAAAAqoQwAAAAAKqEMAAAAACqhDAAAAAAqoQwAAAAAKqEMAAAAACqh\n",
       "DAAAAAAqoQwAAAAAKqEMAAAAACqhDAAAAAAqoQwAAAAAqlqrxfbk4IH3PX9yrj2nb4xtnfb+A2Nb\n",
       "VRsf3rf0xvp7NgcuOTEc/thsl937jqOje5zYpp89+z/4/dE9gKdz8AP7R/emv/cAAOwG3igDAAAA\n",
       "gIQyAAAAAKiEMgAAAACohDIAAAAAqIQyAAAAAKiEMgAAAACohDIAAAAAqIQyAAAAAKiEMgAAAACo\n",
       "hDIAAAAAqIQyAAAAAKiEMgAAAACohDIAAAAAqIQyAAAAAKiEMgAAAACohDIAAAAAqIQyAAAAAKiE\n",
       "MgAAAACohDIAAAAAqGqtFts7fcTx8vi7zh7de+5HH1l643tvP3fgkmOOHt4ztvWCTz00tvVs+P47\n",
       "fnrpje3ttYFLnnLmxx8e26r69lteNrp3zme+Nrp3snvgjZeNbR05Mve5rPq52+5ceuMLF189cMkx\n",
       "r7vv5tG9VXX7pVeO7Fxxz60jO/CjPHTVJaN7W4cXS29c8LmvDFxyzJ2vfNPY1uV3f3Zsa1VNPvt3\n",
       "y3OfZ+6GC64b3bv+gRtH9wCejjfKAAAAACChDAAAAAAqoQwAAAAAKqEMAAAAACqhDAAAAAAqoQwA\n",
       "AAAAKqEMAAAAACqhDAAAAAAqoQwAAAAAKqEMAAAAACqhDAAAAAAqoQwAAAAAKqEMAAAAACqhDAAA\n",
       "AAAqoQwAAAAAKqEMAAAAAKpa7PQBx9PGD56z0yf8kCObe0f39uw7PLq3yra315beOPW5Pxi45Nmx\n",
       "eXjfTp+wq20d2TO2tb6+ObY15cCmn68fx9bRuZ8LeLZN/J78q57zdw6M7k04uOVZ9kzsPeXITp/A\n",
       "LvAXw3/fABxv3igDAAAAgIQyAAAAAKiEMgAAAACohDIAAAAAqIQyAAAAAKiEMgAAAACohDIAAAAA\n",
       "qIQyAAAAAKiEMgAAAACohDIAAAAAqIQyAAAAAKiEMgAAAACohDIAAAAAqIQyAAAAAKiEMgAAAACo\n",
       "hDIAAAAAqIQyAAAAAKiEMgAAAACoaq0W2zt9BKvpyX91xuje6f/yB6N7q2bj36yP7q3/i43RvUeu\n",
       "vWhsa+/68reddeODA5fsThP/lmffdP/AJcf8hwv/ydjWT64fGtuqesN//d3RvQlfvPhXd/qEv9Ev\n",
       "3fd7Y1sfOvdtY1tV7334E6N7HH+PXnf+6N7k75LP/4M3j21VPWff3O/xX7j7P49tTZl+jj15eN/Y\n",
       "1lVf+49jW1UfefFbl9549zc/OXDJ7jTxu2T9lKMDlzxl+t/y6jPeMbp38w8+Nrq3aq597m+M7t30\n",
       "+G+N7nFy8EYZAAAAACSUAQAAAEAllAEAAABAJZQBAAAAQCWUAQAAAEAllAEAAABAJZQBAAAAQCWU\n",
       "AQAAAEAllAEAAABAJZQBAAAAQCWUAQAAAEAllAEAAABAJZQBAAAAQCWUAQAAAEAllAEAAABAJZQB\n",
       "AAAAQCWUAQAAAEAllAEAAABAJZQBAAAAQFVrtdje6SOOlwff9MrRvfM/e/fSGw9ddcnAJcfs27s5\n",
       "tnXOZ742tvVs+PZbXrb0xubhfQOXPOW8W+4d26r6X+/+qdG9n/zI/zu6d7L76hVXjG3tOeXo2FbV\n",
       "RV+6Y+mN6WfP9M//qpp47tTqP185Odz/2leP7h05uvz/X3357bcPXHLM1GeydsfncvLZv1ue+zxz\n",
       "q/g3F8Az4Y0yAAAAAEgoAwAAAIBKKAMAAACASigDAAAAgEooAwAAAIBKKAMAAACASigDAAAAgEoo\n",
       "AwAAAIBKKAMAAACASigDAAAAgEooAwAAAIBKKAMAAACASigDAAAAgEooAwAAAIBKKAMAAACASigD\n",
       "AAAAgEooAwAAAIBKKAMAAACASigDAAAAgKrWarG900ewmh697vzRvbNufHB0b9U8cu1Fo3tn33T/\n",
       "6N5j7zxnbGvr0PrSGy/41DcGLtmdvvaLr1l642X/15cHLjnmq1dcMbZ1aHPf2FbVK//oD0b3Jtz/\n",
       "2lePbR05Ovv/vF5+++1jWze/9Jqxraqr/+TTo3scf//l1b80uveKO744tvXff/nnx7aqnjx06tjW\n",
       "K+740tjWlHt+4XWje0eO7Bnbuuyuz49tVf3uRdcuvfHm+28auGR3+tIlVy29sbG1d+CSp7zpjz8z\n",
       "tlX1kRe/dXTv3d/85OjeqvnQuW8b3Xvvw58Y3ePk4I0yAAAAAEgoAwAAAIBKKAMAAACASigDAAAA\n",
       "gEooAwAAAIBKKAMAAACASigDAAAAgEooAwAAAIBKKAMAAACASigDAAAAgEooAwAAAIBKKAMAAACA\n",
       "SigDAAAAgEooAwAAAIBKKAMAAACASigDAAAAgEooAwAAAIBKKAMAAACAqhY7fQCr6/DG+k6fcELZ\n",
       "u76x0yf8SFuH5v49F6eu9n/ryW7ryOo9ug8OPi/27DkytrWqNrfm/g1PP/XQ2Na0o9trO30CK2ax\n",
       "Z2unT/gbbWzuG93bt1jd/9YJR4/O/v/201b4e9Qpa9s7fcKutrG1d+mN9cXhgUueHRvDn6WT3fop\n",
       "R3f6BHYBn0oAAAAASCgDAAAAgEooAwAAAIBKKAMAAACASigDAAAAgEooAwAAAIBKKAMAAACASigD\n",
       "AAAAgEooAwAAAIBKKAMAAACASigDAAAAgEooAwAAAIBKKAMAAACASigDAAAAgEooAwAAAIBKKAMA\n",
       "AACAqtZqsb3TRwC7z9bNPzG6t7j6L0b3OHk8et35Y1tn3fjg2NaqevxdZ49tPfejj4xtVX350iuX\n",
       "3ti32Bq45JhX3fW50T3460x9Lqc/k6tq8rlfM8/+u171xoFLjtncWoxtveaeW8e2doMH3/TK0b3z\n",
       "P3v36N6HX3T92NZP7Du89Mb1D9y4/CHPohsuuG5s6y82945tVb3nWzcsvfHPX/AbA5cc8++++1uj\n",
       "e6vKG2UAAAAAkFAGAAAAAJVQBgAAAACVUAYAAAAAlVAGAAAAAJVQBgAAAACVUAYAAAAAlVAGAAAA\n",
       "AJVQBgAAAACVUAYAAAAAlVAGAAAAAJVQBgAAAACVUAYAAAAAlVAGAAAAAJVQBgAAAACVUAYAAAAA\n",
       "lVAGAAAAAJVQBgAAAACVUAYAAAAAVa3VYnty8KErL5mca2NjfWzr5267c2yr6uAH9i+9cdr7Dwxc\n",
       "cmI48L7nj+7t/+D3R/c4sW39/vNG9xa/8tjoHsDT2brp1NG9xbWHRvcAAHYDb5QBAAAAQEIZAAAA\n",
       "AFRCGQAAAABUQhkAAAAAVEIZAAAAAFRCGQAAAABUQhkAAAAAVEIZAAAAAFRCGQAAAABUQhkAAAAA\n",
       "VEIZAAAAAFRCGQAAAABUQhkAAAAAVEIZAAAAAFRCGQAAAABUQhkAAAAAVEIZAAAAAFRCGQAAAABU\n",
       "QhkAAAAAVLVWi+2dPuJ4+fKlV47uveaeW5fe+M41Fw1ccswTf7l/bOuCz31lbOvZ8MAbL1t6Y+vI\n",
       "noFLnnLhbXeObVV99YorRvdefvvto3snu8feec7Y1uEnTx3bqnrhv//60hvTz56/++n7R/dW1cRz\n",
       "p1b/+crJ4c//6c+M7h0+tL70xk/d9N8GLjlm6jNZu+Nz+aevv3xsa/p7DyePVfybC+CZ8EYZAAAA\n",
       "ACSUAQAAAEAllAEAAABAJZQBAAAAQCWUAQAAAEAllAEAAABAJZQBAAAAQCWUAQAAAEAllAEAAABA\n",
       "JZQBAAAAQCWUAQAAAEAllAEAAABAJZQBAAAAQCWUAQAAAEAllAEAAABAJZQBAAAAQCWUAQAAAEAl\n",
       "lAEAAABAVYudPuB42rfY2ukTfsihg6eN7i32rt5/47PlyJE9S2+sr28OXPLs2HPK0Z0+YVc7/OSp\n",
       "Y1uL9cNjW1Omnz27xW56xnLiO7yxPrq399SN0b0JE98FdpNV/t7DyWMV/+YCeCa8UQYAAAAACWUA\n",
       "AAAAUAllAAAAAFAJZQAAAABQCWUAAAAAUAllAAAAAFAJZQAAAABQCWUAAAAAUAllAAAAAFAJZQAA\n",
       "AABQCWUAAAAAUAllAAAAAFAJZQAAAABQCWUAAAAAUAllAAAAAFAJZQAAAABQCWUAAAAAUAllAAAA\n",
       "AFAJZQAAAABQ1Vottnf6CFbTo9edP7p31o0Pju6tmkeuvWh07+yb7h/d+9ovvmZsa+vIYumNV9zx\n",
       "xYFLdqfH3nnO0hvP+7ffHrjkmK9eccXY1vq+zbGtqp/9gz8a3Ztw/2tfPbZ1cHPf2FbVpX/4hbGt\n",
       "L11y1dhW1WvvvWV0j+Pvu7/+ktG9F3zqG2Nbd//8L49tVe1dbI1tveKOL41tTZl87lcd3Fgf27rs\n",
       "rs+PbVV99u+/ZemNN/3xZwYu2Z1ufuk1S28c3V4buOQpb77/prGtqo+8+K2je+/+5idH91bNh859\n",
       "2+jeex/+xOgeJwdvlAEAAABAQhkAAAAAVEIZAAAAAFRCGQAAAABUQhkAAAAAVEIZAAAAAFRCGQAA\n",
       "AABUQhkAAAAAVEIZAAAAAFRCGQAAAABUQhkAAAAAVEIZAAAAAFRCGQAAAABUQhkAAAAAVEIZAAAA\n",
       "AFRCGQAAAABUtVaL7Z0+4nj58IuuH917z7duWHrjy5deOXDJMYeP7hnbet19N49tPRu+cPHVS28c\n",
       "2Nw3cMlTfu1PPj22VfXQVZeM7p13y72jeye771xz0djWoYOnjW1VveTWe5beOPCbZw5ccsz+f/29\n",
       "0b1V9b23nzuyc+bHHx7ZgR/lG1deOrq3sbH878wLb7tz4JJjpj6TtTs+l3/+z35mbOuFv/31sS1O\n",
       "Lo9ed/7o3lk3Pji6B/B0vFEGAAAAAAllAAAAAFAJZQAAAABQCWUAAAAAUAllAAAAAFAJZQAAAABQ\n",
       "CWUAAAAAUAllAAAAAFAJZQAAAABQCWUAAAAAUAllAAAAAFAJZQAAAABQCWUAAAAAUAllAAAAAFAJ\n",
       "ZQAAAABQCWUAAAAAUAllAAAAAFAJZQAAAABQCWUAAAAAUNVaLbZ3+ghW0y0v+0eje1d97T+O7q2a\n",
       "/3DhPxnd+8d/+juje1+94oqxrYMb60tvXHbX5wcu2Z0m/i1ffvvtA5cc8/+97cVjW088dsbYVtX/\n",
       "8btfHd2b8M2rLhnb2tzcO7ZV9fc+f9fY1uRzp+Z/bjn+vvKqN4zuTf4u+X/e/PKxraq/PLB/bOvC\n",
       "2+4c25ryP97wqtG9ra3F2Nb/+cX/e2yrZn5ufe/58U38Lpn47vq/Tf9b+pvrmVn1v7k4OXijDAAA\n",
       "AAASygAAAACgEsoAAAAAoBLKAAAAAKASygAAAACgEsoAAAAAoBLKAAAAAKASygAAAACgEsoAAAAA\n",
       "oBLKAAAAAKASygAAAACgEsoAAAAAoBLKAAAAAKASygAAAACgEsoAAAAAoBLKAAAAAKASygAAAACg\n",
       "EsoAAAAAoKrFTh/A6jp97+ZOn3BC+cn1Qzt9wo90aHPf2NaePUfGtnjm1vet3mfzicfOGNvabm1s\n",
       "a1Vtbu4d29qz5+jY1rRV/FllZ522vrHTJ/yNDhzYP7p3ytr26N6q2dqa/TNisdga3Zu0yj+3u8HE\n",
       "d9hV/u7qb65nZtX/5uLk4I0yAAAAAEgoAwAAAIBKKAMAAACASigDAAAAgEooAwAAAIBKKAMAAACA\n",
       "SigDAAAAgEooAwAAAIBKKAMAAACASigDAAAAgEooAwAAAIBKKAMAAACASigDAAAAgEooAwAAAIBK\n",
       "KAMAAACASigDAAAAgEooAwAAAIBKKAMAAACASigDAAAAgKrWarG900cAu8+j150/unfWjQ+O7nHy\n",
       "OPCbZ45t7f/X3xvbWlXfe/u5Y1tnfvzhsa2q71xz0dIbhw6eNnDJMS+59Z7RPfjrTH0upz+Tq+rP\n",
       "/9nPjO698Le/vvTGN668dOCSYzY29o1tXXjbnWNbu8FDV10yunfeLfeO7n350ivHtg4f3bP0xuvu\n",
       "u3ngkmfPFy6+emzrwObc57Lq1/7k00tvfPhF1w9ccsx7vnXD6N6q8kYZAAAAACSUAQAAAEAllAEA\n",
       "AABAJZQBAAAAQCWUAQAAAEAllAEAAABAJZQBAAAAQCWUAQAAAEAllAEAAABAJZQBAAAAQCWUAQAA\n",
       "AEAllAEAAABAJZQBAAAAQCWUAQAAAEAllAEAAABAJZQBAAAAQCWUAQAAAEAllAEAAABAVWu12N7p\n",
       "I46XGy64bnTv+gduXHrjCxdfvfwhf8Vpi82xrcvv/uzY1rPh9kuvXHpj6+iegUue8rr7bh7bqvr2\n",
       "W142unfOZ742uneye+CNl41tLfZujW1VnXfLvUtvfO/t5w5ccsyZH394dG9Vff8dPz2y8/yP/c+R\n",
       "HfhR/uz1l4/u7dlzZOmNCz73lYFLjvnur583tvWCTz00trWqJp/9u+W5zzP3+LvOHt177kcfGd0D\n",
       "eDreKAMAAACAhDIAAAAAqIQyAAAAAKiEMgAAAACohDIAAAAAqIQyAAAAAKiEMgAAAACohDIAAAAA\n",
       "qIQyAAAAAKiEMgAAAACohDIAAAAAqIQyAAAAAKiEMgAAAACohDIAAAAAqIQyAAAAAKiEMgAAAACo\n",
       "hDIAAAAAqGqtFts7fQSr6Q9f+Q9H937h7v88urdqvnjxr47u/dJ9vze6d/9rXz22tbm1WHrjFXd8\n",
       "aeCS3Wni3/KiL90xcMkx37zqkrGtzc29Y1tVf+/zd43uTXjgjZeNbR09Ovv/vH72D/5obGvyuVPz\n",
       "P7ccf//l1a8d3Zv8XfI/3vCqsa2qzcNzz7KXruDP/n//5Z8f3Tu6vTa2deFtd45t1czPre89P76J\n",
       "3yUT313/t+l/S39zPTOr/jcXJwdvlAEAAABAQhkAAAAAVEIZAAAAAFRCGQAAAABUQhkAAAAAVEIZ\n",
       "AAAAAFRCGQAAAABUQhkAAAAAVEIZAAAAAFRCGQAAAABUQhkAAAAAVEIZAAAAAFRCGQAAAABUQhkA\n",
       "AAAAVEIZAAAAAFRCGQAAAABUQhkAAAAAVEIZAAAAAFS12OkDWF1PbK7v9AkMOnJ0rouffuqhsS2e\n",
       "uYOb+3b6hB+yubl3bGvPnqNjW6vq6OTn8TlPjm1NW8WfVXbW4a3V/eq5NXzbvr2HR/dWzfb22uje\n",
       "39l/YHRv0ir/3O4GE99hV/m7q7+5YPV4owwAAAAAEsoAAAAAoBLKAAAAAKASygAAAACgEsoAAAAA\n",
       "oBLKAAAAAKASygAAAACgEsoAAAAAoBLKAAAAAKASygAAAACgEsoAAAAAoBLKAAAAAKASygAAAACg\n",
       "EsoAAAAAoBLKAAAAAKASygAAAACgEsoAAAAAoBLKAAAAAKASygAAAACgqrVabO/0EcDu8/i7zh7d\n",
       "e+5HHxnd4+TxvbefO7Z15scfHttaVd9/x0+PbT3/Y/9zbKvqgTdetvTGYu/WwCXHnHfLvaN78Nf5\n",
       "7q+fN7Lzgk89NLKz6iaf+zXz7P+z118+cMkxe/YcGdu64HNfGdvaDb79lpeN7p3zma+N7n3h4qvH\n",
       "tk5bbC69cfndnx245Nlz+6VXjm1tHd0ztlX1uvtuXnrjhguuW/6Qv+L6B24c3VtV3igDAAAAgIQy\n",
       "AAAAAKiEMgAAAACohDIAAAAAqIQyAAAAAKiEMgAAAACohDIAAAAAqIQyAAAAAKiEMgAAAACohDIA\n",
       "AAAAqIQyAAAAAKiEMgAAAACohDIAAAAAqIQyAAAAAKiEMgAAAACohDIAAAAAqIQyAAAAAKiEMgAA\n",
       "AACoaq0W2zt9BKvpIy9+6+jeu7/5ydG9VfOhc982uvfehz8xunfzS68Z2zq6vbb0xpvvv2ngkt3p\n",
       "S5dctfTGa++9ZeCSY756xRVjW+v7Nse2qn72D/5odG/C/a999djWwc19Y1tVl/7hF8a2HnvnOWNb\n",
       "Vc/7t98e3eP4++zff8vo3pv++DNjW3f//C+PbVXtXWyNbb3iji+NbU2ZfO5XHdxYH9u67K7Pj21V\n",
       "fffXX7L0xgs+9Y2BS3anr/3ia5be2DqyGLjkKa+444tjW1WPXnf+6N5ZNz44urdqHrn2otG9s2+6\n",
       "f3SPk4M3ygAAAAAgoQwAAAAAKqEMAAAAACqhDAAAAAAqoQwAAAAAKqEMAAAAACqhDAAAAAAqoQwA\n",
       "AAAAKqEMAAAAACqhDAAAAAAqoQwAAAAAKqEMAAAAACqhDAAAAAAqoQwAAAAAKqEMAAAAACqhDAAA\n",
       "AAAqoQwAAAAAKqEMAAAAACqhDAAAAACqWqvF9k4fAew+X770ytG919xz6+geJ4/vXHPR2Nbf/fT9\n",
       "Y1ur6oE3Xja2dcHnvjK2VfXYO89ZeuPwk6cOXHLMC//910f34K8z9bmc/kyuqj99/eWjexfedufS\n",
       "G3/+T39m4JJjDh9aH9v6qZv+29jWbvDVK8W8IM4AACAASURBVK4Y3Xv57beP7k1+73niL/cvvbHq\n",
       "z53J7z1bR/aMbdXMs8ffXD8eb5QBAAAAQEIZAAAAAFRCGQAAAABUQhkAAAAAVEIZAAAAAFRCGQAA\n",
       "AABUQhkAAAAAVEIZAAAAAFRCGQAAAABUQhkAAAAAVEIZAAAAAFRCGQAAAABUQhkAAAAAVEIZAAAA\n",
       "AFRCGQAAAABUQhkAAAAAVLXY6QOA3WnfYmunT2CXOHTwtJ0+4YSy2Lu6n83DT5669MZi/fDAJXB8\n",
       "HTmyZ6dPOKGsr2/u9Ak/5PDG+uje3lM3Rvf429tzytGdPuFHmvzes8rfCaZMPl9X8dnjb64fjzfK\n",
       "AAAAACChDAAAAAAqoQwAAAAAKqEMAAAAACqhDAAAAAAqoQwAAAAAKqEMAAAAACqhDAAAAAAqoQwA\n",
       "AAAAKqEMAAAAACqhDAAAAAAqoQwAAAAAKqEMAAAAACqhDAAAAAAqoQwAAAAAKqEMAAAAACqhDAAA\n",
       "AAAqoQwAAAAAKqEMAAAAAKpaq8X2Th8BAHAi2vr9541tLX7lsbEtgL+trZtOHd1bXHtodI8T28EP\n",
       "7B/dO+39B0b3VtmB9z1/6Y39H/z+wCXHPHTlJWNbGxvrY1tVP3fbnWNb3igDAAAAgIQyAAAAAKiE\n",
       "MgAAAACohDIAAAAAqIQyAAAAAKiEMgAAAACohDIAAAAAqIQyAAAAAKiEMgAAAACohDIAAAAAqIQy\n",
       "AAAAAKiEMgAAAACohDIAAAAAqIQyAAAAAKiEMgAAAACohDIAAAAAqIQyAAAAAKiEMgAAAACoaq0W\n",
       "25ODf/b6yyfnWl/fGNs679Z7x7aqDrzv+Utv7P/g9wcuOTEc/MD+0b3T3n9gdI8T29ZNp47uLa49\n",
       "NLoH8HS2fv95o3uLX3lsdA8AYDfwRhkAAAAAJJQBAAAAQCWUAQAAAEAllAEAAABAJZQBAAAAQCWU\n",
       "AQAAAEAllAEAAABAJZTx/7drfz+eH/R975/jnZ3x2htSwAJfxOXEYGJaWgeS2pZjQMYHzA/n2HFB\n",
       "xVUv3AZTSCTEBSpKFKmqFKWi4gIhNVAMqS+qmAri2D38MDiG1hi0NkmIm1AMBudwfC4chOOELvbO\n",
       "7MzOuaDRUAUIzvftne/uPB5/wEtv2O/3M9/v018AAAAAKqEMAAAAACqhDAAAAAAqoQwAAAAAKqEM\n",
       "AAAAACqhDAAAAAAqoQwAAAAAKqEMAAAAACqhDAAAAAAqoQwAAAAAKqEMAAAAACqhDAAAAACqWqnV\n",
       "nb0+4mS55/LXju5dfs/HFt746jWXDlyya3NjbWzrhXfcPbb1VHjw2ksW3tjZWRm45Luef/uRsa2q\n",
       "+19xxejeRXd+ZnTvdPdn//ynxraOb6yPbVX9xG//94U3pp8906//ZfUnr3rpyM6yP185PTz65vNH\n",
       "97Y2Di688ez/+JWBS3ZNfBb4Kxfcdu/Y1rKafPbvl+c+T94yfucCeDL8ogwAAAAAEsoAAAAAoBLK\n",
       "AAAAAKASygAAAACgEsoAAAAAoBLKAAAAAKASygAAAACgEsoAAAAAoBLKAAAAAKASygAAAACgEsoA\n",
       "AAAAoBLKAAAAAKASygAAAACgEsoAAAAAoBLKAAAAAKASygAAAACgEsoAAAAAoBLKAAAAAKASygAA\n",
       "AACgqtW9PuBk2txavv+5Gxtro3urB7ZH95bZ1vHF/z3P/rGjA5c8NbZP6Nh76fix9bGtg2dujG1N\n",
       "mX727BcH9tEzllPf1sbB0b2DZx0b3Zsw8VlgPznz0BN7fQL7wDJ+5wJ4MnwTBwAAAICEMgAAAACo\n",
       "hDIAAAAAqIQyAAAAAKiEMgAAAACohDIAAAAAqIQyAAAAAKiEMgAAAACohDIAAAAAqIQyAAAAAKiE\n",
       "MgAAAACohDIAAAAAqIQyAAAAAKiEMgAAAACohDIAAAAAqIQyAAAAAKhqpVZ39voIltPD1180unfe\n",
       "LfeP7i2bR264cHTv3JsfGN37whWvHNtaPbC18MaLfu/TA5fsT9/8xecvvPGsD3514JJdn7v8NWNb\n",
       "h9Y3xraqXnzXXaN7E75wxSvGto5vrY5tVV322U+MbX30Z14/tlV19R98eHSPk+/Pf/k5o3vP+Pff\n",
       "GNs68rKrxraqDq1tjm1ddOdnxramfOnVLxnd29hcG9uafu7fecm1C2+84t7bBi7Znz5y0fULb5yx\n",
       "MveV97o/+tDYVtU7z3/T6N47Hnr/6N6yeffz3ji697avfWB0j9ODX5QBAAAAQEIZAAAAAFRCGQAA\n",
       "AABUQhkAAAAAVEIZAAAAAFRCGQAAAABUQhkAAAAAVEIZAAAAAFRCGQAAAABUQhkAAAAAVEIZAAAA\n",
       "AFRCGQAAAABUQhkAAAAAVEIZAAAAAFRCGQAAAABUQhkAAAAAVEIZAAAAAFRCGQAAAABUQhkAAAAA\n",
       "VLVSqzt7fcTJctMLbhjdu/HLNy+88cmLr1v8kO+xesb22NaVR24f23oq3H3Z1QtvPLG1NnDJd111\n",
       "361jW1XfeP2LRvee8+Evju6d7r782p8b29rePjC2VfXCO+5eeONbbz5/4JJd57zvodG9ZfXNX7xg\n",
       "ZOdZH3xwZAd+mAevvWR0b+v46sIbL/jY5wYu2fXoW35ybOuZ7/3Tsa1lNfns3y/PfZ68x9563uje\n",
       "09/z8OgewN/EL8oAAAAAIKEMAAAAACqhDAAAAAAqoQwAAAAAKqEMAAAAACqhDAAAAAAqoQwAAAAA\n",
       "KqEMAAAAACqhDAAAAAAqoQwAAAAAKqEMAAAAACqhDAAAAAAqoQwAAAAAKqEMAAAAACqhDAAAAAAq\n",
       "oQwAAAAAKqEMAAAAACqhDAAAAACqWqnVnb0+guX0qYt/YXTvlff97ujesvn4z75udO81v/+R0b0v\n",
       "vfolY1sbm2sLb7z4rrsGLtmfPv+SVy+8cdlnPzFwya7/53UvHts6evTw2FbVC++4e3Rvwv94zeVj\n",
       "W1tbq2NbVf/wU/91bGvitfq9pl+3nHxHXnbV6N6l/+2TY1t/+rqfGduqevw7Z41t/f1PfHZsa8pX\n",
       "fv6y0b3t7bn/fv/3Pn7P2FbNvG4nX6v7zcRn2InPrn9l+jOs71xPzrJ/5+L04BdlAAAAAJBQBgAA\n",
       "AACVUAYAAAAAlVAGAAAAAJVQBgAAAACVUAYAAAAAlVAGAAAAAJVQBgAAAACVUAYAAAAAlVAGAAAA\n",
       "AJVQBgAAAACVUAYAAAAAlVAGAAAAAJVQBgAAAACVUAYAAAAAlVAGAAAAAJVQBgAAAACVUAYAAAAA\n",
       "lVAGAAAAAFWt7vUBcLo4e21jr0/4oR4/dubY1trq1tgWT97BJfz//38ePTy2dcbKztjWsto8fnBs\n",
       "a+3g8bGtacv4WmVvHVrb3OsTfqDHv3PW6N4ZZ5wY3Vs229uz/719bW15n2XL/LrdDyY+w/rsevpY\n",
       "9u9cnB78ogwAAAAAEsoAAAAAoBLKAAAAAKASygAAAACgEsoAAAAAoBLKAAAAAKASygAAAACgEsoA\n",
       "AAAAoBLKAAAAAKASygAAAACgEsoAAAAAoBLKAAAAAKASygAAAACgEsoAAAAAoBLKAAAAAKASygAA\n",
       "AACgEsoAAAAAoBLKAAAAAKCqlVrd2esjgP3nsbeeN7r39Pc8PLrH6eNbbz5/bOuc9z00trWsvvmL\n",
       "F4xtPeuDD45tVX35tT+38Mb29oGBS3a98I67R/fg+3n0LT85svPM9/7pyM6ym3zu18yz/8FrLxm4\n",
       "ZNfW8dWxrRd87HNjW/vBN17/otG953z4i6N7n7z4urGt1TO2F9648sjtA5c8de6+7OqxrSe21sa2\n",
       "qq6679aFN256wQ2LH/I9bvzyzaN7y8ovygAAAAAgoQwAAAAAKqEMAAAAACqhDAAAAAAqoQwAAAAA\n",
       "KqEMAAAAACqhDAAAAAAqoQwAAAAAKqEMAAAAACqhDAAAAAAqoQwAAAAAKqEMAAAAACqhDAAAAAAq\n",
       "oQwAAAAAKqEMAAAAACqhDAAAAAAqoQwAAAAAqlqp1Z29PuJkeddzbxzde/vXb1p443d++g0Dl+w6\n",
       "vLY5tnXVfbeObT0VPnnxdQtvHDxje+CS73r5kdvHtqoevPaS0b0Lbrt3dO9098eveunY1vr63Puy\n",
       "6vm3H1l448/+xU8NXLLr2b/1ldG9ZfWtN58/snPO+x4a2YEf5qvXXDq6d+ahJxbe+Lsfun/gkl1T\n",
       "78naH+/Lo79yztjW4X/7rbEtTi+P3HDh6N65Nz8wugfwN/GLMgAAAABIKAMAAACASigDAAAAgEoo\n",
       "AwAAAIBKKAMAAACASigDAAAAgEooAwAAAIBKKAMAAACASigDAAAAgEooAwAAAIBKKAMAAACASigD\n",
       "AAAAgEooAwAAAIBKKAMAAACASigDAAAAgEooAwAAAIBKKAMAAACASigDAAAAgKpWanVnr49gOX38\n",
       "Z183uvea3//I6N6y+dTFvzC698r7fnd078jLrhrbOnFi8cZ+2Wc/MXDJ/vSHV1658MaL77pr4JJd\n",
       "/+M1l49tbW2tjm1V/cNP/dfRvQlfevVLxrZ2dlbGtqpeeMfdY1sTr9XvNf265eSbfO1X/f1PfHZs\n",
       "6ys/f9nYVtX29tx/j/57H79nbGvKn77uZ0b3Vpr7SvJ/fOQPx7Zq5nU7+VrdbyY+w058dv0r059h\n",
       "fed6cpb9OxenB78oAwAAAICEMgAAAACohDIAAAAAqIQyAAAAAKiEMgAAAACohDIAAAAAqIQyAAAA\n",
       "AKiEMgAAAACohDIAAAAAqIQyAAAAAKiEMgAAAACohDIAAAAAqIQyAAAAAKiEMgAAAACohDIAAAAA\n",
       "qIQyAAAAAKiEMgAAAACohDIAAAAAqIQyAAAAAKhqda8PYHn9xcaZe33CKeXx42t7fcIPtb19YGzr\n",
       "0PrG2BZP3hMb63t9wl+ztTX352R1dWtsa1md2FkZ2/qxw0fHtqYt42uVvbWxubx/K7e3Z//78dra\n",
       "8dG9ZbPSzuje2c/49ujepGV+3e4HE59hl/mzq+9cT86yf+fi9OAXZQAAAACQUAYAAAAAlVAGAAAA\n",
       "AJVQBgAAAACVUAYAAAAAlVAGAAAAAJVQBgAAAACVUAYAAAAAlVAGAAAAAJVQBgAAAACVUAYAAAAA\n",
       "lVAGAAAAAJVQBgAAAACVUAYAAAAAlVAGAAAAAJVQBgAAAACVUAYAAAAAlVAGAAAAAFWt1OrOXh8B\n",
       "7D+P3HDh6N65Nz8wusfp48/+xU+NbT37t74ytrWsvvXm88e2znnfQ2NbVX/8qpcuvLG+vjlwya7n\n",
       "335kdA++n6n35fR7clkd/ZVzRvcO/9tvLbzx1WsuHbhk15mHnhjb+rsfun9saz948NpLRvcuuO3e\n",
       "0b3f+ek3jG0dXlv8b+ZV9906cMlT55MXXze2dfCM7bGtqpcfuX3hjXc998aBS3a9/es3je4tK78o\n",
       "AwAAAICEMgAAAACohDIAAAAAqIQyAAAAAKiEMgAAAACohDIAAAAAqIQyAAAAAKiEMgAAAACohDIA\n",
       "AAAAqIQyAAAAAKiEMgAAAACohDIAAAAAqIQyAAAAAKiEMgAAAACohDIAAAAAqIQyAAAAAKiEMgAA\n",
       "AACohDIAAAAAqIQyAAAAAKhqpVZ39voIltM7z3/T6N47Hnr/6N6yeffz3ji697avfWB07yMXXT+2\n",
       "dcbK4o+N6/7oQwOX7E8f/ZnXL7xx9R98eOCSXZ+7/DVjW4fWN8a2ql58112jexO+cMUrxraOb62O\n",
       "bVVd9tlPjG198xefP7ZV9awPfnV0j5PvzkuuHd17xb23jW0dedlVY1tVh9Y2x7YuuvMzY1tTvvTq\n",
       "l4zubWyujW1NP/f//Jefs/DGM/79NwYu2Z++cMUrF95YPbA1cMl3vej3Pj22VfXw9ReN7p13y/2j\n",
       "e8vmkRsuHN079+YHRvc4PfhFGQAAAAAklAEAAABAJZQBAAAAQCWUAQAAAEAllAEAAABAJZQBAAAA\n",
       "QCWUAQAAAEAllAEAAABAJZQBAAAAQCWUAQAAAEAllAEAAABAJZQBAAAAQCWUAQAAAEAllAEAAABA\n",
       "JZQBAAAAQCWUAQAAAEBVK7W6s9dHAPvPPZe/dnTv8ns+NrrH6eOr11w6tvX824+MbS2rP3nVS8e2\n",
       "XnjH3WNbVX/2z39q4Y3jG+sDl+z6id/+76N78P08eO0lIzsX3HbvyM6ym3zu18yz/9E3nz9wya6t\n",
       "jYNjW8/+j18Z29oP7n/FFaN7F935mdG9ydf/5sbawhvTnwWmTT1fq3Z2Vsa2aubZ4zvX345flAEA\n",
       "AABAQhkAAAAAVEIZAAAAAFRCGQAAAABUQhkAAAAAVEIZAAAAAFRCGQAAAABUQhkAAAAAVEIZAAAA\n",
       "AFRCGQAAAABUQhkAAAAAVEIZAAAAAFRCGQAAAABUQhkAAAAAVEIZAAAAAFRCGQAAAABUQhkAAAAA\n",
       "VEIZAAAAAFRCGQAAAABUtbrXBwD70+aWxw8nx8bG2l6fcEo5cGB7r0/4gY4fW1944+CZGwOXwMm1\n",
       "ddzfzCfjzENP7PUJf83WxsHRvYNnHRvd40e3fWK5f2sy+blndYk/E0yZfL6e/WNHx7am+M71t7Pc\n",
       "73IAAAAAOEmEMgAAAABIKAMAAACASigDAAAAgEooAwAAAIBKKAMAAACASigDAAAAgEooAwAAAIBK\n",
       "KAMAAACASigDAAAAgEooAwAAAIBKKAMAAACASigDAAAAgEooAwAAAIBKKAMAAACASigDAAAAgEoo\n",
       "AwAAAIBKKAMAAACAqlZqdWevjwAAOBVt3XLm2Nbq9cfGtgB+VFv/5Rmje6v/15+P7nFqO/qrzxzd\n",
       "O/wbj47uLbMnfv3wwhuHfu3owCW7/uRVLx3bWl/fGNuquuD2e8e2/KIMAAAAABLKAAAAAKASygAA\n",
       "AACgEsoAAAAAoBLKAAAAAKASygAAAACgEsoAAAAAoBLKAAAAAKASygAAAACgEsoAAAAAoBLKAAAA\n",
       "AKASygAAAACgEsoAAAAAoBLKAAAAAKASygAAAACgEsoAAAAAoBLKAAAAAKASygAAAACgEsoAAAAA\n",
       "oKqVWt3Z6yNOln/5rF8a3fsP3/zNhTfe9dwbBy7Z9eNrx8e2bvzyzWNbT4WbXnDDwht/uXlw8UP+\n",
       "l7d//aaxraoHrr5sdO/Cj35+dO909+lLrxnbWlvdGtuquvyejy288cgNFw5csuvcmx8Y3VtWj731\n",
       "vJGdp7/n4ZEd+GHuufy1o3ubW6sLb7z8yO0Dl+yaek/W/nhfTj7798tznydv69YfH91bve4vR/cA\n",
       "/iZ+UQYAAAAACWUAAAAAUAllAAAAAFAJZQAAAABQCWUAAAAAUAllAAAAAFAJZQAAAABQCWUAAAAA\n",
       "UAllAAAAAFAJZQAAAABQCWUAAAAAUAllAAAAAFAJZQAAAABQCWUAAAAAUAllAAAAAFAJZQAAAABQ\n",
       "CWUAAAAAUAllAAAAAFAJZQAAAABQ1Uqt7uz1ESyndz/vjaN7b/vaB0b3ls07z3/T6N47Hnr/6N6d\n",
       "l1w7trWxdXDhjav/4MMDl+xPt/70GxbeuO6PPjRwya4/vPLKsa1jm2tjW1WXffYTo3sT7n/FFWNb\n",
       "2ydm/5vXi++6a2zri//ny8e2ql70e58e3ePk+8hF14/uve7+W8a2vvTql4xtVT1+7MyxrX/0mTvH\n",
       "tqYcedlVo3vb2wfGtn7uno+PbVV94YpXLrzxjz7zqYFL9qc//+XnLLyxdWx94JLvetYHvzq2VfXI\n",
       "DReO7p178wOje8vm4esvGt0775b7R/c4PfhFGQAAAAAklAEAAABAJZQBAAAAQCWUAQAAAEAllAEA\n",
       "AABAJZQBAAAAQCWUAQAAAEAllAEAAABAJZQBAAAAQCWUAQAAAEAllAEAAABAJZQBAAAAQCWUAQAA\n",
       "AEAllAEAAABAJZQBAAAAQCWUAQAAAEBVq3t9AMtr44SO+mSsn3Fir0/4oTa2Do5tra8eH9viyTux\n",
       "s7LXJ/w1T2ysj20dOLA9trWsNrfm/vyedeaxsa1pW9s+ZvC/O2NlZ69P+IE2NtdG99ZWt0b3ls2J\n",
       "4c+Jh9Y3RvcmrR44vf8tl93WscU/Y6yeubyvr+ODn6H2g4NL/Kzg9KGEAAAAAEBCGQAAAABUQhkA\n",
       "AAAAVEIZAAAAAFRCGQAAAABUQhkAAAAAVEIZAAAAAFRCGQAAAABUQhkAAAAAVEIZAAAAAFRCGQAA\n",
       "AABUQhkAAAAAVEIZAAAAAFRCGQAAAABUQhkAAAAAVEIZAAAAAFRCGQAAAABUQhkAAAAAVLVSqzt7\n",
       "fQSw/zxw9WWjexd+9POje5w+Hrz2krGtC267d2xrWX3j9S8a23rOh784tlX1h1deufDGgTNODFyy\n",
       "66I7PzO6B9/P1Pty+j25rCaf+zXz7L//FVcMXLJr+8Tc7x1efNddY1v7wV+87SdG9/7Ou/+/0b3J\n",
       "1//awc2FN5b9uTP5uWfz+NrYVs08e3zn+tvxizIAAAAASCgDAAAAgEooAwAAAIBKKAMAAACASigD\n",
       "AAAAgEooAwAAAIBKKAMAAACASigDAAAAgEooAwAAAIBKKAMAAACASigDAAAAgEooAwAAAIBKKAMA\n",
       "AACASigDAAAAgEooAwAAAIBKKAMAAACASigDAAAAgEooAwAAAIBKKAMAAACAqlZqdWevj2A5Xf/0\n",
       "Xxrdu+Wx3xzdWzbXPe0to3u3fvu9o3vvft4bx7Y2Tize2N/x0PsHLtmfJv4t3/a1Dwxcsuu2F/2T\n",
       "sa2zDm6ObVW98r7fHd2b8N8u+/mxre9sro9tVb3m9z8ytvXIDReObVWde/MDo3ucfO88/02je5N/\n",
       "Sz518S+MbU1bxufYx3/2daN7f7Fx5tjWP/3j/zS2VfXw9RctvHHeLfcPXLI/TfwtOb4x97dy+t9y\n",
       "49/N/h1f/1cbo3vL5vF/87TRvbP+9bdH9zg9+EUZAAAAACSUAQAAAEAllAEAAABAJZQBAAAAQCWU\n",
       "AQAAAEAllAEAAABAJZQBAAAAQCWUAQAAAEAllAEAAABAJZQBAAAAQCWUAQAAAEAllAEAAABAJZQB\n",
       "AAAAQCWUAQAAAEAllAEAAABAJZQBAAAAQCWUAQAAAEAllAEAAABAJZQBAAAAQFUrtbqz10cA+8+7\n",
       "nnvj6N7bv37T6B6nj09fes3Y1suP3D62taw+efF1Y1tX3Xfr2FbV//uGixbeOPbEoYFLdj3/9iOj\n",
       "e/D9TL0vp9+Ty+p3fvoNo3v/+I8+tPDGV6+5dOCSXRsba2Nb/+COu8e29oMHr71kdO+C2+4d3Tv6\n",
       "K+eMbR177GkLb5zzvocGLnnqfOvN549tbW8eHNuqevZvfWXhjUduuHDgkl3n3vzA6N6y8osyAAAA\n",
       "AEgoAwAAAIBKKAMAAACASigDAAAAgEooAwAAAIBKKAMAAACASigDAAAAgEooAwAAAIBKKAMAAACA\n",
       "SigDAAAAgEooAwAAAIBKKAMAAACASigDAAAAgEooAwAAAIBKKAMAAACASigDAAAAgEooAwAAAIBK\n",
       "KAMAAACAqlb3+gBgf/rxteN7fQL7xPETB/b6hFPKodXNvT7hB/rO/zy88Mbqwa2BS+DkWj1je69P\n",
       "OKUcXlu+59jmxtro3uoBr4m9snZw+V5f3+vYY08b21pZ2RnbWlYnjs99TjywhN9v1p/2nb0+4ZTk\n",
       "F2UAAAAAkFAGAAAAAJVQBgAAAACVUAYAAAAAlVAGAAAAAJVQBgAAAACVUAYAAAAAlVAGAAAAAJVQ\n",
       "BgAAAACVUAYAAAAAlVAGAAAAAJVQBgAAAACVUAYAAAAAlVAGAAAAAJVQBgAAAACVUAYAAAAAVa3U\n",
       "6s5eHwEAcCp64tcPj20d+rWjY1sAP6qjv/rM0b3Dv/Ho6B6ntuPvnf1tzsG3nBjdW2Yb71pbeGP9\n",
       "7ZsDl+ya/Nyz/fj62FbNPnv8ogwAAAAAEsoAAAAAoBLKAAAAAKASygAAAACgEsoAAAAAoBLKAAAA\n",
       "AKASygAAAACgEsoAAAAAoBLKAAAAAKASygAAAACgEsoAAAAAoBLKAAAAAKASygAAAACgEsoAAAAA\n",
       "oBLKAAAAAKASygAAAACgEsoAAAAAoBLKAAAAAKASygAAAACgqpVa3dnrI1hO1z3tLaN7t377vaN7\n",
       "y+b6p//S6N4tj/3m6N47z3/T2Nb6GScW3njb1z4wcMn+NPFv+Y6H3j9wya7f/gf/bGzr76wfG9uq\n",
       "es3vf2R0b8KnLv6FvT7hB3rlfb87tvXw9ReNbVWdd8v9o3ucfO9+3htH9yb/lnz8Z183tlV19trG\n",
       "2NbLPv9/j21NmX6OPX58bWzr2i/+57GtqkduuHDhjXNvfmDgkv1p4m/JwfW59+P0v+Xj/+Zpo3tn\n",
       "/etvj+4tm41/tz66t/6v5l4bnD78ogwAAAAAEsoAAAAAoBLKAAAAAKASygAAAACgEsoAAAAAoBLK\n",
       "AAAAAKASygAAAACgEsoAAAAAoBLKAAAAAKASygAAAACgEsoAAAAAoBLKAAAAAKASygAAAACgEsoA\n",
       "AAAAoBLKAAAAAKASygAAAACgEsoAAAAAoBLKAAAAAKASygAAAACgqpVa3dnrI4D956YX3DC6d+OX\n",
       "bx7d4/TxyYuvG9u66r5bx7aW1V2XXjO2deWR28e2qr782p9beGN7+8DAJbteeMfdo3vw/dx92dUj\n",
       "Oy/9/EdHdpbd5HO/Zp79D157ycAlu7aOr45tveBjnxvb2g++8foXje4958NfHN371pvPH9s6cXzx\n",
       "v5nP+uCDA5c8dR59y0+Obe3srIxtVZ3zvocW3njsrecNXLLr6e95eHRvWflFGQAAAAAklAEAAABA\n",
       "JZQBAAAAQCWUAQAAAEAllAEAAABAJZQBAAAAQCWUAQAAAEAllAEAAABAJZQBAAAAQCWUAQAAAEAl\n",
       "lAEAAABAJZQBAAAAQCWUAQAAAEAllAEAAABAJZQBAAAAQCWUAQAAAEAllAEAAABAJZQBAAAAQFWr\n",
       "e30AsD/95ebBvT6BfeLo5tpen3BK2TpxYK9P+IG2the/bX19c+ASOLme2PIcezIOnrG91yf8NTs7\n",
       "K6N7Z//Y0dE9fnSbx5f7/bg9+Bn7X35VIQAABK1JREFUwNrxsa1lNfnePPPp3x7bmrLx7bP3+oRT\n",
       "kl+UAQAAAEBCGQAAAABUQhkAAAAAVEIZAAAAAFRCGQAAAABUQhkAAAAAVEIZAAAAAFRCGQAAAABU\n",
       "QhkAAAAAVEIZAAAAAFRCGQAAAABUQhkAAAAAVEIZAAAAAFRCGQAAAABUQhkAAAAAVEIZAAAAAFRC\n",
       "GQAAAABUQhkAAAAAVEIZAAAAAFS1Uqs7e30EAMCp6OivPnNs6/BvPDq2BfCjeuLXD4/uHfq1o6N7\n",
       "nNo23rU2urf+9s3RvWV2/L2L/67p4FtODFyya/Jzz4GzNsa2avbZ4xdlAAAAAJBQBgAAAACVUAYA\n",
       "AAAAlVAGAAAAAJVQBgAAAACVUAYAAAAAlVAGAAAAAJVQBgAAAACVUAYAAAAAlVAGAAAAAJVQBgAA\n",
       "AACVUAYAAAAAlVAGAAAAAJVQBgAAAACVUAYAAAAAlVAGAAAAAFWt1OrOXh8B7D//8lm/NLr3H775\n",
       "m6N7nD7e9dwbx7be/vWbxraW1U0vuGFs68Yv3zy2VfXpS69ZeGNtdWvgkl2X3/Ox0T34fqbel9Pv\n",
       "yWU1+dyvmWf/PZe/duCSXZtbq2NbLz9y+9jWfvDA1ZeN7l340c+P7j1yw4VjW+tP+87CG09/z8MD\n",
       "lzx1HnvreWNbG98+e2yr6tybH1h4Y+vWHx+4ZNfqdX85ures/KIMAAAAABLKAAAAAKASygAAAACg\n",
       "EsoAAAAAoBLKAAAAAKASygAAAACgEsoAAAAAoBLKAAAAAKASygAAAACgEsoAAAAAoBLKAAAAAKAS\n",
       "ygAAAACgEsoAAAAAoBLKAAAAAKASygAAAACgEsoAAAAAoBLKAAAAAKASygAAAACgEsoAAAAAoKqV\n",
       "Wt3Z6yMAAE5FD15zydjWBbffO7YF8KP6k1e9dHTvhXfcPbrHqe2JXz88unfo146O7i2zo7/6zIU3\n",
       "Dv/GowOX7Nr6L8+YG/vO43Nb1er1x8a2/KIMAAAAABLKAAAAAKASygAAAACgEsoAAAAAoBLKAAAA\n",
       "AKASygAAAACgEsoAAAAAoBLKAAAAAKASygAAAACgEsoAAAAAoBLKAAAAAKASygAAAACgEsoAAAAA\n",
       "oBLKAAAAAKASygAAAACgEsoAAAAAoBLKAAAAAKASygAAAACgqtW9PgAA4FS1sbG+1ycALGR9fWOv\n",
       "T+A0tv349N/Jo8N7y+vAWUv43vzO43NbZ581t1XVsbElvygDAAAAgIQyAAAAAKiEMgAAAACohDIA\n",
       "AAAAqIQyAAAAAKiEMgAAAACohDIAAAAAqIQyAAAAAKiEMgAAAACohDIAAAAAqIQyAAAAAKiEMgAA\n",
       "AACohDIAAAAAqIQyAAAAAKiEMgAAAACohDIAAAAAqIQyAAAAAKiEMgAAAACohDIAAAAAqGqlVnf2\n",
       "+ggAAAAA+NvY2rl5bMsvygAAAAAgoQwAAAAAKqEMAAAAACqhDAAAAAAqoQwAAAAAKqEMAAAAACqh\n",
       "DAAAAAAqoQwAAAAAKqEMAAAAACqhDAAAAAAqoQwAAAAAKqEMAAAAACqhDAAAAAAqoQwAAAAAKqEM\n",
       "AAAAACqhDAAAAAAqoQwAAAAAKqEMAAAAAKr6/wGbIJoqsuOidwAAAABJRU5ErkJggg==\n",
       "\" transform=\"translate(513, 186)\"/>\n",
       "</g>\n",
       "<defs>\n",
       "  <clipPath id=\"clip984\">\n",
       "    <rect x=\"2160\" y=\"185\" width=\"73\" height=\"1227\"/>\n",
       "  </clipPath>\n",
       "</defs>\n",
       "<g clip-path=\"url(#clip984)\">\n",
       "<image width=\"72\" height=\"1226\" xlink:href=\"data:image/png;base64,\n",
       "iVBORw0KGgoAAAANSUhEUgAAAEgAAATKCAYAAADy2iKHAAAKwklEQVR4nO3dwY3sRhAFQY5Q/lsh\n",
       "L6XfLQtUeSQPERYMEg9Ek8Od/f17/r4P/+uvtz/A1wkUBAoChTn337c/w6dZUBAoCBQECnPvn7c/\n",
       "w6dZUBAoCBQECk7SwYKCQEGgIFCY6yK9sqAgUBAozD2uQRsLCgIFgYJAwUExWFAQKAgUBAou0sGC\n",
       "gkBBoCBQ8LgjWFAQKAgUBArzOEmvLCgIFAQK7uaDBQWBgkBBoDCPu/mVBQWBgkBBoDDP+eftz/Bp\n",
       "FhQECgIFgYJHrsGCgkBBoCBQ8LgjWFAQKAgUXIOCBQWBgkBBoOBuPlhQECgIFAQK83OSXllQECgI\n",
       "FAQK8xw/druxoCBQECg4KAYLCgIFgYJAwUExWFAQKAgUBApeXggWFAQKAgWBwvycpFcWFAQKAgWB\n",
       "gjfMggUFgYJAwUExWFAQKAgUBAq+FwsWFAQKAgWBgpN0sKAgUBAoCBScpIMFBYGCQEGg4CQdLCgI\n",
       "FAQK85zz9mf4NAsKAgWBgkDBQTFYUBAoCBQECh65BgsKAgWBgkDBRTpYUBAoCBQECvPzTHplQUGg\n",
       "IFBwUAwWFAQKAgWBgpcXggUFgYJAQaDgbj5YUBAoCBQECh53BAsKAgWBgrv5YEFBoCBQECi4SAcL\n",
       "CgIFgYJAwd+LBQsKAgWBgkDBSTpYUBAoCBQECi7SwYKCQEGg4BoULCgIFAQKAgUX6WBBQaAgUBAo\n",
       "zHNdpDcWFAQKAgWBgpN0sKAgUBAoCBRcpIMFBYGCQME1KFhQECgIFAQK85z79mf4NAsKAgWBgkDB\n",
       "STpYUBAoCBQECk7SwYKCQEGgIFBwkg4WFAQKAgUHxWBBQaAgUBAozOOcuLKgIFAQKAgU5rlO0hsL\n",
       "CgIFgYJAwUk6WFAQKAgUXIOCBQWBgkBBoDB+/GVnQUGgIFAQKDhJBwsKAgWBgkDBRTpYUBAoCBQE\n",
       "CvOc39uf4dMsKAgUBApzr2vQxoKCQEGgIFBwNx8sKAgUBAoCBXfzwYKCQEGgIFCYezTaqBMECgIF\n",
       "gYKTdLCgIFAQKMzje7GVBQWBgkBBoDDXQXFlQUGgIFAQKMzjketKnSBQECgIFJykgwUFgYJAQaDg\n",
       "mXSwoCBQECh4gSqoEwQKAgWBgheoggUFgYJAQaDgkWuwoCBQECgIFOZejTbqBIGCQMHdfLCgIFAQ\n",
       "KAgU3M0HCwoCBYGCQGEed/MrdYJAQaAgUHCSDhYUBAoCBYGCi3SwoCBQECj4c6hgQUGgIFAQKPh7\n",
       "saBOECgIFAQK/glksKAgUBAoCBQ8cg0WFAQKAgWBgh+7DeoEgYJAwd18sKAgUBAoCBTczQcLCgIF\n",
       "gYJAwUk6WFAQKAgUBAreMAvqBIGCQEGg4CQdLCgIFAQKHrkGCwoCBYGCQMFBMVhQECgIFAQKfpE8\n",
       "WFAQKAgUBAr+dU1QJwgUBAru5oMFBYGCQEGg4HuxYEFBoCBQECg4SQcLCgIFgYJAYY6L9MqCgkBB\n",
       "oCBQ8PdiQZ0gUBAouJsPFhQECgIFgYKLdLCgIFAQKAgUvLwQLCgIFAQKAgUn6WBBQaAgUBAouEgH\n",
       "CwoCBYGCv1kN6gSBgkBBoDDHI9eVBQWBgkBBoOBuPlhQECgIFAQKLtLBgoJAQaAgUHCRDhYUBAoC\n",
       "BT8sECwoCBQECgIFB8VgQUGgIFAQKLhIBwsKAgWBgkDBa8BBnSBQECh4yzVYUBAoCBQECu7mgwUF\n",
       "gYJAQaDgIh0sKAgUBAoCBW+YBQsKAgWBgkDBSTpYUBAoCBTmPq5BGwsKAgWBgkDB3XywoCBQECgI\n",
       "FNzNBwsKAgWBgkDBSTpYUBAoCBQECk7SwYKCQEGg4KAYLCgIFAQKAgUHxWBBQaAgUBAouEgHCwoC\n",
       "BYGCQGGO14BXFhQECgIFB8VgQUGgIFAQKPheLFhQECgIFAQKc+/bH+HbLCgIFAQKAgUn6WBBQaAg\n",
       "UBAo+HmcYEFBoCBQcFAMFhQECgIFgYKXF4IFBYGCQEGg4C3XYEFBoCBQECh4eSFYUBAoCBQECp5J\n",
       "BwsKAgWBgkeuwYKCQEGgIFDwyDVYUBAoCBQECu7mgwUFgYJAQaDge7FgQUGgIFAQKHjcESwoCBQE\n",
       "Cr4XCxYUBAoCBYHCnLc/wcdZUBAoCBQECk7SwYKCQEGgIFDw8kKwoCBQECi4mw8WFAQKAgWBgrv5\n",
       "YEFBoCBQECg4SQcLCgIFgYJAwUk6WFAQKAgUBAq+FwsWFAQKAoXxJ6s7CwoCBYGCQMFBMVhQECgI\n",
       "FAQKvhcLFhQECgIFgYLvxYIFBYGCQEGg4CQdLCgIFAQKDorBgoJAQaAgUJjj7YWVBQWBgkBBoOBu\n",
       "PlhQECgIFAQKHncECwoCBYGCQMFJOlhQECgIFPyPw2BBQaAgUBAo+B+HwYKCQEGgIFDw8kKwoCBQ\n",
       "ECgIFPw8TrCgIFAQKPj1l2BBQaAgUBAo+F4sWFAQKAgUBApeoAoWFAQKAgWBgj9FCBYUBAoCBYGC\n",
       "k3SwoCBQECh4gSpYUBAoCBQECl6gChYUBAoCBYGCk3SwoCBQECgIFLxhFiwoCBQECgIFv7wQLCgI\n",
       "FAQK7uaDBQWBgkBBoOB7sWBBQaAgUBAoOEkHCwoCBYGCQMFJOlhQECgIFAQKTtLBgoJAQaDgGhQs\n",
       "KAgUBAoCBXfzwYKCQEGgIFBwkg4WFAQKAgWBgpN0sKAgUBAoOCgGCwoCBYGCQMEPCwQLCgIFgYJA\n",
       "wQ9uBwsKAgWBgkDB445gQUGgIFAQKMx9XKU3FhQECgIFB8VgQUGgIFAQKPheLFhQECgIFAQKvhcL\n",
       "FhQECgIFgYLHHcGCgkBBoCBQ8L1YsKAgUBAoOCgGCwoCBYGCQMEPCwQLCgIFgYJAYY63F1YWFAQK\n",
       "AgWBgpcXggUFgYJAQaAw10l6ZUFBoCBQcFAMFhQECgIFgYJHrsGCgkBBoCBQ8PJCsKAgUBAoCBTm\n",
       "+FOElQUFgYJAwd18sKAgUBAoCBT8zWqwoCBQECgIFLy8ECwoCBQECgIFj1yDBQWBgkBBoOBxR7Cg\n",
       "IFAQKMx53M9vLCgIFAQKAgV388GCgkBBoCBQcJEOFhQECgIFgYJHrsGCgkBBoCBQ8Ew6WFAQKAgU\n",
       "5vwcFDcWFAQKAgWBgoNisKAgUBAoCBTmukivLCgIFAQKAgUn6WBBQaAgUBAozPm5SG8sKAgUBAoO\n",
       "isGCgkBBoCBQ8Mg1WFAQKAgUBApO0sGCgkBBoCBQcJEOFhQECgIFX/sECwoCBYGCQGHu8+ftz/Bp\n",
       "FhQECgIFgYK7+WBBQaAgUBAoeHkhWFAQKAgUBApzrscdGwsKAgWBgoNisKAgUBAoCBTm+F5sZUFB\n",
       "oCBQECg4SQcLCgIFgYJAwUk6WFAQKAgUBApzr5P0xoKCQEGg4G4+WFAQKAgUBApeoAoWFAQKAgWB\n",
       "gpN0sKAgUBAoCBTmOkmvLCgIFAQKAgUn6WBBQaAgUJjju/mVBQWBgkBBoOB3FIMFBYGCQEGg4C3X\n",
       "YEFBoCBQECh45BosKAgUBAoOisGCgkBBoCBQcJEOFhQECgIFgYLvxYIFBYGCQEGg4CQdLCgIFAQK\n",
       "AoV5fC+2sqAgUBAoOCgGCwoCBYGCQMELVMGCgkBBoCBQmMdJemVBQaAgUBAoeHkhWFAQKAgUBAq+\n",
       "FwsWFAQKAgV388GCgkBBoCBQmPvctz/Dp1lQECgIFAQK7uaDBQWBgkBBoDCPk/TKgoJAQaDwH7yi\n",
       "7KPNl7pSAAAAAElFTkSuQmCC\n",
       "\" transform=\"translate(2161, 186)\"/>\n",
       "</g>\n",
       "<path clip-path=\"url(#clip980)\" d=\"M 0 0 M2268.76 1370.5 L2298.43 1370.5 L2298.43 1374.44 L2268.76 1374.44 L2268.76 1370.5 Z\" fill=\"#000000\" fill-rule=\"evenodd\" fill-opacity=\"1\" /><path clip-path=\"url(#clip980)\" d=\"M 0 0 M2303.64 1386.61 L2303.64 1382.35 Q2305.4 1383.19 2307.2 1383.62 Q2309.01 1384.06 2310.75 1384.06 Q2315.38 1384.06 2317.81 1380.96 Q2320.26 1377.84 2320.61 1371.5 Q2319.26 1373.49 2317.2 1374.55 Q2315.14 1375.62 2312.64 1375.62 Q2307.46 1375.62 2304.43 1372.49 Q2301.42 1369.34 2301.42 1363.9 Q2301.42 1358.58 2304.57 1355.36 Q2307.71 1352.14 2312.95 1352.14 Q2318.94 1352.14 2322.09 1356.75 Q2325.26 1361.33 2325.26 1370.08 Q2325.26 1378.25 2321.37 1383.14 Q2317.51 1388 2310.95 1388 Q2309.2 1388 2307.39 1387.65 Q2305.58 1387.31 2303.64 1386.61 M2312.95 1371.96 Q2316.09 1371.96 2317.92 1369.81 Q2319.77 1367.65 2319.77 1363.9 Q2319.77 1360.18 2317.92 1358.02 Q2316.09 1355.85 2312.95 1355.85 Q2309.8 1355.85 2307.95 1358.02 Q2306.12 1360.18 2306.12 1363.9 Q2306.12 1367.65 2307.95 1369.81 Q2309.8 1371.96 2312.95 1371.96 Z\" fill=\"#000000\" fill-rule=\"evenodd\" fill-opacity=\"1\" /><path clip-path=\"url(#clip980)\" d=\"M 0 0 M2268.76 1188.76 L2298.43 1188.76 L2298.43 1192.7 L2268.76 1192.7 L2268.76 1188.76 Z\" fill=\"#000000\" fill-rule=\"evenodd\" fill-opacity=\"1\" /><path clip-path=\"url(#clip980)\" d=\"M 0 0 M2313.5 1189.18 Q2310.17 1189.18 2308.25 1190.96 Q2306.35 1192.74 2306.35 1195.87 Q2306.35 1198.99 2308.25 1200.78 Q2310.17 1202.56 2313.5 1202.56 Q2316.83 1202.56 2318.76 1200.78 Q2320.68 1198.97 2320.68 1195.87 Q2320.68 1192.74 2318.76 1190.96 Q2316.86 1189.18 2313.5 1189.18 M2308.83 1187.19 Q2305.82 1186.45 2304.13 1184.39 Q2302.46 1182.33 2302.46 1179.36 Q2302.46 1175.22 2305.4 1172.81 Q2308.36 1170.4 2313.5 1170.4 Q2318.66 1170.4 2321.6 1172.81 Q2324.54 1175.22 2324.54 1179.36 Q2324.54 1182.33 2322.85 1184.39 Q2321.19 1186.45 2318.2 1187.19 Q2321.58 1187.97 2323.45 1190.27 Q2325.35 1192.56 2325.35 1195.87 Q2325.35 1200.89 2322.27 1203.58 Q2319.22 1206.26 2313.5 1206.26 Q2307.78 1206.26 2304.7 1203.58 Q2301.65 1200.89 2301.65 1195.87 Q2301.65 1192.56 2303.55 1190.27 Q2305.45 1187.97 2308.83 1187.19 M2307.11 1179.8 Q2307.11 1182.49 2308.78 1183.99 Q2310.47 1185.5 2313.5 1185.5 Q2316.51 1185.5 2318.2 1183.99 Q2319.91 1182.49 2319.91 1179.8 Q2319.91 1177.12 2318.2 1175.61 Q2316.51 1174.11 2313.5 1174.11 Q2310.47 1174.11 2308.78 1175.61 Q2307.11 1177.12 2307.11 1179.8 Z\" fill=\"#000000\" fill-rule=\"evenodd\" fill-opacity=\"1\" /><path clip-path=\"url(#clip980)\" d=\"M 0 0 M2268.76 1007.02 L2298.43 1007.02 L2298.43 1010.96 L2268.76 1010.96 L2268.76 1007.02 Z\" fill=\"#000000\" fill-rule=\"evenodd\" fill-opacity=\"1\" /><path clip-path=\"url(#clip980)\" d=\"M 0 0 M2302.32 989.291 L2324.54 989.291 L2324.54 991.282 L2312 1023.85 L2307.11 1023.85 L2318.92 993.226 L2302.32 993.226 L2302.32 989.291 Z\" fill=\"#000000\" fill-rule=\"evenodd\" fill-opacity=\"1\" /><path clip-path=\"url(#clip980)\" d=\"M 0 0 M2268.76 825.284 L2298.43 825.284 L2298.43 829.219 L2268.76 829.219 L2268.76 825.284 Z\" fill=\"#000000\" fill-rule=\"evenodd\" fill-opacity=\"1\" /><path clip-path=\"url(#clip980)\" d=\"M 0 0 M2314.08 822.969 Q2310.93 822.969 2309.08 825.121 Q2307.25 827.274 2307.25 831.024 Q2307.25 834.751 2309.08 836.927 Q2310.93 839.08 2314.08 839.08 Q2317.23 839.08 2319.06 836.927 Q2320.91 834.751 2320.91 831.024 Q2320.91 827.274 2319.06 825.121 Q2317.23 822.969 2314.08 822.969 M2323.36 808.316 L2323.36 812.575 Q2321.6 811.742 2319.8 811.302 Q2318.01 810.862 2316.26 810.862 Q2311.63 810.862 2309.17 813.987 Q2306.74 817.112 2306.39 823.432 Q2307.76 821.418 2309.82 820.353 Q2311.88 819.265 2314.36 819.265 Q2319.57 819.265 2322.58 822.436 Q2325.61 825.584 2325.61 831.024 Q2325.61 836.348 2322.46 839.566 Q2319.31 842.783 2314.08 842.783 Q2308.08 842.783 2304.91 838.2 Q2301.74 833.594 2301.74 824.867 Q2301.74 816.672 2305.63 811.811 Q2309.52 806.927 2316.07 806.927 Q2317.83 806.927 2319.61 807.274 Q2321.42 807.622 2323.36 808.316 Z\" fill=\"#000000\" fill-rule=\"evenodd\" fill-opacity=\"1\" /><path clip-path=\"url(#clip980)\" d=\"M 0 0 M2268.76 643.545 L2298.43 643.545 L2298.43 647.48 L2268.76 647.48 L2268.76 643.545 Z\" fill=\"#000000\" fill-rule=\"evenodd\" fill-opacity=\"1\" /><path clip-path=\"url(#clip980)\" d=\"M 0 0 M2303.55 625.813 L2321.9 625.813 L2321.9 629.748 L2307.83 629.748 L2307.83 638.221 Q2308.85 637.873 2309.87 637.711 Q2310.89 637.526 2311.9 637.526 Q2317.69 637.526 2321.07 640.697 Q2324.45 643.869 2324.45 649.285 Q2324.45 654.864 2320.98 657.966 Q2317.51 661.045 2311.19 661.045 Q2309.01 661.045 2306.74 660.674 Q2304.5 660.304 2302.09 659.563 L2302.09 654.864 Q2304.17 655.998 2306.39 656.554 Q2308.62 657.109 2311.09 657.109 Q2315.1 657.109 2317.44 655.003 Q2319.77 652.896 2319.77 649.285 Q2319.77 645.674 2317.44 643.568 Q2315.1 641.461 2311.09 641.461 Q2309.22 641.461 2307.34 641.878 Q2305.49 642.295 2303.55 643.174 L2303.55 625.813 Z\" fill=\"#000000\" fill-rule=\"evenodd\" fill-opacity=\"1\" /><path clip-path=\"url(#clip980)\" d=\"M 0 0 M2268.76 461.806 L2298.43 461.806 L2298.43 465.741 L2268.76 465.741 L2268.76 461.806 Z\" fill=\"#000000\" fill-rule=\"evenodd\" fill-opacity=\"1\" /><path clip-path=\"url(#clip980)\" d=\"M 0 0 M2316.35 448.149 L2304.54 466.597 L2316.35 466.597 L2316.35 448.149 M2315.12 444.074 L2321 444.074 L2321 466.597 L2325.93 466.597 L2325.93 470.486 L2321 470.486 L2321 478.634 L2316.35 478.634 L2316.35 470.486 L2300.75 470.486 L2300.75 465.972 L2315.12 444.074 Z\" fill=\"#000000\" fill-rule=\"evenodd\" fill-opacity=\"1\" /><path clip-path=\"url(#clip980)\" d=\"M 0 0 M2268.76 280.067 L2298.43 280.067 L2298.43 284.002 L2268.76 284.002 L2268.76 280.067 Z\" fill=\"#000000\" fill-rule=\"evenodd\" fill-opacity=\"1\" /><path clip-path=\"url(#clip980)\" d=\"M 0 0 M2317.67 278.261 Q2321.02 278.979 2322.9 281.248 Q2324.8 283.516 2324.8 286.849 Q2324.8 291.965 2321.28 294.766 Q2317.76 297.567 2311.28 297.567 Q2309.1 297.567 2306.79 297.127 Q2304.5 296.71 2302.04 295.854 L2302.04 291.34 Q2303.99 292.474 2306.3 293.053 Q2308.62 293.632 2311.14 293.632 Q2315.54 293.632 2317.83 291.896 Q2320.14 290.16 2320.14 286.849 Q2320.14 283.794 2317.99 282.081 Q2315.86 280.345 2312.04 280.345 L2308.01 280.345 L2308.01 276.502 L2312.23 276.502 Q2315.68 276.502 2317.51 275.136 Q2319.33 273.748 2319.33 271.155 Q2319.33 268.493 2317.44 267.081 Q2315.56 265.646 2312.04 265.646 Q2310.12 265.646 2307.92 266.062 Q2305.72 266.479 2303.08 267.359 L2303.08 263.192 Q2305.75 262.451 2308.06 262.081 Q2310.4 261.711 2312.46 261.711 Q2317.78 261.711 2320.89 264.141 Q2323.99 266.549 2323.99 270.669 Q2323.99 273.539 2322.34 275.53 Q2320.7 277.498 2317.67 278.261 Z\" fill=\"#000000\" fill-rule=\"evenodd\" fill-opacity=\"1\" /><polyline clip-path=\"url(#clip980)\" style=\"stroke:#000000; stroke-width:4; stroke-opacity:1; fill:none\" points=\"\n",
       "  2232.76,1411.9 2232.76,1373.68 2256.76,1373.68 2232.76,1373.68 2232.76,1191.94 2256.76,1191.94 2232.76,1191.94 2232.76,1010.2 2256.76,1010.2 2232.76,1010.2 \n",
       "  2232.76,828.461 2256.76,828.461 2232.76,828.461 2232.76,646.722 2256.76,646.722 2232.76,646.722 2232.76,464.983 2256.76,464.983 2232.76,464.983 2232.76,283.244 \n",
       "  2256.76,283.244 2232.76,283.244 2232.76,185.936 \n",
       "  \"/>\n",
       "</svg>\n"
      ]
     },
     "execution_count": 22,
     "metadata": {},
     "output_type": "execute_result"
    }
   ],
   "source": [
    "heatmap(log.(max.(σtherm, 1e-4)), title=L\"\\sigma_{\\beta}\", yflip=true, aspect_ratio=:equal)"
   ]
  },
  {
   "cell_type": "markdown",
   "metadata": {},
   "source": [
    "## Parameterized quantum circuit and latent density matrix"
   ]
  },
  {
   "cell_type": "code",
   "execution_count": 23,
   "metadata": {},
   "outputs": [
    {
     "data": {
      "text/plain": [
       "construct_parameterized_layer"
      ]
     },
     "execution_count": 23,
     "metadata": {},
     "output_type": "execute_result"
    }
   ],
   "source": [
    "\"\"\"\n",
    "Construct a parametrized quantum layer consisting of single and two qubit rotation gates.\n",
    "\"\"\"\n",
    "function construct_parameterized_layer(L::Integer, istart::Integer)\n",
    "\n",
    "    # TODO: take 2D adjacency into account? periodic boundary conditions?\n",
    "\n",
    "    # local gates\n",
    "    Uloc = [Moment([circuit_gate(i, RotationGate(0.05*π*randn(3))) for i in 1:L])]\n",
    "\n",
    "    # interaction gates\n",
    "    Uint = [\n",
    "        Moment([circuit_gate(i, i+1, EntanglementXXGate(0.05π*randn())) for i in istart:2:L-1]),\n",
    "        Moment([circuit_gate(i, i+1, EntanglementYYGate(0.05π*randn())) for i in istart:2:L-1]),\n",
    "        Moment([circuit_gate(i, i+1, EntanglementZZGate(0.05π*randn())) for i in istart:2:L-1])]\n",
    "\n",
    "    return vcat(Uloc, Uint)\n",
    "end"
   ]
  },
  {
   "cell_type": "code",
   "execution_count": 24,
   "metadata": {},
   "outputs": [],
   "source": [
    "# parameterized quantum circuit gate chain\n",
    "cgc = vcat(construct_parameterized_layer(L, 1), construct_parameterized_layer(L, 2), construct_parameterized_layer(L, 1));"
   ]
  },
  {
   "cell_type": "code",
   "execution_count": 25,
   "metadata": {},
   "outputs": [],
   "source": [
    "# use Hamiltonian as measurement operator; note that H gets converted to a complex matrix here\n",
    "Hmeas = MeasurementOperator(H, Tuple(1:L));"
   ]
  },
  {
   "cell_type": "code",
   "execution_count": 26,
   "metadata": {},
   "outputs": [
    {
     "data": {
      "text/plain": [
       "\n",
       "    6 —[Rθ]———□—————□—————□————[Rθ]————————————————————[Rθ]———□—————□—————□———\n",
       "              |     |     |                                   |     |     |   \n",
       "    5 —[Rθ]———□—————□—————□————[Rθ]———□—————□—————□————[Rθ]———□—————□—————□———\n",
       "                                      |     |     |                           \n",
       "    4 —[Rθ]———□—————□—————□————[Rθ]———□—————□—————□————[Rθ]———□—————□—————□———\n",
       "              |     |     |                                   |     |     |   \n",
       "    3 —[Rθ]———□—————□—————□————[Rθ]———□—————□—————□————[Rθ]———□—————□—————□———\n",
       "                                      |     |     |                           \n",
       "    2 —[Rθ]———□—————□—————□————[Rθ]———□—————□—————□————[Rθ]———□—————□—————□———\n",
       "              |     |     |                                   |     |     |   \n",
       "    1 —[Rθ]———□—————□—————□————[Rθ]——————————————[Rθ]—————————□—————□—————□———\n"
      ]
     },
     "execution_count": 26,
     "metadata": {},
     "output_type": "execute_result"
    }
   ],
   "source": [
    "# parameterized quantum circuit\n",
    "circ = Circuit{L}(cgc, [Hmeas])"
   ]
  },
  {
   "cell_type": "code",
   "execution_count": 27,
   "metadata": {},
   "outputs": [
    {
     "data": {
      "text/plain": [
       "latent_density (generic function with 1 method)"
      ]
     },
     "execution_count": 27,
     "metadata": {},
     "output_type": "execute_result"
    }
   ],
   "source": [
    "# use representation of density matrix in terms of Pauli matrices; cos(θ) is Bloch vector coefficient of Pauli-Z for each qubit\n",
    "latent_density(θlist) = DensityMatrix(kron([[1, 0, 0, cos(θ)] for θ in θlist]...), length(θlist))"
   ]
  },
  {
   "cell_type": "code",
   "execution_count": 28,
   "metadata": {},
   "outputs": [
    {
     "data": {
      "text/plain": [
       "DensityMatrix([1.0, 0.0, 0.0, 0.38268343236508984, 0.0, 0.0, 0.0, 0.0, 0.0, 0.0, 0.0, 0.0, 0.5000000000000001, 0.0, 0.0, 0.19134171618254497], 2)"
      ]
     },
     "execution_count": 28,
     "metadata": {},
     "output_type": "execute_result"
    }
   ],
   "source": [
    "# example\n",
    "latent_density([π/3, 3π/8])"
   ]
  },
  {
   "cell_type": "markdown",
   "metadata": {},
   "source": [
    "## Target (\"loss\") function and distance measures"
   ]
  },
  {
   "cell_type": "code",
   "execution_count": 29,
   "metadata": {},
   "outputs": [
    {
     "data": {
      "text/plain": [
       "xlogx"
      ]
     },
     "execution_count": 29,
     "metadata": {},
     "output_type": "execute_result"
    }
   ],
   "source": [
    "\"\"\"\n",
    "    xlogx(x::Number)\n",
    "\n",
    "Compute `x * log(x)`, returning zero if `x` is zero. (Copied from StatsFuns.jl package.)\n",
    "\"\"\"\n",
    "function xlogx(x::Number)\n",
    "    result = x * log(x)\n",
    "    ifelse(iszero(x), zero(result), result)\n",
    "end"
   ]
  },
  {
   "cell_type": "code",
   "execution_count": 30,
   "metadata": {},
   "outputs": [
    {
     "data": {
      "text/plain": [
       "binary_entropy"
      ]
     },
     "execution_count": 30,
     "metadata": {},
     "output_type": "execute_result"
    }
   ],
   "source": [
    "\"\"\"\n",
    "    binary_entropy(p::Number)\n",
    "\n",
    "Compute the binary entropy of `p` (natural logarithm).\n",
    "\"\"\"\n",
    "binary_entropy(p::Number) = -(xlogx(p) + xlogx(1 - p))"
   ]
  },
  {
   "cell_type": "code",
   "execution_count": 31,
   "metadata": {},
   "outputs": [
    {
     "data": {
      "image/svg+xml": [
       "<?xml version=\"1.0\" encoding=\"utf-8\"?>\n",
       "<svg xmlns=\"http://www.w3.org/2000/svg\" xmlns:xlink=\"http://www.w3.org/1999/xlink\" width=\"600\" height=\"400\" viewBox=\"0 0 2400 1600\">\n",
       "<defs>\n",
       "  <clipPath id=\"clip020\">\n",
       "    <rect x=\"0\" y=\"0\" width=\"2400\" height=\"1600\"/>\n",
       "  </clipPath>\n",
       "</defs>\n",
       "<path clip-path=\"url(#clip020)\" d=\"\n",
       "M0 1600 L2400 1600 L2400 0 L0 0  Z\n",
       "  \" fill=\"#ffffff\" fill-rule=\"evenodd\" fill-opacity=\"1\"/>\n",
       "<defs>\n",
       "  <clipPath id=\"clip021\">\n",
       "    <rect x=\"480\" y=\"0\" width=\"1681\" height=\"1600\"/>\n",
       "  </clipPath>\n",
       "</defs>\n",
       "<path clip-path=\"url(#clip020)\" d=\"\n",
       "M211.602 1423.18 L2352.76 1423.18 L2352.76 47.2441 L211.602 47.2441  Z\n",
       "  \" fill=\"#ffffff\" fill-rule=\"evenodd\" fill-opacity=\"1\"/>\n",
       "<defs>\n",
       "  <clipPath id=\"clip022\">\n",
       "    <rect x=\"211\" y=\"47\" width=\"2142\" height=\"1377\"/>\n",
       "  </clipPath>\n",
       "</defs>\n",
       "<polyline clip-path=\"url(#clip022)\" style=\"stroke:#000000; stroke-width:2; stroke-opacity:0.1; fill:none\" points=\"\n",
       "  272.201,1423.18 272.201,47.2441 \n",
       "  \"/>\n",
       "<polyline clip-path=\"url(#clip022)\" style=\"stroke:#000000; stroke-width:2; stroke-opacity:0.1; fill:none\" points=\"\n",
       "  777.19,1423.18 777.19,47.2441 \n",
       "  \"/>\n",
       "<polyline clip-path=\"url(#clip022)\" style=\"stroke:#000000; stroke-width:2; stroke-opacity:0.1; fill:none\" points=\"\n",
       "  1282.18,1423.18 1282.18,47.2441 \n",
       "  \"/>\n",
       "<polyline clip-path=\"url(#clip022)\" style=\"stroke:#000000; stroke-width:2; stroke-opacity:0.1; fill:none\" points=\"\n",
       "  1787.17,1423.18 1787.17,47.2441 \n",
       "  \"/>\n",
       "<polyline clip-path=\"url(#clip022)\" style=\"stroke:#000000; stroke-width:2; stroke-opacity:0.1; fill:none\" points=\"\n",
       "  2292.16,1423.18 2292.16,47.2441 \n",
       "  \"/>\n",
       "<polyline clip-path=\"url(#clip022)\" style=\"stroke:#000000; stroke-width:2; stroke-opacity:0.1; fill:none\" points=\"\n",
       "  211.602,1384.24 2352.76,1384.24 \n",
       "  \"/>\n",
       "<polyline clip-path=\"url(#clip022)\" style=\"stroke:#000000; stroke-width:2; stroke-opacity:0.1; fill:none\" points=\"\n",
       "  211.602,1009.7 2352.76,1009.7 \n",
       "  \"/>\n",
       "<polyline clip-path=\"url(#clip022)\" style=\"stroke:#000000; stroke-width:2; stroke-opacity:0.1; fill:none\" points=\"\n",
       "  211.602,635.161 2352.76,635.161 \n",
       "  \"/>\n",
       "<polyline clip-path=\"url(#clip022)\" style=\"stroke:#000000; stroke-width:2; stroke-opacity:0.1; fill:none\" points=\"\n",
       "  211.602,260.622 2352.76,260.622 \n",
       "  \"/>\n",
       "<polyline clip-path=\"url(#clip020)\" style=\"stroke:#000000; stroke-width:4; stroke-opacity:1; fill:none\" points=\"\n",
       "  211.602,1423.18 2352.76,1423.18 \n",
       "  \"/>\n",
       "<polyline clip-path=\"url(#clip020)\" style=\"stroke:#000000; stroke-width:4; stroke-opacity:1; fill:none\" points=\"\n",
       "  211.602,1423.18 211.602,47.2441 \n",
       "  \"/>\n",
       "<polyline clip-path=\"url(#clip020)\" style=\"stroke:#000000; stroke-width:4; stroke-opacity:1; fill:none\" points=\"\n",
       "  272.201,1423.18 272.201,1406.67 \n",
       "  \"/>\n",
       "<polyline clip-path=\"url(#clip020)\" style=\"stroke:#000000; stroke-width:4; stroke-opacity:1; fill:none\" points=\"\n",
       "  777.19,1423.18 777.19,1406.67 \n",
       "  \"/>\n",
       "<polyline clip-path=\"url(#clip020)\" style=\"stroke:#000000; stroke-width:4; stroke-opacity:1; fill:none\" points=\"\n",
       "  1282.18,1423.18 1282.18,1406.67 \n",
       "  \"/>\n",
       "<polyline clip-path=\"url(#clip020)\" style=\"stroke:#000000; stroke-width:4; stroke-opacity:1; fill:none\" points=\"\n",
       "  1787.17,1423.18 1787.17,1406.67 \n",
       "  \"/>\n",
       "<polyline clip-path=\"url(#clip020)\" style=\"stroke:#000000; stroke-width:4; stroke-opacity:1; fill:none\" points=\"\n",
       "  2292.16,1423.18 2292.16,1406.67 \n",
       "  \"/>\n",
       "<polyline clip-path=\"url(#clip020)\" style=\"stroke:#000000; stroke-width:4; stroke-opacity:1; fill:none\" points=\"\n",
       "  211.602,1384.24 237.296,1384.24 \n",
       "  \"/>\n",
       "<polyline clip-path=\"url(#clip020)\" style=\"stroke:#000000; stroke-width:4; stroke-opacity:1; fill:none\" points=\"\n",
       "  211.602,1009.7 237.296,1009.7 \n",
       "  \"/>\n",
       "<polyline clip-path=\"url(#clip020)\" style=\"stroke:#000000; stroke-width:4; stroke-opacity:1; fill:none\" points=\"\n",
       "  211.602,635.161 237.296,635.161 \n",
       "  \"/>\n",
       "<polyline clip-path=\"url(#clip020)\" style=\"stroke:#000000; stroke-width:4; stroke-opacity:1; fill:none\" points=\"\n",
       "  211.602,260.622 237.296,260.622 \n",
       "  \"/>\n",
       "<path clip-path=\"url(#clip020)\" d=\"M 0 0 M240.211 1445.17 Q236.599 1445.17 234.771 1448.74 Q232.965 1452.28 232.965 1459.41 Q232.965 1466.51 234.771 1470.08 Q236.599 1473.62 240.211 1473.62 Q243.845 1473.62 245.65 1470.08 Q247.479 1466.51 247.479 1459.41 Q247.479 1452.28 245.65 1448.74 Q243.845 1445.17 240.211 1445.17 M240.211 1441.47 Q246.021 1441.47 249.076 1446.07 Q252.155 1450.66 252.155 1459.41 Q252.155 1468.13 249.076 1472.74 Q246.021 1477.32 240.211 1477.32 Q234.4 1477.32 231.322 1472.74 Q228.266 1468.13 228.266 1459.41 Q228.266 1450.66 231.322 1446.07 Q234.4 1441.47 240.211 1441.47 Z\" fill=\"#000000\" fill-rule=\"evenodd\" fill-opacity=\"1\" /><path clip-path=\"url(#clip020)\" d=\"M 0 0 M257.224 1470.77 L262.109 1470.77 L262.109 1476.65 L257.224 1476.65 L257.224 1470.77 Z\" fill=\"#000000\" fill-rule=\"evenodd\" fill-opacity=\"1\" /><path clip-path=\"url(#clip020)\" d=\"M 0 0 M277.178 1445.17 Q273.567 1445.17 271.738 1448.74 Q269.933 1452.28 269.933 1459.41 Q269.933 1466.51 271.738 1470.08 Q273.567 1473.62 277.178 1473.62 Q280.812 1473.62 282.618 1470.08 Q284.446 1466.51 284.446 1459.41 Q284.446 1452.28 282.618 1448.74 Q280.812 1445.17 277.178 1445.17 M277.178 1441.47 Q282.988 1441.47 286.044 1446.07 Q289.122 1450.66 289.122 1459.41 Q289.122 1468.13 286.044 1472.74 Q282.988 1477.32 277.178 1477.32 Q271.368 1477.32 268.289 1472.74 Q265.234 1468.13 265.234 1459.41 Q265.234 1450.66 268.289 1446.07 Q271.368 1441.47 277.178 1441.47 Z\" fill=\"#000000\" fill-rule=\"evenodd\" fill-opacity=\"1\" /><path clip-path=\"url(#clip020)\" d=\"M 0 0 M304.192 1445.17 Q300.581 1445.17 298.752 1448.74 Q296.946 1452.28 296.946 1459.41 Q296.946 1466.51 298.752 1470.08 Q300.581 1473.62 304.192 1473.62 Q307.826 1473.62 309.631 1470.08 Q311.46 1466.51 311.46 1459.41 Q311.46 1452.28 309.631 1448.74 Q307.826 1445.17 304.192 1445.17 M304.192 1441.47 Q310.002 1441.47 313.057 1446.07 Q316.136 1450.66 316.136 1459.41 Q316.136 1468.13 313.057 1472.74 Q310.002 1477.32 304.192 1477.32 Q298.382 1477.32 295.303 1472.74 Q292.247 1468.13 292.247 1459.41 Q292.247 1450.66 295.303 1446.07 Q298.382 1441.47 304.192 1441.47 Z\" fill=\"#000000\" fill-rule=\"evenodd\" fill-opacity=\"1\" /><path clip-path=\"url(#clip020)\" d=\"M 0 0 M746.496 1445.17 Q742.885 1445.17 741.056 1448.74 Q739.251 1452.28 739.251 1459.41 Q739.251 1466.51 741.056 1470.08 Q742.885 1473.62 746.496 1473.62 Q750.13 1473.62 751.936 1470.08 Q753.764 1466.51 753.764 1459.41 Q753.764 1452.28 751.936 1448.74 Q750.13 1445.17 746.496 1445.17 M746.496 1441.47 Q752.306 1441.47 755.362 1446.07 Q758.44 1450.66 758.44 1459.41 Q758.44 1468.13 755.362 1472.74 Q752.306 1477.32 746.496 1477.32 Q740.686 1477.32 737.607 1472.74 Q734.551 1468.13 734.551 1459.41 Q734.551 1450.66 737.607 1446.07 Q740.686 1441.47 746.496 1441.47 Z\" fill=\"#000000\" fill-rule=\"evenodd\" fill-opacity=\"1\" /><path clip-path=\"url(#clip020)\" d=\"M 0 0 M763.51 1470.77 L768.394 1470.77 L768.394 1476.65 L763.51 1476.65 L763.51 1470.77 Z\" fill=\"#000000\" fill-rule=\"evenodd\" fill-opacity=\"1\" /><path clip-path=\"url(#clip020)\" d=\"M 0 0 M777.491 1472.72 L793.81 1472.72 L793.81 1476.65 L771.866 1476.65 L771.866 1472.72 Q774.528 1469.96 779.111 1465.33 Q783.718 1460.68 784.898 1459.34 Q787.144 1456.81 788.023 1455.08 Q788.926 1453.32 788.926 1451.63 Q788.926 1448.87 786.982 1447.14 Q785.06 1445.4 781.959 1445.4 Q779.76 1445.4 777.306 1446.17 Q774.875 1446.93 772.098 1448.48 L772.098 1443.76 Q774.922 1442.62 777.375 1442.05 Q779.829 1441.47 781.866 1441.47 Q787.236 1441.47 790.431 1444.15 Q793.625 1446.84 793.625 1451.33 Q793.625 1453.46 792.815 1455.38 Q792.028 1457.28 789.922 1459.87 Q789.343 1460.54 786.241 1463.76 Q783.139 1466.95 777.491 1472.72 Z\" fill=\"#000000\" fill-rule=\"evenodd\" fill-opacity=\"1\" /><path clip-path=\"url(#clip020)\" d=\"M 0 0 M798.926 1442.09 L817.283 1442.09 L817.283 1446.03 L803.209 1446.03 L803.209 1454.5 Q804.227 1454.15 805.246 1453.99 Q806.264 1453.8 807.283 1453.8 Q813.07 1453.8 816.449 1456.98 Q819.829 1460.15 819.829 1465.56 Q819.829 1471.14 816.357 1474.24 Q812.884 1477.32 806.565 1477.32 Q804.389 1477.32 802.121 1476.95 Q799.875 1476.58 797.468 1475.84 L797.468 1471.14 Q799.551 1472.28 801.773 1472.83 Q803.996 1473.39 806.472 1473.39 Q810.477 1473.39 812.815 1471.28 Q815.153 1469.18 815.153 1465.56 Q815.153 1461.95 812.815 1459.85 Q810.477 1457.74 806.472 1457.74 Q804.597 1457.74 802.722 1458.16 Q800.871 1458.57 798.926 1459.45 L798.926 1442.09 Z\" fill=\"#000000\" fill-rule=\"evenodd\" fill-opacity=\"1\" /><path clip-path=\"url(#clip020)\" d=\"M 0 0 M1250.69 1445.17 Q1247.08 1445.17 1245.25 1448.74 Q1243.44 1452.28 1243.44 1459.41 Q1243.44 1466.51 1245.25 1470.08 Q1247.08 1473.62 1250.69 1473.62 Q1254.32 1473.62 1256.13 1470.08 Q1257.95 1466.51 1257.95 1459.41 Q1257.95 1452.28 1256.13 1448.74 Q1254.32 1445.17 1250.69 1445.17 M1250.69 1441.47 Q1256.5 1441.47 1259.55 1446.07 Q1262.63 1450.66 1262.63 1459.41 Q1262.63 1468.13 1259.55 1472.74 Q1256.5 1477.32 1250.69 1477.32 Q1244.88 1477.32 1241.8 1472.74 Q1238.74 1468.13 1238.74 1459.41 Q1238.74 1450.66 1241.8 1446.07 Q1244.88 1441.47 1250.69 1441.47 Z\" fill=\"#000000\" fill-rule=\"evenodd\" fill-opacity=\"1\" /><path clip-path=\"url(#clip020)\" d=\"M 0 0 M1267.7 1470.77 L1272.58 1470.77 L1272.58 1476.65 L1267.7 1476.65 L1267.7 1470.77 Z\" fill=\"#000000\" fill-rule=\"evenodd\" fill-opacity=\"1\" /><path clip-path=\"url(#clip020)\" d=\"M 0 0 M1277.7 1442.09 L1296.06 1442.09 L1296.06 1446.03 L1281.98 1446.03 L1281.98 1454.5 Q1283 1454.15 1284.02 1453.99 Q1285.04 1453.8 1286.06 1453.8 Q1291.84 1453.8 1295.22 1456.98 Q1298.6 1460.15 1298.6 1465.56 Q1298.6 1471.14 1295.13 1474.24 Q1291.66 1477.32 1285.34 1477.32 Q1283.16 1477.32 1280.89 1476.95 Q1278.65 1476.58 1276.24 1475.84 L1276.24 1471.14 Q1278.33 1472.28 1280.55 1472.83 Q1282.77 1473.39 1285.25 1473.39 Q1289.25 1473.39 1291.59 1471.28 Q1293.93 1469.18 1293.93 1465.56 Q1293.93 1461.95 1291.59 1459.85 Q1289.25 1457.74 1285.25 1457.74 Q1283.37 1457.74 1281.5 1458.16 Q1279.64 1458.57 1277.7 1459.45 L1277.7 1442.09 Z\" fill=\"#000000\" fill-rule=\"evenodd\" fill-opacity=\"1\" /><path clip-path=\"url(#clip020)\" d=\"M 0 0 M1313.67 1445.17 Q1310.06 1445.17 1308.23 1448.74 Q1306.43 1452.28 1306.43 1459.41 Q1306.43 1466.51 1308.23 1470.08 Q1310.06 1473.62 1313.67 1473.62 Q1317.31 1473.62 1319.11 1470.08 Q1320.94 1466.51 1320.94 1459.41 Q1320.94 1452.28 1319.11 1448.74 Q1317.31 1445.17 1313.67 1445.17 M1313.67 1441.47 Q1319.48 1441.47 1322.54 1446.07 Q1325.62 1450.66 1325.62 1459.41 Q1325.62 1468.13 1322.54 1472.74 Q1319.48 1477.32 1313.67 1477.32 Q1307.86 1477.32 1304.78 1472.74 Q1301.73 1468.13 1301.73 1459.41 Q1301.73 1450.66 1304.78 1446.07 Q1307.86 1441.47 1313.67 1441.47 Z\" fill=\"#000000\" fill-rule=\"evenodd\" fill-opacity=\"1\" /><path clip-path=\"url(#clip020)\" d=\"M 0 0 M1756.13 1445.17 Q1752.52 1445.17 1750.69 1448.74 Q1748.88 1452.28 1748.88 1459.41 Q1748.88 1466.51 1750.69 1470.08 Q1752.52 1473.62 1756.13 1473.62 Q1759.76 1473.62 1761.57 1470.08 Q1763.4 1466.51 1763.4 1459.41 Q1763.4 1452.28 1761.57 1448.74 Q1759.76 1445.17 1756.13 1445.17 M1756.13 1441.47 Q1761.94 1441.47 1764.99 1446.07 Q1768.07 1450.66 1768.07 1459.41 Q1768.07 1468.13 1764.99 1472.74 Q1761.94 1477.32 1756.13 1477.32 Q1750.32 1477.32 1747.24 1472.74 Q1744.18 1468.13 1744.18 1459.41 Q1744.18 1450.66 1747.24 1446.07 Q1750.32 1441.47 1756.13 1441.47 Z\" fill=\"#000000\" fill-rule=\"evenodd\" fill-opacity=\"1\" /><path clip-path=\"url(#clip020)\" d=\"M 0 0 M1773.14 1470.77 L1778.02 1470.77 L1778.02 1476.65 L1773.14 1476.65 L1773.14 1470.77 Z\" fill=\"#000000\" fill-rule=\"evenodd\" fill-opacity=\"1\" /><path clip-path=\"url(#clip020)\" d=\"M 0 0 M1781.91 1442.09 L1804.14 1442.09 L1804.14 1444.08 L1791.59 1476.65 L1786.71 1476.65 L1798.51 1446.03 L1781.91 1446.03 L1781.91 1442.09 Z\" fill=\"#000000\" fill-rule=\"evenodd\" fill-opacity=\"1\" /><path clip-path=\"url(#clip020)\" d=\"M 0 0 M1809.25 1442.09 L1827.61 1442.09 L1827.61 1446.03 L1813.53 1446.03 L1813.53 1454.5 Q1814.55 1454.15 1815.57 1453.99 Q1816.59 1453.8 1817.61 1453.8 Q1823.39 1453.8 1826.77 1456.98 Q1830.15 1460.15 1830.15 1465.56 Q1830.15 1471.14 1826.68 1474.24 Q1823.21 1477.32 1816.89 1477.32 Q1814.71 1477.32 1812.45 1476.95 Q1810.2 1476.58 1807.79 1475.84 L1807.79 1471.14 Q1809.88 1472.28 1812.1 1472.83 Q1814.32 1473.39 1816.8 1473.39 Q1820.8 1473.39 1823.14 1471.28 Q1825.48 1469.18 1825.48 1465.56 Q1825.48 1461.95 1823.14 1459.85 Q1820.8 1457.74 1816.8 1457.74 Q1814.92 1457.74 1813.05 1458.16 Q1811.2 1458.57 1809.25 1459.45 L1809.25 1442.09 Z\" fill=\"#000000\" fill-rule=\"evenodd\" fill-opacity=\"1\" /><path clip-path=\"url(#clip020)\" d=\"M 0 0 M2250.55 1472.72 L2258.19 1472.72 L2258.19 1446.35 L2249.88 1448.02 L2249.88 1443.76 L2258.14 1442.09 L2262.82 1442.09 L2262.82 1472.72 L2270.46 1472.72 L2270.46 1476.65 L2250.55 1476.65 L2250.55 1472.72 Z\" fill=\"#000000\" fill-rule=\"evenodd\" fill-opacity=\"1\" /><path clip-path=\"url(#clip020)\" d=\"M 0 0 M2275.53 1470.77 L2280.41 1470.77 L2280.41 1476.65 L2275.53 1476.65 L2275.53 1470.77 Z\" fill=\"#000000\" fill-rule=\"evenodd\" fill-opacity=\"1\" /><path clip-path=\"url(#clip020)\" d=\"M 0 0 M2295.48 1445.17 Q2291.87 1445.17 2290.04 1448.74 Q2288.23 1452.28 2288.23 1459.41 Q2288.23 1466.51 2290.04 1470.08 Q2291.87 1473.62 2295.48 1473.62 Q2299.11 1473.62 2300.92 1470.08 Q2302.75 1466.51 2302.75 1459.41 Q2302.75 1452.28 2300.92 1448.74 Q2299.11 1445.17 2295.48 1445.17 M2295.48 1441.47 Q2301.29 1441.47 2304.34 1446.07 Q2307.42 1450.66 2307.42 1459.41 Q2307.42 1468.13 2304.34 1472.74 Q2301.29 1477.32 2295.48 1477.32 Q2289.67 1477.32 2286.59 1472.74 Q2283.53 1468.13 2283.53 1459.41 Q2283.53 1450.66 2286.59 1446.07 Q2289.67 1441.47 2295.48 1441.47 Z\" fill=\"#000000\" fill-rule=\"evenodd\" fill-opacity=\"1\" /><path clip-path=\"url(#clip020)\" d=\"M 0 0 M2322.49 1445.17 Q2318.88 1445.17 2317.05 1448.74 Q2315.25 1452.28 2315.25 1459.41 Q2315.25 1466.51 2317.05 1470.08 Q2318.88 1473.62 2322.49 1473.62 Q2326.13 1473.62 2327.93 1470.08 Q2329.76 1466.51 2329.76 1459.41 Q2329.76 1452.28 2327.93 1448.74 Q2326.13 1445.17 2322.49 1445.17 M2322.49 1441.47 Q2328.3 1441.47 2331.36 1446.07 Q2334.44 1450.66 2334.44 1459.41 Q2334.44 1468.13 2331.36 1472.74 Q2328.3 1477.32 2322.49 1477.32 Q2316.68 1477.32 2313.6 1472.74 Q2310.55 1468.13 2310.55 1459.41 Q2310.55 1450.66 2313.6 1446.07 Q2316.68 1441.47 2322.49 1441.47 Z\" fill=\"#000000\" fill-rule=\"evenodd\" fill-opacity=\"1\" /><path clip-path=\"url(#clip020)\" d=\"M 0 0 M138.691 1370.04 Q135.08 1370.04 133.251 1373.6 Q131.445 1377.14 131.445 1384.27 Q131.445 1391.38 133.251 1394.94 Q135.08 1398.49 138.691 1398.49 Q142.325 1398.49 144.13 1394.94 Q145.959 1391.38 145.959 1384.27 Q145.959 1377.14 144.13 1373.6 Q142.325 1370.04 138.691 1370.04 M138.691 1366.33 Q144.501 1366.33 147.556 1370.94 Q150.635 1375.52 150.635 1384.27 Q150.635 1393 147.556 1397.61 Q144.501 1402.19 138.691 1402.19 Q132.88 1402.19 129.802 1397.61 Q126.746 1393 126.746 1384.27 Q126.746 1375.52 129.802 1370.94 Q132.88 1366.33 138.691 1366.33 Z\" fill=\"#000000\" fill-rule=\"evenodd\" fill-opacity=\"1\" /><path clip-path=\"url(#clip020)\" d=\"M 0 0 M155.704 1395.64 L160.589 1395.64 L160.589 1401.52 L155.704 1401.52 L155.704 1395.64 Z\" fill=\"#000000\" fill-rule=\"evenodd\" fill-opacity=\"1\" /><path clip-path=\"url(#clip020)\" d=\"M 0 0 M175.658 1370.04 Q172.047 1370.04 170.218 1373.6 Q168.413 1377.14 168.413 1384.27 Q168.413 1391.38 170.218 1394.94 Q172.047 1398.49 175.658 1398.49 Q179.292 1398.49 181.098 1394.94 Q182.927 1391.38 182.927 1384.27 Q182.927 1377.14 181.098 1373.6 Q179.292 1370.04 175.658 1370.04 M175.658 1366.33 Q181.468 1366.33 184.524 1370.94 Q187.602 1375.52 187.602 1384.27 Q187.602 1393 184.524 1397.61 Q181.468 1402.19 175.658 1402.19 Q169.848 1402.19 166.769 1397.61 Q163.714 1393 163.714 1384.27 Q163.714 1375.52 166.769 1370.94 Q169.848 1366.33 175.658 1366.33 Z\" fill=\"#000000\" fill-rule=\"evenodd\" fill-opacity=\"1\" /><path clip-path=\"url(#clip020)\" d=\"M 0 0 M140.288 995.498 Q136.677 995.498 134.848 999.063 Q133.043 1002.6 133.043 1009.73 Q133.043 1016.84 134.848 1020.41 Q136.677 1023.95 140.288 1023.95 Q143.922 1023.95 145.728 1020.41 Q147.556 1016.84 147.556 1009.73 Q147.556 1002.6 145.728 999.063 Q143.922 995.498 140.288 995.498 M140.288 991.794 Q146.098 991.794 149.154 996.401 Q152.232 1000.98 152.232 1009.73 Q152.232 1018.46 149.154 1023.07 Q146.098 1027.65 140.288 1027.65 Q134.478 1027.65 131.399 1023.07 Q128.343 1018.46 128.343 1009.73 Q128.343 1000.98 131.399 996.401 Q134.478 991.794 140.288 991.794 Z\" fill=\"#000000\" fill-rule=\"evenodd\" fill-opacity=\"1\" /><path clip-path=\"url(#clip020)\" d=\"M 0 0 M157.302 1021.1 L162.186 1021.1 L162.186 1026.98 L157.302 1026.98 L157.302 1021.1 Z\" fill=\"#000000\" fill-rule=\"evenodd\" fill-opacity=\"1\" /><path clip-path=\"url(#clip020)\" d=\"M 0 0 M171.283 1023.04 L187.602 1023.04 L187.602 1026.98 L165.658 1026.98 L165.658 1023.04 Q168.32 1020.29 172.903 1015.66 Q177.51 1011.01 178.69 1009.66 Q180.936 1007.14 181.815 1005.41 Q182.718 1003.65 182.718 1001.96 Q182.718 999.202 180.774 997.466 Q178.852 995.73 175.751 995.73 Q173.552 995.73 171.098 996.494 Q168.667 997.257 165.89 998.808 L165.89 994.086 Q168.714 992.952 171.167 992.373 Q173.621 991.794 175.658 991.794 Q181.028 991.794 184.223 994.48 Q187.417 997.165 187.417 1001.66 Q187.417 1003.79 186.607 1005.71 Q185.82 1007.6 183.714 1010.2 Q183.135 1010.87 180.033 1014.09 Q176.931 1017.28 171.283 1023.04 Z\" fill=\"#000000\" fill-rule=\"evenodd\" fill-opacity=\"1\" /><path clip-path=\"url(#clip020)\" d=\"M 0 0 M138.205 620.959 Q134.593 620.959 132.765 624.524 Q130.959 628.066 130.959 635.195 Q130.959 642.302 132.765 645.867 Q134.593 649.408 138.205 649.408 Q141.839 649.408 143.644 645.867 Q145.473 642.302 145.473 635.195 Q145.473 628.066 143.644 624.524 Q141.839 620.959 138.205 620.959 M138.205 617.256 Q144.015 617.256 147.07 621.862 Q150.149 626.445 150.149 635.195 Q150.149 643.922 147.07 648.529 Q144.015 653.112 138.205 653.112 Q132.394 653.112 129.316 648.529 Q126.26 643.922 126.26 635.195 Q126.26 626.445 129.316 621.862 Q132.394 617.256 138.205 617.256 Z\" fill=\"#000000\" fill-rule=\"evenodd\" fill-opacity=\"1\" /><path clip-path=\"url(#clip020)\" d=\"M 0 0 M155.218 646.561 L160.103 646.561 L160.103 652.441 L155.218 652.441 L155.218 646.561 Z\" fill=\"#000000\" fill-rule=\"evenodd\" fill-opacity=\"1\" /><path clip-path=\"url(#clip020)\" d=\"M 0 0 M178.019 621.955 L166.214 640.404 L178.019 640.404 L178.019 621.955 M176.792 617.881 L182.672 617.881 L182.672 640.404 L187.602 640.404 L187.602 644.293 L182.672 644.293 L182.672 652.441 L178.019 652.441 L178.019 644.293 L162.417 644.293 L162.417 639.779 L176.792 617.881 Z\" fill=\"#000000\" fill-rule=\"evenodd\" fill-opacity=\"1\" /><path clip-path=\"url(#clip020)\" d=\"M 0 0 M138.529 246.421 Q134.918 246.421 133.089 249.985 Q131.283 253.527 131.283 260.657 Q131.283 267.763 133.089 271.328 Q134.918 274.869 138.529 274.869 Q142.163 274.869 143.968 271.328 Q145.797 267.763 145.797 260.657 Q145.797 253.527 143.968 249.985 Q142.163 246.421 138.529 246.421 M138.529 242.717 Q144.339 242.717 147.394 247.323 Q150.473 251.907 150.473 260.657 Q150.473 269.383 147.394 273.99 Q144.339 278.573 138.529 278.573 Q132.718 278.573 129.64 273.99 Q126.584 269.383 126.584 260.657 Q126.584 251.907 129.64 247.323 Q132.718 242.717 138.529 242.717 Z\" fill=\"#000000\" fill-rule=\"evenodd\" fill-opacity=\"1\" /><path clip-path=\"url(#clip020)\" d=\"M 0 0 M155.542 272.022 L160.427 272.022 L160.427 277.902 L155.542 277.902 L155.542 272.022 Z\" fill=\"#000000\" fill-rule=\"evenodd\" fill-opacity=\"1\" /><path clip-path=\"url(#clip020)\" d=\"M 0 0 M176.075 258.758 Q172.927 258.758 171.075 260.911 Q169.246 263.064 169.246 266.814 Q169.246 270.541 171.075 272.717 Q172.927 274.869 176.075 274.869 Q179.223 274.869 181.052 272.717 Q182.903 270.541 182.903 266.814 Q182.903 263.064 181.052 260.911 Q179.223 258.758 176.075 258.758 M185.357 244.106 L185.357 248.365 Q183.598 247.532 181.792 247.092 Q180.01 246.652 178.251 246.652 Q173.621 246.652 171.167 249.777 Q168.737 252.902 168.39 259.221 Q169.755 257.208 171.815 256.143 Q173.876 255.055 176.352 255.055 Q181.561 255.055 184.57 258.226 Q187.602 261.374 187.602 266.814 Q187.602 272.138 184.454 275.356 Q181.306 278.573 176.075 278.573 Q170.079 278.573 166.908 273.99 Q163.737 269.383 163.737 260.657 Q163.737 252.462 167.626 247.601 Q171.515 242.717 178.065 242.717 Q179.825 242.717 181.607 243.064 Q183.413 243.411 185.357 244.106 Z\" fill=\"#000000\" fill-rule=\"evenodd\" fill-opacity=\"1\" /><path clip-path=\"url(#clip020)\" d=\"M 0 0 M1272.12 1550.7 L1272.12 1569.6 L1266.23 1569.6 L1266.23 1520.4 L1272.12 1520.4 L1272.12 1525.81 Q1273.97 1522.62 1276.77 1521.1 Q1279.6 1519.54 1283.52 1519.54 Q1290.01 1519.54 1294.05 1524.69 Q1298.13 1529.85 1298.13 1538.25 Q1298.13 1546.65 1294.05 1551.81 Q1290.01 1556.97 1283.52 1556.97 Q1279.6 1556.97 1276.77 1555.44 Q1273.97 1553.88 1272.12 1550.7 M1292.05 1538.25 Q1292.05 1531.79 1289.37 1528.13 Q1286.73 1524.44 1282.08 1524.44 Q1277.44 1524.44 1274.76 1528.13 Q1272.12 1531.79 1272.12 1538.25 Q1272.12 1544.71 1274.76 1548.4 Q1277.44 1552.07 1282.08 1552.07 Q1286.73 1552.07 1289.37 1548.4 Q1292.05 1544.71 1292.05 1538.25 Z\" fill=\"#000000\" fill-rule=\"evenodd\" fill-opacity=\"1\" /><path clip-path=\"url(#clip020)\" d=\"M 0 0 M42.0438 760.277 L48.314 760.277 Q46.5634 763.937 45.704 767.184 Q44.8447 770.43 44.8447 773.454 Q44.8447 778.706 46.8817 781.57 Q48.9187 784.403 52.6745 784.403 Q55.8255 784.403 57.4488 782.525 Q59.0402 780.615 60.0269 775.332 L60.8226 771.449 Q62.1912 764.256 65.6605 760.85 Q69.098 757.412 74.8908 757.412 Q81.7976 757.412 85.3624 762.059 Q88.9272 766.674 88.9272 775.618 Q88.9272 778.992 88.1633 782.812 Q87.3994 786.599 85.9035 790.673 L79.2831 790.673 Q81.4793 786.758 82.5933 783.003 Q83.7073 779.247 83.7073 775.618 Q83.7073 770.112 81.543 767.12 Q79.3786 764.128 75.3682 764.128 Q71.8671 764.128 69.8937 766.293 Q67.9204 768.425 66.9337 773.327 L66.1698 777.242 Q64.7375 784.435 61.682 787.649 Q58.6264 790.864 53.1837 790.864 Q46.8817 790.864 43.2532 786.44 Q39.6248 781.984 39.6248 774.186 Q39.6248 770.844 40.2295 767.375 Q40.8343 763.905 42.0438 760.277 Z\" fill=\"#000000\" fill-rule=\"evenodd\" fill-opacity=\"1\" /><path clip-path=\"url(#clip020)\" d=\"M 0 0 M38.5426 737.201 Q45.8632 741.466 53.0246 743.535 Q60.186 745.604 67.5384 745.604 Q74.8908 745.604 82.1159 743.535 Q89.3091 741.434 96.5979 737.201 L96.5979 742.294 Q89.1182 747.068 81.8931 749.455 Q74.668 751.811 67.5384 751.811 Q60.4406 751.811 53.2474 749.455 Q46.0542 747.1 38.5426 742.294 L38.5426 737.201 Z\" fill=\"#000000\" fill-rule=\"evenodd\" fill-opacity=\"1\" /><path clip-path=\"url(#clip020)\" d=\"M 0 0 M82.657 725.393 L101.563 725.393 L101.563 731.281 L52.3562 731.281 L52.3562 725.393 L57.7671 725.393 Q54.5842 723.547 53.0564 720.746 Q51.4968 717.913 51.4968 713.998 Q51.4968 707.505 56.6531 703.463 Q61.8093 699.389 70.212 699.389 Q78.6147 699.389 83.771 703.463 Q88.9272 707.505 88.9272 713.998 Q88.9272 717.913 87.3994 720.746 Q85.8398 723.547 82.657 725.393 M70.212 705.468 Q63.7508 705.468 60.0905 708.142 Q56.3984 710.784 56.3984 715.431 Q56.3984 720.078 60.0905 722.751 Q63.7508 725.393 70.212 725.393 Q76.6732 725.393 80.3653 722.751 Q84.0256 720.078 84.0256 715.431 Q84.0256 710.784 80.3653 708.142 Q76.6732 705.468 70.212 705.468 Z\" fill=\"#000000\" fill-rule=\"evenodd\" fill-opacity=\"1\" /><path clip-path=\"url(#clip020)\" d=\"M 0 0 M38.5426 694.169 L38.5426 689.077 Q46.0542 684.302 53.2474 681.947 Q60.4406 679.56 67.5384 679.56 Q74.668 679.56 81.8931 681.947 Q89.1182 684.302 96.5979 689.077 L96.5979 694.169 Q89.3091 689.936 82.1159 687.867 Q74.8908 685.766 67.5384 685.766 Q60.186 685.766 53.0246 687.867 Q45.8632 689.936 38.5426 694.169 Z\" fill=\"#000000\" fill-rule=\"evenodd\" fill-opacity=\"1\" /><polyline clip-path=\"url(#clip022)\" style=\"stroke:#009af9; stroke-width:4; stroke-opacity:1; fill:none\" points=\"\n",
       "  272.201,1384.24 373.199,1012.48 474.197,775.457 575.195,592.633 676.192,447.138 777.19,331.157 878.188,240.276 979.186,171.769 1080.18,123.893 1181.18,95.5648 \n",
       "  1282.18,86.1857 1383.18,95.5648 1484.17,123.893 1585.17,171.769 1686.17,240.276 1787.17,331.157 1888.17,447.138 1989.16,592.633 2090.16,775.457 2191.16,1012.48 \n",
       "  2292.16,1384.24 \n",
       "  \"/>\n",
       "</svg>\n"
      ]
     },
     "execution_count": 31,
     "metadata": {},
     "output_type": "execute_result"
    }
   ],
   "source": [
    "# visualize binary entropy\n",
    "plot(0:0.05:1, binary_entropy.(0:0.05:1), xlabel=\"p\", ylabel=\"S(p)\", legend=false)"
   ]
  },
  {
   "cell_type": "code",
   "execution_count": 32,
   "metadata": {},
   "outputs": [
    {
     "data": {
      "text/plain": [
       "neumann_entropy"
      ]
     },
     "execution_count": 32,
     "metadata": {},
     "output_type": "execute_result"
    }
   ],
   "source": [
    "\"\"\"\n",
    "Compute the von Neumann entropy of a density matrix `ρ`.\n",
    "\"\"\"\n",
    "neumann_entropy(ρ::AbstractMatrix) = -sum(xlogx.(real(eigvals(Matrix(ρ)))))"
   ]
  },
  {
   "cell_type": "code",
   "execution_count": 33,
   "metadata": {},
   "outputs": [
    {
     "data": {
      "text/plain": [
       "ftarget (generic function with 1 method)"
      ]
     },
     "execution_count": 33,
     "metadata": {},
     "output_type": "execute_result"
    }
   ],
   "source": [
    "# target function: β tr[ρ H] - S(ρ), with ρ = U ρlatent U†\n",
    "ftarget(θlist) = β * apply(latent_density(θlist), circ)[1] - sum(binary_entropy.((1 .+ cos.(θlist)) / 2))"
   ]
  },
  {
   "cell_type": "code",
   "execution_count": 34,
   "metadata": {},
   "outputs": [
    {
     "data": {
      "text/plain": [
       "6-element Array{Float64,1}:\n",
       " 1.868359801242441\n",
       " 1.060389067387116\n",
       " 0.6242057421026134\n",
       " 1.4731764371932827\n",
       " 0.8061934487488968\n",
       " 0.9868069670558753"
      ]
     },
     "execution_count": 34,
     "metadata": {},
     "output_type": "execute_result"
    }
   ],
   "source": [
    "# initial random θ parameters, which are to be optimized\n",
    "θopt = π/2 * (1 .+ 0.5*randn(L))"
   ]
  },
  {
   "cell_type": "code",
   "execution_count": 35,
   "metadata": {},
   "outputs": [
    {
     "data": {
      "text/plain": [
       "-3.454346355247991"
      ]
     },
     "execution_count": 35,
     "metadata": {},
     "output_type": "execute_result"
    }
   ],
   "source": [
    "# example\n",
    "ftarget(θopt)"
   ]
  },
  {
   "cell_type": "code",
   "execution_count": 36,
   "metadata": {},
   "outputs": [
    {
     "data": {
      "text/plain": [
       "-8.881784197001252e-16"
      ]
     },
     "execution_count": 36,
     "metadata": {},
     "output_type": "execute_result"
    }
   ],
   "source": [
    "# consistency check\n",
    "neumann_entropy(matrix(apply(latent_density(θopt), cgc))) - sum(binary_entropy.((1 .+ cos.(θopt)) / 2))"
   ]
  },
  {
   "cell_type": "code",
   "execution_count": 37,
   "metadata": {},
   "outputs": [
    {
     "data": {
      "text/plain": [
       "trdistance"
      ]
     },
     "execution_count": 37,
     "metadata": {},
     "output_type": "execute_result"
    }
   ],
   "source": [
    "\"\"\"\n",
    "Trace distance to target density matrix `σ`.\n",
    "\"\"\"\n",
    "trdistance(θlist, σ) = 0.5 * opnorm(matrix(apply(latent_density(θlist), cgc)) - σ, 1)"
   ]
  },
  {
   "cell_type": "code",
   "execution_count": 38,
   "metadata": {},
   "outputs": [
    {
     "data": {
      "text/plain": [
       "0.19579532341343417"
      ]
     },
     "execution_count": 38,
     "metadata": {},
     "output_type": "execute_result"
    }
   ],
   "source": [
    "# example\n",
    "trdistance(θopt, σtherm)"
   ]
  },
  {
   "cell_type": "markdown",
   "metadata": {},
   "source": [
    "## Perform optimization"
   ]
  },
  {
   "cell_type": "code",
   "execution_count": 39,
   "metadata": {},
   "outputs": [
    {
     "data": {
      "text/plain": [
       "Params([[-0.032689516897612896, 0.11723480881283915, -0.045725107158529676], [-0.001520505936978918, -0.2860597192812869, -0.14517933263127242], [-0.044905983990877814, 0.13584324485124732, 0.16067012148353474], [0.35345577510743387, 0.1522511129504494, -0.02784330896229452], [0.14938863218235993, -0.10540393806198983, -0.2095642486984505], [0.22021717064502935, -0.036630740017564944, 0.39804581190311705], [-0.10968491520044701], [0.025272938605999738], [-0.23647154235046933], [-0.008800429124181719], [0.13451804982256704], [-0.030642555602742146], [0.014644393047936886], [-0.057949370924255984], [0.1788031093792638], [0.22130813368007962, 0.10181161281624457, 0.349895172414667], [0.05207820405618892, 0.25992990214146633, -0.4411003513588946], [0.17938794853556728, -0.1422455891426142, 0.23752073528613366], [0.1827189357647708, 0.06580117281617619, -0.11518921080548353], [0.1934973944083283, -0.2508076153066435, 0.08224480669615179], [-0.2418979625048874, 0.05148535176720055, -0.13629890988859208], [0.20154963994502484], [-0.26568141081417873], [-0.08761099891259813], [0.1280957061798972], [0.007924579668396676], [-0.25767063818741], [0.06986301428225668, 0.06457884259329327, 0.13931701987728934], [-0.2927576981293754, 0.012127849247136904, 0.04039834409483199], [-0.08067003549566268, 0.05980143027399572, 0.02477438869423316], [-0.21836335540308946, 0.1432329812663253, -0.3286515748333684], [-0.18452433196289325, -0.023517956108989713, -0.02018594625843944], [0.009447246002819414, 0.19800582475438747, 0.20776194351880986], [0.2551887919088065], [0.3901054474244471], [-0.19189338169996753], [-0.16768827766526712], [-0.0017896557300903968], [-0.02683692482320626], [-0.0874508115842101], [0.08844939815918329], [-0.034626460405281355], [1.868359801242441, 1.060389067387116, 0.6242057421026134, 1.4731764371932827, 0.8061934487488968, 0.9868069670558753]])"
      ]
     },
     "execution_count": 39,
     "metadata": {},
     "output_type": "execute_result"
    }
   ],
   "source": [
    "# gather parameters from circuit\n",
    "paras = Flux.params(circ)\n",
    "# measurement operator (Hamiltonian) not \"trainable\" here\n",
    "delete!(paras, circ.meas[1].operator)\n",
    "# add θ parameters\n",
    "Flux.params!(paras, θopt)\n",
    "paras"
   ]
  },
  {
   "cell_type": "code",
   "execution_count": 40,
   "metadata": {},
   "outputs": [
    {
     "name": "stdout",
     "output_type": "stream",
     "text": [
      "ftarget(θopt): -3.678300721472213, reference: -5.974568533204814; trdistance(θopt, σtherm): 0.13803943670772087\n",
      "ftarget(θopt): -4.590431716959359, reference: -5.974568533204814; trdistance(θopt, σtherm): 0.10639718308146373\n",
      "ftarget(θopt): -5.01858281019304, reference: -5.974568533204814; trdistance(θopt, σtherm): 0.11718644924475256\n",
      "ftarget(θopt): -5.002687717346051, reference: -5.974568533204814; trdistance(θopt, σtherm): 0.12493455726080116\n",
      "ftarget(θopt): -5.045669006549844, reference: -5.974568533204814; trdistance(θopt, σtherm): 0.11988221945792962\n",
      "ftarget(θopt): -5.05297127716456, reference: -5.974568533204814; trdistance(θopt, σtherm): 0.12645067129811421\n",
      "ftarget(θopt): -5.075158770691137, reference: -5.974568533204814; trdistance(θopt, σtherm): 0.1180673811268966\n",
      "ftarget(θopt): -5.070433666546223, reference: -5.974568533204814; trdistance(θopt, σtherm): 0.12884618725714092\n",
      "ftarget(θopt): -5.074394808644552, reference: -5.974568533204814; trdistance(θopt, σtherm): 0.11874443255684518\n",
      "ftarget(θopt): -5.07865488439036, reference: -5.974568533204814; trdistance(θopt, σtherm): 0.11567474448335813\n"
     ]
    }
   ],
   "source": [
    "# there is not actually any input data for training\n",
    "data = ncycle([()], 200)\n",
    "\n",
    "# define optimizer\n",
    "opt = RMSProp(0.05)\n",
    "\n",
    "# define evaluation function\n",
    "evalcb() = println(\"ftarget(θopt): $(ftarget(θopt)), reference: $(thermal_logZ(β*H)); trdistance(θopt, σtherm): $(trdistance(θopt, σtherm))\")\n",
    "\n",
    "# perform optimization\n",
    "Flux.train!(() -> ftarget(θopt), paras, data, opt, cb=Flux.throttle(evalcb, 4.0))"
   ]
  },
  {
   "cell_type": "code",
   "execution_count": 41,
   "metadata": {},
   "outputs": [
    {
     "data": {
      "text/plain": [
       "0.11786512992119075"
      ]
     },
     "execution_count": 41,
     "metadata": {},
     "output_type": "execute_result"
    }
   ],
   "source": [
    "# seems like the Ansatz is too restricted, or the optimization trapped in a local minimum, to further descrease the distance\n",
    "trdistance(θopt, σtherm)"
   ]
  },
  {
   "cell_type": "code",
   "execution_count": 42,
   "metadata": {},
   "outputs": [
    {
     "data": {
      "text/plain": [
       "DensityMatrix([1.0, -0.2240240285540103, 0.13888467753134587, 0.23882728585700327, -0.21782546676437542, 0.11825863409919554, -0.04779808642791852, -0.10646227927716767, 0.16857608236370117, -0.07439850585505864  …  -0.0005690406193910706, -0.001113420300054632, 0.0010362060028279987, -0.00017741695043474697, 0.0018412725810255813, 0.0003510349081122797, 0.0016678481598943477, -0.0007221969664301109, 0.0003841977188883014, 0.002044061874363257], 6)"
      ]
     },
     "execution_count": 42,
     "metadata": {},
     "output_type": "execute_result"
    }
   ],
   "source": [
    "# optimized variational density matrix\n",
    "ρopt = apply(latent_density(θopt), cgc)"
   ]
  },
  {
   "cell_type": "code",
   "execution_count": 43,
   "metadata": {},
   "outputs": [
    {
     "data": {
      "image/svg+xml": [
       "<?xml version=\"1.0\" encoding=\"utf-8\"?>\n",
       "<svg xmlns=\"http://www.w3.org/2000/svg\" xmlns:xlink=\"http://www.w3.org/1999/xlink\" width=\"600\" height=\"400\" viewBox=\"0 0 2400 1600\">\n",
       "<defs>\n",
       "  <clipPath id=\"clip060\">\n",
       "    <rect x=\"0\" y=\"0\" width=\"2400\" height=\"1600\"/>\n",
       "  </clipPath>\n",
       "</defs>\n",
       "<path clip-path=\"url(#clip060)\" d=\"\n",
       "M0 1600 L2400 1600 L2400 0 L0 0  Z\n",
       "  \" fill=\"#ffffff\" fill-rule=\"evenodd\" fill-opacity=\"1\"/>\n",
       "<defs>\n",
       "  <clipPath id=\"clip061\">\n",
       "    <rect x=\"480\" y=\"0\" width=\"1681\" height=\"1600\"/>\n",
       "  </clipPath>\n",
       "</defs>\n",
       "<defs>\n",
       "  <clipPath id=\"clip062\">\n",
       "    <rect x=\"211\" y=\"47\" width=\"2142\" height=\"1377\"/>\n",
       "  </clipPath>\n",
       "</defs>\n",
       "<path clip-path=\"url(#clip060)\" d=\"\n",
       "M139.191 1412.44 L2112.76 1412.44 L2112.76 195.198 L139.191 195.198  Z\n",
       "  \" fill=\"#ffffff\" fill-rule=\"evenodd\" fill-opacity=\"1\"/>\n",
       "<defs>\n",
       "  <clipPath id=\"clip063\">\n",
       "    <rect x=\"139\" y=\"195\" width=\"1975\" height=\"1218\"/>\n",
       "  </clipPath>\n",
       "</defs>\n",
       "<polyline clip-path=\"url(#clip063)\" style=\"stroke:#000000; stroke-width:2; stroke-opacity:0.1; fill:none\" points=\"\n",
       "  507.845,195.198 507.845,1412.44 \n",
       "  \"/>\n",
       "<polyline clip-path=\"url(#clip063)\" style=\"stroke:#000000; stroke-width:2; stroke-opacity:0.1; fill:none\" points=\"\n",
       "  888.232,195.198 888.232,1412.44 \n",
       "  \"/>\n",
       "<polyline clip-path=\"url(#clip063)\" style=\"stroke:#000000; stroke-width:2; stroke-opacity:0.1; fill:none\" points=\"\n",
       "  1268.62,195.198 1268.62,1412.44 \n",
       "  \"/>\n",
       "<polyline clip-path=\"url(#clip063)\" style=\"stroke:#000000; stroke-width:2; stroke-opacity:0.1; fill:none\" points=\"\n",
       "  1649.01,195.198 1649.01,1412.44 \n",
       "  \"/>\n",
       "<polyline clip-path=\"url(#clip063)\" style=\"stroke:#000000; stroke-width:2; stroke-opacity:0.1; fill:none\" points=\"\n",
       "  2029.39,195.198 2029.39,1412.44 \n",
       "  \"/>\n",
       "<polyline clip-path=\"url(#clip063)\" style=\"stroke:#000000; stroke-width:2; stroke-opacity:0.1; fill:none\" points=\"\n",
       "  139.191,375.882 2112.76,375.882 \n",
       "  \"/>\n",
       "<polyline clip-path=\"url(#clip063)\" style=\"stroke:#000000; stroke-width:2; stroke-opacity:0.1; fill:none\" points=\"\n",
       "  139.191,566.075 2112.76,566.075 \n",
       "  \"/>\n",
       "<polyline clip-path=\"url(#clip063)\" style=\"stroke:#000000; stroke-width:2; stroke-opacity:0.1; fill:none\" points=\"\n",
       "  139.191,756.268 2112.76,756.268 \n",
       "  \"/>\n",
       "<polyline clip-path=\"url(#clip063)\" style=\"stroke:#000000; stroke-width:2; stroke-opacity:0.1; fill:none\" points=\"\n",
       "  139.191,946.462 2112.76,946.462 \n",
       "  \"/>\n",
       "<polyline clip-path=\"url(#clip063)\" style=\"stroke:#000000; stroke-width:2; stroke-opacity:0.1; fill:none\" points=\"\n",
       "  139.191,1136.66 2112.76,1136.66 \n",
       "  \"/>\n",
       "<polyline clip-path=\"url(#clip063)\" style=\"stroke:#000000; stroke-width:2; stroke-opacity:0.1; fill:none\" points=\"\n",
       "  139.191,1326.85 2112.76,1326.85 \n",
       "  \"/>\n",
       "<polyline clip-path=\"url(#clip060)\" style=\"stroke:#000000; stroke-width:4; stroke-opacity:1; fill:none\" points=\"\n",
       "  139.191,1412.44 2112.76,1412.44 \n",
       "  \"/>\n",
       "<polyline clip-path=\"url(#clip060)\" style=\"stroke:#000000; stroke-width:4; stroke-opacity:1; fill:none\" points=\"\n",
       "  139.191,195.198 139.191,1412.44 \n",
       "  \"/>\n",
       "<polyline clip-path=\"url(#clip060)\" style=\"stroke:#000000; stroke-width:4; stroke-opacity:1; fill:none\" points=\"\n",
       "  507.845,1412.44 507.845,1397.83 \n",
       "  \"/>\n",
       "<polyline clip-path=\"url(#clip060)\" style=\"stroke:#000000; stroke-width:4; stroke-opacity:1; fill:none\" points=\"\n",
       "  888.232,1412.44 888.232,1397.83 \n",
       "  \"/>\n",
       "<polyline clip-path=\"url(#clip060)\" style=\"stroke:#000000; stroke-width:4; stroke-opacity:1; fill:none\" points=\"\n",
       "  1268.62,1412.44 1268.62,1397.83 \n",
       "  \"/>\n",
       "<polyline clip-path=\"url(#clip060)\" style=\"stroke:#000000; stroke-width:4; stroke-opacity:1; fill:none\" points=\"\n",
       "  1649.01,1412.44 1649.01,1397.83 \n",
       "  \"/>\n",
       "<polyline clip-path=\"url(#clip060)\" style=\"stroke:#000000; stroke-width:4; stroke-opacity:1; fill:none\" points=\"\n",
       "  2029.39,1412.44 2029.39,1397.83 \n",
       "  \"/>\n",
       "<polyline clip-path=\"url(#clip060)\" style=\"stroke:#000000; stroke-width:4; stroke-opacity:1; fill:none\" points=\"\n",
       "  139.191,375.882 162.874,375.882 \n",
       "  \"/>\n",
       "<polyline clip-path=\"url(#clip060)\" style=\"stroke:#000000; stroke-width:4; stroke-opacity:1; fill:none\" points=\"\n",
       "  139.191,566.075 162.874,566.075 \n",
       "  \"/>\n",
       "<polyline clip-path=\"url(#clip060)\" style=\"stroke:#000000; stroke-width:4; stroke-opacity:1; fill:none\" points=\"\n",
       "  139.191,756.268 162.874,756.268 \n",
       "  \"/>\n",
       "<polyline clip-path=\"url(#clip060)\" style=\"stroke:#000000; stroke-width:4; stroke-opacity:1; fill:none\" points=\"\n",
       "  139.191,946.462 162.874,946.462 \n",
       "  \"/>\n",
       "<polyline clip-path=\"url(#clip060)\" style=\"stroke:#000000; stroke-width:4; stroke-opacity:1; fill:none\" points=\"\n",
       "  139.191,1136.66 162.874,1136.66 \n",
       "  \"/>\n",
       "<polyline clip-path=\"url(#clip060)\" style=\"stroke:#000000; stroke-width:4; stroke-opacity:1; fill:none\" points=\"\n",
       "  139.191,1326.85 162.874,1326.85 \n",
       "  \"/>\n",
       "<path clip-path=\"url(#clip060)\" d=\"M 0 0 M507.845 1434.43 Q504.234 1434.43 502.405 1437.99 Q500.6 1441.53 500.6 1448.66 Q500.6 1455.77 502.405 1459.33 Q504.234 1462.87 507.845 1462.87 Q511.479 1462.87 513.285 1459.33 Q515.114 1455.77 515.114 1448.66 Q515.114 1441.53 513.285 1437.99 Q511.479 1434.43 507.845 1434.43 M507.845 1430.72 Q513.655 1430.72 516.711 1435.33 Q519.789 1439.91 519.789 1448.66 Q519.789 1457.39 516.711 1462 Q513.655 1466.58 507.845 1466.58 Q502.035 1466.58 498.956 1462 Q495.901 1457.39 495.901 1448.66 Q495.901 1439.91 498.956 1435.33 Q502.035 1430.72 507.845 1430.72 Z\" fill=\"#000000\" fill-rule=\"evenodd\" fill-opacity=\"1\" /><path clip-path=\"url(#clip060)\" d=\"M 0 0 M869.378 1461.97 L885.697 1461.97 L885.697 1465.91 L863.753 1465.91 L863.753 1461.97 Q866.415 1459.22 870.998 1454.59 Q875.604 1449.94 876.785 1448.59 Q879.03 1446.07 879.91 1444.33 Q880.813 1442.57 880.813 1440.88 Q880.813 1438.13 878.868 1436.39 Q876.947 1434.66 873.845 1434.66 Q871.646 1434.66 869.192 1435.42 Q866.762 1436.19 863.984 1437.74 L863.984 1433.01 Q866.808 1431.88 869.262 1431.3 Q871.716 1430.72 873.753 1430.72 Q879.123 1430.72 882.317 1433.41 Q885.512 1436.09 885.512 1440.58 Q885.512 1442.71 884.702 1444.63 Q883.915 1446.53 881.808 1449.13 Q881.229 1449.8 878.128 1453.01 Q875.026 1456.21 869.378 1461.97 Z\" fill=\"#000000\" fill-rule=\"evenodd\" fill-opacity=\"1\" /><path clip-path=\"url(#clip060)\" d=\"M 0 0 M900.766 1434.43 Q897.155 1434.43 895.327 1437.99 Q893.521 1441.53 893.521 1448.66 Q893.521 1455.77 895.327 1459.33 Q897.155 1462.87 900.766 1462.87 Q904.401 1462.87 906.206 1459.33 Q908.035 1455.77 908.035 1448.66 Q908.035 1441.53 906.206 1437.99 Q904.401 1434.43 900.766 1434.43 M900.766 1430.72 Q906.577 1430.72 909.632 1435.33 Q912.711 1439.91 912.711 1448.66 Q912.711 1457.39 909.632 1462 Q906.577 1466.58 900.766 1466.58 Q894.956 1466.58 891.878 1462 Q888.822 1457.39 888.822 1448.66 Q888.822 1439.91 891.878 1435.33 Q894.956 1430.72 900.766 1430.72 Z\" fill=\"#000000\" fill-rule=\"evenodd\" fill-opacity=\"1\" /><path clip-path=\"url(#clip060)\" d=\"M 0 0 M1258.12 1435.42 L1246.32 1453.87 L1258.12 1453.87 L1258.12 1435.42 M1256.89 1431.35 L1262.77 1431.35 L1262.77 1453.87 L1267.7 1453.87 L1267.7 1457.76 L1262.77 1457.76 L1262.77 1465.91 L1258.12 1465.91 L1258.12 1457.76 L1242.52 1457.76 L1242.52 1453.25 L1256.89 1431.35 Z\" fill=\"#000000\" fill-rule=\"evenodd\" fill-opacity=\"1\" /><path clip-path=\"url(#clip060)\" d=\"M 0 0 M1282.77 1434.43 Q1279.16 1434.43 1277.33 1437.99 Q1275.53 1441.53 1275.53 1448.66 Q1275.53 1455.77 1277.33 1459.33 Q1279.16 1462.87 1282.77 1462.87 Q1286.41 1462.87 1288.21 1459.33 Q1290.04 1455.77 1290.04 1448.66 Q1290.04 1441.53 1288.21 1437.99 Q1286.41 1434.43 1282.77 1434.43 M1282.77 1430.72 Q1288.58 1430.72 1291.64 1435.33 Q1294.72 1439.91 1294.72 1448.66 Q1294.72 1457.39 1291.64 1462 Q1288.58 1466.58 1282.77 1466.58 Q1276.96 1466.58 1273.88 1462 Q1270.83 1457.39 1270.83 1448.66 Q1270.83 1439.91 1273.88 1435.33 Q1276.96 1430.72 1282.77 1430.72 Z\" fill=\"#000000\" fill-rule=\"evenodd\" fill-opacity=\"1\" /><path clip-path=\"url(#clip060)\" d=\"M 0 0 M1635.9 1446.76 Q1632.76 1446.76 1630.9 1448.92 Q1629.07 1451.07 1629.07 1454.82 Q1629.07 1458.55 1630.9 1460.72 Q1632.76 1462.87 1635.9 1462.87 Q1639.05 1462.87 1640.88 1460.72 Q1642.73 1458.55 1642.73 1454.82 Q1642.73 1451.07 1640.88 1448.92 Q1639.05 1446.76 1635.9 1446.76 M1645.19 1432.11 L1645.19 1436.37 Q1643.43 1435.54 1641.62 1435.1 Q1639.84 1434.66 1638.08 1434.66 Q1633.45 1434.66 1631 1437.78 Q1628.57 1440.91 1628.22 1447.23 Q1629.58 1445.21 1631.64 1444.15 Q1633.7 1443.06 1636.18 1443.06 Q1641.39 1443.06 1644.4 1446.23 Q1647.43 1449.38 1647.43 1454.82 Q1647.43 1460.14 1644.28 1463.36 Q1641.13 1466.58 1635.9 1466.58 Q1629.91 1466.58 1626.74 1462 Q1623.57 1457.39 1623.57 1448.66 Q1623.57 1440.47 1627.45 1435.61 Q1631.34 1430.72 1637.89 1430.72 Q1639.65 1430.72 1641.44 1431.07 Q1643.24 1431.42 1645.19 1432.11 Z\" fill=\"#000000\" fill-rule=\"evenodd\" fill-opacity=\"1\" /><path clip-path=\"url(#clip060)\" d=\"M 0 0 M1662.5 1434.43 Q1658.89 1434.43 1657.06 1437.99 Q1655.26 1441.53 1655.26 1448.66 Q1655.26 1455.77 1657.06 1459.33 Q1658.89 1462.87 1662.5 1462.87 Q1666.13 1462.87 1667.94 1459.33 Q1669.77 1455.77 1669.77 1448.66 Q1669.77 1441.53 1667.94 1437.99 Q1666.13 1434.43 1662.5 1434.43 M1662.5 1430.72 Q1668.31 1430.72 1671.37 1435.33 Q1674.44 1439.91 1674.44 1448.66 Q1674.44 1457.39 1671.37 1462 Q1668.31 1466.58 1662.5 1466.58 Q1656.69 1466.58 1653.61 1462 Q1650.56 1457.39 1650.56 1448.66 Q1650.56 1439.91 1653.61 1435.33 Q1656.69 1430.72 1662.5 1430.72 Z\" fill=\"#000000\" fill-rule=\"evenodd\" fill-opacity=\"1\" /><path clip-path=\"url(#clip060)\" d=\"M 0 0 M2015.88 1449.5 Q2012.55 1449.5 2010.63 1451.28 Q2008.73 1453.06 2008.73 1456.19 Q2008.73 1459.31 2010.63 1461.09 Q2012.55 1462.87 2015.88 1462.87 Q2019.22 1462.87 2021.14 1461.09 Q2023.06 1459.29 2023.06 1456.19 Q2023.06 1453.06 2021.14 1451.28 Q2019.24 1449.5 2015.88 1449.5 M2011.21 1447.5 Q2008.2 1446.76 2006.51 1444.7 Q2004.84 1442.64 2004.84 1439.68 Q2004.84 1435.54 2007.78 1433.13 Q2010.75 1430.72 2015.88 1430.72 Q2021.05 1430.72 2023.99 1433.13 Q2026.93 1435.54 2026.93 1439.68 Q2026.93 1442.64 2025.24 1444.7 Q2023.57 1446.76 2020.58 1447.5 Q2023.96 1448.29 2025.84 1450.58 Q2027.74 1452.88 2027.74 1456.19 Q2027.74 1461.21 2024.66 1463.89 Q2021.6 1466.58 2015.88 1466.58 Q2010.17 1466.58 2007.09 1463.89 Q2004.03 1461.21 2004.03 1456.19 Q2004.03 1452.88 2005.93 1450.58 Q2007.83 1448.29 2011.21 1447.5 M2009.5 1440.12 Q2009.5 1442.81 2011.16 1444.31 Q2012.85 1445.81 2015.88 1445.81 Q2018.89 1445.81 2020.58 1444.31 Q2022.3 1442.81 2022.3 1440.12 Q2022.3 1437.44 2020.58 1435.93 Q2018.89 1434.43 2015.88 1434.43 Q2012.85 1434.43 2011.16 1435.93 Q2009.5 1437.44 2009.5 1440.12 Z\" fill=\"#000000\" fill-rule=\"evenodd\" fill-opacity=\"1\" /><path clip-path=\"url(#clip060)\" d=\"M 0 0 M2042.81 1434.43 Q2039.19 1434.43 2037.37 1437.99 Q2035.56 1441.53 2035.56 1448.66 Q2035.56 1455.77 2037.37 1459.33 Q2039.19 1462.87 2042.81 1462.87 Q2046.44 1462.87 2048.25 1459.33 Q2050.07 1455.77 2050.07 1448.66 Q2050.07 1441.53 2048.25 1437.99 Q2046.44 1434.43 2042.81 1434.43 M2042.81 1430.72 Q2048.62 1430.72 2051.67 1435.33 Q2054.75 1439.91 2054.75 1448.66 Q2054.75 1457.39 2051.67 1462 Q2048.62 1466.58 2042.81 1466.58 Q2037 1466.58 2033.92 1462 Q2030.86 1457.39 2030.86 1448.66 Q2030.86 1439.91 2033.92 1435.33 Q2037 1430.72 2042.81 1430.72 Z\" fill=\"#000000\" fill-rule=\"evenodd\" fill-opacity=\"1\" /><path clip-path=\"url(#clip060)\" d=\"M 0 0 M68.2699 389.226 L75.9087 389.226 L75.9087 362.861 L67.5986 364.528 L67.5986 360.268 L75.8624 358.602 L80.5383 358.602 L80.5383 389.226 L88.1772 389.226 L88.1772 393.162 L68.2699 393.162 L68.2699 389.226 Z\" fill=\"#000000\" fill-rule=\"evenodd\" fill-opacity=\"1\" /><path clip-path=\"url(#clip060)\" d=\"M 0 0 M103.247 361.68 Q99.6354 361.68 97.8068 365.245 Q96.0012 368.787 96.0012 375.916 Q96.0012 383.023 97.8068 386.588 Q99.6354 390.129 103.247 390.129 Q106.881 390.129 108.686 386.588 Q110.515 383.023 110.515 375.916 Q110.515 368.787 108.686 365.245 Q106.881 361.68 103.247 361.68 M103.247 357.977 Q109.057 357.977 112.112 362.583 Q115.191 367.166 115.191 375.916 Q115.191 384.643 112.112 389.25 Q109.057 393.833 103.247 393.833 Q97.4364 393.833 94.3577 389.25 Q91.3022 384.643 91.3022 375.916 Q91.3022 367.166 94.3577 362.583 Q97.4364 357.977 103.247 357.977 Z\" fill=\"#000000\" fill-rule=\"evenodd\" fill-opacity=\"1\" /><path clip-path=\"url(#clip060)\" d=\"M 0 0 M71.8578 579.42 L88.1772 579.42 L88.1772 583.355 L66.2328 583.355 L66.2328 579.42 Q68.8949 576.665 73.4782 572.036 Q78.0846 567.383 79.2652 566.04 Q81.5105 563.517 82.3902 561.781 Q83.2929 560.022 83.2929 558.332 Q83.2929 555.577 81.3485 553.841 Q79.4272 552.105 76.3254 552.105 Q74.1263 552.105 71.6726 552.869 Q69.2421 553.633 66.4643 555.184 L66.4643 550.462 Q69.2884 549.327 71.7421 548.749 Q74.1958 548.17 76.2328 548.17 Q81.6031 548.17 84.7976 550.855 Q87.992 553.54 87.992 558.031 Q87.992 560.161 87.1818 562.082 Q86.3948 563.98 84.2883 566.573 Q83.7096 567.244 80.6078 570.462 Q77.5059 573.656 71.8578 579.42 Z\" fill=\"#000000\" fill-rule=\"evenodd\" fill-opacity=\"1\" /><path clip-path=\"url(#clip060)\" d=\"M 0 0 M103.247 551.874 Q99.6354 551.874 97.8068 555.438 Q96.0012 558.98 96.0012 566.11 Q96.0012 573.216 97.8068 576.781 Q99.6354 580.323 103.247 580.323 Q106.881 580.323 108.686 576.781 Q110.515 573.216 110.515 566.11 Q110.515 558.98 108.686 555.438 Q106.881 551.874 103.247 551.874 M103.247 548.17 Q109.057 548.17 112.112 552.776 Q115.191 557.36 115.191 566.11 Q115.191 574.837 112.112 579.443 Q109.057 584.026 103.247 584.026 Q97.4364 584.026 94.3577 579.443 Q91.3022 574.837 91.3022 566.11 Q91.3022 557.36 94.3577 552.776 Q97.4364 548.17 103.247 548.17 Z\" fill=\"#000000\" fill-rule=\"evenodd\" fill-opacity=\"1\" /><path clip-path=\"url(#clip060)\" d=\"M 0 0 M81.0476 754.914 Q84.404 755.632 86.279 757.9 Q88.1772 760.169 88.1772 763.502 Q88.1772 768.618 84.6587 771.419 Q81.1402 774.22 74.6587 774.22 Q72.4828 774.22 70.168 773.78 Q67.8764 773.363 65.4227 772.507 L65.4227 767.993 Q67.3671 769.127 69.6819 769.706 Q71.9967 770.284 74.5198 770.284 Q78.918 770.284 81.2096 768.548 Q83.5244 766.812 83.5244 763.502 Q83.5244 760.447 81.3717 758.734 Q79.242 756.997 75.4226 756.997 L71.3949 756.997 L71.3949 753.155 L75.6078 753.155 Q79.0569 753.155 80.8855 751.789 Q82.7142 750.4 82.7142 747.808 Q82.7142 745.146 80.8161 743.734 Q78.9411 742.298 75.4226 742.298 Q73.5013 742.298 71.3023 742.715 Q69.1032 743.132 66.4643 744.011 L66.4643 739.845 Q69.1264 739.104 71.4412 738.734 Q73.7791 738.363 75.8393 738.363 Q81.1633 738.363 84.2652 740.794 Q87.367 743.201 87.367 747.322 Q87.367 750.192 85.7235 752.183 Q84.08 754.15 81.0476 754.914 Z\" fill=\"#000000\" fill-rule=\"evenodd\" fill-opacity=\"1\" /><path clip-path=\"url(#clip060)\" d=\"M 0 0 M103.247 742.067 Q99.6354 742.067 97.8068 745.632 Q96.0012 749.173 96.0012 756.303 Q96.0012 763.409 97.8068 766.974 Q99.6354 770.516 103.247 770.516 Q106.881 770.516 108.686 766.974 Q110.515 763.409 110.515 756.303 Q110.515 749.173 108.686 745.632 Q106.881 742.067 103.247 742.067 M103.247 738.363 Q109.057 738.363 112.112 742.97 Q115.191 747.553 115.191 756.303 Q115.191 765.03 112.112 769.636 Q109.057 774.22 103.247 774.22 Q97.4364 774.22 94.3577 769.636 Q91.3022 765.03 91.3022 756.303 Q91.3022 747.553 94.3577 742.97 Q97.4364 738.363 103.247 738.363 Z\" fill=\"#000000\" fill-rule=\"evenodd\" fill-opacity=\"1\" /><path clip-path=\"url(#clip060)\" d=\"M 0 0 M78.5939 933.256 L66.7884 951.705 L78.5939 951.705 L78.5939 933.256 M77.367 929.182 L83.2466 929.182 L83.2466 951.705 L88.1772 951.705 L88.1772 955.594 L83.2466 955.594 L83.2466 963.742 L78.5939 963.742 L78.5939 955.594 L62.9921 955.594 L62.9921 951.08 L77.367 929.182 Z\" fill=\"#000000\" fill-rule=\"evenodd\" fill-opacity=\"1\" /><path clip-path=\"url(#clip060)\" d=\"M 0 0 M103.247 932.26 Q99.6354 932.26 97.8068 935.825 Q96.0012 939.367 96.0012 946.496 Q96.0012 953.603 97.8068 957.168 Q99.6354 960.709 103.247 960.709 Q106.881 960.709 108.686 957.168 Q110.515 953.603 110.515 946.496 Q110.515 939.367 108.686 935.825 Q106.881 932.26 103.247 932.26 M103.247 928.557 Q109.057 928.557 112.112 933.163 Q115.191 937.746 115.191 946.496 Q115.191 955.223 112.112 959.83 Q109.057 964.413 103.247 964.413 Q97.4364 964.413 94.3577 959.83 Q91.3022 955.223 91.3022 946.496 Q91.3022 937.746 94.3577 933.163 Q97.4364 928.557 103.247 928.557 Z\" fill=\"#000000\" fill-rule=\"evenodd\" fill-opacity=\"1\" /><path clip-path=\"url(#clip060)\" d=\"M 0 0 M67.2745 1119.38 L85.6309 1119.38 L85.6309 1123.31 L71.5569 1123.31 L71.5569 1131.78 Q72.5754 1131.44 73.5939 1131.27 Q74.6124 1131.09 75.6309 1131.09 Q81.418 1131.09 84.7976 1134.26 Q88.1772 1137.43 88.1772 1142.85 Q88.1772 1148.43 84.705 1151.53 Q81.2328 1154.61 74.9134 1154.61 Q72.7374 1154.61 70.4689 1154.24 Q68.2236 1153.87 65.8162 1153.12 L65.8162 1148.43 Q67.8995 1149.56 70.1217 1150.12 Q72.3439 1150.67 74.8208 1150.67 Q78.8254 1150.67 81.1633 1148.56 Q83.5013 1146.46 83.5013 1142.85 Q83.5013 1139.24 81.1633 1137.13 Q78.8254 1135.02 74.8208 1135.02 Q72.9458 1135.02 71.0708 1135.44 Q69.2189 1135.86 67.2745 1136.74 L67.2745 1119.38 Z\" fill=\"#000000\" fill-rule=\"evenodd\" fill-opacity=\"1\" /><path clip-path=\"url(#clip060)\" d=\"M 0 0 M103.247 1122.45 Q99.6354 1122.45 97.8068 1126.02 Q96.0012 1129.56 96.0012 1136.69 Q96.0012 1143.8 97.8068 1147.36 Q99.6354 1150.9 103.247 1150.9 Q106.881 1150.9 108.686 1147.36 Q110.515 1143.8 110.515 1136.69 Q110.515 1129.56 108.686 1126.02 Q106.881 1122.45 103.247 1122.45 M103.247 1118.75 Q109.057 1118.75 112.112 1123.36 Q115.191 1127.94 115.191 1136.69 Q115.191 1145.42 112.112 1150.02 Q109.057 1154.61 103.247 1154.61 Q97.4364 1154.61 94.3577 1150.02 Q91.3022 1145.42 91.3022 1136.69 Q91.3022 1127.94 94.3577 1123.36 Q97.4364 1118.75 103.247 1118.75 Z\" fill=\"#000000\" fill-rule=\"evenodd\" fill-opacity=\"1\" /><path clip-path=\"url(#clip060)\" d=\"M 0 0 M76.6495 1324.98 Q73.5013 1324.98 71.6495 1327.14 Q69.8208 1329.29 69.8208 1333.04 Q69.8208 1336.77 71.6495 1338.94 Q73.5013 1341.1 76.6495 1341.1 Q79.7976 1341.1 81.6263 1338.94 Q83.4781 1336.77 83.4781 1333.04 Q83.4781 1329.29 81.6263 1327.14 Q79.7976 1324.98 76.6495 1324.98 M85.9318 1310.33 L85.9318 1314.59 Q84.1726 1313.76 82.367 1313.32 Q80.5846 1312.88 78.8254 1312.88 Q74.1958 1312.88 71.7421 1316 Q69.3115 1319.13 68.9643 1325.45 Q70.33 1323.43 72.3902 1322.37 Q74.4504 1321.28 76.9272 1321.28 Q82.1355 1321.28 85.1448 1324.45 Q88.1772 1327.6 88.1772 1333.04 Q88.1772 1338.36 85.029 1341.58 Q81.8809 1344.8 76.6495 1344.8 Q70.6541 1344.8 67.4828 1340.22 Q64.3116 1335.61 64.3116 1326.88 Q64.3116 1318.69 68.2004 1313.83 Q72.0893 1308.94 78.6402 1308.94 Q80.3994 1308.94 82.1818 1309.29 Q83.9874 1309.64 85.9318 1310.33 Z\" fill=\"#000000\" fill-rule=\"evenodd\" fill-opacity=\"1\" /><path clip-path=\"url(#clip060)\" d=\"M 0 0 M103.247 1312.65 Q99.6354 1312.65 97.8068 1316.21 Q96.0012 1319.75 96.0012 1326.88 Q96.0012 1333.99 97.8068 1337.55 Q99.6354 1341.1 103.247 1341.1 Q106.881 1341.1 108.686 1337.55 Q110.515 1333.99 110.515 1326.88 Q110.515 1319.75 108.686 1316.21 Q106.881 1312.65 103.247 1312.65 M103.247 1308.94 Q109.057 1308.94 112.112 1313.55 Q115.191 1318.13 115.191 1326.88 Q115.191 1335.61 112.112 1340.22 Q109.057 1344.8 103.247 1344.8 Q97.4364 1344.8 94.3577 1340.22 Q91.3022 1335.61 91.3022 1326.88 Q91.3022 1318.13 94.3577 1313.55 Q97.4364 1308.94 103.247 1308.94 Z\" fill=\"#000000\" fill-rule=\"evenodd\" fill-opacity=\"1\" /><path clip-path=\"url(#clip060)\" d=\"M 0 0 M1095.46 13.267 Q1095.46 19.3334 1092.35 25.0309 Q1089.27 30.7284 1084.44 34.1715 Q1079.64 37.6146 1074.8 37.6146 Q1069.35 37.6146 1066.52 31.9581 Q1061.4 52.4937 1061.11 53.0266 Q1059.92 54.7891 1058.2 54.7891 Q1057.14 54.7891 1056.48 54.1333 Q1055.83 53.5185 1055.83 52.5347 Q1055.87 52.2068 1056.11 51.1821 L1064.31 18.1857 Q1066.2 10.5207 1071.89 5.06914 Q1077.63 -0.423422 1083.78 -0.423422 Q1088.66 -0.423422 1092.06 3.22462 Q1095.46 6.87267 1095.46 13.267 M1089.44 9.65994 Q1089.44 5.56101 1087.8 3.51155 Q1086.16 1.4211 1083.62 1.4211 Q1081.28 1.4211 1078.45 3.3066 Q1075.66 5.19211 1073.21 9.37302 Q1071.89 11.7914 1070.95 14.7836 Q1070.01 17.7758 1068.16 25.1539 Q1067.51 28.1051 1067.51 28.2691 Q1067.51 28.597 1067.67 29.3348 Q1067.88 30.0726 1068.37 31.2203 Q1068.9 32.327 1069.64 33.3108 Q1070.38 34.2945 1071.73 35.0323 Q1073.08 35.7291 1074.72 35.7291 Q1077.26 35.7291 1079.97 33.6797 Q1082.71 31.5892 1084.72 27.7772 Q1086.4 24.703 1087.92 18.9235 Q1089.44 13.103 1089.44 9.65994 Z\" fill=\"#000000\" fill-rule=\"evenodd\" fill-opacity=\"1\" /><path clip-path=\"url(#clip060)\" d=\"M 0 0 M1107.89 72.8682 Q1104.02 69.0234 1104.02 63.4571 Q1104.02 57.862 1107.81 53.7877 Q1111.62 49.6847 1117.08 49.6847 Q1122.41 49.6847 1126.23 53.759 Q1130.07 57.8046 1130.07 63.4571 Q1130.07 68.9947 1126.2 72.8395 Q1122.35 76.6843 1117.02 76.6843 Q1111.8 76.6843 1107.89 72.8682 M1108.9 62.9693 Q1108.9 68.6791 1110.39 71.2614 Q1112.69 75.1923 1117.08 75.1923 Q1119.26 75.1923 1121.06 74.0159 Q1122.9 72.8395 1123.9 70.8597 Q1125.2 68.2774 1125.2 62.9693 Q1125.2 57.3169 1123.65 54.8206 Q1121.35 51.0045 1117.02 51.0045 Q1115.12 51.0045 1113.26 52.0088 Q1111.42 52.9843 1110.3 54.9354 Q1108.9 57.5177 1108.9 62.9693 Z\" fill=\"#000000\" fill-rule=\"evenodd\" fill-opacity=\"1\" /><path clip-path=\"url(#clip060)\" d=\"M 0 0 M1133.11 85.6077 Q1136.24 85.6077 1136.96 85.206 Q1137.7 84.833 1137.7 82.968 L1137.7 55.4519 Q1137.7 53.5008 1136.96 53.013 Q1136.24 52.5252 1133.11 52.5252 L1133.11 50.6889 L1141.58 50.0577 L1141.58 53.9312 Q1145.11 50.0577 1149.81 50.0577 Q1154.81 50.0577 1158.45 53.9312 Q1162.09 57.8046 1162.09 63.3423 Q1162.09 68.9373 1158.22 72.8108 Q1154.35 76.6843 1148.98 76.6843 Q1146.05 76.6843 1144.07 75.1923 Q1142.12 73.6716 1141.75 72.5526 L1141.75 73.0977 L1141.75 82.968 Q1141.75 84.8617 1142.5 85.2347 Q1143.24 85.6077 1146.34 85.6077 L1146.34 87.4153 Q1140.17 87.2431 1139.71 87.2431 Q1139.14 87.2431 1133.11 87.4153 L1133.11 85.6077 M1141.75 69.339 Q1141.75 70.2285 1141.86 70.5441 Q1142.01 70.8597 1142.58 71.8066 Q1144.91 75.3644 1148.69 75.3644 Q1148.72 75.3644 1148.75 75.3644 Q1152.11 75.3644 1154.66 71.95 Q1157.22 68.5069 1157.22 63.3423 Q1157.22 58.4072 1154.89 54.9641 Q1152.57 51.521 1149.35 51.521 Q1147.06 51.521 1145.05 52.7548 Q1143.04 53.9885 1141.75 56.2266 L1141.75 69.339 Z\" fill=\"#000000\" fill-rule=\"evenodd\" fill-opacity=\"1\" /><path clip-path=\"url(#clip060)\" d=\"M 0 0 M1164.6 52.5252 L1164.6 51.2341 Q1167.3 51.1193 1169.08 49.2256 Q1170.89 47.3032 1171.49 44.9504 Q1172.12 42.5976 1172.18 39.8718 L1173.64 39.8718 L1173.64 50.6889 L1182.05 50.6889 L1182.05 52.5252 L1173.64 52.5252 L1173.64 68.8513 Q1173.64 75.1923 1177.6 75.1923 Q1179.29 75.1923 1180.41 73.4707 Q1181.53 71.7205 1181.53 68.6217 L1181.53 65.3795 L1182.99 65.3795 L1182.99 68.7365 Q1182.99 71.9213 1181.53 74.3028 Q1180.07 76.6843 1177.17 76.6843 Q1176.11 76.6843 1175.05 76.3974 Q1174.01 76.1391 1172.64 75.4505 Q1171.29 74.7332 1170.43 73.0117 Q1169.59 71.2614 1169.59 68.7365 L1169.59 52.5252 L1164.6 52.5252 Z\" fill=\"#000000\" fill-rule=\"evenodd\" fill-opacity=\"1\" /><g clip-path=\"url(#clip063)\">\n",
       "<image width=\"1217\" height=\"1217\" xlink:href=\"data:image/png;base64,\n",
       "iVBORw0KGgoAAAANSUhEUgAABMEAAATBCAYAAAAy1IMNAAAgAElEQVR4nOza+ZvfBXnv/3syk0wy\n",
       "M9kTQhKWgEAgsgkuoFg3XA5uUBSLCCJUltSv9duqrfZ00VrbI7Y9td8rQRAUBBEUoWItR1Q8iloU\n",
       "ULbQJARIQkIwCWSZmewz54ep36HXOV4XPe87zId7Ho8/4HndmfnMZ3nl07Z78JrBSNTRdm5mrrS7\n",
       "Xntyau8nq+elteZN3JLWioh42z03pLW++7JTGzfu3zgz4ZJhx8x8Mq01tbs3rRUR8aLvfj+tden8\n",
       "8xo3Llp6ZcIle8eC7t9O7W1v609rvXf6vMaNno49zQ95hj9ccXlqr7ITJpyT2nvltJ601iVrFqW1\n",
       "IiLe1H1BWuvWvsvSWtXdcPS7U3tj2pq/Pdy4Y3zCJUNeut/KtFZE7mtjW1t7WisiYnCw+XP17Se+\n",
       "LeGSIa/56TfTWhERR3e9M611X//X0loREa/ven/jxm39o+O18StHvSe19+77r2nc6O48KOGSIX07\n",
       "Hk1rRUTM7877m1zal/s3yciZ2nVk48bT/Q8kXDK6jBnpAwAAAABgbzOCAQAAAFCeEQwAAACA8oxg\n",
       "AAAAAJRnBAMAAACgPCMYAAAAAOUZwQAAAAAozwgGAAAAQHlGMAAAAADKM4IBAAAAUJ4RDAAAAIDy\n",
       "jGAAAAAAlGcEAwAAAKA8IxgAAAAA5RnBAAAAACjPCAYAAABAeUYwAAAAAMozggEAAABQnhEMAAAA\n",
       "gPLaIjoGM4O7bj8oL7ZsZV4rIsZeOJDWWnv2Cxs35nz5wYRL9o6/OfiC1N4phyxLax39nR+ktbIc\n",
       "2/U7aa1f9n81rRUR8U/HnZHW+uqjMxo3rnt6UcIlwxbNPy+ttXDplWmtbGPaOhs3BgZ3JFwy7JSe\n",
       "C9NaD8bDaa2IiJW930vtNZXx+3umzN/lAT2vTWtFRHTGhLTW8t5/btzoGX9wwiXDerc/ktb66W+9\n",
       "Ka114g9vTWtluWDmwrTWZetzXzsuO/x9aa0HNuU95iMiPrcu99/aVPZ7whVbO9Jalyc/Lg7reWvj\n",
       "xrLeWxIuGTJpwvy0VkTElm1LU3uZFs5q/nyxuj/vs94tWy9Na0XkvhZlvg61ognj9kvtbdv5eGqP\n",
       "5z/fBAMAAACgPCMYAAAAAOUZwQAAAAAozwgGAAAAQHlGMAAAAADKM4IBAAAAUJ4RDAAAAIDyjGAA\n",
       "AAAAlGcEAwAAAKA8IxgAAAAA5RnBAAAAACjPCAYAAABAeUYwAAAAAMozggEAAABQnhEMAAAAgPKM\n",
       "YAAAAACUZwQDAAAAoDwjGAAAAADldaQXl61MSw0cdXhaa8iStNLAntr74T7jd6T2BgbbUnut5ty5\n",
       "PWmtDy1PS0VExOreiWmt46ftatz4+tYZCZcM26+7N7XXstoS/oYGmyee6eFYm9Y6Mg5Ja0VErIzv\n",
       "pfaaGhjMfU7NtHHXo6m9F7S/OLXX1Nz2I1N7S+ORtNb4cTvTWq1oamfyk06ix/rGp7WOmLw9rRUR\n",
       "Eetyc0091pv7cWH+pObvJf5/6/NSERHjBybkBhvaf8wLU3sPxtLUXqYVvbsbNxZMSnysbs1LRUTM\n",
       "6pif1upNfB2KiOjqPKBxo3/HqoRLhswad0RaKyLisZ2Pp/Z4/qu95AAAAABAGMEAAAAAGAWMYAAA\n",
       "AACUZwQDAAAAoDwjGAAAAADlGcEAAAAAKM8IBgAAAEB5RjAAAAAAyjOCAQAAAFCeEQwAAACA8oxg\n",
       "AAAAAJRnBAMAAACgPCMYAAAAAOUZwQAAAAAozwgGAAAAQHlGMAAAAADKM4IBAAAAUJ4RDAAAAIDy\n",
       "jGAAAAAAlNcW0TE40kc8V7bffVxa6w9OOaFx4xUztyZcMuz4eY+ktQ7/1o/TWtluPPbMxo27N05J\n",
       "uGTYp1cvTmudNumitFZExE1bLk3tNXXby05L7Z12731prQumvTGtFRHROSbv6fWvH897jI0Gp0+6\n",
       "OK318O6nGjfu7b8+4RL+bxzZfXpq74G+G9NaF+6zMK21YPLOtFZExNRxzXvnPHh1wiWjz7VHvqdx\n",
       "46wHrkm4pPV97tDzU3sfXH5Faq+pEye8N7X3021XpfYq+8jcvOfniIhL1ixK7WXqGf+Cxo1tO9cl\n",
       "XDJkz0BfWivblAkLUnubti1J7fHs+CYYAAAAAOUZwQAAAAAozwgGAAAAQHlGMAAAAADKM4IBAAAA\n",
       "UJ4RDAAAAIDyjGAAAAAAlGcEAwAAAKA8IxgAAAAA5RnBAAAAACjPCAYAAABAeUYwAAAAAMozggEA\n",
       "AABQnhEMAAAAgPKMYAAAAACUZwQDAAAAoDwjGAAAAADlGcEAAAAAKK8jO7j27BemtQb25G50f3DK\n",
       "CWmtv7/ljsaNzpfel3DJMzyQm8u0++sT01od77gurdWKbtpyaWpv/Lg5aa3tO9c2bvzL6tkJlwxb\n",
       "evrDaa251y5Ka40GZ0y+OK31yK4taa2IiCnj2tJa9265Pq3Vin5/9sLU3h2bN6e1VrY91LixX0xP\n",
       "uGRY5kvtJWfflNaa9LdPpLVGg/Nn5D3uf96/Ia0VEXH3U5NSe02dMOGc1N7PdtyQ1lq+tTOtFRFx\n",
       "YsK/9b6BHyVcMqTD9xVGzA+f2praO6TnlLTWut1L01oRETM7DmnceHT7ioRLhrxnWu77kmueynt/\n",
       "P3vM/LRWRMSmWJLa49nxzAoAAABAeUYwAAAAAMozggEAAABQnhEMAAAAgPKMYAAAAACUZwQDAAAA\n",
       "oDwjGAAAAADlGcEAAAAAKM8IBgAAAEB5RjAAAAAAyjOCAQAAAFCeEQwAAACA8oxgAAAAAJRnBAMA\n",
       "AACgPCMYAAAAAOUZwQAAAAAor+2u175pMDP44u9/NzOX6tojz05rnfXAlxs3dv792IRLhm1ecmBa\n",
       "a+blD6e1sj21cF7jRt/Tk5sf8gz7X3dvaq+yaV1Hpfae6r8/rXXTi96V1oqIWNPXk9b6wLIrGjeu\n",
       "euE5CZcMe++DV6f2Mk2ZcERa692TXtO4sejJRQmXjD5t0da4MRipb3Na1j2ve11q7/GnpzduvO2e\n",
       "GxIuGXJN4nu4iIj3JLyP21umdh3ZuLFw+isTLhnyV6sXp7VaXVdn8/fS/TtWJlzS+i6YuTC1d9l6\n",
       "r5PP1pi2ztTewOCO1F6rObTnzWmt5b3/nNZi5PgmGAAAAADlGcEAAAAAKM8IBgAAAEB5RjAAAAAA\n",
       "yjOCAQAAAFCeEQwAAACA8oxgAAAAAJRnBAMAAACgPCMYAAAAAOUZwQAAAAAozwgGAAAAQHlGMAAA\n",
       "AADKM4IBAAAAUJ4RDAAAAIDyjGAAAAAAlGcEAwAAAKA8IxgAAAAA5RnBAAAAACjPCAYAAABAeR0/\n",
       "WT1vpG94zhw/75G82APNE5uXHNg88gwTD3k8tdeqVi0/qHHjoCOXJlyyd/y3gy9I7f3RI5el9pp6\n",
       "cdsJqb3vxP1prbV9PWmtiIj5U59K7TW1Z7BtpE94zrSP6Uxr7d+1O63Ff85gDI70Cc8bj26cmdo7\n",
       "eMavUntNjaZHwhGDL27cGC0/rwXdv53aW9L3jdReZZ3tI33B6DUwuGOkT/jfdLRPTmvt3rM5rRUR\n",
       "8dj2f01rHdJzSlorIuLh3m+n9nh2fBMMAAAAgPKMYAAAAACUZwQDAAAAoDwjGAAAAADlGcEAAAAA\n",
       "KM8IBgAAAEB5RjAAAAAAyjOCAQAAAFCeEQwAAACA8oxgAAAAAJRnBAMAAACgPCMYAAAAAOUZwQAA\n",
       "AAAozwgGAAAAQHlGMAAAAADKM4IBAAAAUJ4RDAAAAIDyjGAAAAAAlNf2zePePZgZXLJpSlprn/E7\n",
       "0loREectuSq1V9muK3L30bHnD6T2Wk3vx2amtf7kS+9Ma0VEXL/1nrTWBdOObdz45KpLEy4Zfb7z\n",
       "0tMaNz76QGfCJcOO65qW1jp04p60VkTExx79fFrrRV1nNm5Mi+6ES4bN6hyX1vrK04vSWqPBoT1v\n",
       "SWst7/1WWqsVLTnlpLTWn9xxZForImLOhLz3OfN6dqe1IiI+suKyxo2XTHhPwiVD9mnPff7K/ODx\n",
       "7d685/rR4LCet6a1lvXektaKiHhJV/PHbE/kvc+5vf+KtNZoMGXCgrTWpm1L0lqt7rcmvK9x44fb\n",
       "vphwyejim2AAAAAAlGcEAwAAAKA8IxgAAAAA5RnBAAAAACjPCAYAAABAeUYwAAAAAMozggEAAABQ\n",
       "nhEMAAAAgPKMYAAAAACUZwQDAAAAoDwjGAAAAADlGcEAAAAAKM8IBgAAAEB5RjAAAAAAyjOCAQAA\n",
       "AFCeEQwAAACA8oxgAAAAAJRnBAMAAACgPCMYAAAAAOW1RXQMZgbve8Or01oDg21prYiIY2+7Pa21\n",
       "++sTGzc63rE14ZLnhx13Hp3W6nzZfWmt0eCI7lPTWg/13dy48ZG5CxMuGfaG/Z5Ia73+zpvSWqPB\n",
       "H87J+11u2ZWWioiIzTvzXtpu2Ly4cePiWbmP+87E/8Lqyn0bENPG7U5rfXjF5Y0bU7oWJFwybFP/\n",
       "krTWhgtfkNaa8fkVaa3R4I/2uzit9VhvWioiIuZ0NX//+/drFyVcMuRDs5Ofv9rznnMmdgyktSIi\n",
       "Nu9qb9y4ZE3ez35+99vSWhERS/u+mdrLdNbU5o+zHQN5j601O/vTWhERr5nRldb69Orm70ta2aLD\n",
       "zkvtLVx2ZWqP5z/fBAMAAACgPCMYAAAAAOUZwQAAAAAozwgGAAAAQHlGMAAAAADKM4IBAAAAUJ4R\n",
       "DAAAAIDyjGAAAAAAlGcEAwAAAKA8IxgAAAAA5RnBAAAAACjPCAYAAABAeUYwAAAAAMozggEAAABQ\n",
       "nhEMAAAAgPKMYAAAAACUZwQDAAAAoDwjGAAAAADltX33Ze8YzAyefOfNmblUNx57Zlrr9F9e17jx\n",
       "1MJ5zQ95hlXLD0prHXvb7WmtbL0fn9G8sWZmwiXD9r3qobTWD17+1rRWRMSrf3JLaq+yT867KLW3\n",
       "sjfv/xmu2LCocePsaQsTLhn25aea37S3nDTh3LTWqXPGNm58eMXlCZeMPqdObP43+eOBuxIuGba+\n",
       "L7eX5YeveEtqb+XmqY0bZz/w5YRLhvzDob+b1oqI+P3lX0jtZTppwvsaN94yu/nz1q/98SOXpbWy\n",
       "7dfzqtTe473/s3HjhAnnJFwy5F+3XZ3Wiohoa2tPa/2/sy9Ma0VE/N3a1npPMa3r6NTeU/33pbVe\n",
       "3XV+Wisi4ie7mn9W2LnrVwmX7B3vmpL3/veRHVvSWhERP992TWqPZ8c3wQAAAAAozwgGAAAAQHlG\n",
       "MAAAAADKM4IBAAAAUJ4RDAAAAIDyjGAAAAAAlGcEAwAAAKA8IxgAAAAA5RnBAAAAACjPCAYAAABA\n",
       "eUYwAAAAAMozggEAAABQnhEMAAAAgPKMYAAAAACUZwQDAAAAoDwjGAAAAADlddy/ceZI3/CcuXvj\n",
       "lJE+4T/oe3pyau+gI5fmxW7LS2XrXdP8MTvt2OUJlzzDVXmpBzbskxfjP2X99tz/Fzh88u682Ibm\n",
       "icMm7WkeeaancnOZ1ravS2vN6JyV1mpFnWP3Te3t2JX3s398z9bGjZeNOT7hkmHfirtSe1nW9U5K\n",
       "7R06fX1qr6mejsTn0xa3pO3uxo3zx78o4ZLW19aC/5+/pn1VWuuI7tPSWhERD/XdlNaaNHYgrdWK\n",
       "nt62ZKRP+I3Wt21K7R3f8V8aN366K/HDULJ1O7antY7pyX2t/fm25o22trznwcHB2n/Xv9Z6rxwA\n",
       "AAAAkMwIBgAAAEB5RjAAAAAAyjOCAQAAAFCeEQwAAACA8oxgAAAAAJRnBAMAAACgPCMYAAAAAOUZ\n",
       "wQAAAAAozwgGAAAAQHlGMAAAAADKM4IBAAAAUJ4RDAAAAIDyjGAAAAAAlGcEAwAAAKA8IxgAAAAA\n",
       "5RnBAAAAACjPCAYAAABAeUYwAAAAAMpr+/6Jvz2YGfyDe7vSWufO7UlrRUR8aPkXUnuV9X5sZmqv\n",
       "56/Xp/ZazY5LOtNanR/ZkdaKiPjo3IVprSMm9zVuvG/JVQmXjD6fmndh48Y3n+xPuGRYe7Sltfbp\n",
       "yHvtiIj4p62XpvaaenNP89/fM3V35P0f1g2bFqe1IiLGjMn7XQ4M5D5mM7xrysVpreuTf/at5mev\n",
       "fkNa63fuyv1/21d1HpzWmtud+lY6PrWq+ePioJ68n/2JYw9Ja0VE7B7M+3llP391dR7QuNG/Y1XC\n",
       "JXvHSRPel9a6c9c/pbUiIg7rfE3jxtyYlnDJkO/0XZ7WGg3e2H1BWut/9F2W1mp1589o/jntig2L\n",
       "Ei4ZXXwTDAAAAIDyjGAAAAAAlGcEAwAAAKA8IxgAAAAA5RnBAAAAACjPCAYAAABAeUYwAAAAAMoz\n",
       "ggEAAABQnhEMAAAAgPKMYAAAAACUZwQDAAAAoDwjGAAAAADlGcEAAAAAKM8IBgAAAEB5RjAAAAAA\n",
       "yjOCAQAAAFCeEQwAAACA8oxgAAAAAJTX9ouT3zCYGXzRd7+fmUt12qSL0lo3bbk0rZXlvx18QVpr\n",
       "7baOtFZExD88sSit9YOXv7Vx44EN+yRcMuwDy65Ia+380WFprYiIca9cltqr7GP7X5za27mnLa31\n",
       "t2vz/oZGg472yWmt+954VOPGgm/fkXDJ6PO7Mxc2btzRvybhkmHvmDYnrfWp1YvTWr83q/nP6plm\n",
       "T9jTuPFfH/t8wiVD7n39a9JaERHH3HZ7aq/VXHfUWWmtM++/Nq2VbXbPy1N7T/T+pHHjvBl5f4s/\n",
       "3fZEWisi4syZs9Ja8ydtSWtFRLzrvq+k9nhuzek5Ka21tjf3PdOrus5La+0eHEhrRURsHLOpcWPu\n",
       "4IyES4Z8r/8Laa2IiPYx3WmtPQN9aS3fBAMAAACgPCMYAAAAAOUZwQAAAAAozwgGAAAAQHlGMAAA\n",
       "AADKM4IBAAAAUJ4RDAAAAIDyjGAAAAAAlGcEAwAAAKA8IxgAAAAA5RnBAAAAACjPCAYAAABAeUYw\n",
       "AAAAAMozggEAAABQnhEMAAAAgPKMYAAAAACUZwQDAAAAoDwjGAAAAADlGcEAAAAAKK8tomMwM/hP\n",
       "x52R1lrdOzGtFRHxgWVXpLXGj5vTuLF959qES/aOfXtOSO1NHdw3rfVQ381prSwfnbswrfWZNYvS\n",
       "WhER/X8+Ja216ZG5jRtzvvxgwiXDZnW/NK31ZN/P0lrZ3txzYePGD3d/L+GSYbM7Dk9rLev9Vlqr\n",
       "FV39wnNSe8u2dKe1PrV6cVorIuLPD7worfWJlZemtbJ0tOc9px7deUpa657+r6S1spw04dy01h3b\n",
       "vpTWisj9m3y0tyutFRHx5y32uP/Q7Lz3OBERT+/Ma121Mfc9018f1Py19mOPfj7hktHnwwnvpR/d\n",
       "mvex9sYtua+NL+46K611V/+1aa1W9IrE146IiB8nv35kmjBuv8aNbTsfT7hkSHfnQWmtiIi+HY+m\n",
       "9rL4JhgAAAAA5RnBAAAAACjPCAYAAABAeUYwAAAAAMozggEAAABQnhEMAAAAgPKMYAAAAACUZwQD\n",
       "AAAAoDwjGAAAAADlGcEAAAAAKM8IBgAAAEB5RjAAAAAAyjOCAQAAAFCeEQwAAACA8oxgAAAAAJRn\n",
       "BAMAAACgPCMYAAAAAOUZwQAAAAAor+PS+eelBr/66Pi01vHTdqW1sm3fuXakT9irLph2bGrvk6su\n",
       "Te21miMm9+XF1uSlIiI2PTI3rTXthY+ktbI82fezkT7hObFgcnvjxpT+NyRcMuzapxel9ir71fbO\n",
       "1N7RUzfnxVbnpSIipo/bnRtsMTMnHJHWuqf3K2mtVnTitK601h3Jr42/eLonrXXM1N60VpapXUel\n",
       "tZZv3ZPWiog4akrr/h/89M6dI33CXjUl8flr07aH0loREY/1DjZuHDyxLeGSf7clLxURMSXyng+r\n",
       "6xhF39OZOm5e48a2nY83P+TfDQzmvoebnPicsznxOWf0PMIAAAAAGLWMYAAAAACUZwQDAAAAoDwj\n",
       "GAAAAADlGcEAAAAAKM8IBgAAAEB5RjAAAAAAyjOCAQAAAFCeEQwAAACA8oxgAAAAAJRnBAMAAACg\n",
       "PCMYAAAAAOUZwQAAAAAozwgGAAAAQHlGMAAAAADKM4IBAAAAUF5bRMfgSB/xm4ztmJHa+/bxr0xr\n",
       "/cvq2Y0bX9r0o4RLhr247YS01nf6Lk9rRUR8ZO7CtNYlaxaltXju7fxce2rv/Z+4MK317e0/S2tF\n",
       "RKzvuyu1x7M3o/u4tNaGvnvSWq3oG8f+Tmrvyocnp7U6xzT/v7r9utsSLhn2D0/kvQYtnJX32vjV\n",
       "rbnvKbbtfrp5Y+fjCZeMPje96F2NG6f94vqES1pf5vvLiIj7Nu1u3Jg6tiPhkiEHdKelIiLiM95D\n",
       "P2t/esBFqb2/XHVpWqur84C0VkTEYe0nNm78sj/vOedlE85Oa0VE3Lvn+2mt8e2T0loREZu2PZTa\n",
       "q2x2zyvSWr4JBgAAAEB5RjAAAAAAyjOCAQAAAFCeEQwAAACA8oxgAAAAAJRnBAMAAACgPCMYAAAA\n",
       "AOUZwQAAAAAozwgGAAAAQHlGMAAAAADKM4IBAAAAUJ4RDAAAAIDyjGAAAAAAlGcEAwAAAKA8IxgA\n",
       "AAAA5RnBAAAAACjPCAYAAABAeUYwAAAAAMozggEAAABQXkd2cNH889Ja+3X3prUiIk679+601tLT\n",
       "H27c+Ltr70+4ZNh3IreX6Q37PZHWumRNWmpUmNX90rTWk30/a9x4/ycuTLhk2D/evzWtddWcu9Ja\n",
       "o8HXjnl3WuvqFRPTWhERJ8/ek9b6/eX3NG5cueC9CZcMu+/p7rTW+u3b0loREW+cvTut9f8sv6Jx\n",
       "4y+mXpRwyd7x9zf/z7TWohMfTGuNBh/f/+K01qdXL05rRUTc8eT01F5Tf3Fg7t/Qv24YSGsNppWG\n",
       "zJ3Q/KPRlRsWJVwy5PSBvMdpq/uj/Zr/W/t2tyVcMmR8e977iIiID81emNb63JNfSmtFRBw4bmrj\n",
       "xi8T7vi19+w/LrEWceeyvA+Pb5/y9rRWRMT12x5q3DhzSt5j67pNec9f2Z7o/XFayzfBAAAAACjP\n",
       "CAYAAABAeUYwAAAAAMozggEAAABQnhEMAAAAgPKMYAAAAACUZwQDAAAAoDwjGAAAAADlGcEAAAAA\n",
       "KM8IBgAAAEB5RjAAAAAAyjOCAQAAAFCeEQwAAACA8oxgAAAAAJRnBAMAAACgPCMYAAAAAOUZwQAA\n",
       "AAAozwgGAAAAQHltC7rPGMwMLun7RmYu1R/MWZjW+ru1ixo3bnrRuxIuGba2ryet9XvLrkhrZfvk\n",
       "vIsaN9Zvz91//3Fd88fDr31s/4vTWhERf716cWqvqZndL07tre+7K621+8r2tFZExI4VU9Ja3X+1\n",
       "sXHjFye/NuGSYS/67vdTe5nOmJz3d3TGvE2NG++497qES/aO6V3HpPY29t+b1vrUvAsbNz79xL8k\n",
       "XDKsf8eq1F6W/k9MSu1tfWx248asLy5NuGTIN487I60VEfG2e25I7WWa13Ny48Z50w9JuGTIn628\n",
       "NK2VraN9ampv956nGzfeMy3v88Y1T+W9v8xW/W9y/Lg5qb3tO9emtV7ddX5aKyLiB/3NP/d1tE9O\n",
       "uGTI7j2b01oREe+fmfc3eU9f8/eEz3R3/1dSe02N7ZiR2pswdnpaa8u2vPcUvgkGAAAAQHlGMAAA\n",
       "AADKM4IBAAAAUJ4RDAAAAIDyjGAAAAAAlGcEAwAAAKA8IxgAAAAA5RnBAAAAACjPCAYAAABAeUYw\n",
       "AAAAAMozggEAAABQnhEMAAAAgPKMYAAAAACUZwQDAAAAoDwjGAAAAADlGcEAAAAAKM8IBgAAAEB5\n",
       "RjAAAAAAyjOCAQAAAFBex/a2/pG+4TnTOWZwpE/4D9b09aT25k99KrXXqlb2Nt9uD5+8O+GSvWPn\n",
       "nraRPmGvWt9310if8BvtWDEltde5oDe119SePe0jfcJz5uCJea1dA7X/v+j8qa9I7X2m/9601ur+\n",
       "5o/Zl7SfnHDJsAe7f5HW2tCX19ry2Jy0VkTElMNWpvaaGozar43PdMjAvMaNbcXfS/zauyadmdq7\n",
       "9ulFjRurt21PuGRId+e8tFZERP/O1Wmt7nE701qt6MXtb0zt3RFfTGstHfNQWisiYk5P8/cB6/rv\n",
       "Sbhk71jRl/dYPbwz97PC3S02xezavSG1t2Dc69Ja98bStFbtd/YAAAAAEEYwAAAAAEYBIxgAAAAA\n",
       "5RnBAAAAACjPCAYAAABAeUYwAAAAAMozggEAAABQnhEMAAAAgPKMYAAAAACUZwQDAAAAoDwjGAAA\n",
       "AADlGcEAAAAAKM8IBgAAAEB5RjAAAAAAyjOCAQAAAFCeEQwAAACA8oxgAAAAAJRnBAMAAACgvLZP\n",
       "HPiBwczgJ1Z9MS/W1pbXioiBge2pvcq+89LTUntv+NlNqb1W86l5F6a1/utjn09rRUS8uSfvtgWT\n",
       "2xs3LlmzKOGS0Wf313saN44491UJlww7a/r+aa2T9l2X1oqIOPnOm1N7Tf3NwRek9r6yblNa677+\n",
       "G9JaERFv6s77t97ad1laK8slL8j7931kRev9+zLt+Nuxaa3OP9yV1oqIeO/0hWmt1+3bm9aKiDjn\n",
       "watTe02dNyPvZxURceWG1n0fMK/n9Y0bj/XelnDJ3vG+xN/lNZuuT2tFRHxk9hmNGxM7BhIuGfKx\n",
       "R3Pfj0+ZcERaa9O2h9JaWTJf+3+0+ztprYiIvh2PpfYyfWh287/J//5E6z6n9ox/QVqru31GWss3\n",
       "wQAAAAAozwgGAAAAQHlGMAAAAADKM4IBAAAAUJ4RDAAAAIDyjGAAAAAAlGcEAwAAAKA8IxgAAAAA\n",
       "5RnBAAAAACjPCAYAAABAeUYwAAAAAMozggEAAABQnhEMAAAAgPKMYAAAAACUZwQDAAAAoDwjGAAA\n",
       "AADldfR07EkNDgzuyIsN5qVa0VUvPCe1t2ewLa310QcSf4/Jzp62sHHjsEm5j/tvPtmf2sv0w93f\n",
       "S2tN6X9DWqsV/eLk16b29uxpT2sdce64xo2Hrv1pwiXDOt7+z3mxlXmpbDs+2/xn3/nhyxIueX64\n",
       "ta/2v/XKdb8a6RP+j75/wttTe9t3j23cmKY3wnUAACAASURBVPNnDydcMmTHZ5ektSIiOj+8KK11\n",
       "1ca0VJqtH5mV1pp4Sd7PqtU91nvbSJ+wV31xQ97v8pevf01aKyLi2NsWp/ZazaZtD6W1JnTun9aK\n",
       "iNi2Y3Xjxpi2vM+hfTseS2tFRIwZ05XWGhjI/cx37+bmn7mndR2VcMmQp/rvT2tFROzcsyWt1bt9\n",
       "RVrLN8EAAAAAKM8IBgAAAEB5RjAAAAAAyjOCAQAAAFCeEQwAAACA8oxgAAAAAJRnBAMAAACgPCMY\n",
       "AAAAAOUZwQAAAAAozwgGAAAAQHlGMAAAAADKM4IBAAAAUJ4RDAAAAIDyjGAAAAAAlGcEAwAAAKA8\n",
       "IxgAAAAA5RnBAAAAACjPCAYAAABAeUYwAAAAAMpri+gYzAye0nNhWuvhWJvWiohY1ntLWuuMyRc3\n",
       "btyweXHCJXvHeTMWpvamjstr/e3aRXmxJCdOOCet9dNtV6e1IiIO63lLWmtZ77fSWlm+dsy701rv\n",
       "vPcraa1sf3HgRc0bKy9NuGRY7x/PTGutf/iAtFZExEFfvzu119Tyt5+Q2tva253WOu5730trjQZt\n",
       "if9/uHj+uWmti5ZemdbK8sF9895LfG5d7mv/mrOOSmutXLVfWisi4uU/+pfUXlM/f83rU3ub+nvS\n",
       "Wq+/86a0Viua1fOy1N6TvXem9jJdueDcxo2VveObH/LvPrEq9z3T+2fmPR9evr71PguNGZP3s399\n",
       "4ueqiIj/0XdZaq/VZP7sBwa2p7VamW+CAQAAAFCeEQwAAACA8oxgAAAAAJRnBAMAAACgPCMYAAAA\n",
       "AOUZwQAAAAAozwgGAAAAQHlGMAAAAADKM4IBAAAAUJ4RDAAAAIDyjGAAAAAAlGcEAwAAAKA8IxgA\n",
       "AAAA5RnBAAAAACjPCAYAAABAeUYwAAAAAMozggEAAABQnhEMAAAAgPI6soMPxsNprSPjkLRWRMSy\n",
       "xNYju7Yk1lrPoRP3pPYe6W1P7bWafTq6RvqE32hZ77dG+oS96uoVE0f6hOfESfuuax5Z2TzxTOsf\n",
       "PiCtNX3emrRWK1r6+P6pvaMPWZ7ay/Sm7gvSWrf2XZbWyrJfz2+ltb65ZmxaqxWdODPvvdLnEp4C\n",
       "n2n143PSWnNnJx/XYv5t/b6pvWPnrkrtVfZk750jfcJzZtmWCY0bh07clnDJ3jGjc3CkT9irBga2\n",
       "p7VG07d0xrSNa9zI/NmPFqPpMQYAAADAKGUEAwAAAKA8IxgAAAAA5RnBAAAAACjPCAYAAABAeUYw\n",
       "AAAAAMozggEAAABQnhEMAAAAgPKMYAAAAACUZwQDAAAAoDwjGAAAAADlGcEAAAAAKM8IBgAAAEB5\n",
       "RjAAAAAAyjOCAQAAAFCeEQwAAACA8oxgAAAAAJRnBAMAAACgPCMYAAAAAOW1RXQMjvQRz5XTJ12c\n",
       "1poyrq1x48a+2xMuGdY+pjOttbHvl2mtiIgzJuf97Nfu3Na80b4u4ZJhj/TemtbqaJ+c1oqI2L1n\n",
       "c2qvqRndx6X2/nROXu/Hvxqb1oqIOHhiXutvHl+cFxsFtn+6O601/uN9aa1WtOasI1N7H7zllWmt\n",
       "G7c0f9y/qfuChEuG3dp3WVrrj/fLe228+6ndaa2IiHndzZ8PL1+/KOGS0Wf9BYc0bsy87OGES1rf\n",
       "v73lFam91/6g+fv7tb13JFwyZFzHzLRWRMTO3etTe5V99eizUnv/uDzvPeZA5H58P6yr+Xumqzbm\n",
       "Pd9P7zomrRURMZj48+oeMy2tFRGxuvcHqb3K2tra01q+CQYAAABAeUYwAAAAAMozggEAAABQnhEM\n",
       "AAAAgPKMYAAAAACUZwQDAAAAoDwjGAAAAADlGcEAAAAAKM8IBgAAAEB5RjAAAAAAyjOCAQAAAFCe\n",
       "EQwAAACA8oxgAAAAAJRnBAMAAACgPCMYAAAAAOUZwQAAAAAozwgGAAAAQHlGMAAAAADKa4voGBzp\n",
       "I54rx3S9K611b//1jRsLZy1MuGTY/l2701o3PLk1rRUR8Yv+69Jan33B+xs3ZnTuTLhk2LlLrkpr\n",
       "LTnlpLRWRMSCb9+R2qvs68ecmdrbNZD3/wxn3n9t48aOz45LuGRY54dz/45a1e4vj23c6Dh7V8Il\n",
       "o8/8nrc2biztvSXhkmEnTTg3rXXHti+ltRbNPy+tFRGxO+H564PLv5BwyZCNFx+U1oqImL740dRe\n",
       "q9n2lxPTWhP+NPc9YXVTJixIa23atiStFRExtmN6WuuhtxyS1oqIOOTmO1N7lY0ZMz61NzCwvXHj\n",
       "9V3NP5/92m39l6e1IiKmdx+b1trY98u0VkTEe6Y13wOueWpRwiWji2+CAQAAAFCeEQwAAACA8oxg\n",
       "AAAAAJRnBAMAAACgPCMYAAAAAOUZwQAAAAAozwgGAAAAQHlGMAAAAADKM4IBAAAAUJ4RDAAAAIDy\n",
       "jGAAAAAAlGcEAwAAAKA8IxgAAAAA5RnBAAAAACjPCAYAAABAeUYwAAAAAMprO2HCeYOZwZ9tvz6t\n",
       "NTC4I63Ff87run43tXfYxHFprcVPLkprZXlzz4VprX/u/XxaKyLi6heek9b61fbOxo0Pr7g84ZJh\n",
       "Vy54b1rrvCVXpbWy/c3BFzRu/PEjlyVcMmz5209Iay19fP+0VkTEW+7+WmqvqcfffXRqb8P66Wmt\n",
       "Y2+7Pa0VEfG1Y85Ma73z3uvSWq3orw7Ke+34k0dzXzsyfGj2wrTWf38i97X/By9/a1rrgQ37pLUi\n",
       "Ij6w7IrUXlO/OPm1qb11m6emtf7Lz29Ma0VEXPKC5q+1H1mR+1o7Wnz5yLMbN1b1dSVcMiT7OfX8\n",
       "GXnPh1dsaL3PQpkWzsr7WUVELGrBz46MLN8EAwAAAKA8IxgAAAAA5RnBAAAAACjPCAYAAABAeUYw\n",
       "AAAAAMozggEAAABQnhEMAAAAgPKMYAAAAACUZwQDAAAAoDwjGAAAAADlGcEAAAAAKM8IBgAAAEB5\n",
       "RjAAAAAAyjOCAQAAAFCeEQwAAACA8oxgAAAAAJRnBAMAAACgPCMYAAAAAOUZwQAAAAAor+OV03pS\n",
       "g/+6Zkdqj5Exq3Ncaq+z+Nza3dG6/8BlW7rTWkdP3ZzWynLf03n/vlb2lXWbRvqE/83W3sTH1iHL\n",
       "01oREXF3bq6pDeunp/YOPHxFXuy2vFRExO3rpuYGC7vv6dZ97cjwxU3fH+kTfqMt2yektV4y+/G0\n",
       "VkRELMvNNfXk5ty/6cMPfCwv9vO8VETENU+03mvtaPGrbeMbN46cmvj7ezQvFRGxf/dAXmxDXqoV\n",
       "9XSM9AVUV/vdFwAAAACEEQwAAACAUcAIBgAAAEB5RjAAAAAAyjOCAQAAAFCeEQwAAACA8oxgAAAA\n",
       "AJRnBAMAAACgPCMYAAAAAOUZwQAAAAAozwgGAAAAQHlGMAAAAADKM4IBAAAAUJ4RDAAAAIDyjGAA\n",
       "AAAAlGcEAwAAAKA8IxgAAAAA5RnBAAAAACivLaJjMDN4QM9r01obdz2a1oqI6NuR1/v92QsbN/7h\n",
       "iUUJlzw/fHz/i9Nan169uHGjc+y+CZcM27FrXWqvsm8c+zupvfXbJ6S1Pr7qnrRWRMT5U1+R1vrM\n",
       "mtHzfJFhzVlHprXmXvtAWqsVbbz4oNTe9MV5r7WnTryoceOoqQmHPMNfrro0rfXJec3/fb/2Z4/l\n",
       "3RURcebU5u9zrnva89b/jbtfe3LjxvHf/27CJa1v+akvS+0devOdjRtHdJ+acMmQo8fOTmtFRFy/\n",
       "qfl76NHixmPPTO2d/svr0lr79bwqrRUR8dIxCxo3vrGldR9bL51wdlpr7tjutFZExE1bcl+7eXZ8\n",
       "EwwAAACA8oxgAAAAAJRnBAMAAACgPCMYAAAAAOUZwQAAAAAozwgGAAAAQHlGMAAAAADKM4IBAAAA\n",
       "UJ4RDAAAAIDyjGAAAAAAlGcEAwAAAKA8IxgAAAAA5RnBAAAAACjPCAYAAABAeUYwAAAAAMozggEA\n",
       "AABQnhEMAAAAgPKMYAAAAACUZwQDAAAAoLyON3VfkBpcEWvSWi9of3FaKyLivng0rXXH5s1prdFg\n",
       "2rjdI33Cf7Bj17rU3pgxXWmtgYH+tFZExJ8feFFaa3rC7/HKh9sTLhn2xtl5j62N/femtSIiPpPY\n",
       "y3iuvrXvsoRL9o7s16IP3pL5OHugceFrx5yZcMew29dNTWtNX7worRURsfvGiWmtjtMvbdy4eWvC\n",
       "IXvJuDEDI33Cb3Td080fF0d2vyPhkiEP9H09rZXt2K53pfYW/rQztdfUZ1/w/tTedxLfgh168+V5\n",
       "sYjY8ZnmP/vOj96ccMmQh9JKre/tE5u/X/3Z4P0Jlww5/ZfXpbUiIr70wnPSWuc+eHVaKyJiy4Tc\n",
       "z0VN3XL8O1N7b737y3mxbXmpVnR01xmpvaW7fpTWeufE09JavgkGAAAAQHlGMAAAAADKM4IBAAAA\n",
       "UJ4RDAAAAIDyjGAAAAAAlGcEAwAAAKA8IxgAAAAA5RnBAAAAACjPCAYAAABAeUYwAAAAAMozggEA\n",
       "AABQnhEMAAAAgPKMYAAAAACUZwQDAAAAoDwjGAAAAADlGcEAAAAAKM8IBgAAAEB5RjAAAAAAymuL\n",
       "6Bgc6SOej2Z0H9e4sbHvFwmXDBuM0fGrPHXiRY0bj+/ZmnDJsLv6r01r/e7MhWmtiIgvrF+U2mvq\n",
       "9EkXp/Zu3LI4rfWpeRemtSIiVve3p7U+/6vW+j2OJvN73tq4sbT3loRL9o6M59RnunnrpWmtp37v\n",
       "wMaN9avmJFwybP4tP03tZfnwnNzXjlV9zd9T3LA57/kZ/k+O6n5Hau/+vq83bqw47aUJlwxZ86t9\n",
       "0loREb/142+ltY7oPjWtFRHxUN/Nqb2mJk84PLW3edu/pbXOn5H7fP/d7UsbN1b2fi/hkr3jTw/I\n",
       "++zxeH9bWisi4osbmr+/Py/x8XBlwj3PB74JBgAAAEB5RjAAAAAAyjOCAQAAAFCeEQwAAACA8oxg\n",
       "AAAAAJRnBAMAAACgPCMYAAAAAOUZwQAAAAAozwgGAAAAQHlGMAAAAADKM4IBAAAAUJ4RDAAAAIDy\n",
       "jGAAAAAAlGcEAwAAAKA8IxgAAAAA5RnBAAAAACivIzvYM/7gtNbc9iPTWhERY2NsWmu/mN64cWvc\n",
       "k3DJ88OUrgVprR8P3NW48bIxxydcsnfc0b9mpE/Yq/brbkvt/cXUi9Jan37i22mtiIiXtJ+c2uPZ\n",
       "e1P3BWmtW3svS2u1oqOm5vZu3prXWr9qTuPG7MMea37IXvJ7sxamtf6/DTeltSIijmt/Q2qPZ++I\n",
       "7lMbNx7quznhktZ3Qtc+qb37+5o3Vj85q3nk3x18wOq0Vrbqj7E9gztH+oTfaPOuwdTe23rmN24s\n",
       "3vbzhEuG7N6zJa0VEbF0c17rqKl78mIRERuaJ2aOz308jAa+CQYAAABAeUYwAAAAAMozggEAAABQ\n",
       "nhEMAAAAgPKMYAD/i107/7e7oO88/rnJzXKXhAQCMQm7hE1ArMqIUlQQtYoL0CKURUS2xPGhbXU6\n",
       "WrXjxmiRjh2nISCCyioVQUWnFItCKZuibLIvIQskMSQ3yd2y3Ts/XH1c5jEP59H2+wn38Mnz+Qe8\n",
       "Hp97cu45575zAAAAKM8IBgAAAEB5RjAAAAAAyjOCAQAAAFCeEQwAAACA8oxgAAAAAJRnBAMAAACg\n",
       "PCMYAAAAAOUZwQAAAAAozwgGAAAAQHlGMAAAAADKM4IBAAAAUJ4RDAAAAIDyjGAAAAAAlGcEAwAA\n",
       "AKC8toj24bE+gtYzt/vo1N7jvTek9lrN+6bNS2vNnZKWioiILz17VVprx479Gjee670j4ZKXhhld\n",
       "r0pr/eXLXtu4ccnylQmXjHqk7wdprZ27D09rRUQs6f1ZWuuwjtMaN24b+GbjBq2h79PT01pdn1+T\n",
       "1so2blxH48Zf7Xxa80N+61urH01rRUQs7r05rTV54qy0VkTE4MbnGjcmTci7acOm5vfQGpaf1vxz\n",
       "3O/84Xf3TGtFRDze+6PGjfHjuhIuGbFlqC+ttS34i9nz01rnP7sgrdXq/mbPsxo3PvnMdxIuGTF3\n",
       "8hFprYiIPWKntNaP+y5Ma/kmGAAAAADlGcEAAAAAKM8IBgAAAEB5RjAAAAAAyjOCAQAAAFCeEQwA\n",
       "AACA8oxgAAAAAJRnBAMAAACgPCMYAAAAAOUZwQAAAAAozwgGAAAAQHlGMAAAAADKM4IBAAAAUJ4R\n",
       "DAAAAIDyjGAAAAAAlGcEAwAAAKA8IxgAAAAA5RnBAAAAACivLaJ9ODN4x+FvT2tNnrgxrRURsfD+\n",
       "fdNa551yXePG1POfS7jkpWHV2S9Pa8248Mm01rbgDzr/NK31y/4rGzfmz5yfcMmo/3H9LWmtSYf+\n",
       "Oq21LVi4z+lprR8sm5DWiog4aFre//F8aekFjRtf3OPshEtG3b8m7+d7xbTUjwExcdxQWuu/PnVR\n",
       "48aHkl9z/n7FgrTWunWfTGtNnXpuWmtbcO3BJ6S1PvJE7ue5z+26e+PG6Q99q/khv3XVgSeltSIi\n",
       "7lm9XVrr4Onr01pZTn7wsrTWZ3Y9J60VEfG5xQtTe5m+sHvz98m+zXnvjTtO3pzWiohYOdie1vry\n",
       "sovTWhERx0w5o3Hje+uaf1b6nczX54iI4+69Oq11/LR5aa2IiGt6mj9uB3Uen3DJiPv7r0lrtTLf\n",
       "BAMAAACgPCMYAAAAAOUZwQAAAAAozwgGAAAAQHlGMAAAAADKM4IBAAAAUJ4RDAAAAIDyjGAAAAAA\n",
       "lGcEAwAAAKA8IxgAAAAA5RnBAAAAACjPCAYAAABAeUYwAAAAAMozggEAAABQnhEMAAAAgPKMYAAA\n",
       "AACUZwQDAAAAoDwjGAAAAADltV1z0KnDmcHj778yM5fq7+aekdb6yOMXN2788sgjEy4Z9fTzO6a1\n",
       "jrv36rRWtlvfcHTjxvLeqQmXjDr+vrzn/Ydmzk9rRUT8/YoFqb2mtu88MLW3uv+BtFb/Z3OfF+sW\n",
       "zU5rvezSRxo3bn7dexIuGXXEnd9P7WU6qvPMtNYxu2xp3Jj/6CUJl2x7Pja7+evh/1p1XcIlowY3\n",
       "Ppfay7L5u925vcebP+8nf2Ig4ZIRjxz9+rRWRMS+N9ye2st0yvbNn/cn7Lky4ZIR7/zFd9Na2Xbq\n",
       "ek1qb2XfLxo3zn953vvPV1b8Oq0VEfFcb97z/sZDjk1rRUS87e7vpfaa2q5jv9Te2oGH01pHd5+d\n",
       "1oqI+FHfNxo32hK/WzM0vDGtFRHx6V3npbUe7EmdTuK6dQsbN2Z0vSrhkhGr+n6V1oqIaEtsZT7y\n",
       "vgkGAAAAQHlGMAAAAADKM4IBAAAAUJ4RDAAAAIDyjGAAAAAAlGcEAwAAAKA8IxgAAAAA5RnBAAAA\n",
       "ACjPCAYAAABAeUYwAAAAAMozggEAAABQnhEMAAAAgPKMYAAAAACUZwQDAAAAoDwjGAAAAADlGcEA\n",
       "AAAAKM8IBgAAAEB5RjAAAAAAyjOCAQAAAFBe+7i24bG+4UUzfeLGsT7h/7J0zQ6pvT1nrEzttapn\n",
       "1k5v3Ji7w28SLtk6ZnVsGesTtqqBzWvG+oTfa/2iWam9aXs/k9pranDzhLE+4UWze1fez7p5qPb7\n",
       "5InT56f2rlqzIK21uK/5Y/8H49+acMmoO8ddk9YaGhpIa21+PPe9o/2AzoRK3s83NLTt/L/tLl3N\n",
       "n/cbtrQnXNL6zt7htam9z/f9onFjSX/e+8/h7QentSIibpj0XFqra+JgWqsVvan9jam978fDaa2H\n",
       "YlFaKyJi964jGzcW9f5TwiVbx1Pr29Jac6fktSIiYl3zxOCWhMhWMr3zlWmt1f33pbW2nU8UAAAA\n",
       "AGyzjGAAAAAAlGcEAwAAAKA8IxgAAAAA5RnBAAAAACjPCAYAAABAeUYwAAAAAMozggEAAABQnhEM\n",
       "AAAAgPKMYAAAAACUZwQDAAAAoDwjGAAAAADlGcEAAAAAKM8IBgAAAEB5RjAAAAAAyjOCAQAAAFBe\n",
       "24X7njmcGbzn+Y601vRJqafFl5dekNqr7KF3HJba2//Ht6X2Ws3db3prWuuQn/1TWisi4rCO09Ja\n",
       "h27f2bhx3rIFCZdsezacP6FxY/ZnXpFwyaiTprw+rXXojuvSWhERJz5weWqvqY/Omp/au7Tn5rTW\n",
       "2oFH0loREQd0/XFa68G+76a1snx613lprc8vrv25ZNONs9Naexw3N60VEfGxWXm9181emtaKiHjd\n",
       "Lf+Y2mvqq3PPSO1dtXRDWuuugcvSWhERh3ec3rhx68AlCZdsHRfs0/zn+52/XvpAWisi4j/v+OrG\n",
       "je72LQmXjPjzJ76e1oqI6Ji4S1prYOOStFaW46bmvTf+ePCGtFZEaz5ev/OlPc9q3PivT12UcMnW\n",
       "sVv3W9Jaz/T+JK3lm2AAAAAAlGcEAwAAAKA8IxgAAAAA5RnBAAAAACjPCAYAAABAeUYwAAAAAMoz\n",
       "ggEAAABQnhEMAAAAgPKMYAAAAACUZwQDAAAAoDwjGAAAAADlGcEAAAAAKM8IBgAAAEB5RjAAAAAA\n",
       "yjOCAQAAAFCeEQwAAACA8oxgAAAAAJRnBAMAAACgvLZfveWtw5nBV/3k5sxcaZcfcEpqL/Mf8nuL\n",
       "uxJrEdetW5jW+ru5ZzRudLdvTrhk1BeXLE9rXXfohrRWRMQrb/ppaq+yH/zB8am94WhLa73nl99p\n",
       "3NjwlYkJl4ya9LGNqb1W9fy8PRo3drjg6YRLaAW7dh+R1lrcm/eZ6ZGjX5/WiogYGmr+/6RvvXV8\n",
       "wiUjFl39UForIqL96N+k9lrNxq/lPfYTP7wlrcXYOqzjA2mt699/S1orImLGwqdSe5WdNH1+au+R\n",
       "DT2NGwd0TEu4ZMS3nl+Q1oqIOHX7vMdrfPJXiHo2Nv8Lfq8peX9vnLcs97Gf0D4jrbVp86q0lm+C\n",
       "AQAAAFCeEQwAAACA8oxgAAAAAJRnBAMAAACgPCMYAAAAAOUZwQAAAAAozwgGAAAAQHlGMAAAAADK\n",
       "M4IBAAAAUJ4RDAAAAIDyjGAAAAAAlGcEAwAAAKA8IxgAAAAA5RnBAAAAACjPCAYAAABAeUYwAAAA\n",
       "AMozggEAAABQnhEMAAAAgPKMYAAAAACU1xbRPpwZvGjfD6S1FvVNTmtFRJy75IK01gdnzG/c+Maq\n",
       "BQmXbB0fmtn853uh7gl5T7MvL837d8zygR3yHq9Ln899Xnz7FaemtX61prtx4388m/vzfXKXeWmt\n",
       "zNeIbO9PeI59K/m5teykA9NaS5bOTmtFRLzulhtTe0397PXvSu2tG+xIa737l9ektfj3ufbgE9Ja\n",
       "x917dVory1fnnpHW+ujjF6e1IiL6PrV9WmvVY7ultSIidrvmV6m9phb9yatSe73rp6S1DvjHW9Na\n",
       "jK1/OeydjRuLe/J+r0968LK0VkTEpxI/r36hBT+vHtrx/rTWQVO60loREReubN2/uTsnNX//6N/w\n",
       "TMIlIzL/HSMi7hy8PK01PLwlreWbYAAAAACUZwQDAAAAoDwjGAAAAADlGcEAAAAAKM8IBgAAAEB5\n",
       "RjAAAAAAyjOCAQAAAFCeEQwAAACA8oxgAAAAAJRnBAMAAACgPCMYAAAAAOUZwQAAAAAozwgGAAAA\n",
       "QHlGMAAAAADKM4IBAAAAUJ4RDAAAAIDyjGAAAAAAlGcEAwAAAKC89ra28anBB3s60lr7bTeY1sr2\n",
       "8/5VY33CVrV79+bU3i+ez32etZo5XcN5sefzUhERT/d2prVeOb23eeTZ5okXOnfJBbnBFnXky5o/\n",
       "9t9Kfm49s3jntNacWcvTWq3owVU7pfZeO2tpai/TwZ3vS2vd2/+dtFaWyRNnpbU+8sRzaa1W9LrZ\n",
       "ic/Tx/NSERGrHtstrbX9HsvSWq3oicV5j1VExP57J/9jJjph2vzGjat7FiRcsnV0TdojrdW34em0\n",
       "VkTEMz3bN27sOb11/z6bPH5orE/YqtaNW5/W6t/cldZqda8Zd2Tjxq1xScIlIxaNz319PnTyyWmt\n",
       "2we+ldbyTTAAAAAAyjOCAQAAAFCeEQwAAACA8oxgAAAAAJRnBAMAAACgPCMYAAAAAOUZwQAAAAAo\n",
       "zwgGAAAAQHlGMAAAAADKM4IBAAAAUJ4RDAAAAIDyjGAAAAAAlGcEAwAAAKA8IxgAAAAA5RnBAAAA\n",
       "ACjPCAYAAABAeUYwAAAAAMozggEAAABQnhEMAAAAgPLaItqHx/qIF8sVB5yc1rpn9dTGjUt7bk24\n",
       "ZNR+w69Ja90+8M20VkTEn82en9b6+ZqBxo2H2u5JuGTU6v77U3uVXfeq96X2bluxQ1rr2nWPpbUi\n",
       "IvYa2j2t9ZP+i9Na24LfnLVXWmvHi55Ia7Wie454S2pv/h2z01p3DXy7cWO/rvcmXDLq4b7r01qX\n",
       "7P/+tNZPl3eltSIidulq/vHw3CUXJFyy7Rn88uTGjcl/OZhwSetbcfo+qb1Tv/PGxo0b+y5KuGTE\n",
       "cdvNS2tFRFy71u/kv1X2e+O5v5ib1to0nPvn+15Tmn8v5m+fXZBwyYgjOs9Ia0VErGxbk9Z6YtMd\n",
       "aa2IiMGNz6b2Kjtuat7roW+CAQAAAFCeEQwAAACA8oxgAAAAAJRnBAMAAACgPCMYAAAAAOUZwQAA\n",
       "AAAozwgGAAAAQHlGMAAAAADKM4IBAAAAUJ4RDAAAAIDyjGAAAAAAlGcEAwAAAKA8IxgAAAAA5RnB\n",
       "AAAAACjPCAYAAABAeUYwAAAAAMpr++mhxw5nBt98xw8yc6X91S7zUnuZ/5A3rVqfWIv4+cDlaa0v\n",
       "7XlW48bMyRsSLhn1ucXPpbXO3WPHtFZExIkPXJHWmt55YOPGmv4HEi7ZOj632zmpvYEtbWmt/770\n",
       "gsaN9R+fmXDJqCnnrUjttaqBz09p3Oj4dO5rKmNn0oRZaa0Nm/LeO370mj9Oa0VEbNjS3rhx7K+u\n",
       "TrhkxMavjU9rRURM/PCW1F6r2Xzddmmt9mPWprUYW3t3vyuvFbPTWhER/zjwncaNV056R8IlI+7p\n",
       "vzKttS3IfG491vvDtFZExK7dR6S1thveIa0VEfGymNa40Tku7/3x++sXprVamW+CAQAAAFCeEQwA\n",
       "AACA8oxgAAAAAJRnBAMAAACgPCMY2EKA3wAAIABJREFUAAAAAOUZwQAAAAAozwgGAAAAQHlGMAAA\n",
       "AADKM4IBAAAAUJ4RDAAAAIDyjGAAAAAAlGcEAwAAAKA8IxgAAAAA5RnBAAAAACjPCAYAAABAeUYw\n",
       "AAAAAMozggEAAABQnhEMAAAAgPLaItqHM4Nf2vOstNai3va0VkTEwpUL0lqv6zi1cePOgW8nXLJ1\n",
       "vLP77NTe3Cnj01pffS7v3zHLn06fn9a6ck3uz/fRWXm3Pb5+S+PGj3ovTLhk1H/b7Zy81jML01rZ\n",
       "Tp/R/N/xklW5z62fv/motNYjv3lZWisi4pQHL0vtNfWrtxyR2luxdnpa6+0/vzatFRHxlZefmdb6\n",
       "2JNfT2u1oqsOPCmtdeIDV6S1snx17hlprY8+fnFaKyJi0Z+8Kq31xOLd0loREW+56/rUXlMrP7h3\n",
       "am/1ihlprX1vuD2tFRFx1YEnN26c+MDlCZdQzeSJc9JagxuXpbVa0Ydm5v3tEhHx9yta72/HVtUW\n",
       "bam94UidmtL4JhgAAAAA5RnBAAAAACjPCAYAAABAeUYwAAAAAMozggEAAABQnhEMAAAAgPKMYAAA\n",
       "AACUZwQDAAAAoDwjGAAAAADlGcEAAAAAKM8IBgAAAEB5RjAAAAAAyjOCAQAAAFCeEQwAAACA8oxg\n",
       "AAAAAJRnBAMAAACgPCMYAAAAAOUZwQAAAAAozwgGAAAAQHntB3X+SWrwyfXtaa19pm5Ka0VExMq8\n",
       "1N0brsmLtaDh5N6k8dnF1rJ5uHV/vjUb81oHTmu+m/+oN+GQF7hz1VBusEVdsmrBWJ/w/+jp705r\n",
       "HTxncVorIiIezM01tXzt9NTevrstyov9PC8VEfFPy3N7ld2zeruxPmGrumrphrE+4ffqXT8lrbX/\n",
       "3o+ntSIi4q7cXFOrV8xI7c15xRN5sRvyUhERNyydmhvk32x292GNG3tu2SvhkhEzJ3SktSIiJoxr\n",
       "S2tdvbH1PhNmSnyo+HcaTl4BtuvYN621duCRtJZvggEAAABQnhEMAAAAgPKMYAAAAACUZwQDAAAA\n",
       "oDwjGAAAAADlGcEAAAAAKM8IBgAAAEB5RjAAAAAAyjOCAQAAAFCeEQwAAACA8oxgAAAAAJRnBAMA\n",
       "AACgPCMYAAAAAOUZwQAAAAAozwgGAAAAQHlGMAAAAADKM4IBAAAAUJ4RDAAAAIDy2iLah8f6iBfL\n",
       "/5z7wbTW4+snNW58bfmChEtG7d91bFrrob7vpbUiIr6w+9lprYWrHmncaEvef5f0/jStNav79Wmt\n",
       "iIjnem9P7TX18TnzU3uZL2BfXX5VYi3ifVNPTGtdsSb39aK6R45+Q1pr3xv+Na3Vih5/739K7c29\n",
       "/q601oFdf9y48brOnRIuGfX13+T9Ll5+wClprT9/+uG0VkTE2Tu8tnHj84svSLhk27Pi9H0aN2Ze\n",
       "8mjCJa1v3V/MSu1NPf+5xo33Tj0n4ZIRr5yWloqIiM8uXpgbpITx46c0bmzZsj7hkq1j9+6j0lqv\n",
       "HrdXWisi4tp13if/rdra8v5+900wAAAAAMozggEAAABQnhEMAAAAgPKMYAAAAACUZwQDAAAAoDwj\n",
       "GAAAAADlGcEAAAAAKM8IBgAAAEB5RjAAAAAAyjOCAQAAAFCeEQwAAACA8oxgAAAAAJRnBAMAAACg\n",
       "PCMYAAAAAOUZwQAAAAAozwgGAAAAQHlGMAAAAADKM4IBAAAAUJ4RDAAAAIDy2o7qnDecGXxm3PK0\n",
       "1uShjrRWRMT9/dektQ7tOLVx476hWxIuGdW/4ZnUXqaPz5mf1jpv2YK0VpbOSbumtfo3LE5rRUT8\n",
       "9z3OTmvtMGlj48a1SyYkXDJqTkd7WuuSVa333Pqd3buPatxY1HtTwiUvDbO7D0trPdt7W+PGeS8/\n",
       "K+GSUZc/15PWui/xvTEiYsPfTEprTfovG9JarejyA05Ja5384GVprSyHd5ye1rp14JK0VrYTpuV9\n",
       "xomIWLNpc+PGjX0XJVwy4qoDT05rRUTcsHRqWuuKNbnv25uvndK40X7c+oRLWl/mZ/uIiF+uaf4Z\n",
       "82eDVydcMmLLUG9aq9VNmTy3cWP94OMJl4xYuE/ee0dExDmPtu77R/v47Ro3Nm9Zm3DJiLd15X5e\n",
       "/c1w3uvh/pOnp7V8EwwAAACA8oxgAAAAAJRnBAMAAACgPCMYAAAAAOUZwQAAAAAozwgGAAAAQHlG\n",
       "MAAAAADKM4IBAAAAUJ4RDAAAAIDyjGAAAAAAlGcEAwAAAKA8IxgAAAAA5RnBAAAAACjPCAYAAABA\n",
       "eUYwAAAAAMozggEAAABQXltE+/BYH/FS1DVpj8aNvg1PJ1yy7Xldx6mNG8vGL064ZNSS3p+ltU6f\n",
       "MT+tFRFxyaoFqb2mTpiW+/Nd3ZP38528fe5tSwYG01q3DFyS1uLfZ1rH/o0bPQMPJVyydezX9d7U\n",
       "3sN916e1njzmkMaNJStmJlwy6k23/zC1l+X8l5+Z2lvSP6Fx46vPtdb7D/W8d+o5qb3r1y1s3Fj9\n",
       "n3dLuGTEqsWz01oREXv/4I7UXqY53Yc3bqzZtKj5Ib/VvyH3bwXGzp/Nyvt8v7Q/dzr5h7UXNG4c\n",
       "O3VewiUjvreu+T0vBb4JBgAAAEB5RjAAAAAAyjOCAQAAAFCeEQwAAACA8oxgAAAAAJRnBAMAAACg\n",
       "PCMYAAAAAOUZwQAAAAAozwgGAAAAQHlGMAAAAADKM4IBAAAAUJ4RDAAAAIDyjGAAAAAAlGcEAwAA\n",
       "AKA8IxgAAAAA5RnBAAAAACjPCAYAAABAeUYwAAAAAMprzw5O7dgnrbXLuFektSIipg5NSWu1J+yH\n",
       "/xJPJ1zy0rBP17vTWnf2fbtxY7+uYxIu2TruGHhurE/Yqnbtyu0dNzQvrXX56gVprYiIrkm7p/Za\n",
       "zczu/5TWWtF7V1orImJi+45prZ6Bh9JareigCbNSew8ntpat3KlxY89dlyRc8gK356U+s+s5aa2v\n",
       "rLg/rRURcXj7wak9/u2O2675+9q1ay9IuKT1vXJabu/6dc0bqxbPbh75rZftve38rdAZzf9Oe9WE\n",
       "P0q4ZMST7SvTWhERD/ddl9qrbOfuN6b2bu9Zn9batzNvT8gyq6MtL5bwGri1TGjfIa3lm2AAAAAA\n",
       "lGcEAwAAAKA8IxgAAAAA5RnBAAAAACjPCAYAAABAeUYwAAAAAMozggEAAABQnhEMAAAAgPKMYAAA\n",
       "AACUZwQDAAAAoDwjGAAAAADlGcEAAAAAKM8IBgAAAEB5RjAAAAAAyjOCAQAAAFCeEQwAAACA8oxg\n",
       "AAAAAJRnBAMAAACgPCMYAAAAAOW1RbQPj/URtJ69u9+V2nus94dprba28Y0bw8NbEi4ZdVjHB9Ja\n",
       "b505Ka0VEfGZRQvTWtM69mvc6Bl4OOGSl4aM5+rvnLbD2Y0bl65akHDJtmdC+w6NG5s2P59wCa1g\n",
       "+WnNXwd/52XfbN3Xw65JezRufGX3NydcMuKKxbkfV28buDStlfFYvVDfhqcbNzI/x2V+hmNs9X1m\n",
       "elqr63Nr0lqt6HUdp6b2Homfp7W2pc/S1X1i53mNG9/suS/hkhHThmemtSIiNrYNprWe7P3faS3f\n",
       "BAMAAACgPCMYAAAAAOUZwQAAAAAozwgGAAAAQHlGMAAAAADKM4IBAAAAUJ4RDAAAAIDyjGAAAAAA\n",
       "lGcEAwAAAKA8IxgAAAAA5RnBAAAAACjPCAYAAABAeUYwAAAAAMozggEAAABQnhEMAAAAgPKMYAAA\n",
       "AACUZwQDAAAAoDwjGAAAAADltV954MmpwT994PLUXmVn7Tg/tTdpfF7ra8sX5MWS/dmssxs3pk4Y\n",
       "Srhk1BeXXZPW+vDUt6e1svUMPDzWJ2xVP/iD41N7XRM3prXe/ovvNG7ce9SbEy4ZdfBNP03ttaqH\n",
       "j96rcWOv659PuGTbs1/Xexs3Hu67PuGSUX/43T0Ta3mvqTcecmxaKyKia+Jg48axv3og4ZIRD70/\n",
       "93doxsK8Vt+Gp/NiSfaO2Wmtx9JKre/jc5p/Nj9vWet+hu763Jq0Vu9T70prRUR07/nD1F5Tdw58\n",
       "e6xP+L2uPuik1N4/LJrauHHkrA0Jl4yY/+glaa2IiAX7nJ7Wun/N5LRWRMSeU/obN84ad1DCJSM+\n",
       "v+TStFZExCd2znvsv9iblvJNMAAAAADqM4IBAAAAUJ4RDAAAAIDyjGAAAAAAlGcEAwAAAKA8IxgA\n",
       "AAAA5RnBAAAAACjPCAYAAABAeUYwAAAAAMozggEAAABQnhEMAAAAgPKMYAAAAACUZwQDAAAAoDwj\n",
       "GAAAAADlGcEAAAAAKM8IBgAAAEB5RjAAAAAAyjOCAQAAAFCeEQwAAACA8toi2oczg/Nnzk9rPdm7\n",
       "Oa0VEXFj30Wpvcpe23lyam/vSVPTWlesWZDWyvKKruPSWr/uuzatFRHxsTl5v5OLepu/XHx37QUJ\n",
       "l4z6y53npbW+vDT3tkyf3KX5z3nuktyf75L9T0trPbauI60VEfGlFvu3vOyAU1J7Kwcmp7X+4smv\n",
       "p7UiIt4z5Zy01vfXL0xrtaIv7H52WutTiy5Ma2X53O55z4XPLMp9LvzLYe9Maz3Ts31aKyLi5Acv\n",
       "a9xoHz8t4ZIRm7f0pLUiImZ3H5bWerb3trRWRMSRnWc0bjwy7rGES0Z0xpS0VkTE470/Su1l2rSg\n",
       "+XczBp6cmXDJiKnnP5fWioi454i3pLVeffNP0lpZjp+W93n8uF3XprUiIt53/5WpvUzbdx7YuLG6\n",
       "/4GES0b8+ey8vxsjIv722db7uz3CN8EAAAAA2AYYwQAAAAAozwgGAAAAQHlGMAAAAADKM4IBAAAA\n",
       "UJ4RDAAAAIDyjGAAAAAAlGcEAwAAAKA8IxgAAAAA5RnBAAAAACjPCAYAAABAeUYwAAAAAMozggEA\n",
       "AABQnhEMAAAAgPKMYAAAAACUZwQDAAAAoLz2rkl7pAaX9A+ltfaf2p7Wioi4sS81V1p3TErtbRga\n",
       "Tu21mjmxfVrr12mlEU+vz3vs95zS1jyytnnihfo2J9z0EjClPe+1NcszvZPTWnOnDKS1WtHivs7U\n",
       "3gHTe1J7me4efmCsT9iqxo/rSmv1ba79f5Hd7VvG+oTfa3FP3vv2ntNXpbWyvHLSO9Ja9/RfmdaK\n",
       "iNhzy15prWfjtrRWRMTPBq9u3Jg0Ie+59aoJf5TWioh4PLWWa+DJmY0bHfuvSLiE/4jdujI/j28b\n",
       "n+0jIk6a+oeNG1/rz/vctaQv92/2Wd2HprX6tqxOa9X+9AUAAAAAYQQDAAAAYBtgBAMAAACgPCMY\n",
       "AAAAAOUZwQAAAAAozwgGAAAAQHlGMAAAAADKM4IBAAAAUJ4RDAAAAIDyjGAAAAAAlGcEAwAAAKA8\n",
       "IxgAAAAA5RnBAAAAACjPCAYAAABAeUYwAAAAAMozggEAAABQnhEMAAAAgPKMYAAAAACU1xbRPjzW\n",
       "R7xYPj5nflrr1tXrGzfuGrgs4ZKXhkM73p/WerTtV40bawYeSrhk1PDw5tReZZ/e9ZzU3uTxeS9h\n",
       "n1/2w7RWRMRrxr8trXXbwKVprW3B1QedlNY64f4r0lqt6NqDT0ztHXfvVWmt7Tr2bdzYMrwx4ZJR\n",
       "vYNPpbX+dq8z01qfXXZbWisi4k3tb2zc+P76hQmXbHvuOeItjRuvvvknCZdsHcdNnZfWunbdBWmt\n",
       "VrRf1zGpve2GpqS17hz4dlqrFW2+bEJq78Bzjk5rnbTjTmmtiIhDdlrZuPHWu69LuGTr+OIeZ6e1\n",
       "/nlF7t98N/d/o3HjkI6TEy4ZcffA5WmtbJ/cJe+9wzfBAAAAACjPCAYAAABAeUYwAAAAAMozggEA\n",
       "AABQnhEMAAAAgPKMYAAAAACUZwQDAAAAoDwjGAAAAADlGcEAAAAAKM8IBgAAAEB5RjAAAAAAyjOC\n",
       "AQAAAFCeEQwAAACA8oxgAAAAAJRnBAMAAACgPCMYAAAAAOUZwQAAAAAozwgGAAAAQHlGMAAAAADK\n",
       "a9+n692pwWVbHkxrzWzfJ60VEXHesgVprb2635HW2ha8eUZnWuuOJfentbYFr+k8Ka01LZr/O35+\n",
       "8cKES0Z9dNb8tNbgxmfTWhERt8Wlaa1pHfs1bvQMPJxwyagzd8x77GdMGk5rRUR87fGB1F5TH5yR\n",
       "91hFROzSNZTWOu7e3N/Jb77i1LTWab/+dlqrFa0cbE9rrU3+/f5+NO91TNwl4ZIRAxuXpLUiIj61\n",
       "y7y01uTxeb+PERHn/iLj/6h/ktAYMXninLRWRMSEcW2pvcoe7rsutZfxWWJrueeIt4z1Cf+XA8+Z\n",
       "ktp74KIfp7XaT9qQ1oqIiEW5uab6/3q71F7nZy9M7bWauwcuT2tNnLBTWisiYuOmlWmtB3vy/lbw\n",
       "TTAAAAAAyjOCAQAAAFCeEQwAAACA8oxgAAAAAJRnBAMAAACgPCMYAAAAAOUZwQAAAAAozwgGAAAA\n",
       "QHlGMAAAAADKM4IBAAAAUJ4RDAAAAIDyjGAAAAAAlGcEAwAAAKA8IxgAAAAA5RnBAAAAACjPCAYA\n",
       "AABAeUYwAAAAAMozggEAAABQXltE+/BYH/FS1D355Y0b/RuWJlwyamh4Q2qvVb2p84ONG79p60m4\n",
       "ZNSv+65N7VXWOWnX1N7gplVprcMnn5jWioh4dNzDaa3nem9v3OiYtEvCJaMGNixJ7WU6tOP9aa27\n",
       "NnyncWNoaDDhkq1j5+43pvaW9t6S1vrgjPmNG2s35X7M+e7aC9JabW0T0lrv7Do9rRUR8VAsatx4\n",
       "qvfG5of81knTmz8XXuiKNQtSe5nePeWcxo0frF+YcAn8flcfdFJq74T7r0jtNfWF3c9O7X1q0YVp\n",
       "rTUfzv08t+Lp5p/N973hXxMu2Truf9ub0lrr+zvTWhERb/iXH6f2KpvQPiOt5ZtgAAAAAJRnBAMA\n",
       "AACgPCMYAAAAAOUZwQAAAAAozwgGAAAAQHlGMAAAAADKM4IBAAAAUJ4RDAAAAIDyjGAAAAAAlGcE\n",
       "AwAAAKA8IxgAAAAA5RnBAAAAACjPCAYAAABAeUYwAAAAAMozggEAAABQnhEMAAAAgPKMYAAAAACU\n",
       "ZwQDAAAAoDwjGAAAAADltY/1Af8/nZN2Te2Na5uQ1tqxfa/GjacHn0y4ZNtz+6YfNm68uv2PEi7h\n",
       "P2Lv8Yem9nabOD2t9f31C9NaERGzu9+Q2mtqYMOSsT7hRbN3Z1da646BwbRWKzpk3P6pvXUdy9Na\n",
       "Pxl8tHHj3d37JFzyAmvzUsdMOSOtdd36r6e1IiJ27zoytdfUIxt6xvqEF81eUxL+j3p988RLwfjx\n",
       "U1J7nRNe1rixfvDxhEta3z8smjrWJ2xVh+y0Mje4KC+14uncv5F32nVZaq/VPLJ8dlrr4N2eSmtl\n",
       "OWvH+Wmti36zIK2VbbfJh6S1fBMMAAAAgPKMYAAAAACUZwQDAAAAoDwjGAAAAADlGcEAAAAAKM8I\n",
       "BgAAAEB5RjAAAAAAyjOCAQAAAFCeEQwAAACA8oxgAAAAAJRnBAMAAACgPCMYAAAAAOUZwQAAAAAo\n",
       "zwgGAAAAQHlGMAAAAADKM4IBAAAAUF5bRPvwWB/xYhk/riuttWWoL62VpX38dmmt7olz0loRET0D\n",
       "D6X2Ws3bus5Kaz3QlvtYPdt7W2qvsszfoYiIoeGNaa23dpzSuDGurS3hklH/2P+ttNbQ0GBaK9tR\n",
       "nWc2btzU//WES/iPaB8/NbX3kZknp7XOf3ZBWmtc28S0VkTE8PCmxo1jp56TcMmI7gm5r1+P9ed9\n",
       "jls3bn1aKyLi133fa9zYu/tdCZeMeKz3h2kt6liwz+mpvZ+tmNS4sVtX3uvEecvyXp+3Bb2f3CGt\n",
       "1X3u82mtVvfkMa9t3PjET1+TcMmIa3ouSGtFRJwwbX5a6+qexM9MaSUAAAAAaFFGMAAAAADKM4IB\n",
       "AAAAUJ4RDAAAAIDyjGAAAAAAlGcEAwAAAKA8IxgAAAAA5RnBAAAAACjPCAYAAABAeUYwAAAAAMoz\n",
       "ggEAAABQnhEMAAAAgPKMYAAAAACUZwQDAAAAoDwjGAAAAADlGcEAAAAAKM8IBgAAAEB5RjAAAAAA\n",
       "ymuLaB/ODHZM3DmtNXPifmmtiIhFvTeltU7efn7jxuWrFyRc8tKwYO/T01rzH7skrbUteEPHaWmt\n",
       "9oTdfDA2JVwy6uRdJqa1PvzYN9Ja2bom7d640bdhUePGC72t66y0Vvb/yNw9fFda6/n++xo35s9s\n",
       "/p7xQt3tea2/WZb7XvTDV/9JWutd9/xDWqsVXXvwCWmt4+69Oq2VpWPiLmmtgY1L0loREWfvlPc7\n",
       "2b85LRUREcsGNzZu3Nx/ccIlIz6U/Po1ri2v9bXlua9fC/dp/nn1nEfzPqfu3P3GtFZExNLeW1J7\n",
       "mb5z0J8mVPKeXO+7/4q0VkRE/19vl9bq/OzatFYr2vh3iR9yImLiR5JfpBkTh3fk7Qm+CQYAAABA\n",
       "eUYwAAAAAMozggEAAABQnhEMAAAAgPKMYAAAAACUZwQDAAAAoDwjGAAAAADlGcEAAAAAKM8IBgAA\n",
       "AEB5RjAAAAAAyjOCAQAAAFCeEQwAAACA8oxgAAAAAJRnBAMAAACgPCMYAAAAAOUZwQAAAAAozwgG\n",
       "AAAAQHlGMAAAAADKM4IBAAAAUF5bRPvwWB+xrZrb/c7U3qLBO9NamzY/n9bK9r5p8xs3lm8YTLhk\n",
       "1C0Dl6S13th5elorIuKW/rzbMkyeOCe1N7hxWVrrzB2bP7de6Mm+jWmtm/svbtwYN64z4ZJRQ0P9\n",
       "qb1M23celNZqa2v+/0XP992bcMnWcUjHKam9uwcuS2t9etd5jRuPrk045AWuWXtBbjBJxmP1Qk+t\n",
       "b2vcuGLNgoRLRpy6fe7r87dX592W7YCu4xo31rWtSbhkxOLem9Na2XbvPiq1t6j3psaNP5uV91y9\n",
       "vWd9Wisi4q7E1+cF++R+Xp3/aGt9Xv3iHmen9v7q6QvTWve/7U1prYiIR5bPbtw4/r4rEy7ZOh57\n",
       "96FprZWrp6e1IiIOu+3HjRsX73da80N+64yHv5nWamW+CQYAAABAeUYwAAAAAMozggEAAABQnhEM\n",
       "AAAAgPKMYAAAAACUZwQDAAAAoDwjGAAAAADlGcEAAAAAKM8IBgAAAEB5RjAAAAAAyjOCAQAAAFCe\n",
       "EQwAAACA8oxgAAAAAJRnBAMAAACgPCMYAAAAAOUZwQAAAAAozwgGAAAAQHlGMAAAAADKax/rA15M\n",
       "0zr2T2vNGrdP48bDvdclXDJqr+53pLWe6P1xWivbUxvWNW68sntqwiWjbhnIa20eHsqLtaDJ43Mf\n",
       "+/dMe09a65d9PWmtiIh9J03Li/U3TwwNJUReIrrGbZ/WWtL7s7RWK5ozoSs3mPh6uLS/rXHjwOlb\n",
       "Ei4Zdc3avNbx0+altR7sGU5rRUTMndL8sY81zRO/M34b+m/bJzbd0bgxd8IbEi5pfa8et1dqb1Hc\n",
       "1LixtD/vd3HfzilprYiIuxJfn+9fMzkv1oL+ecXmsT7h91rf35naO3i3p5pH7mue2FpWrp6e1trr\n",
       "5U+ntSIi4rbmiV+uzn0+bAu2oY8UAAAAAGyrjGAAAAAAlGcEAwAAAKA8IxgAAAAA5RnBAAAAACjP\n",
       "CAYAAABAeUYwAAAAAMozggEAAABQnhEMAAAAgPKMYAAAAACUZwQDAAAAoDwjGAAAAADlGcEAAAAA\n",
       "KM8IBgAAAEB5RjAAAAAAyjOCAQAAAFCeEQwAAACA8oxgAAAAAJRnBAMAAACgvLbpnQcPZwbX9D+Y\n",
       "mWOMHN7xgdTerQOXpvZazQdnzE9r/evAs2mtiIhnNv0irTV94u6NG8/23tb8kG3QR2c1f47dt3ZD\n",
       "wiWjftr/jbTWuLaJaa2IiKHhjWmtk7dv/thfvnpBwiW0gr/Z86y01n956qK0Viv6UuJjddeq8Wmt\n",
       "iIgbN/w4rfWacUemtSIibh24pHHjqK4zEy4ZcVPf19Nara59/HaNG5u3rE24ZOv4xM7z0lp7ThlI\n",
       "a0VE/OUz9zRunDT1DxMuGfG15d63/z2ePOa1aa2XX/fztFarW3bSgY0bc654IOGSEW/vynvfjog4\n",
       "cFp7Wuu8ZXm/k74JBgAAAEB5RjAAAAAAyjOCAQAAAFCeEQwAAACA8oxgAAAAAJRnBAMAAACgPCMY\n",
       "AAAAAOUZwQAAAAAozwgGAAAAQHlGMAAAAADKM4IBAAAAUJ4RDAAAAIDyjGAAAAAAlGcEAwAAAKA8\n",
       "IxgAAAAA5RnBAAAAACivLaJ9eKyPgBdbW1vu/js8PJTWOrLzjLRWRMQ/91+c2ms1J06bn9a6qmdB\n",
       "WqsVbd95YGqvZ/DxtNbQ0GBaizpOn9H893vHybkfc85/7sq01v6T3pbWerYt7/cxImJwy7rGjd7B\n",
       "JxMuGfHxOXmv9RER5y2r/Xr/ninnpLW+v35hWmtbcOzUeWmtWR1taa2IiO/13ZvWOmv7g9JaERGf\n",
       "Xdxaz7NDOk5O7d09cHlqL9NZOzZ/fe3ZlPdee03PBWmtiIiL9zstrfXL1Z1prYiIBSuavxdtWpj3\n",
       "d+2Ec/L+pm1lvgkGAAAAQHlGMAAAAADKM4IBAAAAUJ4RDAAAAIDyjGAAAAAAlGcEAwAAAKA8IxgA\n",
       "AAAA5RnBAAAAACjPCAYAAABAeUYwAAAAAMozggEAAABQnhEMAAAAgPKMYAAAAACUZwQDAAAAoDwj\n",
       "GAAA/J927edFygKO4/j3cWfNccwfaeZCVHtKA+tUsQQd6lDXCCJKCAyirEPX/oD+BQUPnTxEP+hm\n",
       "RgehSAo6RAQmFUUbDWmJ2o6z7axOBzvUMZ7vMLNfX68/4M338PDAfOYBAMozggEAAABQnhEMAAAA\n",
       "gPKMYAAAAACU10R0xtM+Apic3i2Laa3r4/XWjeHacsIlkzHf2ZPaG63/ntqDjeD+rc+ktb6++k5a\n",
       "K8uB3lNprbODD9Ja/D9L3RfSWj/NfZfWiojor5xJ7bXVRJPaG8fs/vR4ovdS68ZHg+MJl0xG5vvr\n",
       "3NWTaa2IiNcXXmzdWB7kPVvvXj6W1oqI2Dy/N621Njqf1mK6nkx455xKfOf88tzBtFZERL+/L631\n",
       "4OmP01q+BAMAAACgPCMYAAB+6LWUAAAC+UlEQVQAAOUZwQAAAAAozwgGAAAAQHlGMAAAAADKM4IB\n",
       "AAAAUJ4RDAAAAIDyjGAAAAAAlGcEAwAAAKA8IxgAAAAA5RnBAAAAACjPCAYAAABAeUYwAAAAAMoz\n",
       "ggEAAABQnhEMAAAAgPKMYAAAAACUZwQDAAAAoDwjGAAAAADlGcEAAAAAKK8z7QOA/5rb1EvtDf76\n",
       "Ma21o3ugdWOYcMekdOd3p/bu2/x4WuuH61+2bqxdu5Jwyb96owupPWo4N/p02idM1GLsTWudTStF\n",
       "NImtiIhdWx9o3bh10+0Jl9zw6+pXaa2IiM9XT6S1lrYcSmtFRPTjTGqvrXGMU3s7uvvTWpeH36a1\n",
       "IiIujP9M7c2atWY1rfXGnYfTWhERby4fbd1Y2LaUcMlkrI3OT/uEiXp255G01tuX2j8LG8XBne3n\n",
       "mFODhEP+0e/vy4tFxF2LP+fFTuelfAkGAAAAQHlGMAAAAADKM4IBAAAAUJ4RDAAAAIDyjGAAAAAA\n",
       "lGcEAwAAAKA8IxgAAAAA5RnBAAAAACjPCAYAAABAeUYwAAAAAMozggEAAABQnhEMAAAAgPKMYAAA\n",
       "AACUZwQDAAAAoDwjGAAAAADlGcEAAAAAKM8IBgAAAEB5RjAAAAAAymsiOuNpHwHcPBa2PZLa6698\n",
       "ltqbVXf0Hm7d+G3wRcIlG0PTzKW1xuNraa2bwaHbjqS1Tlw8mtaCjeLp7a+0brx/5VjCJbOvaXL/\n",
       "z39+18utG5nvrfnO7rRWRMRo/Y/U3qzZ3r03rfXansfSWhER31zK+8n94fC9tFZExN1bHmrd+H7l\n",
       "ZMIlNzzaPZzWioj4ZPhWao/puPjqPWktX4IBAAAAUJ4RDAAAAIDyjGAAAAAAlGcEAwAAAKA8IxgA\n",
       "AAAA5RnBAAAAACjPCAYAAABAeUYwAAAAAMozggEAAABQnhEMAAAAgPKMYAAAAACUZwQDAAAAoDwj\n",
       "GAAAAADlGcEAAAAAKM8IBgAAAEB5RjAAAAAAyjOCAQAAAFCeEQwAAACA8v4G6fSAx260GpYAAAAA\n",
       "SUVORK5CYII=\n",
       "\" transform=\"translate(517, 195)\"/>\n",
       "</g>\n",
       "<defs>\n",
       "  <clipPath id=\"clip064\">\n",
       "    <rect x=\"2160\" y=\"195\" width=\"73\" height=\"1218\"/>\n",
       "  </clipPath>\n",
       "</defs>\n",
       "<g clip-path=\"url(#clip064)\">\n",
       "<image width=\"72\" height=\"1217\" xlink:href=\"data:image/png;base64,\n",
       "iVBORw0KGgoAAAANSUhEUgAAAEgAAATBCAYAAACYHdJEAAAKsUlEQVR4nO3dwY3sRhAFQY5Q/lsh\n",
       "L6XfLQtUeSQPERYMEg9Ek8Od/f17/r4P/+uvtz/A1wkUBAoChTn337c/w6dZUBAoCBQECnPvn7c/\n",
       "w6dZUBAoCBQECk7SwYKCQEGgIFCY6yK9sqAgUBAozD2uQRsLCgIFgYJAwUExWFAQKAgUBAou0sGC\n",
       "gkBBoCBQ8LgjWFAQKAgU5nFQXFlQECgIFAQK7uaDBQWBgkBBoDCPu/mVBQWBgkBBoDDP+eftz/Bp\n",
       "FhQECgIFj1yDBQWBgkBBoOBuPlhQECgIFAQKLtLBgoJAQaAgUPC4I1hQECgIFObnoLiyoCBQECgI\n",
       "FOY5fst1Y0FBoCBQECg4SQcLCgIFgYJAwUk6WFAQKAgUfDcfLCgIFAQKAoX5OSiuLCgIFAQKAgUv\n",
       "UAULCgIFgYJAwUk6WFAQKAgUfO0TLCgIFAQKAgUHxWBBQaAgUBAoOEkHCwoCBYGCQMFJOlhQECgI\n",
       "FOY55+3P8GkWFAQKAgWBgoNisKAgUBAoCBQ8cg0WFAQKAgWBgot0sKAgUBAozM8j15UFBYGCQEGg\n",
       "4KAYLCgIFAQKAgUvLwQLCgIFgYJAweOOYEFBoCBQcDcfLCgIFAQKAgV388GCgkBBoCBQcJEOFhQE\n",
       "CgIFgYK/FwsWFAQKAgUHxWBBQaAgUBAouEgHCwoCBYGCQMFFOlhQECgIFAQKLtLBgoJAQaAwz3UN\n",
       "2lhQECgIFAQKDorBgoJAQaAgUHCRDhYUBAoCBYGCi3SwoCBQECjMc+7bn+HTLCgIFAQKAgUHxWBB\n",
       "QaAgUBAoOEkHCwoCBYGCQMFJOlhQECgIFBwUgwUFgYJAQaAwj3PiyoKCQEGgIFCY5zpJbywoCBQE\n",
       "CgIFJ+lgQUGgIFBwDQoWFAQKAgWBwvjxl50FBYGCQEGg4CQdLCgIFAQKAgUX6WBBQaAgUJjn/N7+\n",
       "DJ9mQUGgIFAQKMy9LtIbCwoCBYGCQMHdfLCgIFAQKAgUPO4IFhQECgIFgcLco9FGnSBQECg4KAYL\n",
       "CgIFgYJAYR7fi60sKAgUBAoChblO0isLCgIFgYJAYR6PXFfqBIGCQMFBMVhQECgIFAQKHrkGCwoC\n",
       "BYGCQMELVEGdIFAQKAgUvGEWLCgIFAQKHrkGCwoCBYGCQGHu1WijThAoCBQECu7mgwUFgYJAQaDg\n",
       "cUewoCBQECjM425+pU4QKAgUBAoOisGCgkBBoCBQcJEOFhQECgIFgYK/FwsWFAQKAgV/DhXUCQIF\n",
       "gYJAwf84DBYUBAoCBYGCR67BgoJAQaAgUPBbrkGdIFAQKLibDxYUBAoCBYGCu/lgQUGgIFAQKDhJ\n",
       "BwsKAgWBgkDBG2ZBnSBQECg4KAYLCgIFgYJAwSPXYEFBoCBQECg4SQcLCgIFgYJAwQ9uBwsKAgWB\n",
       "gv/MEtQJAgWBgkDB3XywoCBQECgIFHwvFiwoCBQECgIFJ+lgQUGgIFCY4xq0sqAgUBAoCBT8OVRQ\n",
       "JwgUBAoCBXfzwYKCQEGgIFBwkQ4WFAQKAgXfzQcLCgIFgYJAwUExWFAQKAgUBAou0sGCgkBBoCBQ\n",
       "8Ee9QZ0gUBAozPHIdWVBQaAgUBAouJsPFhQECgIFgYKLdLCgIFAQKAgUXKSDBQWBgkDBDwsECwoC\n",
       "BYGCQMFBMVhQECgIFAQKLtLBgoJAQaAgUPCWa1AnCBQECt5yDRYUBAoCBYGCu/lgQUGgIFAQKLhI\n",
       "BwsKAgWBgkDBG2bBgoJAQaDgoBgsKAgUBAoChbmPi/TGgoJAQaAgUHA3HywoCBQECgIFjzuCBQWB\n",
       "gkDBQTFYUBAoCBQECg6KwYKCQEGgIFBwkg4WFAQKAgWBgpN0sKAgUBAouAYFCwoCBYGCQGGOt1xX\n",
       "FhQECgIFgYKTdLCgIFAQKAgUfC8WLCgIFAQKAoW59+2P8G0WFAQKAgUHxWBBQaAgUBAo+PWXYEFB\n",
       "oCBQECg4SQcLCgIFgYJAwcsLwYKCQEGg4C3XYEFBoCBQECj4bj5YUBAoCBQECh65BgsKAgWBgkDB\n",
       "I9dgQUGgIFDwyDVYUBAoCBQECu7mgwUFgYJAQaDge7FgQUGgIFAQKHjcESwoCBQECr72CRYUBAoC\n",
       "BYHCnLc/wcdZUBAoCBQECk7SwYKCQEGgIFDw8kKwoCBQECi4mw8WFAQKAgWBgrv5YEFBoCBQECg4\n",
       "SQcLCgIFgYJAwUk6WFAQKAgUfO0TLCgIFAQKAoXxJ6s7CwoCBYGCQMFJOlhQECgIFAQKvhcLFhQE\n",
       "CgIFX/sECwoCBYGCQMFBMVhQECgIFAQKTtLBgoJAQaAgUJjj7YWVBQWBgkDB3XywoCBQECgIFNzN\n",
       "BwsKAgWBgkDBSTpYUBAoCBQECv7HYbCgIFAQKPgXfsGCgkBBoCBQ8N18sKAgUBAoCBT8+kuwoCBQ\n",
       "ECgIFPz6S7CgIFAQKPjaJ1hQECgIFAQKXqAKFhQECgIFgYI/RQgWFAQKAgWBgpN0sKAgUBAoeIEq\n",
       "WFAQKAgUBApeoAoWFAQKAgWBgpN0sKAgUBAoCBS8YRYsKAgUBAp+WCBYUBAoCBQECu7mgwUFgYJA\n",
       "QaDge7FgQUGgIFAQKDhJBwsKAgWBgoNisKAgUBAoCBQcFIMFBYGCQEGg4CIdLCgIFAQKAgWPO4IF\n",
       "BYGCQMFBMVhQECgIFAQKDorBgoJAQaAgUHCSDhYUBAoCBYGCHxYIFhQECgIFvycdLCgIFAQKAgV3\n",
       "88GCgkBBoCBQmPu4Sm8sKAgUBAoCBSfpYEFBoCBQ8LVPsKAgUBAoCBR8LxYsKAgUBAoCBXfzwYKC\n",
       "QEGgIFDwvViwoCBQECgIFJykgwUFgYJAwQ8LBAsKAgWBgkBhjrcXVhYUBAoCBYGClxeCBQWBgkBB\n",
       "oDDXSXplQUGgIFBwUAwWFAQKAgWBgkeuwYKCQEGgIFDw8kKwoCBQECgIFOb4U4SVBQWBgkDB3Xyw\n",
       "oCBQECgIFPzNarCgIFAQKAgUvLwQLCgIFAQKAgWPXIMFBYGCQMHdfLCgIFAQKAgU5jzu5zcWFAQK\n",
       "AgWBgrv5YEFBoCBQECi4SAcLCgIFgYJHrsGCgkBBoCBQ8Mg1WFAQKAgUBApzfk7SGwsKAgWBgkDB\n",
       "STpYUBAoCBTmugatLCgIFAQKAgUHxWBBQaAgUBAozPm5SG8sKAgUBAoCBSfpYEFBoCBQ8Mg1WFAQ\n",
       "KAgUBAoOisGCgkBBoCBQcJEOFhQECgIFgYLvxYIFBYGCQGHu8+ftz/BpFhQECgIFgYK7+WBBQaAg\n",
       "UBAoeHkhWFAQKAgUBApzrscdGwsKAgWBgoNisKAgUBAoCBTm+F5sZUFBoCBQECg4SQcLCgIFgYJA\n",
       "wUk6WFAQKAgU5l4HxY0FBYGCQEGg4G4+WFAQKAgUBApeoAoWFAQKAgWBgpN0sKAgUBAozHVQXFlQ\n",
       "ECgIFAQKDorBgoJAQaAgUJjj5YWVBQWBgkBBoOB3FIMFBYGCQMFbrsGCgkBBoCBQ8Mg1WFAQKAgU\n",
       "BApO0sGCgkBBoCBQcJEOFhQECgIFX/sECwoCBYGCQMFBMVhQECgIFAQK8/hebGVBQaAgUBAoOEkH\n",
       "CwoCBYGCF6iCBQWBgkBBoDCPg+LKgoJAQaAgUPDyQrCgIFAQKAgUfC8WLCgIFAQK7uaDBQWBgkBB\n",
       "oDD3uW9/hk+zoCBQECgIFNzNBwsKAgWBgkBhHifplQUFgYJA4T/5kOyRDODObgAAAABJRU5ErkJg\n",
       "gg==\n",
       "\" transform=\"translate(2161, 195)\"/>\n",
       "</g>\n",
       "<path clip-path=\"url(#clip060)\" d=\"M 0 0 M2268.76 1369.48 L2298.43 1369.48 L2298.43 1373.41 L2268.76 1373.41 L2268.76 1369.48 Z\" fill=\"#000000\" fill-rule=\"evenodd\" fill-opacity=\"1\" /><path clip-path=\"url(#clip060)\" d=\"M 0 0 M2303.64 1385.59 L2303.64 1381.33 Q2305.4 1382.16 2307.2 1382.6 Q2309.01 1383.04 2310.75 1383.04 Q2315.38 1383.04 2317.81 1379.94 Q2320.26 1376.81 2320.61 1370.47 Q2319.26 1372.46 2317.2 1373.53 Q2315.14 1374.59 2312.64 1374.59 Q2307.46 1374.59 2304.43 1371.47 Q2301.42 1368.32 2301.42 1362.88 Q2301.42 1357.55 2304.57 1354.34 Q2307.71 1351.12 2312.95 1351.12 Q2318.94 1351.12 2322.09 1355.73 Q2325.26 1360.31 2325.26 1369.06 Q2325.26 1377.23 2321.37 1382.11 Q2317.51 1386.98 2310.95 1386.98 Q2309.2 1386.98 2307.39 1386.63 Q2305.58 1386.28 2303.64 1385.59 M2312.95 1370.93 Q2316.09 1370.93 2317.92 1368.78 Q2319.77 1366.63 2319.77 1362.88 Q2319.77 1359.15 2317.92 1357 Q2316.09 1354.82 2312.95 1354.82 Q2309.8 1354.82 2307.95 1357 Q2306.12 1359.15 2306.12 1362.88 Q2306.12 1366.63 2307.95 1368.78 Q2309.8 1370.93 2312.95 1370.93 Z\" fill=\"#000000\" fill-rule=\"evenodd\" fill-opacity=\"1\" /><path clip-path=\"url(#clip060)\" d=\"M 0 0 M2268.76 1180.34 L2298.43 1180.34 L2298.43 1184.27 L2268.76 1184.27 L2268.76 1180.34 Z\" fill=\"#000000\" fill-rule=\"evenodd\" fill-opacity=\"1\" /><path clip-path=\"url(#clip060)\" d=\"M 0 0 M2313.5 1180.76 Q2310.17 1180.76 2308.25 1182.54 Q2306.35 1184.32 2306.35 1187.45 Q2306.35 1190.57 2308.25 1192.35 Q2310.17 1194.14 2313.5 1194.14 Q2316.83 1194.14 2318.76 1192.35 Q2320.68 1190.55 2320.68 1187.45 Q2320.68 1184.32 2318.76 1182.54 Q2316.86 1180.76 2313.5 1180.76 M2308.83 1178.77 Q2305.82 1178.02 2304.13 1175.96 Q2302.46 1173.9 2302.46 1170.94 Q2302.46 1166.8 2305.4 1164.39 Q2308.36 1161.98 2313.5 1161.98 Q2318.66 1161.98 2321.6 1164.39 Q2324.54 1166.8 2324.54 1170.94 Q2324.54 1173.9 2322.85 1175.96 Q2321.19 1178.02 2318.2 1178.77 Q2321.58 1179.55 2323.45 1181.84 Q2325.35 1184.14 2325.35 1187.45 Q2325.35 1192.47 2322.27 1195.15 Q2319.22 1197.84 2313.5 1197.84 Q2307.78 1197.84 2304.7 1195.15 Q2301.65 1192.47 2301.65 1187.45 Q2301.65 1184.14 2303.55 1181.84 Q2305.45 1179.55 2308.83 1178.77 M2307.11 1171.38 Q2307.11 1174.07 2308.78 1175.57 Q2310.47 1177.08 2313.5 1177.08 Q2316.51 1177.08 2318.2 1175.57 Q2319.91 1174.07 2319.91 1171.38 Q2319.91 1168.7 2318.2 1167.19 Q2316.51 1165.69 2313.5 1165.69 Q2310.47 1165.69 2308.78 1167.19 Q2307.11 1168.7 2307.11 1171.38 Z\" fill=\"#000000\" fill-rule=\"evenodd\" fill-opacity=\"1\" /><path clip-path=\"url(#clip060)\" d=\"M 0 0 M2268.76 991.204 L2298.43 991.204 L2298.43 995.139 L2268.76 995.139 L2268.76 991.204 Z\" fill=\"#000000\" fill-rule=\"evenodd\" fill-opacity=\"1\" /><path clip-path=\"url(#clip060)\" d=\"M 0 0 M2302.32 973.473 L2324.54 973.473 L2324.54 975.463 L2312 1008.03 L2307.11 1008.03 L2318.92 977.408 L2302.32 977.408 L2302.32 973.473 Z\" fill=\"#000000\" fill-rule=\"evenodd\" fill-opacity=\"1\" /><path clip-path=\"url(#clip060)\" d=\"M 0 0 M2268.76 802.069 L2298.43 802.069 L2298.43 806.004 L2268.76 806.004 L2268.76 802.069 Z\" fill=\"#000000\" fill-rule=\"evenodd\" fill-opacity=\"1\" /><path clip-path=\"url(#clip060)\" d=\"M 0 0 M2314.08 799.754 Q2310.93 799.754 2309.08 801.907 Q2307.25 804.059 2307.25 807.809 Q2307.25 811.536 2309.08 813.712 Q2310.93 815.865 2314.08 815.865 Q2317.23 815.865 2319.06 813.712 Q2320.91 811.536 2320.91 807.809 Q2320.91 804.059 2319.06 801.907 Q2317.23 799.754 2314.08 799.754 M2323.36 785.101 L2323.36 789.36 Q2321.6 788.527 2319.8 788.087 Q2318.01 787.647 2316.26 787.647 Q2311.63 787.647 2309.17 790.772 Q2306.74 793.897 2306.39 800.217 Q2307.76 798.203 2309.82 797.138 Q2311.88 796.05 2314.36 796.05 Q2319.57 796.05 2322.58 799.221 Q2325.61 802.37 2325.61 807.809 Q2325.61 813.133 2322.46 816.351 Q2319.31 819.569 2314.08 819.569 Q2308.08 819.569 2304.91 814.985 Q2301.74 810.379 2301.74 801.652 Q2301.74 793.458 2305.63 788.597 Q2309.52 783.712 2316.07 783.712 Q2317.83 783.712 2319.61 784.06 Q2321.42 784.407 2323.36 785.101 Z\" fill=\"#000000\" fill-rule=\"evenodd\" fill-opacity=\"1\" /><path clip-path=\"url(#clip060)\" d=\"M 0 0 M2268.76 612.933 L2298.43 612.933 L2298.43 616.868 L2268.76 616.868 L2268.76 612.933 Z\" fill=\"#000000\" fill-rule=\"evenodd\" fill-opacity=\"1\" /><path clip-path=\"url(#clip060)\" d=\"M 0 0 M2303.55 595.202 L2321.9 595.202 L2321.9 599.137 L2307.83 599.137 L2307.83 607.609 Q2308.85 607.262 2309.87 607.1 Q2310.89 606.915 2311.9 606.915 Q2317.69 606.915 2321.07 610.086 Q2324.45 613.257 2324.45 618.674 Q2324.45 624.253 2320.98 627.354 Q2317.51 630.433 2311.19 630.433 Q2309.01 630.433 2306.74 630.063 Q2304.5 629.692 2302.09 628.952 L2302.09 624.253 Q2304.17 625.387 2306.39 625.942 Q2308.62 626.498 2311.09 626.498 Q2315.1 626.498 2317.44 624.391 Q2319.77 622.285 2319.77 618.674 Q2319.77 615.063 2317.44 612.956 Q2315.1 610.85 2311.09 610.85 Q2309.22 610.85 2307.34 611.267 Q2305.49 611.683 2303.55 612.563 L2303.55 595.202 Z\" fill=\"#000000\" fill-rule=\"evenodd\" fill-opacity=\"1\" /><path clip-path=\"url(#clip060)\" d=\"M 0 0 M2268.76 423.798 L2298.43 423.798 L2298.43 427.733 L2268.76 427.733 L2268.76 423.798 Z\" fill=\"#000000\" fill-rule=\"evenodd\" fill-opacity=\"1\" /><path clip-path=\"url(#clip060)\" d=\"M 0 0 M2316.35 410.14 L2304.54 428.589 L2316.35 428.589 L2316.35 410.14 M2315.12 406.066 L2321 406.066 L2321 428.589 L2325.93 428.589 L2325.93 432.478 L2321 432.478 L2321 440.626 L2316.35 440.626 L2316.35 432.478 L2300.75 432.478 L2300.75 427.964 L2315.12 406.066 Z\" fill=\"#000000\" fill-rule=\"evenodd\" fill-opacity=\"1\" /><path clip-path=\"url(#clip060)\" d=\"M 0 0 M2268.76 234.662 L2298.43 234.662 L2298.43 238.597 L2268.76 238.597 L2268.76 234.662 Z\" fill=\"#000000\" fill-rule=\"evenodd\" fill-opacity=\"1\" /><path clip-path=\"url(#clip060)\" d=\"M 0 0 M2317.67 232.857 Q2321.02 233.574 2322.9 235.843 Q2324.8 238.111 2324.8 241.445 Q2324.8 246.56 2321.28 249.361 Q2317.76 252.162 2311.28 252.162 Q2309.1 252.162 2306.79 251.722 Q2304.5 251.306 2302.04 250.449 L2302.04 245.935 Q2303.99 247.07 2306.3 247.648 Q2308.62 248.227 2311.14 248.227 Q2315.54 248.227 2317.83 246.491 Q2320.14 244.755 2320.14 241.445 Q2320.14 238.389 2317.99 236.676 Q2315.86 234.94 2312.04 234.94 L2308.01 234.94 L2308.01 231.097 L2312.23 231.097 Q2315.68 231.097 2317.51 229.732 Q2319.33 228.343 2319.33 225.75 Q2319.33 223.088 2317.44 221.676 Q2315.56 220.241 2312.04 220.241 Q2310.12 220.241 2307.92 220.658 Q2305.72 221.074 2303.08 221.954 L2303.08 217.787 Q2305.75 217.047 2308.06 216.676 Q2310.4 216.306 2312.46 216.306 Q2317.78 216.306 2320.89 218.736 Q2323.99 221.144 2323.99 225.264 Q2323.99 228.134 2322.34 230.125 Q2320.7 232.093 2317.67 232.857 Z\" fill=\"#000000\" fill-rule=\"evenodd\" fill-opacity=\"1\" /><polyline clip-path=\"url(#clip060)\" style=\"stroke:#000000; stroke-width:4; stroke-opacity:1; fill:none\" points=\"\n",
       "  2232.76,1412.44 2232.76,1372.65 2256.76,1372.65 2232.76,1372.65 2232.76,1183.52 2256.76,1183.52 2232.76,1183.52 2232.76,994.382 2256.76,994.382 2232.76,994.382 \n",
       "  2232.76,805.246 2256.76,805.246 2232.76,805.246 2232.76,616.111 2256.76,616.111 2232.76,616.111 2232.76,426.975 2256.76,426.975 2232.76,426.975 2232.76,237.84 \n",
       "  2256.76,237.84 2232.76,237.84 2232.76,195.198 \n",
       "  \"/>\n",
       "</svg>\n"
      ]
     },
     "execution_count": 43,
     "metadata": {},
     "output_type": "execute_result"
    }
   ],
   "source": [
    "# visualize optimized density matrix\n",
    "heatmap(log.(max.(real(matrix(ρopt)), 1e-4)), title=L\"\\rho_{\\mathrm{opt}}\", yflip=true, aspect_ratio=:equal)"
   ]
  },
  {
   "cell_type": "code",
   "execution_count": null,
   "metadata": {},
   "outputs": [],
   "source": []
  }
 ],
 "metadata": {
  "kernelspec": {
   "display_name": "Julia 1.5.4",
   "language": "julia",
   "name": "julia-1.5"
  },
  "language_info": {
   "file_extension": ".jl",
   "mimetype": "application/julia",
   "name": "julia",
   "version": "1.5.4"
  }
 },
 "nbformat": 4,
 "nbformat_minor": 4
}
