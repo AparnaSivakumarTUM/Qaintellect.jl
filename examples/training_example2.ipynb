{
 "cells": [
  {
   "cell_type": "markdown",
   "metadata": {},
   "source": [
    "# Qaintellect training example 2: multiple qubits and measurement operators\n",
    "\n",
    "In this example, we will demonstrate the optimisation of a quantum circuit with multiple qubits and measurement operators."
   ]
  },
  {
   "cell_type": "code",
   "execution_count": 1,
   "metadata": {},
   "outputs": [],
   "source": [
    "include(\"../src/Qaintellect.jl\")\n",
    "using .Qaintellect\n",
    "\n",
    "using LinearAlgebra\n",
    "using Flux\n",
    "using IterTools: ncycle"
   ]
  },
  {
   "cell_type": "markdown",
   "metadata": {},
   "source": [
    "We create a parametrized quantum circuit with $N$ qubits. We then optimize these parameters using the Flux framework."
   ]
  },
  {
   "cell_type": "code",
   "execution_count": 2,
   "metadata": {},
   "outputs": [
    {
     "name": "stdout",
     "output_type": "stream",
     "text": [
      "rg = RotationGate([-0.17826508154831994, -0.3386457341072718, 0.4983219877901156])\n"
     ]
    },
    {
     "data": {
      "text/plain": [
       "\n",
       "    4 ————————•—————————————————————\n",
       "              |                     \n",
       "    3 —[H ]—————————x————[Pϕ]——[Rθ]—\n",
       "              |     |               \n",
       "    2 ———————[Rz]———x———————————————\n",
       "              |                     \n",
       "    1 ————————•————————————————[Ry]—\n"
      ]
     },
     "execution_count": 2,
     "metadata": {},
     "output_type": "execute_result"
    }
   ],
   "source": [
    "# construct parametrized circuit\n",
    "N = 4\n",
    "\n",
    "ry = RyGate(√2)\n",
    "n = randn(Float64, 3)\n",
    "n /= norm(n)\n",
    "rg = RotationGate(0.2π, n)\n",
    "@show(rg)\n",
    "\n",
    "cgc = CircuitGateChain{N}([\n",
    "    single_qubit_circuit_gate(3, HadamardGate(), N),\n",
    "    controlled_circuit_gate(2, (1, 4), RzGate(1.5π), N),\n",
    "    two_qubit_circuit_gate(2, 3, SwapGate(), N),\n",
    "    single_qubit_circuit_gate(3, PhaseShiftGate(0.3), N),\n",
    "    single_qubit_circuit_gate(3, rg, N),\n",
    "    single_qubit_circuit_gate(1, ry, N),\n",
    "])\n",
    "meas = MeasurementOps{N}([Matrix{Float64}(I, 2^N, 2^N), Hermitian(randn(ComplexF64, 2^N, 2^N))])\n",
    "\n",
    "c = Circuit(cgc, meas)"
   ]
  },
  {
   "cell_type": "code",
   "execution_count": 3,
   "metadata": {},
   "outputs": [
    {
     "data": {
      "text/plain": [
       "Params([Int64[], [4.71238898038469], Int64[], [0.3], Int64[], [-0.17826508154831994, -0.3386457341072718, 0.4983219877901156], Int64[], Int64[], [1.0 0.0 … 0.0 0.0; 0.0 1.0 … 0.0 0.0; … ; 0.0 0.0 … 1.0 0.0; 0.0 0.0 … 0.0 1.0], Complex{Float64}[0.7209408138157799 + 0.0im -0.048187554593651934 - 0.785064470039137im … 0.6290119684156308 + 0.4814402088929597im 0.3781507411414241 - 0.3564995921757856im; -0.048187554593651934 + 0.785064470039137im -0.02650844542547566 + 0.0im … -0.04787686718017911 - 0.05827698614698754im 0.1008492417748543 + 0.09153977641313234im; … ; 0.6290119684156308 - 0.4814402088929597im -0.04787686718017911 + 0.05827698614698754im … 0.487293068235091 + 0.0im 0.775571408169586 - 0.7287085811159133im; 0.3781507411414241 + 0.3564995921757856im 0.1008492417748543 - 0.09153977641313234im … 0.775571408169586 + 0.7287085811159133im -1.397079234882013 + 0.0im]])"
      ]
     },
     "execution_count": 3,
     "metadata": {},
     "output_type": "execute_result"
    }
   ],
   "source": [
    "# set up model\n",
    "model(ψ) = dot([0.3, -1.2], c(ψ))\n",
    "\n",
    "# create loss function\n",
    "loss(x, y) = Flux.mse(model(x), y)\n",
    "\n",
    "# gather parameters from Circuit\n",
    "paras = Flux.params(c)\n",
    "\n",
    "# freeze parameter ry.θ, equivalent to delete!(paras, Qaintessent.get_trainable(ry))\n",
    "delete!(paras, ry.θ)\n",
    "\n",
    "paras"
   ]
  },
  {
   "cell_type": "code",
   "execution_count": 4,
   "metadata": {},
   "outputs": [
    {
     "name": "stdout",
     "output_type": "stream",
     "text": [
      "Initial model evaluation: 1.1362015647193786, target: 0.65\n",
      "loss(ψ, e) = 4.227001182507679\n",
      "loss(ψ, e) = 0.07706347556022591\n",
      "loss(ψ, e) = 0.0010005902814649009\n",
      "loss(ψ, e) = 0.00014296227992032163\n",
      "loss(ψ, e) = 1.797239052836422e-5\n",
      "loss(ψ, e) = 5.802341772848861e-6\n",
      "loss(ψ, e) = 1.8694320324694214e-6\n",
      "loss(ψ, e) = 6.014152452801086e-7\n",
      "loss(ψ, e) = 8.267932137359576e-8\n",
      "loss(ψ, e) = 8.51117354882984e-9\n",
      "loss(ψ, e) = 8.766501015716065e-10\n",
      "Final model evaluation: 0.6500256845831587, target: 0.65\n"
     ]
    }
   ],
   "source": [
    "# input quantum state\n",
    "ψ = randn(ComplexF64, 2^N)\n",
    "ψ /= norm(ψ)\n",
    "\n",
    "# desired output\n",
    "e = 0.65\n",
    "\n",
    "# set up data for training\n",
    "data = ncycle([(ψ, e)], 64)\n",
    "\n",
    "# define optimizer\n",
    "opt = Descent(1)\n",
    "\n",
    "# define evaluation function\n",
    "evalcb() = @show(loss(ψ, e))\n",
    "\n",
    "println(\"Initial model evaluation: $(model(ψ)), target: $e\")\n",
    "\n",
    "Flux.train!(loss, paras, data, opt, cb=Flux.throttle(evalcb, 0.01))\n",
    "\n",
    "println(\"Final model evaluation: $(model(ψ)), target: $e\")"
   ]
  },
  {
   "cell_type": "code",
   "execution_count": 5,
   "metadata": {},
   "outputs": [
    {
     "name": "stdout",
     "output_type": "stream",
     "text": [
      "ry = RyGate([1.4142135623730951])\n",
      "rg = RotationGate([-1.4032762538210892, 1.1163433920344525, 4.508883531707601])\n"
     ]
    }
   ],
   "source": [
    "# check: Ry gate has not changed (frozen parameter)\n",
    "@show(ry)\n",
    "\n",
    "# on the other hand, parameters of general rotation gate are now different\n",
    "@show(rg);"
   ]
  }
 ],
 "metadata": {
  "kernelspec": {
   "display_name": "Julia 1.5.2",
   "language": "julia",
   "name": "julia-1.5"
  },
  "language_info": {
   "file_extension": ".jl",
   "mimetype": "application/julia",
   "name": "julia",
   "version": "1.5.2"
  }
 },
 "nbformat": 4,
 "nbformat_minor": 4
}
