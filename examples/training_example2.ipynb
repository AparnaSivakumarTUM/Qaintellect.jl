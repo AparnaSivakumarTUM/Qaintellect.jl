{
 "cells": [
  {
   "cell_type": "markdown",
   "metadata": {},
   "source": [
    "# Qaintellect training example 2: multiple qubits and measurement operators\n",
    "\n",
    "In this example, we will demonstrate the optimisation of a quantum circuit with multiple qubits and measurement operators."
   ]
  },
  {
   "cell_type": "code",
   "execution_count": 1,
   "metadata": {},
   "outputs": [],
   "source": [
    "include(\"../src/Qaintellect.jl\")\n",
    "using .Qaintellect\n",
    "\n",
    "using LinearAlgebra\n",
    "using Flux\n",
    "using IterTools: ncycle"
   ]
  },
  {
   "cell_type": "markdown",
   "metadata": {},
   "source": [
    "We create a parametrized quantum circuit with $N$ qubits. We then optimize these parameters using the Flux framework."
   ]
  },
  {
   "cell_type": "code",
   "execution_count": 2,
   "metadata": {},
   "outputs": [
    {
     "name": "stdout",
     "output_type": "stream",
     "text": [
      "rg = RotationGate([-0.18283223885930364, -0.12268599911365217, -0.5884765875536203])\n"
     ]
    },
    {
     "data": {
      "text/plain": [
       "\n",
       "    4 ————————•—————————————————————\n",
       "              |                     \n",
       "    3 —[H ]—————————x————[Pϕ]——[Rθ]—\n",
       "              |     |               \n",
       "    2 ———————[Rz]———x———————————————\n",
       "              |                     \n",
       "    1 ————————•————————————————[Ry]—\n"
      ]
     },
     "execution_count": 2,
     "metadata": {},
     "output_type": "execute_result"
    }
   ],
   "source": [
    "# construct parametrized circuit\n",
    "\n",
    "N = 4\n",
    "\n",
    "ry = RyGate(√2)\n",
    "n = randn(Float64, 3)\n",
    "n /= norm(n)\n",
    "rg = RotationGate(0.2π, n)\n",
    "@show(rg)\n",
    "\n",
    "cgc = [\n",
    "    circuit_gate(3, HadamardGate()),\n",
    "    circuit_gate(2, RzGate(1.5π), (1, 4)), # controlled gate\n",
    "    circuit_gate(2, 3, SwapGate()),\n",
    "    circuit_gate(3, PhaseShiftGate(0.3)),\n",
    "    circuit_gate(3, rg),\n",
    "    circuit_gate(1, ry),\n",
    "]\n",
    "meas = [MeasurementOperator(Matrix{Float64}(I, 2^N, 2^N), Tuple(1:N)), MeasurementOperator(Hermitian(randn(ComplexF64, 2^N, 2^N)), Tuple(1:N))]\n",
    "\n",
    "c = Circuit{N}(cgc, meas)"
   ]
  },
  {
   "cell_type": "code",
   "execution_count": 3,
   "metadata": {},
   "outputs": [
    {
     "data": {
      "text/plain": [
       "Params([[4.71238898038469], [0.3], [-0.18283223885930364, -0.12268599911365217, -0.5884765875536203], \n",
       "  [1 ,  1]  =  1.0+0.0im\n",
       "  [2 ,  2]  =  1.0+0.0im\n",
       "  [3 ,  3]  =  1.0+0.0im\n",
       "  [4 ,  4]  =  1.0+0.0im\n",
       "  [5 ,  5]  =  1.0+0.0im\n",
       "  [6 ,  6]  =  1.0+0.0im\n",
       "  [7 ,  7]  =  1.0+0.0im\n",
       "  [8 ,  8]  =  1.0+0.0im\n",
       "  [9 ,  9]  =  1.0+0.0im\n",
       "  [10, 10]  =  1.0+0.0im\n",
       "  [11, 11]  =  1.0+0.0im\n",
       "  [12, 12]  =  1.0+0.0im\n",
       "  [13, 13]  =  1.0+0.0im\n",
       "  [14, 14]  =  1.0+0.0im\n",
       "  [15, 15]  =  1.0+0.0im\n",
       "  [16, 16]  =  1.0+0.0im, \n",
       "  [1 ,  1]  =  0.2806+0.0im\n",
       "  [2 ,  1]  =  -0.361313-0.0955465im\n",
       "  [3 ,  1]  =  0.591408-1.39305im\n",
       "  [4 ,  1]  =  0.245174+1.03142im\n",
       "  [5 ,  1]  =  -0.773017+0.0652003im\n",
       "  [6 ,  1]  =  0.546163+0.338735im\n",
       "  [7 ,  1]  =  0.45597-0.940909im\n",
       "  [8 ,  1]  =  -0.327946-1.01356im\n",
       "  [9 ,  1]  =  0.57369+0.697424im\n",
       "  [10,  1]  =  0.93837+0.605664im\n",
       "  [11,  1]  =  0.632955-1.26973im\n",
       "  [12,  1]  =  -0.760811+0.808969im\n",
       "  ⋮\n",
       "  [4 , 16]  =  0.148326+0.436451im\n",
       "  [5 , 16]  =  -1.15716-0.280364im\n",
       "  [6 , 16]  =  -0.356152-0.0406666im\n",
       "  [7 , 16]  =  0.00852935-0.825993im\n",
       "  [8 , 16]  =  -0.0872067-0.210569im\n",
       "  [9 , 16]  =  -0.0383073-0.574336im\n",
       "  [10, 16]  =  0.982237-1.24188im\n",
       "  [11, 16]  =  -0.397682-0.338932im\n",
       "  [12, 16]  =  0.648241+0.699664im\n",
       "  [13, 16]  =  -0.0905152+0.263108im\n",
       "  [14, 16]  =  -0.1814-1.38545im\n",
       "  [15, 16]  =  -0.148145-0.794408im\n",
       "  [16, 16]  =  -0.266159+0.0im])"
      ]
     },
     "execution_count": 3,
     "metadata": {},
     "output_type": "execute_result"
    }
   ],
   "source": [
    "# set up model\n",
    "model(ψ) = dot([0.3, -1.2], c(ψ))\n",
    "\n",
    "# create loss function\n",
    "loss(x, y) = Flux.mse(model(x), y)\n",
    "\n",
    "# gather parameters from Circuit\n",
    "paras = Flux.params(c)\n",
    "\n",
    "# freeze parameter ry.θ, equivalent to delete!(paras, Qaintessent.get_trainable(ry))\n",
    "delete!(paras, ry.θ)\n",
    "\n",
    "paras"
   ]
  },
  {
   "cell_type": "code",
   "execution_count": 4,
   "metadata": {},
   "outputs": [
    {
     "name": "stdout",
     "output_type": "stream",
     "text": [
      "Initial model evaluation: 1.700167730760974, target: 0.65\n",
      "loss(ψ, e) = 1.2740055736258067\n",
      "loss(ψ, e) = 0.005736894262053143\n",
      "loss(ψ, e) = 0.00019023618803027756\n",
      "loss(ψ, e) = 7.486929136287459e-9\n",
      "loss(ψ, e) = 8.262051740172539e-14\n",
      "loss(ψ, e) = 5.174603429777902e-16\n",
      "loss(ψ, e) = 1.6063392435573423e-21\n",
      "loss(ψ, e) = 4.9857981362231e-27\n",
      "loss(ψ, e) = 2.8398992587956425e-29\n",
      "Final model evaluation: 0.6500000000000001, target: 0.65\n"
     ]
    }
   ],
   "source": [
    "# input quantum state\n",
    "ψ = randn(ComplexF64, 2^N)\n",
    "ψ /= norm(ψ)\n",
    "\n",
    "# desired output\n",
    "e = 0.65\n",
    "\n",
    "# set up data for training\n",
    "data = ncycle([(ψ, e)], 64)\n",
    "\n",
    "# define optimizer\n",
    "opt = Descent(1)\n",
    "\n",
    "# define evaluation function\n",
    "evalcb() = @show(loss(ψ, e))\n",
    "\n",
    "println(\"Initial model evaluation: $(model(ψ)), target: $e\")\n",
    "\n",
    "Flux.train!(loss, paras, data, opt, cb=Flux.throttle(evalcb, 0.01))\n",
    "\n",
    "println(\"Final model evaluation: $(model(ψ)), target: $e\")"
   ]
  },
  {
   "cell_type": "code",
   "execution_count": 5,
   "metadata": {},
   "outputs": [
    {
     "name": "stdout",
     "output_type": "stream",
     "text": [
      "ry = RyGate([1.4142135623730951])\n",
      "rg = RotationGate([6.378625988509723, 2.558620861831795, -1.1728874898408725])\n"
     ]
    }
   ],
   "source": [
    "# check: Ry gate has not changed (frozen parameter)\n",
    "@show(ry)\n",
    "\n",
    "# on the other hand, parameters of general rotation gate are now different\n",
    "@show(rg);"
   ]
  }
 ],
 "metadata": {
  "kernelspec": {
   "display_name": "Julia 1.5.2",
   "language": "julia",
   "name": "julia-1.5"
  },
  "language_info": {
   "file_extension": ".jl",
   "mimetype": "application/julia",
   "name": "julia",
   "version": "1.5.2"
  }
 },
 "nbformat": 4,
 "nbformat_minor": 4
}
