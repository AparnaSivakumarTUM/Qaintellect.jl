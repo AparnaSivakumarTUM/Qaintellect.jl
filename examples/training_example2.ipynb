{
 "cells": [
  {
   "cell_type": "markdown",
   "metadata": {},
   "source": [
    "# Qaintellect training example 2: multiple qubits and measurement operators\n",
    "\n",
    "In this example, we will demonstrate the optimisation of a quantum circuit with multiple qubits and measurement operators."
   ]
  },
  {
   "cell_type": "code",
   "execution_count": 1,
   "metadata": {},
   "outputs": [
    {
     "name": "stdout",
     "output_type": "stream",
     "text": [
      "\u001b[?25l\u001b[2K"
     ]
    },
    {
     "name": "stderr",
     "output_type": "stream",
     "text": [
      "\u001b[32m\u001b[1m   Updating\u001b[22m\u001b[39m git-repo `https://github.com/Qaintum/Qaintessent.jl`\n"
     ]
    },
    {
     "name": "stdout",
     "output_type": "stream",
     "text": [
      "\u001b[?25h"
     ]
    },
    {
     "name": "stderr",
     "output_type": "stream",
     "text": [
      "\u001b[32m\u001b[1m   Updating\u001b[22m\u001b[39m registry at `~/.julia/registries/General`\n"
     ]
    },
    {
     "name": "stdout",
     "output_type": "stream",
     "text": [
      "\u001b[?25l\u001b[2K"
     ]
    },
    {
     "name": "stderr",
     "output_type": "stream",
     "text": [
      "\u001b[32m\u001b[1m   Updating\u001b[22m\u001b[39m git-repo `https://github.com/JuliaRegistries/General.git`\n"
     ]
    },
    {
     "name": "stdout",
     "output_type": "stream",
     "text": [
      "\u001b[?25h"
     ]
    },
    {
     "name": "stderr",
     "output_type": "stream",
     "text": [
      "┌ Warning: Some registries failed to update:\n",
      "│     — /home/ga53vuw/.julia/registries/General — failed to fetch from repo\n",
      "└ @ Pkg.Types /buildworker/worker/package_linux64/build/usr/share/julia/stdlib/v1.5/Pkg/src/Types.jl:1194\n",
      "\u001b[32m\u001b[1m  Resolving\u001b[22m\u001b[39m package versions...\n",
      "\u001b[32m\u001b[1mNo Changes\u001b[22m\u001b[39m to `/import/home/ga53vuw/Documents/PhD/projects/QAI/Qaintellect.jl/Project.toml`\n",
      "\u001b[32m\u001b[1mNo Changes\u001b[22m\u001b[39m to `/import/home/ga53vuw/Documents/PhD/projects/QAI/Qaintellect.jl/Manifest.toml`\n"
     ]
    }
   ],
   "source": [
    "using Pkg; Pkg.add(url=\"https://github.com/Qaintum/Qaintessent.jl\");\n",
    "using Qaintellect\n",
    "using LinearAlgebra\n",
    "using Flux\n",
    "using IterTools: ncycle"
   ]
  },
  {
   "cell_type": "markdown",
   "metadata": {},
   "source": [
    "We create a parametrized quantum circuit with $N$ qubits. We then optimize these parameters using the Flux framework."
   ]
  },
  {
   "cell_type": "code",
   "execution_count": 2,
   "metadata": {},
   "outputs": [
    {
     "name": "stdout",
     "output_type": "stream",
     "text": [
      "rg = RotationGate([-0.3770941769323742, -0.18191239085016125, -0.4684997756909257])\n"
     ]
    },
    {
     "data": {
      "text/plain": [
       "\n",
       "    4 ————————•—————————————————————\n",
       "              |                     \n",
       "    3 —[H ]—————————x————[Pϕ]——[Rθ]—\n",
       "              |     |               \n",
       "    2 ———————[Rz]———x———————————————\n",
       "              |                     \n",
       "    1 ————————•————————————————[Ry]—\n"
      ]
     },
     "execution_count": 2,
     "metadata": {},
     "output_type": "execute_result"
    }
   ],
   "source": [
    "# construct parametrized circuit\n",
    "\n",
    "N = 4\n",
    "\n",
    "ry = RyGate(√2)\n",
    "n = randn(Float64, 3)\n",
    "n /= norm(n)\n",
    "rg = RotationGate(0.2π, n)\n",
    "@show(rg)\n",
    "\n",
    "cgc = [\n",
    "    circuit_gate(3, HadamardGate()),\n",
    "    circuit_gate(2, RzGate(1.5π), (1, 4)), # controlled gate\n",
    "    circuit_gate(2, 3, SwapGate()),\n",
    "    circuit_gate(3, PhaseShiftGate(0.3)),\n",
    "    circuit_gate(3, rg),\n",
    "    circuit_gate(1, ry),\n",
    "]\n",
    "meas = [MeasurementOperator(Matrix{Float64}(I, 2^N, 2^N), Tuple(1:N)), MeasurementOperator(Hermitian(randn(ComplexF64, 2^N, 2^N)), Tuple(1:N))]\n",
    "\n",
    "c = Circuit{N}(cgc, meas)"
   ]
  },
  {
   "cell_type": "code",
   "execution_count": 3,
   "metadata": {},
   "outputs": [
    {
     "data": {
      "text/plain": [
       "Params([[4.71238898038469], [0.3], [-0.3770941769323742, -0.18191239085016125, -0.4684997756909257], \n",
       "  [1 ,  1]  =  1.0+0.0im\n",
       "  [2 ,  2]  =  1.0+0.0im\n",
       "  [3 ,  3]  =  1.0+0.0im\n",
       "  [4 ,  4]  =  1.0+0.0im\n",
       "  [5 ,  5]  =  1.0+0.0im\n",
       "  [6 ,  6]  =  1.0+0.0im\n",
       "  [7 ,  7]  =  1.0+0.0im\n",
       "  [8 ,  8]  =  1.0+0.0im\n",
       "  [9 ,  9]  =  1.0+0.0im\n",
       "  [10, 10]  =  1.0+0.0im\n",
       "  [11, 11]  =  1.0+0.0im\n",
       "  [12, 12]  =  1.0+0.0im\n",
       "  [13, 13]  =  1.0+0.0im\n",
       "  [14, 14]  =  1.0+0.0im\n",
       "  [15, 15]  =  1.0+0.0im\n",
       "  [16, 16]  =  1.0+0.0im, \n",
       "  [1 ,  1]  =  0.412232+0.0im\n",
       "  [2 ,  1]  =  1.12021-0.256048im\n",
       "  [3 ,  1]  =  0.302475+0.717748im\n",
       "  [4 ,  1]  =  -2.45391-0.991839im\n",
       "  [5 ,  1]  =  -0.84334+0.657044im\n",
       "  [6 ,  1]  =  -0.843339+0.632229im\n",
       "  [7 ,  1]  =  -1.27159+1.11835im\n",
       "  [8 ,  1]  =  -0.360019-0.698453im\n",
       "  [9 ,  1]  =  -1.21463-0.462286im\n",
       "  [10,  1]  =  0.246136+0.40925im\n",
       "  [11,  1]  =  0.614472+0.0312881im\n",
       "  [12,  1]  =  -0.301658+0.415073im\n",
       "  ⋮\n",
       "  [4 , 16]  =  -0.282751-1.06899im\n",
       "  [5 , 16]  =  -1.55817+1.4844im\n",
       "  [6 , 16]  =  0.24081-0.161829im\n",
       "  [7 , 16]  =  -0.475453-0.114766im\n",
       "  [8 , 16]  =  0.233323+0.248452im\n",
       "  [9 , 16]  =  -0.303145+0.68772im\n",
       "  [10, 16]  =  -1.31163-0.0208782im\n",
       "  [11, 16]  =  -0.145369-0.0330198im\n",
       "  [12, 16]  =  -1.20301-0.620426im\n",
       "  [13, 16]  =  0.446624+1.19501im\n",
       "  [14, 16]  =  -1.15907+0.118706im\n",
       "  [15, 16]  =  1.05218-0.523801im\n",
       "  [16, 16]  =  1.56749+0.0im])"
      ]
     },
     "execution_count": 3,
     "metadata": {},
     "output_type": "execute_result"
    }
   ],
   "source": [
    "# set up model\n",
    "model(ψ) = dot([0.3, -1.2], c(ψ))\n",
    "\n",
    "# create loss function\n",
    "loss(x, y) = Flux.mse(model(x), y)\n",
    "\n",
    "# gather parameters from Circuit\n",
    "paras = Flux.params(c)\n",
    "\n",
    "# freeze parameter ry.θ, equivalent to delete!(paras, Qaintessent.get_trainable(ry))\n",
    "delete!(paras, ry.θ)\n",
    "\n",
    "paras"
   ]
  },
  {
   "cell_type": "code",
   "execution_count": 4,
   "metadata": {},
   "outputs": [
    {
     "name": "stdout",
     "output_type": "stream",
     "text": [
      "Initial model evaluation: -0.6411689764188402, target: 0.65\n",
      "loss(ψ, e) = 3.2547793683377075\n",
      "loss(ψ, e) = 7.703719777548943e-30\n",
      "Final model evaluation: 0.6500000000000004, target: 0.65\n"
     ]
    }
   ],
   "source": [
    "# input quantum state\n",
    "ψ = randn(ComplexF64, 2^N)\n",
    "ψ /= norm(ψ)\n",
    "\n",
    "# desired output\n",
    "e = 0.65\n",
    "\n",
    "# set up data for training\n",
    "data = ncycle([(ψ, e)], 64)\n",
    "\n",
    "# define optimizer\n",
    "opt = Descent(1)\n",
    "\n",
    "# define evaluation function\n",
    "evalcb() = @show(loss(ψ, e))\n",
    "\n",
    "println(\"Initial model evaluation: $(model(ψ)), target: $e\")\n",
    "\n",
    "Flux.train!(loss, paras, data, opt, cb=Flux.throttle(evalcb, 0.01))\n",
    "\n",
    "println(\"Final model evaluation: $(model(ψ)), target: $e\")"
   ]
  },
  {
   "cell_type": "code",
   "execution_count": 5,
   "metadata": {},
   "outputs": [
    {
     "name": "stdout",
     "output_type": "stream",
     "text": [
      "ry = RyGate([1.4142135623730951])\n",
      "rg = RotationGate([2.2792445765601532, 14.620422188462491, 4.557172204234055])\n"
     ]
    }
   ],
   "source": [
    "# check: Ry gate has not changed (frozen parameter)\n",
    "@show(ry)\n",
    "\n",
    "# on the other hand, parameters of general rotation gate are now different\n",
    "@show(rg);"
   ]
  }
 ],
 "metadata": {
  "kernelspec": {
   "display_name": "Julia 1.5.3",
   "language": "julia",
   "name": "julia-1.5"
  },
  "language_info": {
   "file_extension": ".jl",
   "mimetype": "application/julia",
   "name": "julia",
   "version": "1.5.3"
  }
 },
 "nbformat": 4,
 "nbformat_minor": 4
}
