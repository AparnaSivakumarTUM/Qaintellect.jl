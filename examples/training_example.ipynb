{
 "cells": [
  {
   "cell_type": "markdown",
   "metadata": {},
   "source": [
    "# Qaintellect Training Example\n",
    "\n",
    "In this example, we will demonstrate the optimisation of a quantum circuit using Qaintellect's Flux integration."
   ]
  },
  {
   "cell_type": "code",
   "execution_count": 1,
   "metadata": {},
   "outputs": [],
   "source": [
    "include(\"../src/Qaintellect.jl\")\n",
    "using .Qaintellect\n",
    "\n",
    "using Flux, LinearAlgebra, Test\n",
    "using Flux.Optimise: update!\n",
    "using IterTools: ncycle"
   ]
  },
  {
   "cell_type": "markdown",
   "metadata": {},
   "source": [
    "## Task: Creating a Flux layer using Qaintessent\n",
    "Here, we create a complex circuit with $N$ qubits and different input parameters. We then train these parameters using the Flux framework."
   ]
  },
  {
   "cell_type": "code",
   "execution_count": null,
   "metadata": {},
   "outputs": [],
   "source": [
    "# construct parametrized circuit\n",
    "N = 4\n",
    "rz = RzGate(1.5π)\n",
    "ps = PhaseShiftGate(0.3)\n",
    "ry = RyGate(√2)\n",
    "n = randn(Float64, 3)\n",
    "n = n/norm(n)\n",
    "rg = RotationGate(0.2π, n)\n",
    "\n",
    "cgc = CircuitGateChain{N}([\n",
    "    single_qubit_circuit_gate(3, HadamardGate(), N),\n",
    "    controlled_circuit_gate((1, 4), 2, rz, N),\n",
    "    two_qubit_circuit_gate(2, 3, SwapGate(), N),\n",
    "    single_qubit_circuit_gate(3, ps, N),\n",
    "    single_qubit_circuit_gate(3, rg, N),\n",
    "    single_qubit_circuit_gate(1, ry, N),\n",
    "])\n",
    "meas = MeasurementOps{N}([Matrix{Float64}(I, 2^N, 2^N), Hermitian(randn(ComplexF64, 2^N, 2^N))])\n",
    "\n",
    "c = Circuit(cgc, meas)"
   ]
  },
  {
   "cell_type": "code",
   "execution_count": null,
   "metadata": {},
   "outputs": [],
   "source": [
    "function output(ψ, Δ)\n",
    "    @assert length(ψ) == length(Δ)\n",
    "    dot(ψ, Δ)\n",
    "end"
   ]
  },
  {
   "cell_type": "code",
   "execution_count": null,
   "metadata": {},
   "outputs": [],
   "source": [
    "# input quantum state\n",
    "ψ = randn(ComplexF64, 2^N)\n",
    "ψ = ψ/norm(ψ)\n",
    "\n",
    "# fictitious gradients of cost function with respect to circuit output\n",
    "Δ = [0.3, -1.2]\n",
    "e = 0.65"
   ]
  },
  {
   "cell_type": "code",
   "execution_count": null,
   "metadata": {},
   "outputs": [],
   "source": [
    "# set up model\n",
    "model(ψ) = output(c(ψ), Δ)\n",
    "\n",
    "# create loss function\n",
    "loss(x,y) = Flux.mse(model(x), y)\n",
    "\n",
    "# gather parameters from Circuit\n",
    "paras = Flux.params(c)\n",
    "\n",
    "# freeze parameter ry.θ, equivalent to delete!(paras, Qaintessent.get_trainable(ry))\n",
    "delete!(paras, ry.θ)\n",
    "\n",
    "# set up data for training\n",
    "data = ncycle([(ψ, e)], 150)\n",
    "\n",
    "# define optimizer\n",
    "opt = Descent(1)\n",
    "\n",
    "# define evaluation function\n",
    "evalcb() = @show(loss(ψ, e))"
   ]
  },
  {
   "cell_type": "code",
   "execution_count": 11,
   "metadata": {},
   "outputs": [
    {
     "ename": "UndefVarError",
     "evalue": "UndefVarError: model not defined",
     "output_type": "error",
     "traceback": [
      "UndefVarError: model not defined",
      "",
      "Stacktrace:",
      " [1] top-level scope at In[11]:1"
     ]
    }
   ],
   "source": [
    "println(\"Initial model evaluation: \" * string(model(ψ)) * \", Target: \" * string(e))\n",
    "\n",
    "Flux.train!(loss, paras, data, opt, cb=Flux.throttle(evalcb, 0.01))\n",
    "\n",
    "println(\"Final model evaluation: \" * string(model(ψ)) * \", Target: \" * string(e))"
   ]
  },
  {
   "cell_type": "code",
   "execution_count": null,
   "metadata": {},
   "outputs": [],
   "source": []
  }
 ],
 "metadata": {
  "kernelspec": {
   "display_name": "Julia 1.4.0",
   "language": "julia",
   "name": "julia-1.4"
  },
  "language_info": {
   "file_extension": ".jl",
   "mimetype": "application/julia",
   "name": "julia",
   "version": "1.4.0"
  }
 },
 "nbformat": 4,
 "nbformat_minor": 2
}
