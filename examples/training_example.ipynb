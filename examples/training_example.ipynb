{
 "cells": [
  {
   "cell_type": "code",
   "execution_count": 3,
   "metadata": {},
   "outputs": [
    {
     "name": "stderr",
     "output_type": "stream",
     "text": [
      "┌ Info: Instantiate Qaintellect environment...\n",
      "└ @ Main In[3]:1\n",
      "WARNING: replacing module Qaintellect.\n"
     ]
    }
   ],
   "source": [
    "@info(\"Instantiate Qaintellect environment...\")\n",
    "include(\"../src/Qaintellect.jl\")\n",
    "using .Qaintellect\n",
    "\n",
    "using Flux, LinearAlgebra\n",
    "using Flux.Optimise: update!\n",
    "using IterTools: ncycle"
   ]
  },
  {
   "cell_type": "code",
   "execution_count": 4,
   "metadata": {},
   "outputs": [
    {
     "data": {
      "text/plain": [
       "output (generic function with 1 method)"
      ]
     },
     "execution_count": 4,
     "metadata": {},
     "output_type": "execute_result"
    }
   ],
   "source": [
    "function output(ψ, Δ)\n",
    "    @assert length(ψ) == length(Δ)\n",
    "    dot(ψ, Δ)\n",
    "end"
   ]
  },
  {
   "cell_type": "code",
   "execution_count": 5,
   "metadata": {},
   "outputs": [
    {
     "data": {
      "text/plain": [
       "\n",
       "    1 ————————•————————————————[Ry]—\n",
       "              |                     \n",
       "    2 ———————[Rz]———x———————————————\n",
       "              |     |               \n",
       "    3 —[H ]—————————x————[Pϕ]——[Rθ]—\n",
       "              |                     \n",
       "    4 ————————•—————————————————————\n"
      ]
     },
     "execution_count": 5,
     "metadata": {},
     "output_type": "execute_result"
    }
   ],
   "source": [
    "# construct parametrized circuit\n",
    "N = 4\n",
    "rz = RzGate(1.5π)\n",
    "ps = PhaseShiftGate(0.3)\n",
    "ry = RyGate(√2)\n",
    "n = randn(Float64, 3)\n",
    "n = n/norm(n)\n",
    "rg = RotationGate(0.2π, n)\n",
    "\n",
    "cgc = CircuitGateChain{N}([\n",
    "    single_qubit_circuit_gate(3, HadamardGate(), N),\n",
    "    controlled_circuit_gate((1, 4), 2, rz, N),\n",
    "    two_qubit_circuit_gate(2, 3, SwapGate(), N),\n",
    "    single_qubit_circuit_gate(3, ps, N),\n",
    "    single_qubit_circuit_gate(3, rg, N),\n",
    "    single_qubit_circuit_gate(1, ry, N),\n",
    "])\n",
    "meas = MeasurementOps{N}([Matrix{Float64}(I, 2^N, 2^N), Hermitian(randn(ComplexF64, 2^N, 2^N))])\n",
    "\n",
    "c = Circuit(cgc, meas)"
   ]
  },
  {
   "cell_type": "code",
   "execution_count": 6,
   "metadata": {},
   "outputs": [
    {
     "data": {
      "text/plain": [
       "0.65"
      ]
     },
     "execution_count": 6,
     "metadata": {},
     "output_type": "execute_result"
    }
   ],
   "source": [
    "# input quantum state\n",
    "ψ = randn(ComplexF64, 2^N)\n",
    "ψ = ψ/norm(ψ)\n",
    "\n",
    "# fictitious gradients of cost function with respect to circuit output\n",
    "Δ = [0.3, -1.2]\n",
    "e = 0.65"
   ]
  },
  {
   "cell_type": "code",
   "execution_count": 7,
   "metadata": {},
   "outputs": [
    {
     "data": {
      "text/plain": [
       "evalcb (generic function with 1 method)"
      ]
     },
     "execution_count": 7,
     "metadata": {},
     "output_type": "execute_result"
    }
   ],
   "source": [
    "# set up model\n",
    "model(ψ) = output(c(ψ), Δ)\n",
    "\n",
    "# create loss function\n",
    "loss(x,y) = Flux.mse(model(x), y)\n",
    "\n",
    "# gather parameters from Circuit\n",
    "paras = Flux.params(c)\n",
    "\n",
    "# freeze parameter ry.θ, equivalent to delete!(paras, Qaintessent.get_trainable(ry))\n",
    "delete!(paras, ry.θ)\n",
    "\n",
    "# set up data for training\n",
    "data = ncycle([(ψ, e)], 150)\n",
    "\n",
    "# define optimizer\n",
    "opt = Descent(1)\n",
    "\n",
    "# define evaluation function\n",
    "evalcb() = @show(loss(ψ, e))"
   ]
  },
  {
   "cell_type": "code",
   "execution_count": 8,
   "metadata": {},
   "outputs": [
    {
     "name": "stdout",
     "output_type": "stream",
     "text": [
      "Initial model evaluation: 0.4166072481798071, Target: 0.65\n",
      "loss(ψ, e) = 2.133335227886131\n",
      "loss(ψ, e) = 5.972201643196805\n",
      "loss(ψ, e) = 6.527247392966332e-7\n",
      "loss(ψ, e) = 1.2259673922757054e-11\n",
      "loss(ψ, e) = 6.098230404178701e-16\n",
      "loss(ψ, e) = 2.2006812507635354e-19\n",
      "loss(ψ, e) = 7.941551262775014e-23\n",
      "loss(ψ, e) = 2.8627959465696824e-26\n",
      "loss(ψ, e) = 3.993608332681372e-30\n",
      "loss(ψ, e) = 1.232595164407831e-32\n",
      "loss(ψ, e) = 1.232595164407831e-32\n",
      "loss(ψ, e) = 1.232595164407831e-32\n",
      "loss(ψ, e) = 1.232595164407831e-32\n",
      "loss(ψ, e) = 1.232595164407831e-32\n",
      "loss(ψ, e) = 1.232595164407831e-32\n",
      "loss(ψ, e) = 1.232595164407831e-32\n",
      "loss(ψ, e) = 1.232595164407831e-32\n",
      "Final model evaluation: 0.6500000000000001, Target: 0.65\n"
     ]
    }
   ],
   "source": [
    "println(\"Initial model evaluation: \" * string(model(ψ)) * \", Target: \" * string(e))\n",
    "\n",
    "Flux.train!(loss, paras, data, opt, cb=Flux.throttle(evalcb, 0.01))\n",
    "\n",
    "println(\"Final model evaluation: \" * string(model(ψ)) * \", Target: \" * string(e))"
   ]
  },
  {
   "cell_type": "code",
   "execution_count": null,
   "metadata": {},
   "outputs": [],
   "source": []
  }
 ],
 "metadata": {
  "kernelspec": {
   "display_name": "Julia 1.4.0",
   "language": "julia",
   "name": "julia-1.4"
  },
  "language_info": {
   "file_extension": ".jl",
   "mimetype": "application/julia",
   "name": "julia",
   "version": "1.4.0"
  }
 },
 "nbformat": 4,
 "nbformat_minor": 2
}
