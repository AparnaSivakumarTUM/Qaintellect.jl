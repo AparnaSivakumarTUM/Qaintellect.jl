{
 "cells": [
  {
   "cell_type": "markdown",
   "metadata": {},
   "source": [
    "# Qaintellect Training Example\n",
    "\n",
    "In this example, we will demonstrate the optimisation of a quantum circuit using Qaintellect's Flux integration."
   ]
  },
  {
   "cell_type": "code",
   "execution_count": 1,
   "metadata": {},
   "outputs": [],
   "source": [
    "include(\"../src/Qaintellect.jl\")\n",
    "using .Qaintellect\n",
    "\n",
    "using Flux, LinearAlgebra, Test\n",
    "using Flux.Optimise: update!\n",
    "using IterTools: ncycle"
   ]
  },
  {
   "cell_type": "markdown",
   "metadata": {},
   "source": [
    "## Task: Creating a Flux layer using Qaintessent\n",
    "Here, we create a complex circuit with $N$ qubits and different input parameters. We then train these parameters using the Flux framework."
   ]
  },
  {
   "cell_type": "code",
   "execution_count": 2,
   "metadata": {},
   "outputs": [
    {
     "data": {
      "text/plain": [
       "\n",
       "    1 ————————•————————————————[Ry]—\n",
       "              |                     \n",
       "    2 ———————[Rz]———x———————————————\n",
       "              |     |               \n",
       "    3 —[H ]—————————x————[Pϕ]——[Rθ]—\n",
       "              |                     \n",
       "    4 ————————•—————————————————————\n"
      ]
     },
     "execution_count": 2,
     "metadata": {},
     "output_type": "execute_result"
    }
   ],
   "source": [
    "# construct parametrized circuit\n",
    "N = 4\n",
    "rz = RzGate(1.5π)\n",
    "ps = PhaseShiftGate(0.3)\n",
    "ry = RyGate(√2)\n",
    "n = randn(Float64, 3)\n",
    "n = n/norm(n)\n",
    "rg = RotationGate(0.2π, n)\n",
    "\n",
    "cgc = CircuitGateChain{N}([\n",
    "    single_qubit_circuit_gate(3, HadamardGate(), N),\n",
    "    controlled_circuit_gate((1, 4), 2, rz, N),\n",
    "    two_qubit_circuit_gate(2, 3, SwapGate(), N),\n",
    "    single_qubit_circuit_gate(3, ps, N),\n",
    "    single_qubit_circuit_gate(3, rg, N),\n",
    "    single_qubit_circuit_gate(1, ry, N),\n",
    "])\n",
    "meas = MeasurementOps{N}([Matrix{Float64}(I, 2^N, 2^N), Hermitian(randn(ComplexF64, 2^N, 2^N))])\n",
    "\n",
    "c = Circuit(cgc, meas)"
   ]
  },
  {
   "cell_type": "code",
   "execution_count": 3,
   "metadata": {},
   "outputs": [
    {
     "data": {
      "text/plain": [
       "output (generic function with 1 method)"
      ]
     },
     "execution_count": 3,
     "metadata": {},
     "output_type": "execute_result"
    }
   ],
   "source": [
    "function output(ψ, Δ)\n",
    "    @assert length(ψ) == length(Δ)\n",
    "    dot(ψ, Δ)\n",
    "end"
   ]
  },
  {
   "cell_type": "code",
   "execution_count": 4,
   "metadata": {},
   "outputs": [
    {
     "data": {
      "text/plain": [
       "0.65"
      ]
     },
     "execution_count": 4,
     "metadata": {},
     "output_type": "execute_result"
    }
   ],
   "source": [
    "# input quantum state\n",
    "ψ = randn(ComplexF64, 2^N)\n",
    "ψ = ψ/norm(ψ)\n",
    "\n",
    "# fictitious gradients of cost function with respect to circuit output\n",
    "Δ = [0.3, -1.2]\n",
    "e = 0.65"
   ]
  },
  {
   "cell_type": "code",
   "execution_count": 5,
   "metadata": {},
   "outputs": [
    {
     "data": {
      "text/plain": [
       "evalcb (generic function with 1 method)"
      ]
     },
     "execution_count": 5,
     "metadata": {},
     "output_type": "execute_result"
    }
   ],
   "source": [
    "# set up model\n",
    "model(ψ) = output(c(ψ), Δ)\n",
    "\n",
    "# create loss function\n",
    "loss(x,y) = Flux.mse(model(x), y)\n",
    "\n",
    "# gather parameters from Circuit\n",
    "paras = Flux.params(c)\n",
    "\n",
    "# freeze parameter ry.θ, equivalent to delete!(paras, Qaintessent.get_trainable(ry))\n",
    "delete!(paras, ry.θ)\n",
    "\n",
    "# set up data for training\n",
    "data = ncycle([(ψ, e)], 150)\n",
    "\n",
    "# define optimizer\n",
    "opt = Descent(1)\n",
    "\n",
    "# define evaluation function\n",
    "evalcb() = @show(loss(ψ, e))"
   ]
  },
  {
   "cell_type": "code",
   "execution_count": 6,
   "metadata": {},
   "outputs": [
    {
     "name": "stdout",
     "output_type": "stream",
     "text": [
      "Initial model evaluation: 0.81231033534757, Target: 0.65\n",
      "loss(ψ, e) = 0.06788626908178497\n",
      "loss(ψ, e) = 0.08252209923351557\n",
      "loss(ψ, e) = 0.021491255499266927\n",
      "loss(ψ, e) = 0.008243733611891345\n",
      "loss(ψ, e) = 0.0016683438797921654\n",
      "loss(ψ, e) = 0.0003959080660997218\n",
      "loss(ψ, e) = 7.44698535985435e-5\n",
      "loss(ψ, e) = 2.110911877948835e-5\n",
      "loss(ψ, e) = 4.635790663946177e-6\n",
      "loss(ψ, e) = 1.0067283253589037e-6\n",
      "loss(ψ, e) = 2.1974857421217475e-7\n",
      "loss(ψ, e) = 5.4987657431347064e-8\n",
      "loss(ψ, e) = 1.043141900149684e-8\n",
      "loss(ψ, e) = 2.998292398943378e-9\n",
      "Final model evaluation: 0.6500293603081675, Target: 0.65\n"
     ]
    }
   ],
   "source": [
    "println(\"Initial model evaluation: \" * string(model(ψ)) * \", Target: \" * string(e))\n",
    "\n",
    "Flux.train!(loss, paras, data, opt, cb=Flux.throttle(evalcb, 0.01))\n",
    "\n",
    "println(\"Final model evaluation: \" * string(model(ψ)) * \", Target: \" * string(e))"
   ]
  },
  {
   "cell_type": "code",
   "execution_count": null,
   "metadata": {},
   "outputs": [],
   "source": []
  }
 ],
 "metadata": {
  "kernelspec": {
   "display_name": "Julia 1.4.0",
   "language": "julia",
   "name": "julia-1.4"
  },
  "language_info": {
   "file_extension": ".jl",
   "mimetype": "application/julia",
   "name": "julia",
   "version": "1.4.0"
  }
 },
 "nbformat": 4,
 "nbformat_minor": 2
}
